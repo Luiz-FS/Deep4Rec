{
 "cells": [
  {
   "cell_type": "markdown",
   "metadata": {},
   "source": [
    "# Replicate SpectralCF results on MovieLens dataset\n",
    "\n",
    "Here we replicate the results presented at [*Spectral Collaborative Filtering*](https://dl.acm.org/citation.cfm?id=3240343) for the MovieLens dataset using Deep4Rec. This is done mainly for validating Deep4Rec implementation."
   ]
  },
  {
   "cell_type": "code",
   "execution_count": 176,
   "metadata": {},
   "outputs": [],
   "source": [
    "import sys\n",
    "\n",
    "sys.path.append('../../')\n",
    "\n",
    "import os\n",
    "# Ignore some tensorflow logs\n",
    "os.environ[\"TF_CPP_MIN_LOG_LEVEL\"] = \"3\"\n",
    "\n",
    "from matplotlib import pyplot as plt\n",
    "import tensorflow as tf\n",
    "import numpy as np"
   ]
  },
  {
   "cell_type": "code",
   "execution_count": 2,
   "metadata": {},
   "outputs": [],
   "source": [
    "from deep4rec import datasets\n",
    "from deep4rec import models"
   ]
  },
  {
   "cell_type": "code",
   "execution_count": 3,
   "metadata": {},
   "outputs": [],
   "source": [
    "def plot_losses(model):\n",
    "    plt.title(type(model).__name__)\n",
    "    plt.plot([loss[\"rmse\"] for loss in model._losses['test']], label='test')\n",
    "    plt.plot([loss[\"rmse\"] for loss in model._losses['train']], label='train')\n",
    "    plt.legend()\n",
    "    plt.show()"
   ]
  },
  {
   "cell_type": "code",
   "execution_count": 4,
   "metadata": {},
   "outputs": [],
   "source": [
    "ds = datasets.build_dataset(\"ml-100k\")"
   ]
  },
  {
   "cell_type": "code",
   "execution_count": 5,
   "metadata": {},
   "outputs": [
    {
     "name": "stderr",
     "output_type": "stream",
     "text": [
      "../../deep4rec/models/spectralcf.py:52: ComplexWarning: Casting complex values to real discards the imaginary part\n",
      "  self.A_hat = self.A_hat.astype(np.float32)\n"
     ]
    }
   ],
   "source": [
    "spfc = models.SpectralCF(ds)"
   ]
  },
  {
   "cell_type": "code",
   "execution_count": 6,
   "metadata": {},
   "outputs": [
    {
     "name": "stderr",
     "output_type": "stream",
     "text": [
      "\r",
      "  0%|          | 0/200 [00:00<?, ?it/s]"
     ]
    },
    {
     "name": "stdout",
     "output_type": "stream",
     "text": [
      "WARNING:tensorflow:From /media/store/Documentos/deep4rec/env/lib/python3.6/site-packages/tensorflow/python/data/ops/iterator_ops.py:532: colocate_with (from tensorflow.python.framework.ops) is deprecated and will be removed in a future version.\n",
      "Instructions for updating:\n",
      "Colocations handled automatically by placer.\n"
     ]
    },
    {
     "name": "stderr",
     "output_type": "stream",
     "text": [
      "WARNING:tensorflow:From /media/store/Documentos/deep4rec/env/lib/python3.6/site-packages/tensorflow/python/data/ops/iterator_ops.py:532: colocate_with (from tensorflow.python.framework.ops) is deprecated and will be removed in a future version.\n",
      "Instructions for updating:\n",
      "Colocations handled automatically by placer.\n"
     ]
    },
    {
     "name": "stdout",
     "output_type": "stream",
     "text": [
      "WARNING:tensorflow:From /media/store/Documentos/deep4rec/env/lib/python3.6/site-packages/tensorflow/python/ops/losses/losses_impl.py:667: to_float (from tensorflow.python.ops.math_ops) is deprecated and will be removed in a future version.\n",
      "Instructions for updating:\n",
      "Use tf.cast instead.\n"
     ]
    },
    {
     "name": "stderr",
     "output_type": "stream",
     "text": [
      "WARNING:tensorflow:From /media/store/Documentos/deep4rec/env/lib/python3.6/site-packages/tensorflow/python/ops/losses/losses_impl.py:667: to_float (from tensorflow.python.ops.math_ops) is deprecated and will be removed in a future version.\n",
      "Instructions for updating:\n",
      "Use tf.cast instead.\n"
     ]
    },
    {
     "name": "stdout",
     "output_type": "stream",
     "text": [
      "WARNING:tensorflow:From /media/store/Documentos/deep4rec/env/lib/python3.6/site-packages/tensorflow/python/ops/array_grad.py:425: to_int32 (from tensorflow.python.ops.math_ops) is deprecated and will be removed in a future version.\n",
      "Instructions for updating:\n",
      "Use tf.cast instead.\n"
     ]
    },
    {
     "name": "stderr",
     "output_type": "stream",
     "text": [
      "WARNING:tensorflow:From /media/store/Documentos/deep4rec/env/lib/python3.6/site-packages/tensorflow/python/ops/array_grad.py:425: to_int32 (from tensorflow.python.ops.math_ops) is deprecated and will be removed in a future version.\n",
      "Instructions for updating:\n",
      "Use tf.cast instead.\n"
     ]
    },
    {
     "name": "stdout",
     "output_type": "stream",
     "text": [
      "Epoch 1, Time: 33.699205 (s)\n",
      "------------ train losses ------------\n",
      "rmse: 6.781168\n",
      "------------ train metrics ------------\n",
      "precision: 0.061477\n",
      "recall: 0.061477\n"
     ]
    },
    {
     "name": "stderr",
     "output_type": "stream",
     "text": [
      "\r",
      "  0%|          | 1/200 [00:59<3:16:27, 59.23s/it]"
     ]
    },
    {
     "name": "stdout",
     "output_type": "stream",
     "text": [
      "------------ test losses ------------\n",
      "rmse: 6.295094\n",
      "------------ test metrics ------------\n",
      "precision: 0.057382\n",
      "recall: 0.057382\n",
      "Epoch 2, Time: 34.686675 (s)\n",
      "------------ train losses ------------\n",
      "rmse: 5.787330\n",
      "------------ train metrics ------------\n",
      "precision: 0.061477\n",
      "recall: 0.061477\n"
     ]
    },
    {
     "name": "stderr",
     "output_type": "stream",
     "text": [
      "\r",
      "  1%|          | 2/200 [01:59<3:16:16, 59.48s/it]"
     ]
    },
    {
     "name": "stdout",
     "output_type": "stream",
     "text": [
      "------------ test losses ------------\n",
      "rmse: 5.167506\n",
      "------------ test metrics ------------\n",
      "precision: 0.057382\n",
      "recall: 0.057382\n",
      "Epoch 3, Time: 35.031103 (s)\n",
      "------------ train losses ------------\n",
      "rmse: 4.626382\n",
      "------------ train metrics ------------\n",
      "precision: 0.061477\n",
      "recall: 0.061477\n"
     ]
    },
    {
     "name": "stderr",
     "output_type": "stream",
     "text": [
      "\r",
      "  2%|▏         | 3/200 [03:01<3:17:48, 60.25s/it]"
     ]
    },
    {
     "name": "stdout",
     "output_type": "stream",
     "text": [
      "------------ test losses ------------\n",
      "rmse: 3.990697\n",
      "------------ test metrics ------------\n",
      "precision: 0.057382\n",
      "recall: 0.057382\n",
      "Epoch 4, Time: 35.474433 (s)\n",
      "------------ train losses ------------\n",
      "rmse: 3.558926\n",
      "------------ train metrics ------------\n",
      "precision: 0.061477\n",
      "recall: 0.061477\n"
     ]
    },
    {
     "name": "stderr",
     "output_type": "stream",
     "text": [
      "\r",
      "  2%|▏         | 4/200 [04:02<3:17:16, 60.39s/it]"
     ]
    },
    {
     "name": "stdout",
     "output_type": "stream",
     "text": [
      "------------ test losses ------------\n",
      "rmse: 3.014191\n",
      "------------ test metrics ------------\n",
      "precision: 0.057382\n",
      "recall: 0.057382\n",
      "Epoch 5, Time: 34.588370 (s)\n",
      "------------ train losses ------------\n",
      "rmse: 2.844480\n",
      "------------ train metrics ------------\n",
      "precision: 0.061477\n",
      "recall: 0.061477\n"
     ]
    },
    {
     "name": "stderr",
     "output_type": "stream",
     "text": [
      "\r",
      "  2%|▎         | 5/200 [05:02<3:15:59, 60.30s/it]"
     ]
    },
    {
     "name": "stdout",
     "output_type": "stream",
     "text": [
      "------------ test losses ------------\n",
      "rmse: 2.385599\n",
      "------------ test metrics ------------\n",
      "precision: 0.057382\n",
      "recall: 0.057382\n",
      "Epoch 6, Time: 34.930922 (s)\n",
      "------------ train losses ------------\n",
      "rmse: 2.232715\n",
      "------------ train metrics ------------\n",
      "precision: 0.061477\n",
      "recall: 0.061477\n"
     ]
    },
    {
     "name": "stderr",
     "output_type": "stream",
     "text": [
      "\r",
      "  3%|▎         | 6/200 [06:02<3:14:48, 60.25s/it]"
     ]
    },
    {
     "name": "stdout",
     "output_type": "stream",
     "text": [
      "------------ test losses ------------\n",
      "rmse: 1.852480\n",
      "------------ test metrics ------------\n",
      "precision: 0.057382\n",
      "recall: 0.057382\n",
      "Epoch 7, Time: 34.837929 (s)\n",
      "------------ train losses ------------\n",
      "rmse: 2.096611\n",
      "------------ train metrics ------------\n",
      "precision: 0.061477\n",
      "recall: 0.061477\n"
     ]
    },
    {
     "name": "stderr",
     "output_type": "stream",
     "text": [
      "\r",
      "  4%|▎         | 7/200 [07:02<3:13:40, 60.21s/it]"
     ]
    },
    {
     "name": "stdout",
     "output_type": "stream",
     "text": [
      "------------ test losses ------------\n",
      "rmse: 1.690999\n",
      "------------ test metrics ------------\n",
      "precision: 0.057382\n",
      "recall: 0.057382\n",
      "Epoch 8, Time: 34.953198 (s)\n",
      "------------ train losses ------------\n",
      "rmse: 1.725866\n",
      "------------ train metrics ------------\n",
      "precision: 0.061477\n",
      "recall: 0.061477\n"
     ]
    },
    {
     "name": "stderr",
     "output_type": "stream",
     "text": [
      "\r",
      "  4%|▍         | 8/200 [08:02<3:12:35, 60.18s/it]"
     ]
    },
    {
     "name": "stdout",
     "output_type": "stream",
     "text": [
      "------------ test losses ------------\n",
      "rmse: 1.442072\n",
      "------------ test metrics ------------\n",
      "precision: 0.057382\n",
      "recall: 0.057382\n",
      "Epoch 9, Time: 35.563185 (s)\n",
      "------------ train losses ------------\n",
      "rmse: 1.389675\n",
      "------------ train metrics ------------\n",
      "precision: 0.061477\n",
      "recall: 0.061477\n"
     ]
    },
    {
     "name": "stderr",
     "output_type": "stream",
     "text": [
      "\r",
      "  4%|▍         | 9/200 [09:03<3:12:19, 60.42s/it]"
     ]
    },
    {
     "name": "stdout",
     "output_type": "stream",
     "text": [
      "------------ test losses ------------\n",
      "rmse: 1.288342\n",
      "------------ test metrics ------------\n",
      "precision: 0.057382\n",
      "recall: 0.057382\n",
      "Epoch 10, Time: 35.106637 (s)\n",
      "------------ train losses ------------\n",
      "rmse: 1.370483\n",
      "------------ train metrics ------------\n",
      "precision: 0.061477\n",
      "recall: 0.061477\n"
     ]
    },
    {
     "name": "stderr",
     "output_type": "stream",
     "text": [
      "\r",
      "  5%|▌         | 10/200 [10:04<3:11:38, 60.52s/it]"
     ]
    },
    {
     "name": "stdout",
     "output_type": "stream",
     "text": [
      "------------ test losses ------------\n",
      "rmse: 1.276435\n",
      "------------ test metrics ------------\n",
      "precision: 0.057382\n",
      "recall: 0.057382\n",
      "Epoch 11, Time: 35.145117 (s)\n",
      "------------ train losses ------------\n",
      "rmse: 1.292883\n",
      "------------ train metrics ------------\n",
      "precision: 0.061477\n",
      "recall: 0.061477\n"
     ]
    },
    {
     "name": "stderr",
     "output_type": "stream",
     "text": [
      "\r",
      "  6%|▌         | 11/200 [11:04<3:10:35, 60.51s/it]"
     ]
    },
    {
     "name": "stdout",
     "output_type": "stream",
     "text": [
      "------------ test losses ------------\n",
      "rmse: 1.236857\n",
      "------------ test metrics ------------\n",
      "precision: 0.057382\n",
      "recall: 0.057382\n",
      "Epoch 12, Time: 35.043550 (s)\n",
      "------------ train losses ------------\n",
      "rmse: 1.355177\n",
      "------------ train metrics ------------\n",
      "precision: 0.061477\n",
      "recall: 0.061477\n"
     ]
    },
    {
     "name": "stderr",
     "output_type": "stream",
     "text": [
      "\r",
      "  6%|▌         | 12/200 [12:04<3:09:13, 60.39s/it]"
     ]
    },
    {
     "name": "stdout",
     "output_type": "stream",
     "text": [
      "------------ test losses ------------\n",
      "rmse: 1.273952\n",
      "------------ test metrics ------------\n",
      "precision: 0.057382\n",
      "recall: 0.057382\n",
      "Epoch 13, Time: 35.030724 (s)\n",
      "------------ train losses ------------\n",
      "rmse: 1.218612\n",
      "------------ train metrics ------------\n",
      "precision: 0.061477\n",
      "recall: 0.061477\n"
     ]
    },
    {
     "name": "stderr",
     "output_type": "stream",
     "text": [
      "\r",
      "  6%|▋         | 13/200 [13:05<3:08:08, 60.37s/it]"
     ]
    },
    {
     "name": "stdout",
     "output_type": "stream",
     "text": [
      "------------ test losses ------------\n",
      "rmse: 1.205900\n",
      "------------ test metrics ------------\n",
      "precision: 0.057382\n",
      "recall: 0.057382\n",
      "Epoch 14, Time: 35.241287 (s)\n",
      "------------ train losses ------------\n",
      "rmse: 1.201022\n",
      "------------ train metrics ------------\n",
      "precision: 0.061477\n",
      "recall: 0.061477\n"
     ]
    },
    {
     "name": "stderr",
     "output_type": "stream",
     "text": [
      "\r",
      "  7%|▋         | 14/200 [14:05<3:07:09, 60.38s/it]"
     ]
    },
    {
     "name": "stdout",
     "output_type": "stream",
     "text": [
      "------------ test losses ------------\n",
      "rmse: 1.216153\n",
      "------------ test metrics ------------\n",
      "precision: 0.057382\n",
      "recall: 0.057382\n",
      "Epoch 15, Time: 34.992542 (s)\n",
      "------------ train losses ------------\n",
      "rmse: 1.239932\n",
      "------------ train metrics ------------\n",
      "precision: 0.061477\n",
      "recall: 0.061477\n"
     ]
    },
    {
     "name": "stderr",
     "output_type": "stream",
     "text": [
      "\r",
      "  8%|▊         | 15/200 [15:06<3:06:19, 60.43s/it]"
     ]
    },
    {
     "name": "stdout",
     "output_type": "stream",
     "text": [
      "------------ test losses ------------\n",
      "rmse: 1.190910\n",
      "------------ test metrics ------------\n",
      "precision: 0.057382\n",
      "recall: 0.057382\n",
      "Epoch 16, Time: 35.155390 (s)\n",
      "------------ train losses ------------\n",
      "rmse: 1.157329\n",
      "------------ train metrics ------------\n",
      "precision: 0.061477\n",
      "recall: 0.061477\n"
     ]
    },
    {
     "name": "stderr",
     "output_type": "stream",
     "text": [
      "\r",
      "  8%|▊         | 16/200 [16:06<3:05:17, 60.42s/it]"
     ]
    },
    {
     "name": "stdout",
     "output_type": "stream",
     "text": [
      "------------ test losses ------------\n",
      "rmse: 1.168511\n",
      "------------ test metrics ------------\n",
      "precision: 0.057382\n",
      "recall: 0.057382\n",
      "Epoch 17, Time: 35.196976 (s)\n",
      "------------ train losses ------------\n",
      "rmse: 1.145125\n",
      "------------ train metrics ------------\n",
      "precision: 0.061477\n",
      "recall: 0.061477\n"
     ]
    },
    {
     "name": "stderr",
     "output_type": "stream",
     "text": [
      "\r",
      "  8%|▊         | 17/200 [17:07<3:04:23, 60.46s/it]"
     ]
    },
    {
     "name": "stdout",
     "output_type": "stream",
     "text": [
      "------------ test losses ------------\n",
      "rmse: 1.145378\n",
      "------------ test metrics ------------\n",
      "precision: 0.057382\n",
      "recall: 0.057382\n",
      "Epoch 18, Time: 35.313387 (s)\n",
      "------------ train losses ------------\n",
      "rmse: 1.128984\n",
      "------------ train metrics ------------\n",
      "precision: 0.061477\n",
      "recall: 0.061477\n"
     ]
    },
    {
     "name": "stderr",
     "output_type": "stream",
     "text": [
      "\r",
      "  9%|▉         | 18/200 [18:07<3:03:21, 60.45s/it]"
     ]
    },
    {
     "name": "stdout",
     "output_type": "stream",
     "text": [
      "------------ test losses ------------\n",
      "rmse: 1.128533\n",
      "------------ test metrics ------------\n",
      "precision: 0.057382\n",
      "recall: 0.057382\n",
      "Epoch 19, Time: 36.237105 (s)\n",
      "------------ train losses ------------\n",
      "rmse: 1.109727\n",
      "------------ train metrics ------------\n",
      "precision: 0.061477\n",
      "recall: 0.061477\n"
     ]
    },
    {
     "name": "stderr",
     "output_type": "stream",
     "text": [
      "\r",
      " 10%|▉         | 19/200 [19:08<3:03:10, 60.72s/it]"
     ]
    },
    {
     "name": "stdout",
     "output_type": "stream",
     "text": [
      "------------ test losses ------------\n",
      "rmse: 1.125777\n",
      "------------ test metrics ------------\n",
      "precision: 0.057382\n",
      "recall: 0.057382\n",
      "Epoch 20, Time: 37.252137 (s)\n",
      "------------ train losses ------------\n",
      "rmse: 1.108605\n",
      "------------ train metrics ------------\n",
      "precision: 0.061477\n",
      "recall: 0.061477\n"
     ]
    },
    {
     "name": "stderr",
     "output_type": "stream",
     "text": [
      "\r",
      " 10%|█         | 20/200 [20:11<3:03:58, 61.32s/it]"
     ]
    },
    {
     "name": "stdout",
     "output_type": "stream",
     "text": [
      "------------ test losses ------------\n",
      "rmse: 1.121444\n",
      "------------ test metrics ------------\n",
      "precision: 0.057382\n",
      "recall: 0.057382\n",
      "Epoch 21, Time: 35.184668 (s)\n",
      "------------ train losses ------------\n",
      "rmse: 1.214740\n",
      "------------ train metrics ------------\n",
      "precision: 0.061477\n",
      "recall: 0.061477\n"
     ]
    },
    {
     "name": "stderr",
     "output_type": "stream",
     "text": [
      "\r",
      " 10%|█         | 21/200 [21:11<3:01:51, 60.96s/it]"
     ]
    },
    {
     "name": "stdout",
     "output_type": "stream",
     "text": [
      "------------ test losses ------------\n",
      "rmse: 1.151897\n",
      "------------ test metrics ------------\n",
      "precision: 0.057382\n",
      "recall: 0.057382\n",
      "Epoch 22, Time: 35.257426 (s)\n",
      "------------ train losses ------------\n",
      "rmse: 1.077585\n",
      "------------ train metrics ------------\n",
      "precision: 0.061477\n",
      "recall: 0.061477\n"
     ]
    },
    {
     "name": "stderr",
     "output_type": "stream",
     "text": [
      "\r",
      " 11%|█         | 22/200 [22:12<3:00:32, 60.86s/it]"
     ]
    },
    {
     "name": "stdout",
     "output_type": "stream",
     "text": [
      "------------ test losses ------------\n",
      "rmse: 1.094503\n",
      "------------ test metrics ------------\n",
      "precision: 0.057382\n",
      "recall: 0.057382\n",
      "Epoch 23, Time: 37.054436 (s)\n",
      "------------ train losses ------------\n",
      "rmse: 1.065537\n",
      "------------ train metrics ------------\n",
      "precision: 0.061477\n",
      "recall: 0.061477\n"
     ]
    },
    {
     "name": "stderr",
     "output_type": "stream",
     "text": [
      "\r",
      " 12%|█▏        | 23/200 [23:16<3:02:38, 61.91s/it]"
     ]
    },
    {
     "name": "stdout",
     "output_type": "stream",
     "text": [
      "------------ test losses ------------\n",
      "rmse: 1.078899\n",
      "------------ test metrics ------------\n",
      "precision: 0.057382\n",
      "recall: 0.057382\n",
      "Epoch 24, Time: 35.294498 (s)\n",
      "------------ train losses ------------\n",
      "rmse: 1.083070\n",
      "------------ train metrics ------------\n",
      "precision: 0.061477\n",
      "recall: 0.061477\n"
     ]
    },
    {
     "name": "stderr",
     "output_type": "stream",
     "text": [
      "\r",
      " 12%|█▏        | 24/200 [24:17<3:00:36, 61.57s/it]"
     ]
    },
    {
     "name": "stdout",
     "output_type": "stream",
     "text": [
      "------------ test losses ------------\n",
      "rmse: 1.090784\n",
      "------------ test metrics ------------\n",
      "precision: 0.057382\n",
      "recall: 0.057382\n",
      "Epoch 25, Time: 35.555130 (s)\n",
      "------------ train losses ------------\n",
      "rmse: 1.047622\n",
      "------------ train metrics ------------\n",
      "precision: 0.061477\n",
      "recall: 0.061477\n"
     ]
    },
    {
     "name": "stderr",
     "output_type": "stream",
     "text": [
      "\r",
      " 12%|█▎        | 25/200 [25:19<2:59:37, 61.59s/it]"
     ]
    },
    {
     "name": "stdout",
     "output_type": "stream",
     "text": [
      "------------ test losses ------------\n",
      "rmse: 1.071280\n",
      "------------ test metrics ------------\n",
      "precision: 0.057382\n",
      "recall: 0.057382\n",
      "Epoch 26, Time: 39.396344 (s)\n",
      "------------ train losses ------------\n",
      "rmse: 1.040446\n",
      "------------ train metrics ------------\n",
      "precision: 0.061477\n",
      "recall: 0.061477\n"
     ]
    },
    {
     "name": "stderr",
     "output_type": "stream",
     "text": [
      "\r",
      " 13%|█▎        | 26/200 [26:24<3:02:20, 62.87s/it]"
     ]
    },
    {
     "name": "stdout",
     "output_type": "stream",
     "text": [
      "------------ test losses ------------\n",
      "rmse: 1.061464\n",
      "------------ test metrics ------------\n",
      "precision: 0.057382\n",
      "recall: 0.057382\n",
      "Epoch 27, Time: 35.338905 (s)\n",
      "------------ train losses ------------\n",
      "rmse: 1.032837\n",
      "------------ train metrics ------------\n",
      "precision: 0.061477\n",
      "recall: 0.061477\n"
     ]
    },
    {
     "name": "stderr",
     "output_type": "stream",
     "text": [
      "\r",
      " 14%|█▎        | 27/200 [27:25<2:59:14, 62.16s/it]"
     ]
    },
    {
     "name": "stdout",
     "output_type": "stream",
     "text": [
      "------------ test losses ------------\n",
      "rmse: 1.057987\n",
      "------------ test metrics ------------\n",
      "precision: 0.057382\n",
      "recall: 0.057382\n",
      "Epoch 28, Time: 35.082399 (s)\n",
      "------------ train losses ------------\n",
      "rmse: 1.020743\n",
      "------------ train metrics ------------\n",
      "precision: 0.061477\n",
      "recall: 0.061477\n"
     ]
    },
    {
     "name": "stderr",
     "output_type": "stream",
     "text": [
      "\r",
      " 14%|█▍        | 28/200 [28:25<2:56:27, 61.56s/it]"
     ]
    },
    {
     "name": "stdout",
     "output_type": "stream",
     "text": [
      "------------ test losses ------------\n",
      "rmse: 1.048844\n",
      "------------ test metrics ------------\n",
      "precision: 0.057382\n",
      "recall: 0.057382\n",
      "Epoch 29, Time: 35.375843 (s)\n",
      "------------ train losses ------------\n",
      "rmse: 1.025688\n",
      "------------ train metrics ------------\n",
      "precision: 0.061477\n",
      "recall: 0.061477\n"
     ]
    },
    {
     "name": "stderr",
     "output_type": "stream",
     "text": [
      "\r",
      " 14%|█▍        | 29/200 [29:26<2:54:33, 61.25s/it]"
     ]
    },
    {
     "name": "stdout",
     "output_type": "stream",
     "text": [
      "------------ test losses ------------\n",
      "rmse: 1.045975\n",
      "------------ test metrics ------------\n",
      "precision: 0.057382\n",
      "recall: 0.057382\n",
      "Epoch 30, Time: 35.468429 (s)\n",
      "------------ train losses ------------\n",
      "rmse: 1.024756\n",
      "------------ train metrics ------------\n",
      "precision: 0.061477\n",
      "recall: 0.061477\n"
     ]
    },
    {
     "name": "stderr",
     "output_type": "stream",
     "text": [
      "\r",
      " 15%|█▌        | 30/200 [30:26<2:52:56, 61.04s/it]"
     ]
    },
    {
     "name": "stdout",
     "output_type": "stream",
     "text": [
      "------------ test losses ------------\n",
      "rmse: 1.049783\n",
      "------------ test metrics ------------\n",
      "precision: 0.057382\n",
      "recall: 0.057382\n",
      "Epoch 31, Time: 35.398633 (s)\n",
      "------------ train losses ------------\n",
      "rmse: 1.016833\n",
      "------------ train metrics ------------\n",
      "precision: 0.061477\n",
      "recall: 0.061477\n"
     ]
    },
    {
     "name": "stderr",
     "output_type": "stream",
     "text": [
      "\r",
      " 16%|█▌        | 31/200 [31:27<2:51:52, 61.02s/it]"
     ]
    },
    {
     "name": "stdout",
     "output_type": "stream",
     "text": [
      "------------ test losses ------------\n",
      "rmse: 1.041018\n",
      "------------ test metrics ------------\n",
      "precision: 0.057382\n",
      "recall: 0.057382\n",
      "Epoch 32, Time: 35.644994 (s)\n",
      "------------ train losses ------------\n",
      "rmse: 0.998683\n",
      "------------ train metrics ------------\n",
      "precision: 0.061466\n",
      "recall: 0.061466\n"
     ]
    },
    {
     "name": "stderr",
     "output_type": "stream",
     "text": [
      "\r",
      " 16%|█▌        | 32/200 [32:28<2:50:35, 60.93s/it]"
     ]
    },
    {
     "name": "stdout",
     "output_type": "stream",
     "text": [
      "------------ test losses ------------\n",
      "rmse: 1.020649\n",
      "------------ test metrics ------------\n",
      "precision: 0.057382\n",
      "recall: 0.057382\n",
      "Epoch 33, Time: 35.585425 (s)\n",
      "------------ train losses ------------\n",
      "rmse: 1.019035\n",
      "------------ train metrics ------------\n",
      "precision: 0.061466\n",
      "recall: 0.061466\n"
     ]
    },
    {
     "name": "stderr",
     "output_type": "stream",
     "text": [
      "\r",
      " 16%|█▋        | 33/200 [33:29<2:49:28, 60.89s/it]"
     ]
    },
    {
     "name": "stdout",
     "output_type": "stream",
     "text": [
      "------------ test losses ------------\n",
      "rmse: 1.023785\n",
      "------------ test metrics ------------\n",
      "precision: 0.057382\n",
      "recall: 0.057382\n",
      "Epoch 34, Time: 35.067073 (s)\n",
      "------------ train losses ------------\n",
      "rmse: 0.992651\n",
      "------------ train metrics ------------\n",
      "precision: 0.061422\n",
      "recall: 0.061422\n"
     ]
    },
    {
     "name": "stderr",
     "output_type": "stream",
     "text": [
      "\r",
      " 17%|█▋        | 34/200 [34:29<2:47:52, 60.68s/it]"
     ]
    },
    {
     "name": "stdout",
     "output_type": "stream",
     "text": [
      "------------ test losses ------------\n",
      "rmse: 1.014989\n",
      "------------ test metrics ------------\n",
      "precision: 0.057382\n",
      "recall: 0.057382\n",
      "Epoch 35, Time: 35.693036 (s)\n",
      "------------ train losses ------------\n",
      "rmse: 0.987253\n",
      "------------ train metrics ------------\n",
      "precision: 0.061422\n",
      "recall: 0.061422\n"
     ]
    },
    {
     "name": "stderr",
     "output_type": "stream",
     "text": [
      "\r",
      " 18%|█▊        | 35/200 [35:30<2:46:57, 60.71s/it]"
     ]
    },
    {
     "name": "stdout",
     "output_type": "stream",
     "text": [
      "------------ test losses ------------\n",
      "rmse: 1.019870\n",
      "------------ test metrics ------------\n",
      "precision: 0.057382\n",
      "recall: 0.057382\n",
      "Epoch 36, Time: 35.501865 (s)\n",
      "------------ train losses ------------\n",
      "rmse: 0.994667\n",
      "------------ train metrics ------------\n",
      "precision: 0.061433\n",
      "recall: 0.061433\n"
     ]
    },
    {
     "name": "stderr",
     "output_type": "stream",
     "text": [
      "\r",
      " 18%|█▊        | 36/200 [36:30<2:45:45, 60.64s/it]"
     ]
    },
    {
     "name": "stdout",
     "output_type": "stream",
     "text": [
      "------------ test losses ------------\n",
      "rmse: 1.013367\n",
      "------------ test metrics ------------\n",
      "precision: 0.057382\n",
      "recall: 0.057382\n",
      "Epoch 37, Time: 35.362360 (s)\n",
      "------------ train losses ------------\n",
      "rmse: 0.972347\n",
      "------------ train metrics ------------\n",
      "precision: 0.061400\n",
      "recall: 0.061400\n"
     ]
    },
    {
     "name": "stderr",
     "output_type": "stream",
     "text": [
      "\r",
      " 18%|█▊        | 37/200 [37:30<2:44:32, 60.57s/it]"
     ]
    },
    {
     "name": "stdout",
     "output_type": "stream",
     "text": [
      "------------ test losses ------------\n",
      "rmse: 1.007183\n",
      "------------ test metrics ------------\n",
      "precision: 0.057382\n",
      "recall: 0.057382\n",
      "Epoch 38, Time: 35.431283 (s)\n",
      "------------ train losses ------------\n",
      "rmse: 0.967798\n",
      "------------ train metrics ------------\n",
      "precision: 0.061378\n",
      "recall: 0.061378\n"
     ]
    },
    {
     "name": "stderr",
     "output_type": "stream",
     "text": [
      "\r",
      " 19%|█▉        | 38/200 [38:31<2:43:23, 60.52s/it]"
     ]
    },
    {
     "name": "stdout",
     "output_type": "stream",
     "text": [
      "------------ test losses ------------\n",
      "rmse: 1.006392\n",
      "------------ test metrics ------------\n",
      "precision: 0.057382\n",
      "recall: 0.057382\n",
      "Epoch 39, Time: 35.606746 (s)\n",
      "------------ train losses ------------\n",
      "rmse: 0.962612\n",
      "------------ train metrics ------------\n",
      "precision: 0.061378\n",
      "recall: 0.061378\n"
     ]
    },
    {
     "name": "stderr",
     "output_type": "stream",
     "text": [
      "\r",
      " 20%|█▉        | 39/200 [39:32<2:42:27, 60.54s/it]"
     ]
    },
    {
     "name": "stdout",
     "output_type": "stream",
     "text": [
      "------------ test losses ------------\n",
      "rmse: 1.000364\n",
      "------------ test metrics ------------\n",
      "precision: 0.057382\n",
      "recall: 0.057382\n",
      "Epoch 40, Time: 36.996557 (s)\n",
      "------------ train losses ------------\n",
      "rmse: 0.968516\n",
      "------------ train metrics ------------\n",
      "precision: 0.061345\n",
      "recall: 0.061345\n"
     ]
    },
    {
     "name": "stderr",
     "output_type": "stream",
     "text": [
      "\r",
      " 20%|██        | 40/200 [40:33<2:42:33, 60.96s/it]"
     ]
    },
    {
     "name": "stdout",
     "output_type": "stream",
     "text": [
      "------------ test losses ------------\n",
      "rmse: 1.002928\n",
      "------------ test metrics ------------\n",
      "precision: 0.057382\n",
      "recall: 0.057382\n",
      "Epoch 41, Time: 35.453056 (s)\n",
      "------------ train losses ------------\n",
      "rmse: 0.953512\n",
      "------------ train metrics ------------\n",
      "precision: 0.061345\n",
      "recall: 0.061345\n"
     ]
    },
    {
     "name": "stderr",
     "output_type": "stream",
     "text": [
      "\r",
      " 20%|██        | 41/200 [41:34<2:41:09, 60.82s/it]"
     ]
    },
    {
     "name": "stdout",
     "output_type": "stream",
     "text": [
      "------------ test losses ------------\n",
      "rmse: 0.994606\n",
      "------------ test metrics ------------\n",
      "precision: 0.057382\n",
      "recall: 0.057382\n",
      "Epoch 42, Time: 35.308872 (s)\n",
      "------------ train losses ------------\n",
      "rmse: 0.951338\n",
      "------------ train metrics ------------\n",
      "precision: 0.061345\n",
      "recall: 0.061345\n"
     ]
    },
    {
     "name": "stderr",
     "output_type": "stream",
     "text": [
      "\r",
      " 21%|██        | 42/200 [42:34<2:39:43, 60.65s/it]"
     ]
    },
    {
     "name": "stdout",
     "output_type": "stream",
     "text": [
      "------------ test losses ------------\n",
      "rmse: 0.995165\n",
      "------------ test metrics ------------\n",
      "precision: 0.057382\n",
      "recall: 0.057382\n",
      "Epoch 43, Time: 35.826368 (s)\n",
      "------------ train losses ------------\n",
      "rmse: 0.945826\n",
      "------------ train metrics ------------\n",
      "precision: 0.061345\n",
      "recall: 0.061345\n"
     ]
    },
    {
     "name": "stderr",
     "output_type": "stream",
     "text": [
      "\r",
      " 22%|██▏       | 43/200 [43:35<2:38:56, 60.74s/it]"
     ]
    },
    {
     "name": "stdout",
     "output_type": "stream",
     "text": [
      "------------ test losses ------------\n",
      "rmse: 0.991545\n",
      "------------ test metrics ------------\n",
      "precision: 0.057382\n",
      "recall: 0.057382\n",
      "Epoch 44, Time: 35.470255 (s)\n",
      "------------ train losses ------------\n",
      "rmse: 0.945241\n",
      "------------ train metrics ------------\n",
      "precision: 0.061312\n",
      "recall: 0.061312\n"
     ]
    },
    {
     "name": "stderr",
     "output_type": "stream",
     "text": [
      "\r",
      " 22%|██▏       | 44/200 [44:36<2:37:44, 60.67s/it]"
     ]
    },
    {
     "name": "stdout",
     "output_type": "stream",
     "text": [
      "------------ test losses ------------\n",
      "rmse: 0.989308\n",
      "------------ test metrics ------------\n",
      "precision: 0.057382\n",
      "recall: 0.057382\n",
      "Epoch 45, Time: 35.779406 (s)\n",
      "------------ train losses ------------\n",
      "rmse: 0.938767\n",
      "------------ train metrics ------------\n",
      "precision: 0.061290\n",
      "recall: 0.061290\n"
     ]
    },
    {
     "name": "stderr",
     "output_type": "stream",
     "text": [
      "\r",
      " 22%|██▎       | 45/200 [45:36<2:36:48, 60.70s/it]"
     ]
    },
    {
     "name": "stdout",
     "output_type": "stream",
     "text": [
      "------------ test losses ------------\n",
      "rmse: 0.985607\n",
      "------------ test metrics ------------\n",
      "precision: 0.057382\n",
      "recall: 0.057382\n",
      "Epoch 46, Time: 35.541691 (s)\n",
      "------------ train losses ------------\n",
      "rmse: 0.938120\n",
      "------------ train metrics ------------\n",
      "precision: 0.061290\n",
      "recall: 0.061290\n"
     ]
    },
    {
     "name": "stderr",
     "output_type": "stream",
     "text": [
      "\r",
      " 23%|██▎       | 46/200 [46:37<2:35:36, 60.63s/it]"
     ]
    },
    {
     "name": "stdout",
     "output_type": "stream",
     "text": [
      "------------ test losses ------------\n",
      "rmse: 0.985744\n",
      "------------ test metrics ------------\n",
      "precision: 0.057382\n",
      "recall: 0.057382\n",
      "Epoch 47, Time: 35.675640 (s)\n",
      "------------ train losses ------------\n",
      "rmse: 0.933567\n",
      "------------ train metrics ------------\n",
      "precision: 0.061245\n",
      "recall: 0.061245\n"
     ]
    },
    {
     "name": "stderr",
     "output_type": "stream",
     "text": [
      "\r",
      " 24%|██▎       | 47/200 [47:38<2:34:43, 60.67s/it]"
     ]
    },
    {
     "name": "stdout",
     "output_type": "stream",
     "text": [
      "------------ test losses ------------\n",
      "rmse: 0.984619\n",
      "------------ test metrics ------------\n",
      "precision: 0.057382\n",
      "recall: 0.057382\n",
      "Epoch 48, Time: 35.526907 (s)\n",
      "------------ train losses ------------\n",
      "rmse: 0.937509\n",
      "------------ train metrics ------------\n",
      "precision: 0.061212\n",
      "recall: 0.061212\n"
     ]
    },
    {
     "name": "stderr",
     "output_type": "stream",
     "text": [
      "\r",
      " 24%|██▍       | 48/200 [48:38<2:33:45, 60.69s/it]"
     ]
    },
    {
     "name": "stdout",
     "output_type": "stream",
     "text": [
      "------------ test losses ------------\n",
      "rmse: 0.983053\n",
      "------------ test metrics ------------\n",
      "precision: 0.057382\n",
      "recall: 0.057382\n",
      "Epoch 49, Time: 35.928969 (s)\n",
      "------------ train losses ------------\n",
      "rmse: 0.927792\n",
      "------------ train metrics ------------\n",
      "precision: 0.061245\n",
      "recall: 0.061245\n"
     ]
    },
    {
     "name": "stderr",
     "output_type": "stream",
     "text": [
      "\r",
      " 24%|██▍       | 49/200 [49:39<2:32:53, 60.75s/it]"
     ]
    },
    {
     "name": "stdout",
     "output_type": "stream",
     "text": [
      "------------ test losses ------------\n",
      "rmse: 0.979509\n",
      "------------ test metrics ------------\n",
      "precision: 0.057382\n",
      "recall: 0.057382\n",
      "Epoch 50, Time: 35.838069 (s)\n",
      "------------ train losses ------------\n",
      "rmse: 0.925520\n",
      "------------ train metrics ------------\n",
      "precision: 0.061179\n",
      "recall: 0.061179\n"
     ]
    },
    {
     "name": "stderr",
     "output_type": "stream",
     "text": [
      "\r",
      " 25%|██▌       | 50/200 [50:40<2:31:53, 60.76s/it]"
     ]
    },
    {
     "name": "stdout",
     "output_type": "stream",
     "text": [
      "------------ test losses ------------\n",
      "rmse: 0.978322\n",
      "------------ test metrics ------------\n",
      "precision: 0.057276\n",
      "recall: 0.057276\n",
      "Epoch 51, Time: 36.095919 (s)\n",
      "------------ train losses ------------\n",
      "rmse: 0.918677\n",
      "------------ train metrics ------------\n",
      "precision: 0.061157\n",
      "recall: 0.061157\n"
     ]
    },
    {
     "name": "stderr",
     "output_type": "stream",
     "text": [
      "\r",
      " 26%|██▌       | 51/200 [51:41<2:31:04, 60.83s/it]"
     ]
    },
    {
     "name": "stdout",
     "output_type": "stream",
     "text": [
      "------------ test losses ------------\n",
      "rmse: 0.974671\n",
      "------------ test metrics ------------\n",
      "precision: 0.057276\n",
      "recall: 0.057276\n",
      "Epoch 52, Time: 34.898454 (s)\n",
      "------------ train losses ------------\n",
      "rmse: 0.921504\n",
      "------------ train metrics ------------\n",
      "precision: 0.061124\n",
      "recall: 0.061124\n"
     ]
    },
    {
     "name": "stderr",
     "output_type": "stream",
     "text": [
      "\r",
      " 26%|██▌       | 52/200 [52:41<2:29:23, 60.57s/it]"
     ]
    },
    {
     "name": "stdout",
     "output_type": "stream",
     "text": [
      "------------ test losses ------------\n",
      "rmse: 0.975949\n",
      "------------ test metrics ------------\n",
      "precision: 0.057276\n",
      "recall: 0.057276\n",
      "Epoch 53, Time: 35.959718 (s)\n",
      "------------ train losses ------------\n",
      "rmse: 0.968904\n",
      "------------ train metrics ------------\n",
      "precision: 0.061102\n",
      "recall: 0.061102\n"
     ]
    },
    {
     "name": "stderr",
     "output_type": "stream",
     "text": [
      "\r",
      " 26%|██▋       | 53/200 [53:42<2:28:44, 60.71s/it]"
     ]
    },
    {
     "name": "stdout",
     "output_type": "stream",
     "text": [
      "------------ test losses ------------\n",
      "rmse: 0.995680\n",
      "------------ test metrics ------------\n",
      "precision: 0.057276\n",
      "recall: 0.057276\n",
      "Epoch 54, Time: 36.105036 (s)\n",
      "------------ train losses ------------\n",
      "rmse: 0.918751\n",
      "------------ train metrics ------------\n",
      "precision: 0.061025\n",
      "recall: 0.061025\n"
     ]
    },
    {
     "name": "stderr",
     "output_type": "stream",
     "text": [
      "\r",
      " 27%|██▋       | 54/200 [54:43<2:28:03, 60.84s/it]"
     ]
    },
    {
     "name": "stdout",
     "output_type": "stream",
     "text": [
      "------------ test losses ------------\n",
      "rmse: 0.978363\n",
      "------------ test metrics ------------\n",
      "precision: 0.057276\n",
      "recall: 0.057276\n",
      "Epoch 55, Time: 37.602148 (s)\n",
      "------------ train losses ------------\n",
      "rmse: 0.910423\n",
      "------------ train metrics ------------\n",
      "precision: 0.061014\n",
      "recall: 0.061014\n"
     ]
    },
    {
     "name": "stderr",
     "output_type": "stream",
     "text": [
      "\r",
      " 28%|██▊       | 55/200 [55:46<2:28:25, 61.42s/it]"
     ]
    },
    {
     "name": "stdout",
     "output_type": "stream",
     "text": [
      "------------ test losses ------------\n",
      "rmse: 0.973549\n",
      "------------ test metrics ------------\n",
      "precision: 0.057170\n",
      "recall: 0.057170\n",
      "Epoch 56, Time: 36.025244 (s)\n",
      "------------ train losses ------------\n",
      "rmse: 0.913666\n",
      "------------ train metrics ------------\n",
      "precision: 0.060980\n",
      "recall: 0.060980\n"
     ]
    },
    {
     "name": "stderr",
     "output_type": "stream",
     "text": [
      "\r",
      " 28%|██▊       | 56/200 [56:47<2:27:13, 61.35s/it]"
     ]
    },
    {
     "name": "stdout",
     "output_type": "stream",
     "text": [
      "------------ test losses ------------\n",
      "rmse: 0.977833\n",
      "------------ test metrics ------------\n",
      "precision: 0.057170\n",
      "recall: 0.057170\n",
      "Epoch 57, Time: 36.516663 (s)\n",
      "------------ train losses ------------\n",
      "rmse: 0.911261\n",
      "------------ train metrics ------------\n",
      "precision: 0.060936\n",
      "recall: 0.060936\n"
     ]
    },
    {
     "name": "stderr",
     "output_type": "stream",
     "text": [
      "\r",
      " 28%|██▊       | 57/200 [57:49<2:26:17, 61.38s/it]"
     ]
    },
    {
     "name": "stdout",
     "output_type": "stream",
     "text": [
      "------------ test losses ------------\n",
      "rmse: 0.972145\n",
      "------------ test metrics ------------\n",
      "precision: 0.057170\n",
      "recall: 0.057170\n",
      "Epoch 58, Time: 36.205640 (s)\n",
      "------------ train losses ------------\n",
      "rmse: 0.902409\n",
      "------------ train metrics ------------\n",
      "precision: 0.060925\n",
      "recall: 0.060925\n"
     ]
    },
    {
     "name": "stderr",
     "output_type": "stream",
     "text": [
      "\r",
      " 29%|██▉       | 58/200 [58:50<2:25:13, 61.37s/it]"
     ]
    },
    {
     "name": "stdout",
     "output_type": "stream",
     "text": [
      "------------ test losses ------------\n",
      "rmse: 0.971353\n",
      "------------ test metrics ------------\n",
      "precision: 0.057170\n",
      "recall: 0.057170\n",
      "Epoch 59, Time: 35.475093 (s)\n",
      "------------ train losses ------------\n",
      "rmse: 0.899414\n",
      "------------ train metrics ------------\n",
      "precision: 0.060881\n",
      "recall: 0.060881\n"
     ]
    },
    {
     "name": "stderr",
     "output_type": "stream",
     "text": [
      "\r",
      " 30%|██▉       | 59/200 [59:51<2:23:48, 61.19s/it]"
     ]
    },
    {
     "name": "stdout",
     "output_type": "stream",
     "text": [
      "------------ test losses ------------\n",
      "rmse: 0.970289\n",
      "------------ test metrics ------------\n",
      "precision: 0.057170\n",
      "recall: 0.057170\n",
      "Epoch 60, Time: 36.135691 (s)\n",
      "------------ train losses ------------\n",
      "rmse: 0.923757\n",
      "------------ train metrics ------------\n",
      "precision: 0.060969\n",
      "recall: 0.060969\n"
     ]
    },
    {
     "name": "stderr",
     "output_type": "stream",
     "text": [
      "\r",
      " 30%|███       | 60/200 [1:00:52<2:22:54, 61.25s/it]"
     ]
    },
    {
     "name": "stdout",
     "output_type": "stream",
     "text": [
      "------------ test losses ------------\n",
      "rmse: 0.988462\n",
      "------------ test metrics ------------\n",
      "precision: 0.057276\n",
      "recall: 0.057276\n",
      "Epoch 61, Time: 36.232208 (s)\n",
      "------------ train losses ------------\n",
      "rmse: 0.896498\n",
      "------------ train metrics ------------\n",
      "precision: 0.060826\n",
      "recall: 0.060826\n"
     ]
    },
    {
     "name": "stderr",
     "output_type": "stream",
     "text": [
      "\r",
      " 30%|███       | 61/200 [1:01:53<2:21:55, 61.26s/it]"
     ]
    },
    {
     "name": "stdout",
     "output_type": "stream",
     "text": [
      "------------ test losses ------------\n",
      "rmse: 0.972090\n",
      "------------ test metrics ------------\n",
      "precision: 0.057170\n",
      "recall: 0.057170\n",
      "Epoch 62, Time: 36.492475 (s)\n",
      "------------ train losses ------------\n",
      "rmse: 0.889034\n",
      "------------ train metrics ------------\n",
      "precision: 0.060914\n",
      "recall: 0.060914\n"
     ]
    },
    {
     "name": "stderr",
     "output_type": "stream",
     "text": [
      "\r",
      " 31%|███       | 62/200 [1:02:55<2:21:12, 61.39s/it]"
     ]
    },
    {
     "name": "stdout",
     "output_type": "stream",
     "text": [
      "------------ test losses ------------\n",
      "rmse: 0.964595\n",
      "------------ test metrics ------------\n",
      "precision: 0.057170\n",
      "recall: 0.057170\n",
      "Epoch 63, Time: 36.763650 (s)\n",
      "------------ train losses ------------\n",
      "rmse: 0.890630\n",
      "------------ train metrics ------------\n",
      "precision: 0.060892\n",
      "recall: 0.060892\n"
     ]
    },
    {
     "name": "stderr",
     "output_type": "stream",
     "text": [
      "\r",
      " 32%|███▏      | 63/200 [1:03:57<2:20:34, 61.57s/it]"
     ]
    },
    {
     "name": "stdout",
     "output_type": "stream",
     "text": [
      "------------ test losses ------------\n",
      "rmse: 0.964922\n",
      "------------ test metrics ------------\n",
      "precision: 0.057170\n",
      "recall: 0.057170\n",
      "Epoch 64, Time: 36.502872 (s)\n",
      "------------ train losses ------------\n",
      "rmse: 0.882262\n",
      "------------ train metrics ------------\n",
      "precision: 0.060892\n",
      "recall: 0.060892\n"
     ]
    },
    {
     "name": "stderr",
     "output_type": "stream",
     "text": [
      "\r",
      " 32%|███▏      | 64/200 [1:04:59<2:19:50, 61.70s/it]"
     ]
    },
    {
     "name": "stdout",
     "output_type": "stream",
     "text": [
      "------------ test losses ------------\n",
      "rmse: 0.961303\n",
      "------------ test metrics ------------\n",
      "precision: 0.057170\n",
      "recall: 0.057170\n",
      "Epoch 65, Time: 36.533977 (s)\n",
      "------------ train losses ------------\n",
      "rmse: 0.888813\n",
      "------------ train metrics ------------\n",
      "precision: 0.060848\n",
      "recall: 0.060848\n"
     ]
    },
    {
     "name": "stderr",
     "output_type": "stream",
     "text": [
      "\r",
      " 32%|███▎      | 65/200 [1:06:01<2:18:41, 61.64s/it]"
     ]
    },
    {
     "name": "stdout",
     "output_type": "stream",
     "text": [
      "------------ test losses ------------\n",
      "rmse: 0.966739\n",
      "------------ test metrics ------------\n",
      "precision: 0.057170\n",
      "recall: 0.057170\n",
      "Epoch 66, Time: 36.715354 (s)\n",
      "------------ train losses ------------\n",
      "rmse: 0.881951\n",
      "------------ train metrics ------------\n",
      "precision: 0.060826\n",
      "recall: 0.060826\n"
     ]
    },
    {
     "name": "stderr",
     "output_type": "stream",
     "text": [
      "\r",
      " 33%|███▎      | 66/200 [1:07:02<2:17:46, 61.69s/it]"
     ]
    },
    {
     "name": "stdout",
     "output_type": "stream",
     "text": [
      "------------ test losses ------------\n",
      "rmse: 0.963454\n",
      "------------ test metrics ------------\n",
      "precision: 0.057064\n",
      "recall: 0.057064\n",
      "Epoch 67, Time: 36.502666 (s)\n",
      "------------ train losses ------------\n",
      "rmse: 0.904043\n",
      "------------ train metrics ------------\n",
      "precision: 0.060804\n",
      "recall: 0.060804\n"
     ]
    },
    {
     "name": "stderr",
     "output_type": "stream",
     "text": [
      "\r",
      " 34%|███▎      | 67/200 [1:08:04<2:16:37, 61.64s/it]"
     ]
    },
    {
     "name": "stdout",
     "output_type": "stream",
     "text": [
      "------------ test losses ------------\n",
      "rmse: 0.970767\n",
      "------------ test metrics ------------\n",
      "precision: 0.056958\n",
      "recall: 0.056958\n",
      "Epoch 68, Time: 36.292420 (s)\n",
      "------------ train losses ------------\n",
      "rmse: 0.872414\n",
      "------------ train metrics ------------\n",
      "precision: 0.060903\n",
      "recall: 0.060903\n"
     ]
    },
    {
     "name": "stderr",
     "output_type": "stream",
     "text": [
      "\r",
      " 34%|███▍      | 68/200 [1:09:05<2:15:33, 61.62s/it]"
     ]
    },
    {
     "name": "stdout",
     "output_type": "stream",
     "text": [
      "------------ test losses ------------\n",
      "rmse: 0.959169\n",
      "------------ test metrics ------------\n",
      "precision: 0.057064\n",
      "recall: 0.057064\n",
      "Epoch 69, Time: 36.520697 (s)\n",
      "------------ train losses ------------\n",
      "rmse: 0.872229\n",
      "------------ train metrics ------------\n",
      "precision: 0.060826\n",
      "recall: 0.060826\n"
     ]
    },
    {
     "name": "stderr",
     "output_type": "stream",
     "text": [
      "\r",
      " 34%|███▍      | 69/200 [1:10:07<2:14:34, 61.64s/it]"
     ]
    },
    {
     "name": "stdout",
     "output_type": "stream",
     "text": [
      "------------ test losses ------------\n",
      "rmse: 0.960275\n",
      "------------ test metrics ------------\n",
      "precision: 0.057064\n",
      "recall: 0.057064\n",
      "Epoch 70, Time: 36.793775 (s)\n",
      "------------ train losses ------------\n",
      "rmse: 0.869666\n",
      "------------ train metrics ------------\n",
      "precision: 0.060760\n",
      "recall: 0.060760\n"
     ]
    },
    {
     "name": "stderr",
     "output_type": "stream",
     "text": [
      "\r",
      " 35%|███▌      | 70/200 [1:11:09<2:13:50, 61.77s/it]"
     ]
    },
    {
     "name": "stdout",
     "output_type": "stream",
     "text": [
      "------------ test losses ------------\n",
      "rmse: 0.960044\n",
      "------------ test metrics ------------\n",
      "precision: 0.057064\n",
      "recall: 0.057064\n",
      "Epoch 71, Time: 36.449538 (s)\n",
      "------------ train losses ------------\n",
      "rmse: 0.867001\n",
      "------------ train metrics ------------\n",
      "precision: 0.060782\n",
      "recall: 0.060782\n"
     ]
    },
    {
     "name": "stderr",
     "output_type": "stream",
     "text": [
      "\r",
      " 36%|███▌      | 71/200 [1:12:11<2:12:35, 61.67s/it]"
     ]
    },
    {
     "name": "stdout",
     "output_type": "stream",
     "text": [
      "------------ test losses ------------\n",
      "rmse: 0.960981\n",
      "------------ test metrics ------------\n",
      "precision: 0.057064\n",
      "recall: 0.057064\n",
      "Epoch 72, Time: 36.781779 (s)\n",
      "------------ train losses ------------\n",
      "rmse: 0.861229\n",
      "------------ train metrics ------------\n",
      "precision: 0.060804\n",
      "recall: 0.060804\n"
     ]
    },
    {
     "name": "stderr",
     "output_type": "stream",
     "text": [
      "\r",
      " 36%|███▌      | 72/200 [1:13:12<2:11:40, 61.72s/it]"
     ]
    },
    {
     "name": "stdout",
     "output_type": "stream",
     "text": [
      "------------ test losses ------------\n",
      "rmse: 0.956575\n",
      "------------ test metrics ------------\n",
      "precision: 0.057064\n",
      "recall: 0.057064\n",
      "Epoch 73, Time: 36.808312 (s)\n",
      "------------ train losses ------------\n",
      "rmse: 0.864607\n",
      "------------ train metrics ------------\n",
      "precision: 0.060793\n",
      "recall: 0.060793\n"
     ]
    },
    {
     "name": "stderr",
     "output_type": "stream",
     "text": [
      "\r",
      " 36%|███▋      | 73/200 [1:14:14<2:10:45, 61.77s/it]"
     ]
    },
    {
     "name": "stdout",
     "output_type": "stream",
     "text": [
      "------------ test losses ------------\n",
      "rmse: 0.960080\n",
      "------------ test metrics ------------\n",
      "precision: 0.057064\n",
      "recall: 0.057064\n",
      "Epoch 74, Time: 37.682458 (s)\n",
      "------------ train losses ------------\n",
      "rmse: 0.857615\n",
      "------------ train metrics ------------\n",
      "precision: 0.060793\n",
      "recall: 0.060793\n"
     ]
    },
    {
     "name": "stderr",
     "output_type": "stream",
     "text": [
      "\r",
      " 37%|███▋      | 74/200 [1:15:17<2:10:17, 62.05s/it]"
     ]
    },
    {
     "name": "stdout",
     "output_type": "stream",
     "text": [
      "------------ test losses ------------\n",
      "rmse: 0.956797\n",
      "------------ test metrics ------------\n",
      "precision: 0.057064\n",
      "recall: 0.057064\n",
      "Epoch 75, Time: 36.862620 (s)\n",
      "------------ train losses ------------\n",
      "rmse: 0.866127\n",
      "------------ train metrics ------------\n",
      "precision: 0.060804\n",
      "recall: 0.060804\n"
     ]
    },
    {
     "name": "stderr",
     "output_type": "stream",
     "text": [
      "\r",
      " 38%|███▊      | 75/200 [1:16:19<2:09:14, 62.03s/it]"
     ]
    },
    {
     "name": "stdout",
     "output_type": "stream",
     "text": [
      "------------ test losses ------------\n",
      "rmse: 0.964838\n",
      "------------ test metrics ------------\n",
      "precision: 0.057064\n",
      "recall: 0.057064\n",
      "Epoch 76, Time: 36.723308 (s)\n",
      "------------ train losses ------------\n",
      "rmse: 0.854497\n",
      "------------ train metrics ------------\n",
      "precision: 0.060693\n",
      "recall: 0.060693\n"
     ]
    },
    {
     "name": "stderr",
     "output_type": "stream",
     "text": [
      "\r",
      " 38%|███▊      | 76/200 [1:17:21<2:08:00, 61.94s/it]"
     ]
    },
    {
     "name": "stdout",
     "output_type": "stream",
     "text": [
      "------------ test losses ------------\n",
      "rmse: 0.959247\n",
      "------------ test metrics ------------\n",
      "precision: 0.057064\n",
      "recall: 0.057064\n",
      "Epoch 77, Time: 36.769991 (s)\n",
      "------------ train losses ------------\n",
      "rmse: 0.849218\n",
      "------------ train metrics ------------\n",
      "precision: 0.060727\n",
      "recall: 0.060727\n"
     ]
    },
    {
     "name": "stderr",
     "output_type": "stream",
     "text": [
      "\r",
      " 38%|███▊      | 77/200 [1:18:23<2:06:50, 61.87s/it]"
     ]
    },
    {
     "name": "stdout",
     "output_type": "stream",
     "text": [
      "------------ test losses ------------\n",
      "rmse: 0.956217\n",
      "------------ test metrics ------------\n",
      "precision: 0.057064\n",
      "recall: 0.057064\n",
      "Epoch 78, Time: 36.897810 (s)\n",
      "------------ train losses ------------\n",
      "rmse: 0.846282\n",
      "------------ train metrics ------------\n",
      "precision: 0.060782\n",
      "recall: 0.060782\n"
     ]
    },
    {
     "name": "stderr",
     "output_type": "stream",
     "text": [
      "\r",
      " 39%|███▉      | 78/200 [1:19:24<2:05:50, 61.89s/it]"
     ]
    },
    {
     "name": "stdout",
     "output_type": "stream",
     "text": [
      "------------ test losses ------------\n",
      "rmse: 0.955457\n",
      "------------ test metrics ------------\n",
      "precision: 0.057064\n",
      "recall: 0.057064\n",
      "Epoch 79, Time: 37.002249 (s)\n",
      "------------ train losses ------------\n",
      "rmse: 0.851695\n",
      "------------ train metrics ------------\n",
      "precision: 0.060727\n",
      "recall: 0.060727\n"
     ]
    },
    {
     "name": "stderr",
     "output_type": "stream",
     "text": [
      "\r",
      " 40%|███▉      | 79/200 [1:20:26<2:04:50, 61.91s/it]"
     ]
    },
    {
     "name": "stdout",
     "output_type": "stream",
     "text": [
      "------------ test losses ------------\n",
      "rmse: 0.957934\n",
      "------------ test metrics ------------\n",
      "precision: 0.056958\n",
      "recall: 0.056958\n",
      "Epoch 80, Time: 36.982291 (s)\n",
      "------------ train losses ------------\n",
      "rmse: 0.852682\n",
      "------------ train metrics ------------\n",
      "precision: 0.060660\n",
      "recall: 0.060660\n"
     ]
    },
    {
     "name": "stderr",
     "output_type": "stream",
     "text": [
      "\r",
      " 40%|████      | 80/200 [1:21:28<2:03:54, 61.95s/it]"
     ]
    },
    {
     "name": "stdout",
     "output_type": "stream",
     "text": [
      "------------ test losses ------------\n",
      "rmse: 0.961785\n",
      "------------ test metrics ------------\n",
      "precision: 0.057064\n",
      "recall: 0.057064\n",
      "Epoch 81, Time: 36.919024 (s)\n",
      "------------ train losses ------------\n",
      "rmse: 0.843990\n",
      "------------ train metrics ------------\n",
      "precision: 0.060738\n",
      "recall: 0.060738\n"
     ]
    },
    {
     "name": "stderr",
     "output_type": "stream",
     "text": [
      "\r",
      " 40%|████      | 81/200 [1:22:30<2:02:52, 61.95s/it]"
     ]
    },
    {
     "name": "stdout",
     "output_type": "stream",
     "text": [
      "------------ test losses ------------\n",
      "rmse: 0.958302\n",
      "------------ test metrics ------------\n",
      "precision: 0.056958\n",
      "recall: 0.056958\n",
      "Epoch 82, Time: 37.033750 (s)\n",
      "------------ train losses ------------\n",
      "rmse: 0.836500\n",
      "------------ train metrics ------------\n",
      "precision: 0.060760\n",
      "recall: 0.060760\n"
     ]
    },
    {
     "name": "stderr",
     "output_type": "stream",
     "text": [
      "\r",
      " 41%|████      | 82/200 [1:23:32<2:01:54, 61.99s/it]"
     ]
    },
    {
     "name": "stdout",
     "output_type": "stream",
     "text": [
      "------------ test losses ------------\n",
      "rmse: 0.956670\n",
      "------------ test metrics ------------\n",
      "precision: 0.057064\n",
      "recall: 0.057064\n",
      "Epoch 83, Time: 36.892442 (s)\n",
      "------------ train losses ------------\n",
      "rmse: 0.833573\n",
      "------------ train metrics ------------\n",
      "precision: 0.060804\n",
      "recall: 0.060804\n"
     ]
    },
    {
     "name": "stderr",
     "output_type": "stream",
     "text": [
      "\r",
      " 42%|████▏     | 83/200 [1:24:34<2:00:53, 62.00s/it]"
     ]
    },
    {
     "name": "stdout",
     "output_type": "stream",
     "text": [
      "------------ test losses ------------\n",
      "rmse: 0.955378\n",
      "------------ test metrics ------------\n",
      "precision: 0.057064\n",
      "recall: 0.057064\n",
      "Epoch 84, Time: 37.431594 (s)\n",
      "------------ train losses ------------\n",
      "rmse: 0.839725\n",
      "------------ train metrics ------------\n",
      "precision: 0.060727\n",
      "recall: 0.060727\n"
     ]
    },
    {
     "name": "stderr",
     "output_type": "stream",
     "text": [
      "\r",
      " 42%|████▏     | 84/200 [1:25:37<2:00:05, 62.12s/it]"
     ]
    },
    {
     "name": "stdout",
     "output_type": "stream",
     "text": [
      "------------ test losses ------------\n",
      "rmse: 0.961556\n",
      "------------ test metrics ------------\n",
      "precision: 0.057064\n",
      "recall: 0.057064\n",
      "Epoch 85, Time: 37.070400 (s)\n",
      "------------ train losses ------------\n",
      "rmse: 0.826466\n",
      "------------ train metrics ------------\n",
      "precision: 0.060793\n",
      "recall: 0.060793\n"
     ]
    },
    {
     "name": "stderr",
     "output_type": "stream",
     "text": [
      "\r",
      " 42%|████▎     | 85/200 [1:26:39<1:59:06, 62.14s/it]"
     ]
    },
    {
     "name": "stdout",
     "output_type": "stream",
     "text": [
      "------------ test losses ------------\n",
      "rmse: 0.955327\n",
      "------------ test metrics ------------\n",
      "precision: 0.057064\n",
      "recall: 0.057064\n",
      "Epoch 86, Time: 37.277193 (s)\n",
      "------------ train losses ------------\n",
      "rmse: 0.825675\n",
      "------------ train metrics ------------\n",
      "precision: 0.060793\n",
      "recall: 0.060793\n"
     ]
    },
    {
     "name": "stderr",
     "output_type": "stream",
     "text": [
      "\r",
      " 43%|████▎     | 86/200 [1:27:41<1:58:11, 62.21s/it]"
     ]
    },
    {
     "name": "stdout",
     "output_type": "stream",
     "text": [
      "------------ test losses ------------\n",
      "rmse: 0.956574\n",
      "------------ test metrics ------------\n",
      "precision: 0.056852\n",
      "recall: 0.056852\n",
      "Epoch 87, Time: 37.093114 (s)\n",
      "------------ train losses ------------\n",
      "rmse: 0.827383\n",
      "------------ train metrics ------------\n",
      "precision: 0.060837\n",
      "recall: 0.060837\n"
     ]
    },
    {
     "name": "stderr",
     "output_type": "stream",
     "text": [
      "\r",
      " 44%|████▎     | 87/200 [1:28:44<1:57:12, 62.23s/it]"
     ]
    },
    {
     "name": "stdout",
     "output_type": "stream",
     "text": [
      "------------ test losses ------------\n",
      "rmse: 0.959667\n",
      "------------ test metrics ------------\n",
      "precision: 0.056958\n",
      "recall: 0.056958\n",
      "Epoch 88, Time: 37.405751 (s)\n",
      "------------ train losses ------------\n",
      "rmse: 0.824709\n",
      "------------ train metrics ------------\n",
      "precision: 0.060804\n",
      "recall: 0.060804\n"
     ]
    },
    {
     "name": "stderr",
     "output_type": "stream",
     "text": [
      "\r",
      " 44%|████▍     | 88/200 [1:29:46<1:56:25, 62.37s/it]"
     ]
    },
    {
     "name": "stdout",
     "output_type": "stream",
     "text": [
      "------------ test losses ------------\n",
      "rmse: 0.960985\n",
      "------------ test metrics ------------\n",
      "precision: 0.056958\n",
      "recall: 0.056958\n",
      "Epoch 89, Time: 37.358162 (s)\n",
      "------------ train losses ------------\n",
      "rmse: 0.825065\n",
      "------------ train metrics ------------\n",
      "precision: 0.060771\n",
      "recall: 0.060771\n"
     ]
    },
    {
     "name": "stderr",
     "output_type": "stream",
     "text": [
      "\r",
      " 44%|████▍     | 89/200 [1:30:49<1:55:27, 62.41s/it]"
     ]
    },
    {
     "name": "stdout",
     "output_type": "stream",
     "text": [
      "------------ test losses ------------\n",
      "rmse: 0.960650\n",
      "------------ test metrics ------------\n",
      "precision: 0.056852\n",
      "recall: 0.056852\n",
      "Epoch 90, Time: 37.054370 (s)\n",
      "------------ train losses ------------\n",
      "rmse: 0.812908\n",
      "------------ train metrics ------------\n",
      "precision: 0.060892\n",
      "recall: 0.060892\n"
     ]
    },
    {
     "name": "stderr",
     "output_type": "stream",
     "text": [
      "\r",
      " 45%|████▌     | 90/200 [1:31:51<1:54:15, 62.32s/it]"
     ]
    },
    {
     "name": "stdout",
     "output_type": "stream",
     "text": [
      "------------ test losses ------------\n",
      "rmse: 0.956506\n",
      "------------ test metrics ------------\n",
      "precision: 0.056852\n",
      "recall: 0.056852\n",
      "Epoch 91, Time: 37.300461 (s)\n",
      "------------ train losses ------------\n",
      "rmse: 0.813049\n",
      "------------ train metrics ------------\n",
      "precision: 0.060837\n",
      "recall: 0.060837\n"
     ]
    },
    {
     "name": "stderr",
     "output_type": "stream",
     "text": [
      "\r",
      " 46%|████▌     | 91/200 [1:32:53<1:53:17, 62.36s/it]"
     ]
    },
    {
     "name": "stdout",
     "output_type": "stream",
     "text": [
      "------------ test losses ------------\n",
      "rmse: 0.958225\n",
      "------------ test metrics ------------\n",
      "precision: 0.056852\n",
      "recall: 0.056852\n",
      "Epoch 92, Time: 37.665055 (s)\n",
      "------------ train losses ------------\n",
      "rmse: 0.807173\n",
      "------------ train metrics ------------\n",
      "precision: 0.060848\n",
      "recall: 0.060848\n"
     ]
    },
    {
     "name": "stderr",
     "output_type": "stream",
     "text": [
      "\r",
      " 46%|████▌     | 92/200 [1:33:56<1:52:24, 62.45s/it]"
     ]
    },
    {
     "name": "stdout",
     "output_type": "stream",
     "text": [
      "------------ test losses ------------\n",
      "rmse: 0.957785\n",
      "------------ test metrics ------------\n",
      "precision: 0.056958\n",
      "recall: 0.056958\n",
      "Epoch 93, Time: 37.578704 (s)\n",
      "------------ train losses ------------\n",
      "rmse: 0.805416\n",
      "------------ train metrics ------------\n",
      "precision: 0.060837\n",
      "recall: 0.060837\n"
     ]
    },
    {
     "name": "stderr",
     "output_type": "stream",
     "text": [
      "\r",
      " 46%|████▋     | 93/200 [1:35:00<1:51:56, 62.77s/it]"
     ]
    },
    {
     "name": "stdout",
     "output_type": "stream",
     "text": [
      "------------ test losses ------------\n",
      "rmse: 0.958920\n",
      "------------ test metrics ------------\n",
      "precision: 0.056958\n",
      "recall: 0.056958\n",
      "Epoch 94, Time: 37.577931 (s)\n",
      "------------ train losses ------------\n",
      "rmse: 0.805446\n",
      "------------ train metrics ------------\n",
      "precision: 0.060804\n",
      "recall: 0.060804\n"
     ]
    },
    {
     "name": "stderr",
     "output_type": "stream",
     "text": [
      "\r",
      " 47%|████▋     | 94/200 [1:36:02<1:50:50, 62.74s/it]"
     ]
    },
    {
     "name": "stdout",
     "output_type": "stream",
     "text": [
      "------------ test losses ------------\n",
      "rmse: 0.959545\n",
      "------------ test metrics ------------\n",
      "precision: 0.056852\n",
      "recall: 0.056852\n",
      "Epoch 95, Time: 37.338225 (s)\n",
      "------------ train losses ------------\n",
      "rmse: 0.809825\n",
      "------------ train metrics ------------\n",
      "precision: 0.060804\n",
      "recall: 0.060804\n"
     ]
    },
    {
     "name": "stderr",
     "output_type": "stream",
     "text": [
      "\r",
      " 48%|████▊     | 95/200 [1:37:05<1:49:34, 62.62s/it]"
     ]
    },
    {
     "name": "stdout",
     "output_type": "stream",
     "text": [
      "------------ test losses ------------\n",
      "rmse: 0.962358\n",
      "------------ test metrics ------------\n",
      "precision: 0.056852\n",
      "recall: 0.056852\n",
      "Epoch 96, Time: 37.062039 (s)\n",
      "------------ train losses ------------\n",
      "rmse: 0.798601\n",
      "------------ train metrics ------------\n",
      "precision: 0.060903\n",
      "recall: 0.060903\n"
     ]
    },
    {
     "name": "stderr",
     "output_type": "stream",
     "text": [
      "\r",
      " 48%|████▊     | 96/200 [1:38:07<1:48:18, 62.48s/it]"
     ]
    },
    {
     "name": "stdout",
     "output_type": "stream",
     "text": [
      "------------ test losses ------------\n",
      "rmse: 0.960615\n",
      "------------ test metrics ------------\n",
      "precision: 0.056852\n",
      "recall: 0.056852\n",
      "Epoch 97, Time: 37.599200 (s)\n",
      "------------ train losses ------------\n",
      "rmse: 0.791911\n",
      "------------ train metrics ------------\n",
      "precision: 0.060903\n",
      "recall: 0.060903\n"
     ]
    },
    {
     "name": "stderr",
     "output_type": "stream",
     "text": [
      "\r",
      " 48%|████▊     | 97/200 [1:39:10<1:47:21, 62.54s/it]"
     ]
    },
    {
     "name": "stdout",
     "output_type": "stream",
     "text": [
      "------------ test losses ------------\n",
      "rmse: 0.959639\n",
      "------------ test metrics ------------\n",
      "precision: 0.056852\n",
      "recall: 0.056852\n",
      "Epoch 98, Time: 37.785836 (s)\n",
      "------------ train losses ------------\n",
      "rmse: 0.789869\n",
      "------------ train metrics ------------\n",
      "precision: 0.060914\n",
      "recall: 0.060914\n"
     ]
    },
    {
     "name": "stderr",
     "output_type": "stream",
     "text": [
      "\r",
      " 49%|████▉     | 98/200 [1:40:13<1:46:36, 62.71s/it]"
     ]
    },
    {
     "name": "stdout",
     "output_type": "stream",
     "text": [
      "------------ test losses ------------\n",
      "rmse: 0.960692\n",
      "------------ test metrics ------------\n",
      "precision: 0.056958\n",
      "recall: 0.056958\n",
      "Epoch 99, Time: 37.979713 (s)\n",
      "------------ train losses ------------\n",
      "rmse: 0.789319\n",
      "------------ train metrics ------------\n",
      "precision: 0.060837\n",
      "recall: 0.060837\n"
     ]
    },
    {
     "name": "stderr",
     "output_type": "stream",
     "text": [
      "\r",
      " 50%|████▉     | 99/200 [1:41:16<1:45:45, 62.83s/it]"
     ]
    },
    {
     "name": "stdout",
     "output_type": "stream",
     "text": [
      "------------ test losses ------------\n",
      "rmse: 0.962962\n",
      "------------ test metrics ------------\n",
      "precision: 0.056958\n",
      "recall: 0.056958\n",
      "Epoch 100, Time: 37.742614 (s)\n",
      "------------ train losses ------------\n",
      "rmse: 0.784374\n",
      "------------ train metrics ------------\n",
      "precision: 0.060881\n",
      "recall: 0.060881\n"
     ]
    },
    {
     "name": "stderr",
     "output_type": "stream",
     "text": [
      "\r",
      " 50%|█████     | 100/200 [1:42:18<1:44:39, 62.80s/it]"
     ]
    },
    {
     "name": "stdout",
     "output_type": "stream",
     "text": [
      "------------ test losses ------------\n",
      "rmse: 0.962701\n",
      "------------ test metrics ------------\n",
      "precision: 0.056852\n",
      "recall: 0.056852\n",
      "Epoch 101, Time: 37.544485 (s)\n",
      "------------ train losses ------------\n",
      "rmse: 0.783919\n",
      "------------ train metrics ------------\n",
      "precision: 0.060826\n",
      "recall: 0.060826\n"
     ]
    },
    {
     "name": "stderr",
     "output_type": "stream",
     "text": [
      "\r",
      " 50%|█████     | 101/200 [1:43:21<1:43:29, 62.72s/it]"
     ]
    },
    {
     "name": "stdout",
     "output_type": "stream",
     "text": [
      "------------ test losses ------------\n",
      "rmse: 0.963623\n",
      "------------ test metrics ------------\n",
      "precision: 0.056852\n",
      "recall: 0.056852\n",
      "Epoch 102, Time: 37.548958 (s)\n",
      "------------ train losses ------------\n",
      "rmse: 0.779658\n",
      "------------ train metrics ------------\n",
      "precision: 0.060837\n",
      "recall: 0.060837\n"
     ]
    },
    {
     "name": "stderr",
     "output_type": "stream",
     "text": [
      "\r",
      " 51%|█████     | 102/200 [1:44:24<1:42:26, 62.72s/it]"
     ]
    },
    {
     "name": "stdout",
     "output_type": "stream",
     "text": [
      "------------ test losses ------------\n",
      "rmse: 0.964741\n",
      "------------ test metrics ------------\n",
      "precision: 0.056852\n",
      "recall: 0.056852\n",
      "Epoch 103, Time: 38.045965 (s)\n",
      "------------ train losses ------------\n",
      "rmse: 0.774302\n",
      "------------ train metrics ------------\n",
      "precision: 0.060903\n",
      "recall: 0.060903\n"
     ]
    },
    {
     "name": "stderr",
     "output_type": "stream",
     "text": [
      "\r",
      " 52%|█████▏    | 103/200 [1:45:27<1:41:33, 62.82s/it]"
     ]
    },
    {
     "name": "stdout",
     "output_type": "stream",
     "text": [
      "------------ test losses ------------\n",
      "rmse: 0.964301\n",
      "------------ test metrics ------------\n",
      "precision: 0.056852\n",
      "recall: 0.056852\n",
      "Epoch 104, Time: 37.587809 (s)\n",
      "------------ train losses ------------\n",
      "rmse: 0.772300\n",
      "------------ train metrics ------------\n",
      "precision: 0.060925\n",
      "recall: 0.060925\n"
     ]
    },
    {
     "name": "stderr",
     "output_type": "stream",
     "text": [
      "\r",
      " 52%|█████▏    | 104/200 [1:46:29<1:40:24, 62.75s/it]"
     ]
    },
    {
     "name": "stdout",
     "output_type": "stream",
     "text": [
      "------------ test losses ------------\n",
      "rmse: 0.966334\n",
      "------------ test metrics ------------\n",
      "precision: 0.056852\n",
      "recall: 0.056852\n",
      "Epoch 105, Time: 38.124115 (s)\n",
      "------------ train losses ------------\n",
      "rmse: 0.769183\n",
      "------------ train metrics ------------\n",
      "precision: 0.060804\n",
      "recall: 0.060804\n"
     ]
    },
    {
     "name": "stderr",
     "output_type": "stream",
     "text": [
      "\r",
      " 52%|█████▎    | 105/200 [1:47:33<1:39:34, 62.89s/it]"
     ]
    },
    {
     "name": "stdout",
     "output_type": "stream",
     "text": [
      "------------ test losses ------------\n",
      "rmse: 0.966533\n",
      "------------ test metrics ------------\n",
      "precision: 0.056852\n",
      "recall: 0.056852\n",
      "Epoch 106, Time: 37.573829 (s)\n",
      "------------ train losses ------------\n",
      "rmse: 0.772413\n",
      "------------ train metrics ------------\n",
      "precision: 0.060760\n",
      "recall: 0.060760\n"
     ]
    },
    {
     "name": "stderr",
     "output_type": "stream",
     "text": [
      "\r",
      " 53%|█████▎    | 106/200 [1:48:35<1:38:21, 62.78s/it]"
     ]
    },
    {
     "name": "stdout",
     "output_type": "stream",
     "text": [
      "------------ test losses ------------\n",
      "rmse: 0.969346\n",
      "------------ test metrics ------------\n",
      "precision: 0.056852\n",
      "recall: 0.056852\n",
      "Epoch 107, Time: 37.556111 (s)\n",
      "------------ train losses ------------\n",
      "rmse: 0.772395\n",
      "------------ train metrics ------------\n",
      "precision: 0.060859\n",
      "recall: 0.060859\n"
     ]
    },
    {
     "name": "stderr",
     "output_type": "stream",
     "text": [
      "\r",
      " 54%|█████▎    | 107/200 [1:49:38<1:37:13, 62.72s/it]"
     ]
    },
    {
     "name": "stdout",
     "output_type": "stream",
     "text": [
      "------------ test losses ------------\n",
      "rmse: 0.972391\n",
      "------------ test metrics ------------\n",
      "precision: 0.056852\n",
      "recall: 0.056852\n",
      "Epoch 108, Time: 37.650989 (s)\n",
      "------------ train losses ------------\n",
      "rmse: 0.764242\n",
      "------------ train metrics ------------\n",
      "precision: 0.060804\n",
      "recall: 0.060804\n"
     ]
    },
    {
     "name": "stderr",
     "output_type": "stream",
     "text": [
      "\r",
      " 54%|█████▍    | 108/200 [1:50:40<1:36:05, 62.67s/it]"
     ]
    },
    {
     "name": "stdout",
     "output_type": "stream",
     "text": [
      "------------ test losses ------------\n",
      "rmse: 0.971672\n",
      "------------ test metrics ------------\n",
      "precision: 0.056852\n",
      "recall: 0.056852\n",
      "Epoch 109, Time: 38.082000 (s)\n",
      "------------ train losses ------------\n",
      "rmse: 0.761716\n",
      "------------ train metrics ------------\n",
      "precision: 0.060815\n",
      "recall: 0.060815\n"
     ]
    },
    {
     "name": "stderr",
     "output_type": "stream",
     "text": [
      "\r",
      " 55%|█████▍    | 109/200 [1:51:43<1:35:13, 62.78s/it]"
     ]
    },
    {
     "name": "stdout",
     "output_type": "stream",
     "text": [
      "------------ test losses ------------\n",
      "rmse: 0.971872\n",
      "------------ test metrics ------------\n",
      "precision: 0.056852\n",
      "recall: 0.056852\n",
      "Epoch 110, Time: 37.866241 (s)\n",
      "------------ train losses ------------\n",
      "rmse: 0.762211\n",
      "------------ train metrics ------------\n",
      "precision: 0.060815\n",
      "recall: 0.060815\n"
     ]
    },
    {
     "name": "stderr",
     "output_type": "stream",
     "text": [
      "\r",
      " 55%|█████▌    | 110/200 [1:52:46<1:34:14, 62.82s/it]"
     ]
    },
    {
     "name": "stdout",
     "output_type": "stream",
     "text": [
      "------------ test losses ------------\n",
      "rmse: 0.974898\n",
      "------------ test metrics ------------\n",
      "precision: 0.056746\n",
      "recall: 0.056746\n",
      "Epoch 111, Time: 37.902233 (s)\n",
      "------------ train losses ------------\n",
      "rmse: 0.756080\n",
      "------------ train metrics ------------\n",
      "precision: 0.060870\n",
      "recall: 0.060870\n"
     ]
    },
    {
     "name": "stderr",
     "output_type": "stream",
     "text": [
      "\r",
      " 56%|█████▌    | 111/200 [1:53:49<1:33:14, 62.86s/it]"
     ]
    },
    {
     "name": "stdout",
     "output_type": "stream",
     "text": [
      "------------ test losses ------------\n",
      "rmse: 0.975234\n",
      "------------ test metrics ------------\n",
      "precision: 0.056746\n",
      "recall: 0.056746\n",
      "Epoch 112, Time: 38.230857 (s)\n",
      "------------ train losses ------------\n",
      "rmse: 0.751623\n",
      "------------ train metrics ------------\n",
      "precision: 0.060903\n",
      "recall: 0.060903\n"
     ]
    },
    {
     "name": "stderr",
     "output_type": "stream",
     "text": [
      "\r",
      " 56%|█████▌    | 112/200 [1:54:53<1:32:46, 63.25s/it]"
     ]
    },
    {
     "name": "stdout",
     "output_type": "stream",
     "text": [
      "------------ test losses ------------\n",
      "rmse: 0.974352\n",
      "------------ test metrics ------------\n",
      "precision: 0.056746\n",
      "recall: 0.056746\n",
      "Epoch 113, Time: 37.986056 (s)\n",
      "------------ train losses ------------\n",
      "rmse: 0.753724\n",
      "------------ train metrics ------------\n",
      "precision: 0.060693\n",
      "recall: 0.060693\n"
     ]
    },
    {
     "name": "stderr",
     "output_type": "stream",
     "text": [
      "\r",
      " 56%|█████▋    | 113/200 [1:55:56<1:31:35, 63.17s/it]"
     ]
    },
    {
     "name": "stdout",
     "output_type": "stream",
     "text": [
      "------------ test losses ------------\n",
      "rmse: 0.977554\n",
      "------------ test metrics ------------\n",
      "precision: 0.056746\n",
      "recall: 0.056746\n",
      "Epoch 114, Time: 38.168427 (s)\n",
      "------------ train losses ------------\n",
      "rmse: 0.751003\n",
      "------------ train metrics ------------\n",
      "precision: 0.060826\n",
      "recall: 0.060826\n"
     ]
    },
    {
     "name": "stderr",
     "output_type": "stream",
     "text": [
      "\r",
      " 57%|█████▋    | 114/200 [1:57:00<1:30:38, 63.23s/it]"
     ]
    },
    {
     "name": "stdout",
     "output_type": "stream",
     "text": [
      "------------ test losses ------------\n",
      "rmse: 0.979161\n",
      "------------ test metrics ------------\n",
      "precision: 0.056746\n",
      "recall: 0.056746\n",
      "Epoch 115, Time: 37.999129 (s)\n",
      "------------ train losses ------------\n",
      "rmse: 0.745774\n",
      "------------ train metrics ------------\n",
      "precision: 0.060704\n",
      "recall: 0.060704\n"
     ]
    },
    {
     "name": "stderr",
     "output_type": "stream",
     "text": [
      "\r",
      " 57%|█████▊    | 115/200 [1:58:03<1:29:28, 63.16s/it]"
     ]
    },
    {
     "name": "stdout",
     "output_type": "stream",
     "text": [
      "------------ test losses ------------\n",
      "rmse: 0.980732\n",
      "------------ test metrics ------------\n",
      "precision: 0.056746\n",
      "recall: 0.056746\n",
      "Epoch 116, Time: 38.841922 (s)\n",
      "------------ train losses ------------\n",
      "rmse: 0.744670\n",
      "------------ train metrics ------------\n",
      "precision: 0.060782\n",
      "recall: 0.060782\n"
     ]
    },
    {
     "name": "stderr",
     "output_type": "stream",
     "text": [
      "\r",
      " 58%|█████▊    | 116/200 [1:59:10<1:29:59, 64.28s/it]"
     ]
    },
    {
     "name": "stdout",
     "output_type": "stream",
     "text": [
      "------------ test losses ------------\n",
      "rmse: 0.980917\n",
      "------------ test metrics ------------\n",
      "precision: 0.056746\n",
      "recall: 0.056746\n",
      "Epoch 117, Time: 38.809597 (s)\n",
      "------------ train losses ------------\n",
      "rmse: 0.745735\n",
      "------------ train metrics ------------\n",
      "precision: 0.060760\n",
      "recall: 0.060760\n"
     ]
    },
    {
     "name": "stderr",
     "output_type": "stream",
     "text": [
      "\r",
      " 58%|█████▊    | 117/200 [2:00:13<1:28:45, 64.16s/it]"
     ]
    },
    {
     "name": "stdout",
     "output_type": "stream",
     "text": [
      "------------ test losses ------------\n",
      "rmse: 0.982756\n",
      "------------ test metrics ------------\n",
      "precision: 0.056746\n",
      "recall: 0.056746\n",
      "Epoch 118, Time: 38.080883 (s)\n",
      "------------ train losses ------------\n",
      "rmse: 0.738551\n",
      "------------ train metrics ------------\n",
      "precision: 0.060660\n",
      "recall: 0.060660\n"
     ]
    },
    {
     "name": "stderr",
     "output_type": "stream",
     "text": [
      "\r",
      " 59%|█████▉    | 118/200 [2:01:17<1:27:19, 63.90s/it]"
     ]
    },
    {
     "name": "stdout",
     "output_type": "stream",
     "text": [
      "------------ test losses ------------\n",
      "rmse: 0.982780\n",
      "------------ test metrics ------------\n",
      "precision: 0.056640\n",
      "recall: 0.056640\n",
      "Epoch 119, Time: 38.391215 (s)\n",
      "------------ train losses ------------\n",
      "rmse: 0.737097\n",
      "------------ train metrics ------------\n",
      "precision: 0.060738\n",
      "recall: 0.060738\n"
     ]
    },
    {
     "name": "stderr",
     "output_type": "stream",
     "text": [
      "\r",
      " 60%|█████▉    | 119/200 [2:02:20<1:26:04, 63.76s/it]"
     ]
    },
    {
     "name": "stdout",
     "output_type": "stream",
     "text": [
      "------------ test losses ------------\n",
      "rmse: 0.984853\n",
      "------------ test metrics ------------\n",
      "precision: 0.056534\n",
      "recall: 0.056534\n",
      "Epoch 120, Time: 38.349674 (s)\n",
      "------------ train losses ------------\n",
      "rmse: 0.735575\n",
      "------------ train metrics ------------\n",
      "precision: 0.060793\n",
      "recall: 0.060793\n"
     ]
    },
    {
     "name": "stderr",
     "output_type": "stream",
     "text": [
      "\r",
      " 60%|██████    | 120/200 [2:03:24<1:24:51, 63.64s/it]"
     ]
    },
    {
     "name": "stdout",
     "output_type": "stream",
     "text": [
      "------------ test losses ------------\n",
      "rmse: 0.986792\n",
      "------------ test metrics ------------\n",
      "precision: 0.056534\n",
      "recall: 0.056534\n",
      "Epoch 121, Time: 38.421431 (s)\n",
      "------------ train losses ------------\n",
      "rmse: 0.731133\n",
      "------------ train metrics ------------\n",
      "precision: 0.060782\n",
      "recall: 0.060782\n"
     ]
    },
    {
     "name": "stderr",
     "output_type": "stream",
     "text": [
      "\r",
      " 60%|██████    | 121/200 [2:04:27<1:23:45, 63.62s/it]"
     ]
    },
    {
     "name": "stdout",
     "output_type": "stream",
     "text": [
      "------------ test losses ------------\n",
      "rmse: 0.986946\n",
      "------------ test metrics ------------\n",
      "precision: 0.056534\n",
      "recall: 0.056534\n",
      "Epoch 122, Time: 38.522860 (s)\n",
      "------------ train losses ------------\n",
      "rmse: 0.727419\n",
      "------------ train metrics ------------\n",
      "precision: 0.060815\n",
      "recall: 0.060815\n"
     ]
    },
    {
     "name": "stderr",
     "output_type": "stream",
     "text": [
      "\r",
      " 61%|██████    | 122/200 [2:05:31<1:22:53, 63.76s/it]"
     ]
    },
    {
     "name": "stdout",
     "output_type": "stream",
     "text": [
      "------------ test losses ------------\n",
      "rmse: 0.987851\n",
      "------------ test metrics ------------\n",
      "precision: 0.056534\n",
      "recall: 0.056534\n",
      "Epoch 123, Time: 38.887079 (s)\n",
      "------------ train losses ------------\n",
      "rmse: 0.725740\n",
      "------------ train metrics ------------\n",
      "precision: 0.060870\n",
      "recall: 0.060870\n"
     ]
    },
    {
     "name": "stderr",
     "output_type": "stream",
     "text": [
      "\r",
      " 62%|██████▏   | 123/200 [2:06:36<1:22:13, 64.07s/it]"
     ]
    },
    {
     "name": "stdout",
     "output_type": "stream",
     "text": [
      "------------ test losses ------------\n",
      "rmse: 0.989541\n",
      "------------ test metrics ------------\n",
      "precision: 0.056534\n",
      "recall: 0.056534\n",
      "Epoch 124, Time: 41.444801 (s)\n",
      "------------ train losses ------------\n",
      "rmse: 0.723069\n",
      "------------ train metrics ------------\n",
      "precision: 0.060881\n",
      "recall: 0.060881\n"
     ]
    },
    {
     "name": "stderr",
     "output_type": "stream",
     "text": [
      "\r",
      " 62%|██████▏   | 124/200 [2:07:49<1:24:34, 66.77s/it]"
     ]
    },
    {
     "name": "stdout",
     "output_type": "stream",
     "text": [
      "------------ test losses ------------\n",
      "rmse: 0.990692\n",
      "------------ test metrics ------------\n",
      "precision: 0.056534\n",
      "recall: 0.056534\n",
      "Epoch 125, Time: 40.555747 (s)\n",
      "------------ train losses ------------\n",
      "rmse: 0.721358\n",
      "------------ train metrics ------------\n",
      "precision: 0.060793\n",
      "recall: 0.060793\n"
     ]
    },
    {
     "name": "stderr",
     "output_type": "stream",
     "text": [
      "\r",
      " 62%|██████▎   | 125/200 [2:09:09<1:28:17, 70.63s/it]"
     ]
    },
    {
     "name": "stdout",
     "output_type": "stream",
     "text": [
      "------------ test losses ------------\n",
      "rmse: 0.991692\n",
      "------------ test metrics ------------\n",
      "precision: 0.056534\n",
      "recall: 0.056534\n",
      "Epoch 126, Time: 43.149841 (s)\n",
      "------------ train losses ------------\n",
      "rmse: 0.738191\n",
      "------------ train metrics ------------\n",
      "precision: 0.060616\n",
      "recall: 0.060616\n"
     ]
    },
    {
     "name": "stderr",
     "output_type": "stream",
     "text": [
      "\r",
      " 63%|██████▎   | 126/200 [2:10:27<1:29:58, 72.95s/it]"
     ]
    },
    {
     "name": "stdout",
     "output_type": "stream",
     "text": [
      "------------ test losses ------------\n",
      "rmse: 0.998470\n",
      "------------ test metrics ------------\n",
      "precision: 0.056534\n",
      "recall: 0.056534\n",
      "Epoch 127, Time: 64.841681 (s)\n",
      "------------ train losses ------------\n",
      "rmse: 0.717686\n",
      "------------ train metrics ------------\n",
      "precision: 0.060782\n",
      "recall: 0.060782\n"
     ]
    },
    {
     "name": "stderr",
     "output_type": "stream",
     "text": [
      "\r",
      " 64%|██████▎   | 127/200 [2:12:13<1:40:40, 82.74s/it]"
     ]
    },
    {
     "name": "stdout",
     "output_type": "stream",
     "text": [
      "------------ test losses ------------\n",
      "rmse: 0.994836\n",
      "------------ test metrics ------------\n",
      "precision: 0.056534\n",
      "recall: 0.056534\n",
      "Epoch 128, Time: 60.358675 (s)\n",
      "------------ train losses ------------\n",
      "rmse: 0.717133\n",
      "------------ train metrics ------------\n",
      "precision: 0.060704\n",
      "recall: 0.060704\n"
     ]
    },
    {
     "name": "stderr",
     "output_type": "stream",
     "text": [
      "\r",
      " 64%|██████▍   | 128/200 [2:13:50<1:44:32, 87.12s/it]"
     ]
    },
    {
     "name": "stdout",
     "output_type": "stream",
     "text": [
      "------------ test losses ------------\n",
      "rmse: 0.996497\n",
      "------------ test metrics ------------\n",
      "precision: 0.056534\n",
      "recall: 0.056534\n",
      "Epoch 129, Time: 38.590202 (s)\n",
      "------------ train losses ------------\n",
      "rmse: 0.713319\n",
      "------------ train metrics ------------\n",
      "precision: 0.060859\n",
      "recall: 0.060859\n"
     ]
    },
    {
     "name": "stderr",
     "output_type": "stream",
     "text": [
      "\r",
      " 64%|██████▍   | 129/200 [2:15:02<1:37:52, 82.71s/it]"
     ]
    },
    {
     "name": "stdout",
     "output_type": "stream",
     "text": [
      "------------ test losses ------------\n",
      "rmse: 0.997538\n",
      "------------ test metrics ------------\n",
      "precision: 0.056534\n",
      "recall: 0.056534\n",
      "Epoch 130, Time: 38.996619 (s)\n",
      "------------ train losses ------------\n",
      "rmse: 0.712967\n",
      "------------ train metrics ------------\n",
      "precision: 0.060771\n",
      "recall: 0.060771\n"
     ]
    },
    {
     "name": "stderr",
     "output_type": "stream",
     "text": [
      "\r",
      " 65%|██████▌   | 130/200 [2:16:06<1:29:53, 77.05s/it]"
     ]
    },
    {
     "name": "stdout",
     "output_type": "stream",
     "text": [
      "------------ test losses ------------\n",
      "rmse: 0.999074\n",
      "------------ test metrics ------------\n",
      "precision: 0.056534\n",
      "recall: 0.056534\n",
      "Epoch 131, Time: 38.958620 (s)\n",
      "------------ train losses ------------\n",
      "rmse: 0.713491\n",
      "------------ train metrics ------------\n",
      "precision: 0.060793\n",
      "recall: 0.060793\n"
     ]
    },
    {
     "name": "stderr",
     "output_type": "stream",
     "text": [
      "\r",
      " 66%|██████▌   | 131/200 [2:17:10<1:24:01, 73.07s/it]"
     ]
    },
    {
     "name": "stdout",
     "output_type": "stream",
     "text": [
      "------------ test losses ------------\n",
      "rmse: 1.001842\n",
      "------------ test metrics ------------\n",
      "precision: 0.056428\n",
      "recall: 0.056428\n",
      "Epoch 132, Time: 37.913730 (s)\n",
      "------------ train losses ------------\n",
      "rmse: 0.709103\n",
      "------------ train metrics ------------\n",
      "precision: 0.060881\n",
      "recall: 0.060881\n"
     ]
    },
    {
     "name": "stderr",
     "output_type": "stream",
     "text": [
      "\r",
      " 66%|██████▌   | 132/200 [2:18:12<1:19:11, 69.87s/it]"
     ]
    },
    {
     "name": "stdout",
     "output_type": "stream",
     "text": [
      "------------ test losses ------------\n",
      "rmse: 1.001147\n",
      "------------ test metrics ------------\n",
      "precision: 0.056534\n",
      "recall: 0.056534\n",
      "Epoch 133, Time: 38.376909 (s)\n",
      "------------ train losses ------------\n",
      "rmse: 0.707350\n",
      "------------ train metrics ------------\n",
      "precision: 0.060693\n",
      "recall: 0.060693\n"
     ]
    },
    {
     "name": "stderr",
     "output_type": "stream",
     "text": [
      "\r",
      " 66%|██████▋   | 133/200 [2:19:15<1:15:44, 67.82s/it]"
     ]
    },
    {
     "name": "stdout",
     "output_type": "stream",
     "text": [
      "------------ test losses ------------\n",
      "rmse: 1.002873\n",
      "------------ test metrics ------------\n",
      "precision: 0.056428\n",
      "recall: 0.056428\n",
      "Epoch 134, Time: 38.006641 (s)\n",
      "------------ train losses ------------\n",
      "rmse: 0.705888\n",
      "------------ train metrics ------------\n",
      "precision: 0.060727\n",
      "recall: 0.060727\n"
     ]
    },
    {
     "name": "stderr",
     "output_type": "stream",
     "text": [
      "\r",
      " 67%|██████▋   | 134/200 [2:20:18<1:12:48, 66.19s/it]"
     ]
    },
    {
     "name": "stdout",
     "output_type": "stream",
     "text": [
      "------------ test losses ------------\n",
      "rmse: 1.004088\n",
      "------------ test metrics ------------\n",
      "precision: 0.056428\n",
      "recall: 0.056428\n",
      "Epoch 135, Time: 38.157190 (s)\n",
      "------------ train losses ------------\n",
      "rmse: 0.703783\n",
      "------------ train metrics ------------\n",
      "precision: 0.060738\n",
      "recall: 0.060738\n"
     ]
    },
    {
     "name": "stderr",
     "output_type": "stream",
     "text": [
      "\r",
      " 68%|██████▊   | 135/200 [2:21:21<1:10:42, 65.27s/it]"
     ]
    },
    {
     "name": "stdout",
     "output_type": "stream",
     "text": [
      "------------ test losses ------------\n",
      "rmse: 1.005827\n",
      "------------ test metrics ------------\n",
      "precision: 0.056534\n",
      "recall: 0.056534\n",
      "Epoch 136, Time: 39.231057 (s)\n",
      "------------ train losses ------------\n",
      "rmse: 0.702696\n",
      "------------ train metrics ------------\n",
      "precision: 0.060848\n",
      "recall: 0.060848\n"
     ]
    },
    {
     "name": "stderr",
     "output_type": "stream",
     "text": [
      "\r",
      " 68%|██████▊   | 136/200 [2:22:25<1:09:22, 65.04s/it]"
     ]
    },
    {
     "name": "stdout",
     "output_type": "stream",
     "text": [
      "------------ test losses ------------\n",
      "rmse: 1.006920\n",
      "------------ test metrics ------------\n",
      "precision: 0.056534\n",
      "recall: 0.056534\n",
      "Epoch 137, Time: 39.176316 (s)\n",
      "------------ train losses ------------\n",
      "rmse: 0.700456\n",
      "------------ train metrics ------------\n",
      "precision: 0.060693\n",
      "recall: 0.060693\n"
     ]
    },
    {
     "name": "stderr",
     "output_type": "stream",
     "text": [
      "\r",
      " 68%|██████▊   | 137/200 [2:23:32<1:08:40, 65.41s/it]"
     ]
    },
    {
     "name": "stdout",
     "output_type": "stream",
     "text": [
      "------------ test losses ------------\n",
      "rmse: 1.008214\n",
      "------------ test metrics ------------\n",
      "precision: 0.056534\n",
      "recall: 0.056534\n",
      "Epoch 138, Time: 39.319925 (s)\n",
      "------------ train losses ------------\n",
      "rmse: 0.700398\n",
      "------------ train metrics ------------\n",
      "precision: 0.060738\n",
      "recall: 0.060738\n"
     ]
    },
    {
     "name": "stderr",
     "output_type": "stream",
     "text": [
      "\r",
      " 69%|██████▉   | 138/200 [2:24:35<1:07:00, 64.85s/it]"
     ]
    },
    {
     "name": "stdout",
     "output_type": "stream",
     "text": [
      "------------ test losses ------------\n",
      "rmse: 1.010628\n",
      "------------ test metrics ------------\n",
      "precision: 0.056534\n",
      "recall: 0.056534\n",
      "Epoch 139, Time: 38.638692 (s)\n",
      "------------ train losses ------------\n",
      "rmse: 0.702029\n",
      "------------ train metrics ------------\n",
      "precision: 0.060638\n",
      "recall: 0.060638\n"
     ]
    },
    {
     "name": "stderr",
     "output_type": "stream",
     "text": [
      "\r",
      " 70%|██████▉   | 139/200 [2:25:38<1:05:23, 64.31s/it]"
     ]
    },
    {
     "name": "stdout",
     "output_type": "stream",
     "text": [
      "------------ test losses ------------\n",
      "rmse: 1.012631\n",
      "------------ test metrics ------------\n",
      "precision: 0.056534\n",
      "recall: 0.056534\n",
      "Epoch 140, Time: 38.132884 (s)\n",
      "------------ train losses ------------\n",
      "rmse: 0.696163\n",
      "------------ train metrics ------------\n",
      "precision: 0.060660\n",
      "recall: 0.060660\n"
     ]
    },
    {
     "name": "stderr",
     "output_type": "stream",
     "text": [
      "\r",
      " 70%|███████   | 140/200 [2:26:41<1:03:48, 63.80s/it]"
     ]
    },
    {
     "name": "stdout",
     "output_type": "stream",
     "text": [
      "------------ test losses ------------\n",
      "rmse: 1.011964\n",
      "------------ test metrics ------------\n",
      "precision: 0.056428\n",
      "recall: 0.056428\n",
      "Epoch 141, Time: 37.999062 (s)\n",
      "------------ train losses ------------\n",
      "rmse: 0.695318\n",
      "------------ train metrics ------------\n",
      "precision: 0.060693\n",
      "recall: 0.060693\n"
     ]
    },
    {
     "name": "stderr",
     "output_type": "stream",
     "text": [
      "\r",
      " 70%|███████   | 141/200 [2:27:43<1:02:16, 63.33s/it]"
     ]
    },
    {
     "name": "stdout",
     "output_type": "stream",
     "text": [
      "------------ test losses ------------\n",
      "rmse: 1.013599\n",
      "------------ test metrics ------------\n",
      "precision: 0.056428\n",
      "recall: 0.056428\n",
      "Epoch 142, Time: 38.239774 (s)\n",
      "------------ train losses ------------\n",
      "rmse: 0.694990\n",
      "------------ train metrics ------------\n",
      "precision: 0.060660\n",
      "recall: 0.060660\n"
     ]
    },
    {
     "name": "stderr",
     "output_type": "stream",
     "text": [
      "\r",
      " 71%|███████   | 142/200 [2:28:46<1:00:58, 63.09s/it]"
     ]
    },
    {
     "name": "stdout",
     "output_type": "stream",
     "text": [
      "------------ test losses ------------\n",
      "rmse: 1.016305\n",
      "------------ test metrics ------------\n",
      "precision: 0.056428\n",
      "recall: 0.056428\n",
      "Epoch 143, Time: 38.356949 (s)\n",
      "------------ train losses ------------\n",
      "rmse: 0.694280\n",
      "------------ train metrics ------------\n",
      "precision: 0.060749\n",
      "recall: 0.060749\n"
     ]
    },
    {
     "name": "stderr",
     "output_type": "stream",
     "text": [
      "\r",
      " 72%|███████▏  | 143/200 [2:29:49<1:00:01, 63.19s/it]"
     ]
    },
    {
     "name": "stdout",
     "output_type": "stream",
     "text": [
      "------------ test losses ------------\n",
      "rmse: 1.017089\n",
      "------------ test metrics ------------\n",
      "precision: 0.056428\n",
      "recall: 0.056428\n",
      "Epoch 144, Time: 37.815719 (s)\n",
      "------------ train losses ------------\n",
      "rmse: 0.692750\n",
      "------------ train metrics ------------\n",
      "precision: 0.060649\n",
      "recall: 0.060649\n"
     ]
    },
    {
     "name": "stderr",
     "output_type": "stream",
     "text": [
      "\r",
      " 72%|███████▏  | 144/200 [2:30:51<58:41, 62.88s/it]  "
     ]
    },
    {
     "name": "stdout",
     "output_type": "stream",
     "text": [
      "------------ test losses ------------\n",
      "rmse: 1.017846\n",
      "------------ test metrics ------------\n",
      "precision: 0.056428\n",
      "recall: 0.056428\n",
      "Epoch 145, Time: 38.148979 (s)\n",
      "------------ train losses ------------\n",
      "rmse: 0.689032\n",
      "------------ train metrics ------------\n",
      "precision: 0.060627\n",
      "recall: 0.060627\n"
     ]
    },
    {
     "name": "stderr",
     "output_type": "stream",
     "text": [
      "\r",
      " 72%|███████▎  | 145/200 [2:31:54<57:31, 62.75s/it]"
     ]
    },
    {
     "name": "stdout",
     "output_type": "stream",
     "text": [
      "------------ test losses ------------\n",
      "rmse: 1.018698\n",
      "------------ test metrics ------------\n",
      "precision: 0.056428\n",
      "recall: 0.056428\n",
      "Epoch 146, Time: 37.920361 (s)\n",
      "------------ train losses ------------\n",
      "rmse: 0.688236\n",
      "------------ train metrics ------------\n",
      "precision: 0.060638\n",
      "recall: 0.060638\n"
     ]
    },
    {
     "name": "stderr",
     "output_type": "stream",
     "text": [
      "\r",
      " 73%|███████▎  | 146/200 [2:32:56<56:20, 62.61s/it]"
     ]
    },
    {
     "name": "stdout",
     "output_type": "stream",
     "text": [
      "------------ test losses ------------\n",
      "rmse: 1.020339\n",
      "------------ test metrics ------------\n",
      "precision: 0.056428\n",
      "recall: 0.056428\n",
      "Epoch 147, Time: 38.003033 (s)\n",
      "------------ train losses ------------\n",
      "rmse: 0.686711\n",
      "------------ train metrics ------------\n",
      "precision: 0.060738\n",
      "recall: 0.060738\n"
     ]
    },
    {
     "name": "stderr",
     "output_type": "stream",
     "text": [
      "\r",
      " 74%|███████▎  | 147/200 [2:33:58<55:11, 62.48s/it]"
     ]
    },
    {
     "name": "stdout",
     "output_type": "stream",
     "text": [
      "------------ test losses ------------\n",
      "rmse: 1.021544\n",
      "------------ test metrics ------------\n",
      "precision: 0.056428\n",
      "recall: 0.056428\n",
      "Epoch 148, Time: 38.305724 (s)\n",
      "------------ train losses ------------\n",
      "rmse: 0.687902\n",
      "------------ train metrics ------------\n",
      "precision: 0.060605\n",
      "recall: 0.060605\n"
     ]
    },
    {
     "name": "stderr",
     "output_type": "stream",
     "text": [
      "\r",
      " 74%|███████▍  | 148/200 [2:35:02<54:23, 62.76s/it]"
     ]
    },
    {
     "name": "stdout",
     "output_type": "stream",
     "text": [
      "------------ test losses ------------\n",
      "rmse: 1.024509\n",
      "------------ test metrics ------------\n",
      "precision: 0.056322\n",
      "recall: 0.056322\n",
      "Epoch 149, Time: 38.105412 (s)\n",
      "------------ train losses ------------\n",
      "rmse: 0.685988\n",
      "------------ train metrics ------------\n",
      "precision: 0.060693\n",
      "recall: 0.060693\n"
     ]
    },
    {
     "name": "stderr",
     "output_type": "stream",
     "text": [
      "\r",
      " 74%|███████▍  | 149/200 [2:36:04<53:13, 62.62s/it]"
     ]
    },
    {
     "name": "stdout",
     "output_type": "stream",
     "text": [
      "------------ test losses ------------\n",
      "rmse: 1.024849\n",
      "------------ test metrics ------------\n",
      "precision: 0.056322\n",
      "recall: 0.056322\n",
      "Epoch 150, Time: 44.047420 (s)\n",
      "------------ train losses ------------\n",
      "rmse: 0.682926\n",
      "------------ train metrics ------------\n",
      "precision: 0.060693\n",
      "recall: 0.060693\n"
     ]
    },
    {
     "name": "stderr",
     "output_type": "stream",
     "text": [
      "\r",
      " 75%|███████▌  | 150/200 [2:37:19<55:21, 66.44s/it]"
     ]
    },
    {
     "name": "stdout",
     "output_type": "stream",
     "text": [
      "------------ test losses ------------\n",
      "rmse: 1.025700\n",
      "------------ test metrics ------------\n",
      "precision: 0.056322\n",
      "recall: 0.056322\n",
      "Epoch 151, Time: 40.066874 (s)\n",
      "------------ train losses ------------\n",
      "rmse: 0.680648\n",
      "------------ train metrics ------------\n",
      "precision: 0.060782\n",
      "recall: 0.060782\n"
     ]
    },
    {
     "name": "stderr",
     "output_type": "stream",
     "text": [
      "\r",
      " 76%|███████▌  | 151/200 [2:38:24<53:54, 66.01s/it]"
     ]
    },
    {
     "name": "stdout",
     "output_type": "stream",
     "text": [
      "------------ test losses ------------\n",
      "rmse: 1.026568\n",
      "------------ test metrics ------------\n",
      "precision: 0.056322\n",
      "recall: 0.056322\n",
      "Epoch 152, Time: 39.650167 (s)\n",
      "------------ train losses ------------\n",
      "rmse: 0.679830\n",
      "------------ train metrics ------------\n",
      "precision: 0.060682\n",
      "recall: 0.060682\n"
     ]
    },
    {
     "name": "stderr",
     "output_type": "stream",
     "text": [
      "\r",
      " 76%|███████▌  | 152/200 [2:39:29<52:35, 65.74s/it]"
     ]
    },
    {
     "name": "stdout",
     "output_type": "stream",
     "text": [
      "------------ test losses ------------\n",
      "rmse: 1.028438\n",
      "------------ test metrics ------------\n",
      "precision: 0.056322\n",
      "recall: 0.056322\n",
      "Epoch 153, Time: 40.964230 (s)\n",
      "------------ train losses ------------\n",
      "rmse: 0.680129\n",
      "------------ train metrics ------------\n",
      "precision: 0.060605\n",
      "recall: 0.060605\n"
     ]
    },
    {
     "name": "stderr",
     "output_type": "stream",
     "text": [
      "\r",
      " 76%|███████▋  | 153/200 [2:40:37<51:58, 66.34s/it]"
     ]
    },
    {
     "name": "stdout",
     "output_type": "stream",
     "text": [
      "------------ test losses ------------\n",
      "rmse: 1.029759\n",
      "------------ test metrics ------------\n",
      "precision: 0.056322\n",
      "recall: 0.056322\n",
      "Epoch 154, Time: 46.125019 (s)\n",
      "------------ train losses ------------\n",
      "rmse: 0.677845\n",
      "------------ train metrics ------------\n",
      "precision: 0.060682\n",
      "recall: 0.060682\n"
     ]
    },
    {
     "name": "stderr",
     "output_type": "stream",
     "text": [
      "\r",
      " 77%|███████▋  | 154/200 [2:41:50<52:17, 68.21s/it]"
     ]
    },
    {
     "name": "stdout",
     "output_type": "stream",
     "text": [
      "------------ test losses ------------\n",
      "rmse: 1.031029\n",
      "------------ test metrics ------------\n",
      "precision: 0.056322\n",
      "recall: 0.056322\n",
      "Epoch 155, Time: 42.865259 (s)\n",
      "------------ train losses ------------\n",
      "rmse: 0.675905\n",
      "------------ train metrics ------------\n",
      "precision: 0.060704\n",
      "recall: 0.060704\n"
     ]
    },
    {
     "name": "stderr",
     "output_type": "stream",
     "text": [
      "\r",
      " 78%|███████▊  | 155/200 [2:43:00<51:40, 68.90s/it]"
     ]
    },
    {
     "name": "stdout",
     "output_type": "stream",
     "text": [
      "------------ test losses ------------\n",
      "rmse: 1.031826\n",
      "------------ test metrics ------------\n",
      "precision: 0.056322\n",
      "recall: 0.056322\n",
      "Epoch 156, Time: 43.621894 (s)\n",
      "------------ train losses ------------\n",
      "rmse: 0.679069\n",
      "------------ train metrics ------------\n",
      "precision: 0.060638\n",
      "recall: 0.060638\n"
     ]
    },
    {
     "name": "stderr",
     "output_type": "stream",
     "text": [
      "\r",
      " 78%|███████▊  | 156/200 [2:44:20<52:55, 72.17s/it]"
     ]
    },
    {
     "name": "stdout",
     "output_type": "stream",
     "text": [
      "------------ test losses ------------\n",
      "rmse: 1.033957\n",
      "------------ test metrics ------------\n",
      "precision: 0.056322\n",
      "recall: 0.056322\n",
      "Epoch 157, Time: 52.494658 (s)\n",
      "------------ train losses ------------\n",
      "rmse: 0.678462\n",
      "------------ train metrics ------------\n",
      "precision: 0.060550\n",
      "recall: 0.060550\n"
     ]
    },
    {
     "name": "stderr",
     "output_type": "stream",
     "text": [
      "\r",
      " 78%|███████▊  | 157/200 [2:45:43<54:09, 75.58s/it]"
     ]
    },
    {
     "name": "stdout",
     "output_type": "stream",
     "text": [
      "------------ test losses ------------\n",
      "rmse: 1.035352\n",
      "------------ test metrics ------------\n",
      "precision: 0.056322\n",
      "recall: 0.056322\n",
      "Epoch 158, Time: 45.516458 (s)\n",
      "------------ train losses ------------\n",
      "rmse: 0.673562\n",
      "------------ train metrics ------------\n",
      "precision: 0.060660\n",
      "recall: 0.060660\n"
     ]
    },
    {
     "name": "stderr",
     "output_type": "stream",
     "text": [
      "\r",
      " 79%|███████▉  | 158/200 [2:46:59<52:56, 75.63s/it]"
     ]
    },
    {
     "name": "stdout",
     "output_type": "stream",
     "text": [
      "------------ test losses ------------\n",
      "rmse: 1.035918\n",
      "------------ test metrics ------------\n",
      "precision: 0.056322\n",
      "recall: 0.056322\n",
      "Epoch 159, Time: 45.560507 (s)\n",
      "------------ train losses ------------\n",
      "rmse: 0.673128\n",
      "------------ train metrics ------------\n",
      "precision: 0.060627\n",
      "recall: 0.060627\n"
     ]
    },
    {
     "name": "stderr",
     "output_type": "stream",
     "text": [
      "\r",
      " 80%|███████▉  | 159/200 [2:48:12<51:06, 74.79s/it]"
     ]
    },
    {
     "name": "stdout",
     "output_type": "stream",
     "text": [
      "------------ test losses ------------\n",
      "rmse: 1.037868\n",
      "------------ test metrics ------------\n",
      "precision: 0.056322\n",
      "recall: 0.056322\n",
      "Epoch 160, Time: 43.291858 (s)\n",
      "------------ train losses ------------\n",
      "rmse: 0.670971\n",
      "------------ train metrics ------------\n",
      "precision: 0.060671\n",
      "recall: 0.060671\n"
     ]
    },
    {
     "name": "stderr",
     "output_type": "stream",
     "text": [
      "\r",
      " 80%|████████  | 160/200 [2:49:33<51:00, 76.50s/it]"
     ]
    },
    {
     "name": "stdout",
     "output_type": "stream",
     "text": [
      "------------ test losses ------------\n",
      "rmse: 1.038498\n",
      "------------ test metrics ------------\n",
      "precision: 0.056322\n",
      "recall: 0.056322\n",
      "Epoch 161, Time: 77.697004 (s)\n",
      "------------ train losses ------------\n",
      "rmse: 0.675915\n",
      "------------ train metrics ------------\n",
      "precision: 0.060517\n",
      "recall: 0.060517\n"
     ]
    },
    {
     "name": "stderr",
     "output_type": "stream",
     "text": [
      "\r",
      " 80%|████████  | 161/200 [2:51:35<58:43, 90.34s/it]"
     ]
    },
    {
     "name": "stdout",
     "output_type": "stream",
     "text": [
      "------------ test losses ------------\n",
      "rmse: 1.041833\n",
      "------------ test metrics ------------\n",
      "precision: 0.056322\n",
      "recall: 0.056322\n",
      "Epoch 162, Time: 45.808386 (s)\n",
      "------------ train losses ------------\n",
      "rmse: 0.672558\n",
      "------------ train metrics ------------\n",
      "precision: 0.060340\n",
      "recall: 0.060340\n"
     ]
    },
    {
     "name": "stderr",
     "output_type": "stream",
     "text": [
      "\r",
      " 81%|████████  | 162/200 [2:53:07<57:27, 90.73s/it]"
     ]
    },
    {
     "name": "stdout",
     "output_type": "stream",
     "text": [
      "------------ test losses ------------\n",
      "rmse: 1.041807\n",
      "------------ test metrics ------------\n",
      "precision: 0.056322\n",
      "recall: 0.056322\n",
      "Epoch 163, Time: 61.535643 (s)\n",
      "------------ train losses ------------\n",
      "rmse: 0.669036\n",
      "------------ train metrics ------------\n",
      "precision: 0.060506\n",
      "recall: 0.060506\n"
     ]
    },
    {
     "name": "stderr",
     "output_type": "stream",
     "text": [
      "\r",
      " 82%|████████▏ | 163/200 [2:54:46<57:25, 93.13s/it]"
     ]
    },
    {
     "name": "stdout",
     "output_type": "stream",
     "text": [
      "------------ test losses ------------\n",
      "rmse: 1.042036\n",
      "------------ test metrics ------------\n",
      "precision: 0.056216\n",
      "recall: 0.056216\n",
      "Epoch 164, Time: 53.897900 (s)\n",
      "------------ train losses ------------\n",
      "rmse: 0.666514\n",
      "------------ train metrics ------------\n",
      "precision: 0.060506\n",
      "recall: 0.060506\n"
     ]
    },
    {
     "name": "stderr",
     "output_type": "stream",
     "text": [
      "\r",
      " 82%|████████▏ | 164/200 [2:56:12<54:38, 91.06s/it]"
     ]
    },
    {
     "name": "stdout",
     "output_type": "stream",
     "text": [
      "------------ test losses ------------\n",
      "rmse: 1.042666\n",
      "------------ test metrics ------------\n",
      "precision: 0.056322\n",
      "recall: 0.056322\n",
      "Epoch 165, Time: 46.613519 (s)\n",
      "------------ train losses ------------\n",
      "rmse: 0.665712\n",
      "------------ train metrics ------------\n",
      "precision: 0.060450\n",
      "recall: 0.060450\n"
     ]
    },
    {
     "name": "stderr",
     "output_type": "stream",
     "text": [
      "\r",
      " 82%|████████▎ | 165/200 [2:57:28<50:26, 86.46s/it]"
     ]
    },
    {
     "name": "stdout",
     "output_type": "stream",
     "text": [
      "------------ test losses ------------\n",
      "rmse: 1.043988\n",
      "------------ test metrics ------------\n",
      "precision: 0.056216\n",
      "recall: 0.056216\n",
      "Epoch 166, Time: 46.669078 (s)\n",
      "------------ train losses ------------\n",
      "rmse: 0.664875\n",
      "------------ train metrics ------------\n",
      "precision: 0.060605\n",
      "recall: 0.060605\n"
     ]
    },
    {
     "name": "stderr",
     "output_type": "stream",
     "text": [
      "\r",
      " 83%|████████▎ | 166/200 [2:58:44<47:17, 83.45s/it]"
     ]
    },
    {
     "name": "stdout",
     "output_type": "stream",
     "text": [
      "------------ test losses ------------\n",
      "rmse: 1.045204\n",
      "------------ test metrics ------------\n",
      "precision: 0.056216\n",
      "recall: 0.056216\n",
      "Epoch 167, Time: 49.270817 (s)\n",
      "------------ train losses ------------\n",
      "rmse: 0.663629\n",
      "------------ train metrics ------------\n",
      "precision: 0.060583\n",
      "recall: 0.060583\n"
     ]
    },
    {
     "name": "stderr",
     "output_type": "stream",
     "text": [
      "\r",
      " 84%|████████▎ | 167/200 [3:00:03<45:14, 82.26s/it]"
     ]
    },
    {
     "name": "stdout",
     "output_type": "stream",
     "text": [
      "------------ test losses ------------\n",
      "rmse: 1.045865\n",
      "------------ test metrics ------------\n",
      "precision: 0.056216\n",
      "recall: 0.056216\n",
      "Epoch 168, Time: 48.925450 (s)\n",
      "------------ train losses ------------\n",
      "rmse: 0.663153\n",
      "------------ train metrics ------------\n",
      "precision: 0.060605\n",
      "recall: 0.060605\n"
     ]
    },
    {
     "name": "stderr",
     "output_type": "stream",
     "text": [
      "\r",
      " 84%|████████▍ | 168/200 [3:01:21<43:11, 80.99s/it]"
     ]
    },
    {
     "name": "stdout",
     "output_type": "stream",
     "text": [
      "------------ test losses ------------\n",
      "rmse: 1.047180\n",
      "------------ test metrics ------------\n",
      "precision: 0.056216\n",
      "recall: 0.056216\n",
      "Epoch 169, Time: 46.268856 (s)\n",
      "------------ train losses ------------\n",
      "rmse: 0.663312\n",
      "------------ train metrics ------------\n",
      "precision: 0.060561\n",
      "recall: 0.060561\n"
     ]
    },
    {
     "name": "stderr",
     "output_type": "stream",
     "text": [
      "\r",
      " 84%|████████▍ | 169/200 [3:02:41<41:33, 80.44s/it]"
     ]
    },
    {
     "name": "stdout",
     "output_type": "stream",
     "text": [
      "------------ test losses ------------\n",
      "rmse: 1.048687\n",
      "------------ test metrics ------------\n",
      "precision: 0.056216\n",
      "recall: 0.056216\n",
      "Epoch 170, Time: 50.315678 (s)\n",
      "------------ train losses ------------\n",
      "rmse: 0.662177\n",
      "------------ train metrics ------------\n",
      "precision: 0.060627\n",
      "recall: 0.060627\n"
     ]
    },
    {
     "name": "stderr",
     "output_type": "stream",
     "text": [
      "\r",
      " 85%|████████▌ | 170/200 [3:04:00<40:00, 80.01s/it]"
     ]
    },
    {
     "name": "stdout",
     "output_type": "stream",
     "text": [
      "------------ test losses ------------\n",
      "rmse: 1.049883\n",
      "------------ test metrics ------------\n",
      "precision: 0.056216\n",
      "recall: 0.056216\n",
      "Epoch 171, Time: 48.370864 (s)\n",
      "------------ train losses ------------\n",
      "rmse: 0.661249\n",
      "------------ train metrics ------------\n",
      "precision: 0.060528\n",
      "recall: 0.060528\n"
     ]
    },
    {
     "name": "stderr",
     "output_type": "stream",
     "text": [
      "\r",
      " 86%|████████▌ | 171/200 [3:05:16<38:05, 78.82s/it]"
     ]
    },
    {
     "name": "stdout",
     "output_type": "stream",
     "text": [
      "------------ test losses ------------\n",
      "rmse: 1.050880\n",
      "------------ test metrics ------------\n",
      "precision: 0.056216\n",
      "recall: 0.056216\n",
      "Epoch 172, Time: 47.048214 (s)\n",
      "------------ train losses ------------\n",
      "rmse: 0.661841\n",
      "------------ train metrics ------------\n",
      "precision: 0.060583\n",
      "recall: 0.060583\n"
     ]
    },
    {
     "name": "stderr",
     "output_type": "stream",
     "text": [
      "\r",
      " 86%|████████▌ | 172/200 [3:06:32<36:25, 78.06s/it]"
     ]
    },
    {
     "name": "stdout",
     "output_type": "stream",
     "text": [
      "------------ test losses ------------\n",
      "rmse: 1.052220\n",
      "------------ test metrics ------------\n",
      "precision: 0.056216\n",
      "recall: 0.056216\n",
      "Epoch 173, Time: 46.404744 (s)\n",
      "------------ train losses ------------\n",
      "rmse: 0.659594\n",
      "------------ train metrics ------------\n",
      "precision: 0.060583\n",
      "recall: 0.060583\n"
     ]
    },
    {
     "name": "stderr",
     "output_type": "stream",
     "text": [
      "\r",
      " 86%|████████▋ | 173/200 [3:07:47<34:45, 77.23s/it]"
     ]
    },
    {
     "name": "stdout",
     "output_type": "stream",
     "text": [
      "------------ test losses ------------\n",
      "rmse: 1.053340\n",
      "------------ test metrics ------------\n",
      "precision: 0.056216\n",
      "recall: 0.056216\n",
      "Epoch 174, Time: 49.062109 (s)\n",
      "------------ train losses ------------\n",
      "rmse: 0.658197\n",
      "------------ train metrics ------------\n",
      "precision: 0.060583\n",
      "recall: 0.060583\n"
     ]
    },
    {
     "name": "stderr",
     "output_type": "stream",
     "text": [
      "\r",
      " 87%|████████▋ | 174/200 [3:09:10<34:10, 78.85s/it]"
     ]
    },
    {
     "name": "stdout",
     "output_type": "stream",
     "text": [
      "------------ test losses ------------\n",
      "rmse: 1.054120\n",
      "------------ test metrics ------------\n",
      "precision: 0.056216\n",
      "recall: 0.056216\n",
      "Epoch 175, Time: 50.179388 (s)\n",
      "------------ train losses ------------\n",
      "rmse: 0.662747\n",
      "------------ train metrics ------------\n",
      "precision: 0.060561\n",
      "recall: 0.060561\n"
     ]
    },
    {
     "name": "stderr",
     "output_type": "stream",
     "text": [
      "\r",
      " 88%|████████▊ | 175/200 [3:10:30<33:01, 79.25s/it]"
     ]
    },
    {
     "name": "stdout",
     "output_type": "stream",
     "text": [
      "------------ test losses ------------\n",
      "rmse: 1.056475\n",
      "------------ test metrics ------------\n",
      "precision: 0.056216\n",
      "recall: 0.056216\n",
      "Epoch 176, Time: 45.826498 (s)\n",
      "------------ train losses ------------\n",
      "rmse: 0.658535\n",
      "------------ train metrics ------------\n",
      "precision: 0.060660\n",
      "recall: 0.060660\n"
     ]
    },
    {
     "name": "stderr",
     "output_type": "stream",
     "text": [
      "\r",
      " 88%|████████▊ | 176/200 [3:11:47<31:25, 78.57s/it]"
     ]
    },
    {
     "name": "stdout",
     "output_type": "stream",
     "text": [
      "------------ test losses ------------\n",
      "rmse: 1.056812\n",
      "------------ test metrics ------------\n",
      "precision: 0.056216\n",
      "recall: 0.056216\n",
      "Epoch 177, Time: 46.493970 (s)\n",
      "------------ train losses ------------\n",
      "rmse: 0.656132\n",
      "------------ train metrics ------------\n",
      "precision: 0.060550\n",
      "recall: 0.060550\n"
     ]
    },
    {
     "name": "stderr",
     "output_type": "stream",
     "text": [
      "\r",
      " 88%|████████▊ | 177/200 [3:13:04<29:54, 78.04s/it]"
     ]
    },
    {
     "name": "stdout",
     "output_type": "stream",
     "text": [
      "------------ test losses ------------\n",
      "rmse: 1.057461\n",
      "------------ test metrics ------------\n",
      "precision: 0.056109\n",
      "recall: 0.056109\n",
      "Epoch 178, Time: 47.694700 (s)\n",
      "------------ train losses ------------\n",
      "rmse: 0.681378\n",
      "------------ train metrics ------------\n",
      "precision: 0.060473\n",
      "recall: 0.060473\n"
     ]
    },
    {
     "name": "stderr",
     "output_type": "stream",
     "text": [
      "\r",
      " 89%|████████▉ | 178/200 [3:14:22<28:34, 77.93s/it]"
     ]
    },
    {
     "name": "stdout",
     "output_type": "stream",
     "text": [
      "------------ test losses ------------\n",
      "rmse: 1.067227\n",
      "------------ test metrics ------------\n",
      "precision: 0.056109\n",
      "recall: 0.056109\n",
      "Epoch 179, Time: 48.067418 (s)\n",
      "------------ train losses ------------\n",
      "rmse: 0.654945\n",
      "------------ train metrics ------------\n",
      "precision: 0.060594\n",
      "recall: 0.060594\n"
     ]
    },
    {
     "name": "stderr",
     "output_type": "stream",
     "text": [
      "\r",
      " 90%|████████▉ | 179/200 [3:15:39<27:15, 77.88s/it]"
     ]
    },
    {
     "name": "stdout",
     "output_type": "stream",
     "text": [
      "------------ test losses ------------\n",
      "rmse: 1.060040\n",
      "------------ test metrics ------------\n",
      "precision: 0.056109\n",
      "recall: 0.056109\n",
      "Epoch 180, Time: 48.156675 (s)\n",
      "------------ train losses ------------\n",
      "rmse: 0.653596\n",
      "------------ train metrics ------------\n",
      "precision: 0.060583\n",
      "recall: 0.060583\n"
     ]
    },
    {
     "name": "stderr",
     "output_type": "stream",
     "text": [
      "\r",
      " 90%|█████████ | 180/200 [3:16:57<25:56, 77.82s/it]"
     ]
    },
    {
     "name": "stdout",
     "output_type": "stream",
     "text": [
      "------------ test losses ------------\n",
      "rmse: 1.061283\n",
      "------------ test metrics ------------\n",
      "precision: 0.056109\n",
      "recall: 0.056109\n",
      "Epoch 181, Time: 48.333014 (s)\n",
      "------------ train losses ------------\n",
      "rmse: 0.653059\n",
      "------------ train metrics ------------\n",
      "precision: 0.060627\n",
      "recall: 0.060627\n"
     ]
    },
    {
     "name": "stderr",
     "output_type": "stream",
     "text": [
      "\r",
      " 90%|█████████ | 181/200 [3:18:12<24:22, 76.98s/it]"
     ]
    },
    {
     "name": "stdout",
     "output_type": "stream",
     "text": [
      "------------ test losses ------------\n",
      "rmse: 1.062312\n",
      "------------ test metrics ------------\n",
      "precision: 0.056003\n",
      "recall: 0.056003\n",
      "Epoch 182, Time: 51.037933 (s)\n",
      "------------ train losses ------------\n",
      "rmse: 0.653034\n",
      "------------ train metrics ------------\n",
      "precision: 0.060495\n",
      "recall: 0.060495\n"
     ]
    },
    {
     "name": "stderr",
     "output_type": "stream",
     "text": [
      "\r",
      " 91%|█████████ | 182/200 [3:19:34<23:32, 78.45s/it]"
     ]
    },
    {
     "name": "stdout",
     "output_type": "stream",
     "text": [
      "------------ test losses ------------\n",
      "rmse: 1.063442\n",
      "------------ test metrics ------------\n",
      "precision: 0.056109\n",
      "recall: 0.056109\n",
      "Epoch 183, Time: 48.317731 (s)\n",
      "------------ train losses ------------\n",
      "rmse: 0.651245\n",
      "------------ train metrics ------------\n",
      "precision: 0.060671\n",
      "recall: 0.060671\n"
     ]
    },
    {
     "name": "stderr",
     "output_type": "stream",
     "text": [
      "\r",
      " 92%|█████████▏| 183/200 [3:20:50<22:03, 77.84s/it]"
     ]
    },
    {
     "name": "stdout",
     "output_type": "stream",
     "text": [
      "------------ test losses ------------\n",
      "rmse: 1.064552\n",
      "------------ test metrics ------------\n",
      "precision: 0.056003\n",
      "recall: 0.056003\n",
      "Epoch 184, Time: 45.517905 (s)\n",
      "------------ train losses ------------\n",
      "rmse: 0.650992\n",
      "------------ train metrics ------------\n",
      "precision: 0.060704\n",
      "recall: 0.060704\n"
     ]
    },
    {
     "name": "stderr",
     "output_type": "stream",
     "text": [
      "\r",
      " 92%|█████████▏| 184/200 [3:22:06<20:33, 77.06s/it]"
     ]
    },
    {
     "name": "stdout",
     "output_type": "stream",
     "text": [
      "------------ test losses ------------\n",
      "rmse: 1.065431\n",
      "------------ test metrics ------------\n",
      "precision: 0.056003\n",
      "recall: 0.056003\n",
      "Epoch 185, Time: 44.916823 (s)\n",
      "------------ train losses ------------\n",
      "rmse: 0.651940\n",
      "------------ train metrics ------------\n",
      "precision: 0.060627\n",
      "recall: 0.060627\n"
     ]
    },
    {
     "name": "stderr",
     "output_type": "stream",
     "text": [
      "\r",
      " 92%|█████████▎| 185/200 [3:23:17<18:49, 75.31s/it]"
     ]
    },
    {
     "name": "stdout",
     "output_type": "stream",
     "text": [
      "------------ test losses ------------\n",
      "rmse: 1.067113\n",
      "------------ test metrics ------------\n",
      "precision: 0.056003\n",
      "recall: 0.056003\n",
      "Epoch 186, Time: 43.683523 (s)\n",
      "------------ train losses ------------\n",
      "rmse: 0.650658\n",
      "------------ train metrics ------------\n",
      "precision: 0.060484\n",
      "recall: 0.060484\n"
     ]
    },
    {
     "name": "stderr",
     "output_type": "stream",
     "text": [
      "\r",
      " 93%|█████████▎| 186/200 [3:24:29<17:22, 74.48s/it]"
     ]
    },
    {
     "name": "stdout",
     "output_type": "stream",
     "text": [
      "------------ test losses ------------\n",
      "rmse: 1.067571\n",
      "------------ test metrics ------------\n",
      "precision: 0.056003\n",
      "recall: 0.056003\n",
      "Epoch 187, Time: 49.965512 (s)\n",
      "------------ train losses ------------\n",
      "rmse: 0.648788\n",
      "------------ train metrics ------------\n",
      "precision: 0.060583\n",
      "recall: 0.060583\n"
     ]
    },
    {
     "name": "stderr",
     "output_type": "stream",
     "text": [
      "\r",
      " 94%|█████████▎| 187/200 [3:25:49<16:27, 75.98s/it]"
     ]
    },
    {
     "name": "stdout",
     "output_type": "stream",
     "text": [
      "------------ test losses ------------\n",
      "rmse: 1.068752\n",
      "------------ test metrics ------------\n",
      "precision: 0.056003\n",
      "recall: 0.056003\n",
      "Epoch 188, Time: 47.373532 (s)\n",
      "------------ train losses ------------\n",
      "rmse: 0.651257\n",
      "------------ train metrics ------------\n",
      "precision: 0.060462\n",
      "recall: 0.060462\n"
     ]
    },
    {
     "name": "stderr",
     "output_type": "stream",
     "text": [
      "\r",
      " 94%|█████████▍| 188/200 [3:27:12<15:38, 78.17s/it]"
     ]
    },
    {
     "name": "stdout",
     "output_type": "stream",
     "text": [
      "------------ test losses ------------\n",
      "rmse: 1.071090\n",
      "------------ test metrics ------------\n",
      "precision: 0.055685\n",
      "recall: 0.055685\n",
      "Epoch 189, Time: 51.491851 (s)\n",
      "------------ train losses ------------\n",
      "rmse: 0.649597\n",
      "------------ train metrics ------------\n",
      "precision: 0.060462\n",
      "recall: 0.060462\n"
     ]
    },
    {
     "name": "stderr",
     "output_type": "stream",
     "text": [
      "\r",
      " 94%|█████████▍| 189/200 [3:28:34<14:31, 79.27s/it]"
     ]
    },
    {
     "name": "stdout",
     "output_type": "stream",
     "text": [
      "------------ test losses ------------\n",
      "rmse: 1.072900\n",
      "------------ test metrics ------------\n",
      "precision: 0.055685\n",
      "recall: 0.055685\n",
      "Epoch 190, Time: 47.671139 (s)\n",
      "------------ train losses ------------\n",
      "rmse: 0.647118\n",
      "------------ train metrics ------------\n",
      "precision: 0.060583\n",
      "recall: 0.060583\n"
     ]
    },
    {
     "name": "stderr",
     "output_type": "stream",
     "text": [
      "\r",
      " 95%|█████████▌| 190/200 [3:29:52<13:09, 78.94s/it]"
     ]
    },
    {
     "name": "stdout",
     "output_type": "stream",
     "text": [
      "------------ test losses ------------\n",
      "rmse: 1.072600\n",
      "------------ test metrics ------------\n",
      "precision: 0.055791\n",
      "recall: 0.055791\n",
      "Epoch 191, Time: 49.401834 (s)\n",
      "------------ train losses ------------\n",
      "rmse: 0.647027\n",
      "------------ train metrics ------------\n",
      "precision: 0.060528\n",
      "recall: 0.060528\n"
     ]
    },
    {
     "name": "stderr",
     "output_type": "stream",
     "text": [
      "\r",
      " 96%|█████████▌| 191/200 [3:31:11<11:50, 78.95s/it]"
     ]
    },
    {
     "name": "stdout",
     "output_type": "stream",
     "text": [
      "------------ test losses ------------\n",
      "rmse: 1.074295\n",
      "------------ test metrics ------------\n",
      "precision: 0.055473\n",
      "recall: 0.055473\n",
      "Epoch 192, Time: 44.075304 (s)\n",
      "------------ train losses ------------\n",
      "rmse: 0.644889\n",
      "------------ train metrics ------------\n",
      "precision: 0.060605\n",
      "recall: 0.060605\n"
     ]
    },
    {
     "name": "stderr",
     "output_type": "stream",
     "text": [
      "\r",
      " 96%|█████████▌| 192/200 [3:32:22<10:13, 76.63s/it]"
     ]
    },
    {
     "name": "stdout",
     "output_type": "stream",
     "text": [
      "------------ test losses ------------\n",
      "rmse: 1.074417\n",
      "------------ test metrics ------------\n",
      "precision: 0.055685\n",
      "recall: 0.055685\n",
      "Epoch 193, Time: 47.755678 (s)\n",
      "------------ train losses ------------\n",
      "rmse: 0.644108\n",
      "------------ train metrics ------------\n",
      "precision: 0.060638\n",
      "recall: 0.060638\n"
     ]
    },
    {
     "name": "stderr",
     "output_type": "stream",
     "text": [
      "\r",
      " 96%|█████████▋| 193/200 [3:33:37<08:53, 76.15s/it]"
     ]
    },
    {
     "name": "stdout",
     "output_type": "stream",
     "text": [
      "------------ test losses ------------\n",
      "rmse: 1.075595\n",
      "------------ test metrics ------------\n",
      "precision: 0.055579\n",
      "recall: 0.055579\n",
      "Epoch 194, Time: 44.874298 (s)\n",
      "------------ train losses ------------\n",
      "rmse: 0.647414\n",
      "------------ train metrics ------------\n",
      "precision: 0.060638\n",
      "recall: 0.060638\n"
     ]
    },
    {
     "name": "stderr",
     "output_type": "stream",
     "text": [
      "\r",
      " 97%|█████████▋| 194/200 [3:34:55<07:39, 76.60s/it]"
     ]
    },
    {
     "name": "stdout",
     "output_type": "stream",
     "text": [
      "------------ test losses ------------\n",
      "rmse: 1.077880\n",
      "------------ test metrics ------------\n",
      "precision: 0.055579\n",
      "recall: 0.055579\n",
      "Epoch 195, Time: 50.198952 (s)\n",
      "------------ train losses ------------\n",
      "rmse: 0.651609\n",
      "------------ train metrics ------------\n",
      "precision: 0.060561\n",
      "recall: 0.060561\n"
     ]
    },
    {
     "name": "stderr",
     "output_type": "stream",
     "text": [
      "\r",
      " 98%|█████████▊| 195/200 [3:36:16<06:29, 77.82s/it]"
     ]
    },
    {
     "name": "stdout",
     "output_type": "stream",
     "text": [
      "------------ test losses ------------\n",
      "rmse: 1.078824\n",
      "------------ test metrics ------------\n",
      "precision: 0.055473\n",
      "recall: 0.055473\n",
      "Epoch 196, Time: 51.698200 (s)\n",
      "------------ train losses ------------\n",
      "rmse: 0.645022\n",
      "------------ train metrics ------------\n",
      "precision: 0.060561\n",
      "recall: 0.060561\n"
     ]
    },
    {
     "name": "stderr",
     "output_type": "stream",
     "text": [
      "\r",
      " 98%|█████████▊| 196/200 [3:37:34<05:11, 77.89s/it]"
     ]
    },
    {
     "name": "stdout",
     "output_type": "stream",
     "text": [
      "------------ test losses ------------\n",
      "rmse: 1.078967\n",
      "------------ test metrics ------------\n",
      "precision: 0.055473\n",
      "recall: 0.055473\n",
      "Epoch 197, Time: 41.828701 (s)\n",
      "------------ train losses ------------\n",
      "rmse: 0.643147\n",
      "------------ train metrics ------------\n",
      "precision: 0.060550\n",
      "recall: 0.060550\n"
     ]
    },
    {
     "name": "stderr",
     "output_type": "stream",
     "text": [
      "\r",
      " 98%|█████████▊| 197/200 [3:38:41<03:44, 74.78s/it]"
     ]
    },
    {
     "name": "stdout",
     "output_type": "stream",
     "text": [
      "------------ test losses ------------\n",
      "rmse: 1.080883\n",
      "------------ test metrics ------------\n",
      "precision: 0.055473\n",
      "recall: 0.055473\n",
      "Epoch 198, Time: 42.958927 (s)\n",
      "------------ train losses ------------\n",
      "rmse: 0.642811\n",
      "------------ train metrics ------------\n",
      "precision: 0.060506\n",
      "recall: 0.060506\n"
     ]
    },
    {
     "name": "stderr",
     "output_type": "stream",
     "text": [
      "\r",
      " 99%|█████████▉| 198/200 [3:39:50<02:26, 73.13s/it]"
     ]
    },
    {
     "name": "stdout",
     "output_type": "stream",
     "text": [
      "------------ test losses ------------\n",
      "rmse: 1.081943\n",
      "------------ test metrics ------------\n",
      "precision: 0.055473\n",
      "recall: 0.055473\n",
      "Epoch 199, Time: 42.186811 (s)\n",
      "------------ train losses ------------\n",
      "rmse: 0.641816\n",
      "------------ train metrics ------------\n",
      "precision: 0.060550\n",
      "recall: 0.060550\n"
     ]
    },
    {
     "name": "stderr",
     "output_type": "stream",
     "text": [
      "\r",
      "100%|█████████▉| 199/200 [3:40:59<01:11, 71.67s/it]"
     ]
    },
    {
     "name": "stdout",
     "output_type": "stream",
     "text": [
      "------------ test losses ------------\n",
      "rmse: 1.082291\n",
      "------------ test metrics ------------\n",
      "precision: 0.055261\n",
      "recall: 0.055261\n",
      "Epoch 200, Time: 42.420232 (s)\n",
      "------------ train losses ------------\n",
      "rmse: 0.646182\n",
      "------------ train metrics ------------\n",
      "precision: 0.060473\n",
      "recall: 0.060473\n"
     ]
    },
    {
     "name": "stderr",
     "output_type": "stream",
     "text": [
      "100%|██████████| 200/200 [3:42:07<00:00, 66.64s/it]"
     ]
    },
    {
     "name": "stdout",
     "output_type": "stream",
     "text": [
      "------------ test losses ------------\n",
      "rmse: 1.085717\n",
      "------------ test metrics ------------\n",
      "precision: 0.055261\n",
      "recall: 0.055261\n"
     ]
    },
    {
     "name": "stderr",
     "output_type": "stream",
     "text": [
      "\n"
     ]
    }
   ],
   "source": [
    "spfc.train(\n",
    "    ds,\n",
    "    batch_size=1024,\n",
    "    epochs=200,\n",
    "    loss_function=\"rmse\",\n",
    "    eval_metrics=['precision', 'recall']\n",
    ")"
   ]
  },
  {
   "cell_type": "code",
   "execution_count": 7,
   "metadata": {
    "scrolled": true
   },
   "outputs": [
    {
     "data": {
      "image/png": "[encoded data removed]",
      "text/plain": [
       "<Figure size 432x288 with 1 Axes>"
      ]
     },
     "metadata": {
      "needs_background": "light"
     },
     "output_type": "display_data"
    }
   ],
   "source": [
    "plot_losses(spfc)"
   ]
  },
  {
   "cell_type": "code",
   "execution_count": 175,
   "metadata": {},
   "outputs": [
    {
     "data": {
      "text/plain": [
       "<tf.Tensor: id=537589211, shape=(2, 1683), dtype=float32, numpy=\n",
       "array([[3.675661 , 4.609703 , 2.3143659, ..., 1.6847194, 3.3767853,\n",
       "        1.9878653],\n",
       "       [3.4592705, 4.4835396, 3.2591212, ..., 2.2185068, 3.411224 ,\n",
       "        2.6408904]], dtype=float32)>"
      ]
     },
     "execution_count": 175,
     "metadata": {},
     "output_type": "execute_result"
    }
   ],
   "source": [
    "spfc.predict([1,2])"
   ]
  },
  {
   "cell_type": "code",
   "execution_count": 174,
   "metadata": {},
   "outputs": [
    {
     "data": {
      "text/plain": [
       "DictWrapper({'precision': 0.05526092490453967, 'recall': 0.05526092490453967})"
      ]
     },
     "execution_count": 174,
     "metadata": {},
     "output_type": "execute_result"
    }
   ],
   "source": [
    "spfc._metrics['test'][-1]"
   ]
  }
 ],
 "metadata": {
  "kernelspec": {
   "display_name": "Python 3",
   "language": "python",
   "name": "python3"
  },
  "language_info": {
   "codemirror_mode": {
    "name": "ipython",
    "version": 3
   },
   "file_extension": ".py",
   "mimetype": "text/x-python",
   "name": "python",
   "nbconvert_exporter": "python",
   "pygments_lexer": "ipython3",
   "version": "3.6.8"
  }
 },
 "nbformat": 4,
 "nbformat_minor": 2
}
