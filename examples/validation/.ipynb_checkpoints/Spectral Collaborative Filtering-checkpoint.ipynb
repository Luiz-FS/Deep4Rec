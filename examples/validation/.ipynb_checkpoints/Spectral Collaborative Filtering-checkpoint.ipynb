{
 "cells": [
  {
   "cell_type": "code",
   "execution_count": 1,
   "metadata": {},
   "outputs": [
    {
     "name": "stderr",
     "output_type": "stream",
     "text": [
      "/home/luiz/Documents/Deep4Rec/env/lib/python3.7/site-packages/tensorflow/python/framework/dtypes.py:526: FutureWarning: Passing (type, 1) or '1type' as a synonym of type is deprecated; in a future version of numpy, it will be understood as (type, (1,)) / '(1,)type'.\n",
      "  _np_qint8 = np.dtype([(\"qint8\", np.int8, 1)])\n",
      "/home/luiz/Documents/Deep4Rec/env/lib/python3.7/site-packages/tensorflow/python/framework/dtypes.py:527: FutureWarning: Passing (type, 1) or '1type' as a synonym of type is deprecated; in a future version of numpy, it will be understood as (type, (1,)) / '(1,)type'.\n",
      "  _np_quint8 = np.dtype([(\"quint8\", np.uint8, 1)])\n",
      "/home/luiz/Documents/Deep4Rec/env/lib/python3.7/site-packages/tensorflow/python/framework/dtypes.py:528: FutureWarning: Passing (type, 1) or '1type' as a synonym of type is deprecated; in a future version of numpy, it will be understood as (type, (1,)) / '(1,)type'.\n",
      "  _np_qint16 = np.dtype([(\"qint16\", np.int16, 1)])\n",
      "/home/luiz/Documents/Deep4Rec/env/lib/python3.7/site-packages/tensorflow/python/framework/dtypes.py:529: FutureWarning: Passing (type, 1) or '1type' as a synonym of type is deprecated; in a future version of numpy, it will be understood as (type, (1,)) / '(1,)type'.\n",
      "  _np_quint16 = np.dtype([(\"quint16\", np.uint16, 1)])\n",
      "/home/luiz/Documents/Deep4Rec/env/lib/python3.7/site-packages/tensorflow/python/framework/dtypes.py:530: FutureWarning: Passing (type, 1) or '1type' as a synonym of type is deprecated; in a future version of numpy, it will be understood as (type, (1,)) / '(1,)type'.\n",
      "  _np_qint32 = np.dtype([(\"qint32\", np.int32, 1)])\n",
      "/home/luiz/Documents/Deep4Rec/env/lib/python3.7/site-packages/tensorflow/python/framework/dtypes.py:535: FutureWarning: Passing (type, 1) or '1type' as a synonym of type is deprecated; in a future version of numpy, it will be understood as (type, (1,)) / '(1,)type'.\n",
      "  np_resource = np.dtype([(\"resource\", np.ubyte, 1)])\n"
     ]
    }
   ],
   "source": [
    "import sys\n",
    "\n",
    "sys.path.append('../../')\n",
    "\n",
    "import os\n",
    "# Ignore some tensorflow logs\n",
    "os.environ[\"TF_CPP_MIN_LOG_LEVEL\"] = \"3\"\n",
    "\n",
    "from matplotlib import pyplot as plt\n",
    "import tensorflow as tf"
   ]
  },
  {
   "cell_type": "code",
   "execution_count": 2,
   "metadata": {},
   "outputs": [],
   "source": [
    "from deep4rec import datasets\n",
    "from deep4rec import models"
   ]
  },
  {
   "cell_type": "code",
   "execution_count": 7,
   "metadata": {},
   "outputs": [],
   "source": [
    "def plot_losses(model):\n",
    "    plt.title(type(model).__name__)\n",
    "    plt.plot([loss[\"rmse\"] for loss in model._losses['test']], label='test')\n",
    "    plt.plot([loss[\"rmse\"] for loss in model._losses['train']], label='train')\n",
    "    plt.legend()\n",
    "    plt.show()"
   ]
  },
  {
   "cell_type": "code",
   "execution_count": 4,
   "metadata": {},
   "outputs": [],
   "source": [
    "ds = datasets.build_dataset(\"ml-100k\")"
   ]
  },
  {
   "cell_type": "code",
   "execution_count": 5,
   "metadata": {},
   "outputs": [
    {
     "name": "stderr",
     "output_type": "stream",
     "text": [
      "../../deep4rec/models/spectralcf.py:44: ComplexWarning: Casting complex values to real discards the imaginary part\n",
      "  self.A_hat = self.A_hat.astype(np.float32)\n"
     ]
    }
   ],
   "source": [
    "spfc = models.SpectralCF(ds)"
   ]
  },
  {
   "cell_type": "code",
   "execution_count": 6,
   "metadata": {},
   "outputs": [
    {
     "name": "stderr",
     "output_type": "stream",
     "text": [
      "\r",
      "  0%|          | 0/200 [00:00<?, ?it/s]"
     ]
    },
    {
     "name": "stdout",
     "output_type": "stream",
     "text": [
      "WARNING:tensorflow:From /home/luiz/Documents/Deep4Rec/env/lib/python3.7/site-packages/tensorflow/python/data/ops/iterator_ops.py:532: colocate_with (from tensorflow.python.framework.ops) is deprecated and will be removed in a future version.\n",
      "Instructions for updating:\n",
      "Colocations handled automatically by placer.\n",
      "WARNING:tensorflow:From /home/luiz/Documents/Deep4Rec/env/lib/python3.7/site-packages/tensorflow/python/ops/losses/losses_impl.py:667: to_float (from tensorflow.python.ops.math_ops) is deprecated and will be removed in a future version.\n",
      "Instructions for updating:\n",
      "Use tf.cast instead.\n",
      "WARNING:tensorflow:From /home/luiz/Documents/Deep4Rec/env/lib/python3.7/site-packages/tensorflow/python/ops/array_grad.py:425: to_int32 (from tensorflow.python.ops.math_ops) is deprecated and will be removed in a future version.\n",
      "Instructions for updating:\n",
      "Use tf.cast instead.\n",
      "Epoch 1, Time: 27.817062 (s)\n",
      "------------ train losses ------------\n",
      "rmse: 6.499518\n",
      "------------ train metrics ------------\n",
      "precision: 0.061477\n",
      "recall: 0.061477\n"
     ]
    },
    {
     "name": "stderr",
     "output_type": "stream",
     "text": [
      "\r",
      "  0%|          | 1/200 [00:51<2:49:18, 51.05s/it]"
     ]
    },
    {
     "name": "stdout",
     "output_type": "stream",
     "text": [
      "------------ test losses ------------\n",
      "rmse: 6.469031\n",
      "------------ test metrics ------------\n",
      "precision: 0.057382\n",
      "recall: 0.057382\n",
      "Epoch 2, Time: 27.420838 (s)\n",
      "------------ train losses ------------\n",
      "rmse: 5.849235\n",
      "------------ train metrics ------------\n",
      "precision: 0.061477\n",
      "recall: 0.061477\n"
     ]
    },
    {
     "name": "stderr",
     "output_type": "stream",
     "text": [
      "\r",
      "  1%|          | 2/200 [01:41<2:48:08, 50.95s/it]"
     ]
    },
    {
     "name": "stdout",
     "output_type": "stream",
     "text": [
      "------------ test losses ------------\n",
      "rmse: 5.856141\n",
      "------------ test metrics ------------\n",
      "precision: 0.057382\n",
      "recall: 0.057382\n",
      "Epoch 3, Time: 27.229170 (s)\n",
      "------------ train losses ------------\n",
      "rmse: 5.348974\n",
      "------------ train metrics ------------\n",
      "precision: 0.061477\n",
      "recall: 0.061477\n"
     ]
    },
    {
     "name": "stderr",
     "output_type": "stream",
     "text": [
      "\r",
      "  2%|▏         | 3/200 [02:32<2:46:53, 50.83s/it]"
     ]
    },
    {
     "name": "stdout",
     "output_type": "stream",
     "text": [
      "------------ test losses ------------\n",
      "rmse: 5.252658\n",
      "------------ test metrics ------------\n",
      "precision: 0.057382\n",
      "recall: 0.057382\n",
      "Epoch 4, Time: 27.185771 (s)\n",
      "------------ train losses ------------\n",
      "rmse: 4.771297\n",
      "------------ train metrics ------------\n",
      "precision: 0.061477\n",
      "recall: 0.061477\n"
     ]
    },
    {
     "name": "stderr",
     "output_type": "stream",
     "text": [
      "\r",
      "  2%|▏         | 4/200 [03:22<2:45:32, 50.68s/it]"
     ]
    },
    {
     "name": "stdout",
     "output_type": "stream",
     "text": [
      "------------ test losses ------------\n",
      "rmse: 4.732192\n",
      "------------ test metrics ------------\n",
      "precision: 0.057382\n",
      "recall: 0.057382\n",
      "Epoch 5, Time: 27.707088 (s)\n",
      "------------ train losses ------------\n",
      "rmse: 4.417013\n",
      "------------ train metrics ------------\n",
      "precision: 0.061477\n",
      "recall: 0.061477\n"
     ]
    },
    {
     "name": "stderr",
     "output_type": "stream",
     "text": [
      "\r",
      "  2%|▎         | 5/200 [04:17<2:48:41, 51.91s/it]"
     ]
    },
    {
     "name": "stdout",
     "output_type": "stream",
     "text": [
      "------------ test losses ------------\n",
      "rmse: 4.442440\n",
      "------------ test metrics ------------\n",
      "precision: 0.057382\n",
      "recall: 0.057382\n",
      "Epoch 6, Time: 31.148652 (s)\n",
      "------------ train losses ------------\n",
      "rmse: 4.133946\n",
      "------------ train metrics ------------\n",
      "precision: 0.061477\n",
      "recall: 0.061477\n"
     ]
    },
    {
     "name": "stderr",
     "output_type": "stream",
     "text": [
      "\r",
      "  3%|▎         | 6/200 [05:15<2:53:47, 53.75s/it]"
     ]
    },
    {
     "name": "stdout",
     "output_type": "stream",
     "text": [
      "------------ test losses ------------\n",
      "rmse: 4.187645\n",
      "------------ test metrics ------------\n",
      "precision: 0.057382\n",
      "recall: 0.057382\n",
      "Epoch 7, Time: 31.194528 (s)\n",
      "------------ train losses ------------\n",
      "rmse: 3.923105\n",
      "------------ train metrics ------------\n",
      "precision: 0.061477\n",
      "recall: 0.061477\n"
     ]
    },
    {
     "name": "stderr",
     "output_type": "stream",
     "text": [
      "\r",
      "  4%|▎         | 7/200 [06:12<2:56:31, 54.88s/it]"
     ]
    },
    {
     "name": "stdout",
     "output_type": "stream",
     "text": [
      "------------ test losses ------------\n",
      "rmse: 4.025144\n",
      "------------ test metrics ------------\n",
      "precision: 0.057382\n",
      "recall: 0.057382\n",
      "Epoch 8, Time: 28.318327 (s)\n",
      "------------ train losses ------------\n",
      "rmse: 3.909663\n",
      "------------ train metrics ------------\n",
      "precision: 0.061477\n",
      "recall: 0.061477\n"
     ]
    },
    {
     "name": "stderr",
     "output_type": "stream",
     "text": [
      "\r",
      "  4%|▍         | 8/200 [07:05<2:53:04, 54.09s/it]"
     ]
    },
    {
     "name": "stdout",
     "output_type": "stream",
     "text": [
      "------------ test losses ------------\n",
      "rmse: 4.014959\n",
      "------------ test metrics ------------\n",
      "precision: 0.057382\n",
      "recall: 0.057382\n",
      "Epoch 9, Time: 28.545987 (s)\n",
      "------------ train losses ------------\n",
      "rmse: 3.662064\n",
      "------------ train metrics ------------\n",
      "precision: 0.061477\n",
      "recall: 0.061477\n"
     ]
    },
    {
     "name": "stderr",
     "output_type": "stream",
     "text": [
      "\r",
      "  4%|▍         | 9/200 [07:56<2:49:55, 53.38s/it]"
     ]
    },
    {
     "name": "stdout",
     "output_type": "stream",
     "text": [
      "------------ test losses ------------\n",
      "rmse: 3.831663\n",
      "------------ test metrics ------------\n",
      "precision: 0.057382\n",
      "recall: 0.057382\n",
      "Epoch 10, Time: 27.488920 (s)\n",
      "------------ train losses ------------\n",
      "rmse: 3.622390\n",
      "------------ train metrics ------------\n",
      "precision: 0.061477\n",
      "recall: 0.061477\n"
     ]
    },
    {
     "name": "stderr",
     "output_type": "stream",
     "text": [
      "\r",
      "  5%|▌         | 10/200 [08:47<2:46:31, 52.59s/it]"
     ]
    },
    {
     "name": "stdout",
     "output_type": "stream",
     "text": [
      "------------ test losses ------------\n",
      "rmse: 3.766929\n",
      "------------ test metrics ------------\n",
      "precision: 0.057382\n",
      "recall: 0.057382\n",
      "Epoch 11, Time: 27.709434 (s)\n",
      "------------ train losses ------------\n",
      "rmse: 3.508463\n",
      "------------ train metrics ------------\n",
      "precision: 0.061477\n",
      "recall: 0.061477\n"
     ]
    },
    {
     "name": "stderr",
     "output_type": "stream",
     "text": [
      "\r",
      "  6%|▌         | 11/200 [09:38<2:44:04, 52.09s/it]"
     ]
    },
    {
     "name": "stdout",
     "output_type": "stream",
     "text": [
      "------------ test losses ------------\n",
      "rmse: 3.697273\n",
      "------------ test metrics ------------\n",
      "precision: 0.057382\n",
      "recall: 0.057382\n",
      "Epoch 12, Time: 27.089716 (s)\n",
      "------------ train losses ------------\n",
      "rmse: 3.554874\n",
      "------------ train metrics ------------\n",
      "precision: 0.061477\n",
      "recall: 0.061477\n"
     ]
    },
    {
     "name": "stderr",
     "output_type": "stream",
     "text": [
      "\r",
      "  6%|▌         | 12/200 [10:28<2:41:31, 51.55s/it]"
     ]
    },
    {
     "name": "stdout",
     "output_type": "stream",
     "text": [
      "------------ test losses ------------\n",
      "rmse: 3.656354\n",
      "------------ test metrics ------------\n",
      "precision: 0.057382\n",
      "recall: 0.057382\n",
      "Epoch 13, Time: 27.722988 (s)\n",
      "------------ train losses ------------\n",
      "rmse: 3.531817\n",
      "------------ train metrics ------------\n",
      "precision: 0.061477\n",
      "recall: 0.061477\n"
     ]
    },
    {
     "name": "stderr",
     "output_type": "stream",
     "text": [
      "\r",
      "  6%|▋         | 13/200 [11:19<2:40:05, 51.36s/it]"
     ]
    },
    {
     "name": "stdout",
     "output_type": "stream",
     "text": [
      "------------ test losses ------------\n",
      "rmse: 3.645831\n",
      "------------ test metrics ------------\n",
      "precision: 0.057382\n",
      "recall: 0.057382\n",
      "Epoch 14, Time: 27.725160 (s)\n",
      "------------ train losses ------------\n",
      "rmse: 3.354327\n",
      "------------ train metrics ------------\n",
      "precision: 0.061477\n",
      "recall: 0.061477\n"
     ]
    },
    {
     "name": "stderr",
     "output_type": "stream",
     "text": [
      "\r",
      "  7%|▋         | 14/200 [12:10<2:38:52, 51.25s/it]"
     ]
    },
    {
     "name": "stdout",
     "output_type": "stream",
     "text": [
      "------------ test losses ------------\n",
      "rmse: 3.513657\n",
      "------------ test metrics ------------\n",
      "precision: 0.057382\n",
      "recall: 0.057382\n",
      "Epoch 15, Time: 27.452553 (s)\n",
      "------------ train losses ------------\n",
      "rmse: 3.437905\n",
      "------------ train metrics ------------\n",
      "precision: 0.061477\n",
      "recall: 0.061477\n"
     ]
    },
    {
     "name": "stderr",
     "output_type": "stream",
     "text": [
      "\r",
      "  8%|▊         | 15/200 [13:01<2:37:34, 51.11s/it]"
     ]
    },
    {
     "name": "stdout",
     "output_type": "stream",
     "text": [
      "------------ test losses ------------\n",
      "rmse: 3.541740\n",
      "------------ test metrics ------------\n",
      "precision: 0.057382\n",
      "recall: 0.057382\n",
      "Epoch 16, Time: 27.785545 (s)\n",
      "------------ train losses ------------\n",
      "rmse: 3.325287\n",
      "------------ train metrics ------------\n",
      "precision: 0.061477\n",
      "recall: 0.061477\n"
     ]
    },
    {
     "name": "stderr",
     "output_type": "stream",
     "text": [
      "\r",
      "  8%|▊         | 16/200 [13:52<2:36:40, 51.09s/it]"
     ]
    },
    {
     "name": "stdout",
     "output_type": "stream",
     "text": [
      "------------ test losses ------------\n",
      "rmse: 3.491241\n",
      "------------ test metrics ------------\n",
      "precision: 0.057382\n",
      "recall: 0.057382\n",
      "Epoch 17, Time: 27.606832 (s)\n",
      "------------ train losses ------------\n",
      "rmse: 3.309893\n",
      "------------ train metrics ------------\n",
      "precision: 0.061477\n",
      "recall: 0.061477\n"
     ]
    },
    {
     "name": "stderr",
     "output_type": "stream",
     "text": [
      "\r",
      "  8%|▊         | 17/200 [14:43<2:35:28, 50.97s/it]"
     ]
    },
    {
     "name": "stdout",
     "output_type": "stream",
     "text": [
      "------------ test losses ------------\n",
      "rmse: 3.450872\n",
      "------------ test metrics ------------\n",
      "precision: 0.057382\n",
      "recall: 0.057382\n",
      "Epoch 18, Time: 27.928331 (s)\n",
      "------------ train losses ------------\n",
      "rmse: 3.222799\n",
      "------------ train metrics ------------\n",
      "precision: 0.061477\n",
      "recall: 0.061477\n"
     ]
    },
    {
     "name": "stderr",
     "output_type": "stream",
     "text": [
      "\r",
      "  9%|▉         | 18/200 [15:36<2:36:45, 51.68s/it]"
     ]
    },
    {
     "name": "stdout",
     "output_type": "stream",
     "text": [
      "------------ test losses ------------\n",
      "rmse: 3.393498\n",
      "------------ test metrics ------------\n",
      "precision: 0.057382\n",
      "recall: 0.057382\n",
      "Epoch 19, Time: 30.891104 (s)\n",
      "------------ train losses ------------\n",
      "rmse: 3.301640\n",
      "------------ train metrics ------------\n",
      "precision: 0.061477\n",
      "recall: 0.061477\n"
     ]
    },
    {
     "name": "stderr",
     "output_type": "stream",
     "text": [
      "\r",
      " 10%|▉         | 19/200 [16:33<2:40:18, 53.14s/it]"
     ]
    },
    {
     "name": "stdout",
     "output_type": "stream",
     "text": [
      "------------ test losses ------------\n",
      "rmse: 3.440322\n",
      "------------ test metrics ------------\n",
      "precision: 0.057382\n",
      "recall: 0.057382\n",
      "Epoch 20, Time: 29.275517 (s)\n",
      "------------ train losses ------------\n",
      "rmse: 3.180883\n",
      "------------ train metrics ------------\n",
      "precision: 0.061477\n",
      "recall: 0.061477\n"
     ]
    },
    {
     "name": "stderr",
     "output_type": "stream",
     "text": [
      "\r",
      " 10%|█         | 20/200 [17:28<2:41:22, 53.79s/it]"
     ]
    },
    {
     "name": "stdout",
     "output_type": "stream",
     "text": [
      "------------ test losses ------------\n",
      "rmse: 3.367236\n",
      "------------ test metrics ------------\n",
      "precision: 0.057382\n",
      "recall: 0.057382\n",
      "Epoch 21, Time: 30.004221 (s)\n",
      "------------ train losses ------------\n",
      "rmse: 3.221203\n",
      "------------ train metrics ------------\n",
      "precision: 0.061477\n",
      "recall: 0.061477\n"
     ]
    },
    {
     "name": "stderr",
     "output_type": "stream",
     "text": [
      "\r",
      " 10%|█         | 21/200 [18:24<2:42:29, 54.47s/it]"
     ]
    },
    {
     "name": "stdout",
     "output_type": "stream",
     "text": [
      "------------ test losses ------------\n",
      "rmse: 3.349224\n",
      "------------ test metrics ------------\n",
      "precision: 0.057382\n",
      "recall: 0.057382\n",
      "Epoch 22, Time: 31.218283 (s)\n",
      "------------ train losses ------------\n",
      "rmse: 3.171991\n",
      "------------ train metrics ------------\n",
      "precision: 0.061477\n",
      "recall: 0.061477\n"
     ]
    },
    {
     "name": "stderr",
     "output_type": "stream",
     "text": [
      "\r",
      " 11%|█         | 22/200 [19:22<2:44:28, 55.44s/it]"
     ]
    },
    {
     "name": "stdout",
     "output_type": "stream",
     "text": [
      "------------ test losses ------------\n",
      "rmse: 3.356054\n",
      "------------ test metrics ------------\n",
      "precision: 0.057382\n",
      "recall: 0.057382\n",
      "Epoch 23, Time: 30.215615 (s)\n",
      "------------ train losses ------------\n",
      "rmse: 3.165558\n",
      "------------ train metrics ------------\n",
      "precision: 0.061477\n",
      "recall: 0.061477\n"
     ]
    },
    {
     "name": "stderr",
     "output_type": "stream",
     "text": [
      "\r",
      " 12%|█▏        | 23/200 [20:18<2:43:55, 55.57s/it]"
     ]
    },
    {
     "name": "stdout",
     "output_type": "stream",
     "text": [
      "------------ test losses ------------\n",
      "rmse: 3.332509\n",
      "------------ test metrics ------------\n",
      "precision: 0.057382\n",
      "recall: 0.057382\n",
      "Epoch 24, Time: 31.408476 (s)\n",
      "------------ train losses ------------\n",
      "rmse: 3.117801\n",
      "------------ train metrics ------------\n",
      "precision: 0.061477\n",
      "recall: 0.061477\n"
     ]
    },
    {
     "name": "stderr",
     "output_type": "stream",
     "text": [
      "\r",
      " 12%|█▏        | 24/200 [21:15<2:44:39, 56.13s/it]"
     ]
    },
    {
     "name": "stdout",
     "output_type": "stream",
     "text": [
      "------------ test losses ------------\n",
      "rmse: 3.305782\n",
      "------------ test metrics ------------\n",
      "precision: 0.057382\n",
      "recall: 0.057382\n",
      "Epoch 25, Time: 31.146137 (s)\n",
      "------------ train losses ------------\n",
      "rmse: 3.090969\n",
      "------------ train metrics ------------\n",
      "precision: 0.061477\n",
      "recall: 0.061477\n"
     ]
    },
    {
     "name": "stderr",
     "output_type": "stream",
     "text": [
      "\r",
      " 12%|█▎        | 25/200 [22:12<2:44:01, 56.24s/it]"
     ]
    },
    {
     "name": "stdout",
     "output_type": "stream",
     "text": [
      "------------ test losses ------------\n",
      "rmse: 3.266685\n",
      "------------ test metrics ------------\n",
      "precision: 0.057382\n",
      "recall: 0.057382\n",
      "Epoch 26, Time: 31.020505 (s)\n",
      "------------ train losses ------------\n",
      "rmse: 3.034532\n",
      "------------ train metrics ------------\n",
      "precision: 0.061477\n",
      "recall: 0.061477\n"
     ]
    },
    {
     "name": "stderr",
     "output_type": "stream",
     "text": [
      "\r",
      " 13%|█▎        | 26/200 [23:07<2:42:06, 55.90s/it]"
     ]
    },
    {
     "name": "stdout",
     "output_type": "stream",
     "text": [
      "------------ test losses ------------\n",
      "rmse: 3.225662\n",
      "------------ test metrics ------------\n",
      "precision: 0.057382\n",
      "recall: 0.057382\n",
      "Epoch 27, Time: 27.831023 (s)\n",
      "------------ train losses ------------\n",
      "rmse: 3.016950\n",
      "------------ train metrics ------------\n",
      "precision: 0.061466\n",
      "recall: 0.061466\n"
     ]
    },
    {
     "name": "stderr",
     "output_type": "stream",
     "text": [
      "\r",
      " 14%|█▎        | 27/200 [23:58<2:36:56, 54.43s/it]"
     ]
    },
    {
     "name": "stdout",
     "output_type": "stream",
     "text": [
      "------------ test losses ------------\n",
      "rmse: 3.215771\n",
      "------------ test metrics ------------\n",
      "precision: 0.057382\n",
      "recall: 0.057382\n",
      "Epoch 28, Time: 28.042846 (s)\n",
      "------------ train losses ------------\n",
      "rmse: 2.965845\n",
      "------------ train metrics ------------\n",
      "precision: 0.061455\n",
      "recall: 0.061455\n"
     ]
    },
    {
     "name": "stderr",
     "output_type": "stream",
     "text": [
      "\r",
      " 14%|█▍        | 28/200 [24:49<2:33:18, 53.48s/it]"
     ]
    },
    {
     "name": "stdout",
     "output_type": "stream",
     "text": [
      "------------ test losses ------------\n",
      "rmse: 3.160179\n",
      "------------ test metrics ------------\n",
      "precision: 0.057382\n",
      "recall: 0.057382\n",
      "Epoch 29, Time: 28.241723 (s)\n",
      "------------ train losses ------------\n",
      "rmse: 2.943213\n",
      "------------ train metrics ------------\n",
      "precision: 0.061455\n",
      "recall: 0.061455\n"
     ]
    },
    {
     "name": "stderr",
     "output_type": "stream",
     "text": [
      "\r",
      " 14%|█▍        | 29/200 [25:40<2:30:44, 52.89s/it]"
     ]
    },
    {
     "name": "stdout",
     "output_type": "stream",
     "text": [
      "------------ test losses ------------\n",
      "rmse: 3.127695\n",
      "------------ test metrics ------------\n",
      "precision: 0.057382\n",
      "recall: 0.057382\n",
      "Epoch 30, Time: 28.301910 (s)\n",
      "------------ train losses ------------\n",
      "rmse: 2.931214\n",
      "------------ train metrics ------------\n",
      "precision: 0.061444\n",
      "recall: 0.061444\n"
     ]
    },
    {
     "name": "stderr",
     "output_type": "stream",
     "text": [
      "\r",
      " 15%|█▌        | 30/200 [26:32<2:28:40, 52.47s/it]"
     ]
    },
    {
     "name": "stdout",
     "output_type": "stream",
     "text": [
      "------------ test losses ------------\n",
      "rmse: 3.133120\n",
      "------------ test metrics ------------\n",
      "precision: 0.057382\n",
      "recall: 0.057382\n",
      "Epoch 31, Time: 27.841157 (s)\n",
      "------------ train losses ------------\n",
      "rmse: 2.888445\n",
      "------------ train metrics ------------\n",
      "precision: 0.061444\n",
      "recall: 0.061444\n"
     ]
    },
    {
     "name": "stderr",
     "output_type": "stream",
     "text": [
      "\r",
      " 16%|█▌        | 31/200 [27:23<2:26:42, 52.08s/it]"
     ]
    },
    {
     "name": "stdout",
     "output_type": "stream",
     "text": [
      "------------ test losses ------------\n",
      "rmse: 3.090971\n",
      "------------ test metrics ------------\n",
      "precision: 0.057382\n",
      "recall: 0.057382\n",
      "Epoch 32, Time: 28.312584 (s)\n",
      "------------ train losses ------------\n",
      "rmse: 2.864180\n",
      "------------ train metrics ------------\n",
      "precision: 0.061444\n",
      "recall: 0.061444\n"
     ]
    },
    {
     "name": "stderr",
     "output_type": "stream",
     "text": [
      "\r",
      " 16%|█▌        | 32/200 [28:15<2:25:39, 52.02s/it]"
     ]
    },
    {
     "name": "stdout",
     "output_type": "stream",
     "text": [
      "------------ test losses ------------\n",
      "rmse: 3.087123\n",
      "------------ test metrics ------------\n",
      "precision: 0.057276\n",
      "recall: 0.057276\n",
      "Epoch 33, Time: 28.031808 (s)\n",
      "------------ train losses ------------\n",
      "rmse: 2.812931\n",
      "------------ train metrics ------------\n",
      "precision: 0.061433\n",
      "recall: 0.061433\n"
     ]
    },
    {
     "name": "stderr",
     "output_type": "stream",
     "text": [
      "\r",
      " 16%|█▋        | 33/200 [29:06<2:24:11, 51.81s/it]"
     ]
    },
    {
     "name": "stdout",
     "output_type": "stream",
     "text": [
      "------------ test losses ------------\n",
      "rmse: 3.029879\n",
      "------------ test metrics ------------\n",
      "precision: 0.057276\n",
      "recall: 0.057276\n",
      "Epoch 34, Time: 28.237141 (s)\n",
      "------------ train losses ------------\n",
      "rmse: 2.796912\n",
      "------------ train metrics ------------\n",
      "precision: 0.061422\n",
      "recall: 0.061422\n"
     ]
    },
    {
     "name": "stderr",
     "output_type": "stream",
     "text": [
      "\r",
      " 17%|█▋        | 34/200 [29:58<2:23:07, 51.73s/it]"
     ]
    },
    {
     "name": "stdout",
     "output_type": "stream",
     "text": [
      "------------ test losses ------------\n",
      "rmse: 3.019243\n",
      "------------ test metrics ------------\n",
      "precision: 0.057276\n",
      "recall: 0.057276\n",
      "Epoch 35, Time: 28.502704 (s)\n",
      "------------ train losses ------------\n",
      "rmse: 2.782485\n",
      "------------ train metrics ------------\n",
      "precision: 0.061422\n",
      "recall: 0.061422\n"
     ]
    },
    {
     "name": "stderr",
     "output_type": "stream",
     "text": [
      "\r",
      " 18%|█▊        | 35/200 [30:50<2:22:59, 52.00s/it]"
     ]
    },
    {
     "name": "stdout",
     "output_type": "stream",
     "text": [
      "------------ test losses ------------\n",
      "rmse: 3.014922\n",
      "------------ test metrics ------------\n",
      "precision: 0.057276\n",
      "recall: 0.057276\n",
      "Epoch 36, Time: 28.578667 (s)\n",
      "------------ train losses ------------\n",
      "rmse: 2.766080\n",
      "------------ train metrics ------------\n",
      "precision: 0.061422\n",
      "recall: 0.061422\n"
     ]
    },
    {
     "name": "stderr",
     "output_type": "stream",
     "text": [
      "\r",
      " 18%|█▊        | 36/200 [31:42<2:21:59, 51.95s/it]"
     ]
    },
    {
     "name": "stdout",
     "output_type": "stream",
     "text": [
      "------------ test losses ------------\n",
      "rmse: 2.958371\n",
      "------------ test metrics ------------\n",
      "precision: 0.057276\n",
      "recall: 0.057276\n",
      "Epoch 37, Time: 28.068070 (s)\n",
      "------------ train losses ------------\n",
      "rmse: 2.752678\n",
      "------------ train metrics ------------\n",
      "precision: 0.061400\n",
      "recall: 0.061400\n"
     ]
    },
    {
     "name": "stderr",
     "output_type": "stream",
     "text": [
      "\r",
      " 18%|█▊        | 37/200 [32:34<2:20:34, 51.74s/it]"
     ]
    },
    {
     "name": "stdout",
     "output_type": "stream",
     "text": [
      "------------ test losses ------------\n",
      "rmse: 2.954725\n",
      "------------ test metrics ------------\n",
      "precision: 0.057276\n",
      "recall: 0.057276\n",
      "Epoch 38, Time: 28.438384 (s)\n",
      "------------ train losses ------------\n",
      "rmse: 2.721697\n",
      "------------ train metrics ------------\n",
      "precision: 0.061400\n",
      "recall: 0.061400\n"
     ]
    },
    {
     "name": "stderr",
     "output_type": "stream",
     "text": [
      "\r",
      " 19%|█▉        | 38/200 [33:25<2:19:43, 51.75s/it]"
     ]
    },
    {
     "name": "stdout",
     "output_type": "stream",
     "text": [
      "------------ test losses ------------\n",
      "rmse: 2.939276\n",
      "------------ test metrics ------------\n",
      "precision: 0.057276\n",
      "recall: 0.057276\n",
      "Epoch 39, Time: 28.134408 (s)\n",
      "------------ train losses ------------\n",
      "rmse: 2.696540\n",
      "------------ train metrics ------------\n",
      "precision: 0.061400\n",
      "recall: 0.061400\n"
     ]
    },
    {
     "name": "stderr",
     "output_type": "stream",
     "text": [
      "\r",
      " 20%|█▉        | 39/200 [34:17<2:18:32, 51.63s/it]"
     ]
    },
    {
     "name": "stdout",
     "output_type": "stream",
     "text": [
      "------------ test losses ------------\n",
      "rmse: 2.931264\n",
      "------------ test metrics ------------\n",
      "precision: 0.057276\n",
      "recall: 0.057276\n",
      "Epoch 40, Time: 27.882951 (s)\n",
      "------------ train losses ------------\n",
      "rmse: 2.718250\n",
      "------------ train metrics ------------\n",
      "precision: 0.061400\n",
      "recall: 0.061400\n"
     ]
    },
    {
     "name": "stderr",
     "output_type": "stream",
     "text": [
      "\r",
      " 20%|██        | 40/200 [35:08<2:17:19, 51.50s/it]"
     ]
    },
    {
     "name": "stdout",
     "output_type": "stream",
     "text": [
      "------------ test losses ------------\n",
      "rmse: 2.924893\n",
      "------------ test metrics ------------\n",
      "precision: 0.057276\n",
      "recall: 0.057276\n",
      "Epoch 41, Time: 29.155420 (s)\n",
      "------------ train losses ------------\n",
      "rmse: 2.644930\n",
      "------------ train metrics ------------\n",
      "precision: 0.061389\n",
      "recall: 0.061389\n"
     ]
    },
    {
     "name": "stderr",
     "output_type": "stream",
     "text": [
      "\r",
      " 20%|██        | 41/200 [36:04<2:20:13, 52.92s/it]"
     ]
    },
    {
     "name": "stdout",
     "output_type": "stream",
     "text": [
      "------------ test losses ------------\n",
      "rmse: 2.895916\n",
      "------------ test metrics ------------\n",
      "precision: 0.057276\n",
      "recall: 0.057276\n",
      "Epoch 42, Time: 33.379990 (s)\n",
      "------------ train losses ------------\n",
      "rmse: 2.654019\n",
      "------------ train metrics ------------\n",
      "precision: 0.061378\n",
      "recall: 0.061378\n"
     ]
    },
    {
     "name": "stderr",
     "output_type": "stream",
     "text": [
      "\r",
      " 21%|██        | 42/200 [37:02<2:23:11, 54.38s/it]"
     ]
    },
    {
     "name": "stdout",
     "output_type": "stream",
     "text": [
      "------------ test losses ------------\n",
      "rmse: 2.902108\n",
      "------------ test metrics ------------\n",
      "precision: 0.057276\n",
      "recall: 0.057276\n",
      "Epoch 43, Time: 28.264105 (s)\n",
      "------------ train losses ------------\n",
      "rmse: 2.619748\n",
      "------------ train metrics ------------\n",
      "precision: 0.061378\n",
      "recall: 0.061378\n"
     ]
    },
    {
     "name": "stderr",
     "output_type": "stream",
     "text": [
      "\r",
      " 22%|██▏       | 43/200 [37:56<2:22:02, 54.29s/it]"
     ]
    },
    {
     "name": "stdout",
     "output_type": "stream",
     "text": [
      "------------ test losses ------------\n",
      "rmse: 2.886568\n",
      "------------ test metrics ------------\n",
      "precision: 0.057276\n",
      "recall: 0.057276\n",
      "Epoch 44, Time: 30.163967 (s)\n",
      "------------ train losses ------------\n",
      "rmse: 2.611942\n",
      "------------ train metrics ------------\n",
      "precision: 0.061389\n",
      "recall: 0.061389\n"
     ]
    },
    {
     "name": "stderr",
     "output_type": "stream",
     "text": [
      "\r",
      " 22%|██▏       | 44/200 [38:51<2:21:52, 54.57s/it]"
     ]
    },
    {
     "name": "stdout",
     "output_type": "stream",
     "text": [
      "------------ test losses ------------\n",
      "rmse: 2.828740\n",
      "------------ test metrics ------------\n",
      "precision: 0.057276\n",
      "recall: 0.057276\n",
      "Epoch 45, Time: 29.607103 (s)\n",
      "------------ train losses ------------\n",
      "rmse: 2.585173\n",
      "------------ train metrics ------------\n",
      "precision: 0.061400\n",
      "recall: 0.061400\n"
     ]
    },
    {
     "name": "stderr",
     "output_type": "stream",
     "text": [
      "\r",
      " 22%|██▎       | 45/200 [39:45<2:20:29, 54.38s/it]"
     ]
    },
    {
     "name": "stdout",
     "output_type": "stream",
     "text": [
      "------------ test losses ------------\n",
      "rmse: 2.829265\n",
      "------------ test metrics ------------\n",
      "precision: 0.057276\n",
      "recall: 0.057276\n",
      "Epoch 46, Time: 29.853013 (s)\n",
      "------------ train losses ------------\n",
      "rmse: 2.599444\n",
      "------------ train metrics ------------\n",
      "precision: 0.061389\n",
      "recall: 0.061389\n"
     ]
    },
    {
     "name": "stderr",
     "output_type": "stream",
     "text": [
      "\r",
      " 23%|██▎       | 46/200 [40:38<2:18:39, 54.02s/it]"
     ]
    },
    {
     "name": "stdout",
     "output_type": "stream",
     "text": [
      "------------ test losses ------------\n",
      "rmse: 2.837079\n",
      "------------ test metrics ------------\n",
      "precision: 0.057276\n",
      "recall: 0.057276\n",
      "Epoch 47, Time: 28.500856 (s)\n",
      "------------ train losses ------------\n",
      "rmse: 2.589022\n",
      "------------ train metrics ------------\n",
      "precision: 0.061378\n",
      "recall: 0.061378\n"
     ]
    },
    {
     "name": "stderr",
     "output_type": "stream",
     "text": [
      "\r",
      " 24%|██▎       | 47/200 [41:30<2:16:08, 53.39s/it]"
     ]
    },
    {
     "name": "stdout",
     "output_type": "stream",
     "text": [
      "------------ test losses ------------\n",
      "rmse: 2.849553\n",
      "------------ test metrics ------------\n",
      "precision: 0.057276\n",
      "recall: 0.057276\n",
      "Epoch 48, Time: 29.118264 (s)\n",
      "------------ train losses ------------\n",
      "rmse: 2.553716\n",
      "------------ train metrics ------------\n",
      "precision: 0.061345\n",
      "recall: 0.061345\n"
     ]
    },
    {
     "name": "stderr",
     "output_type": "stream",
     "text": [
      "\r",
      " 24%|██▍       | 48/200 [42:25<2:16:32, 53.90s/it]"
     ]
    },
    {
     "name": "stdout",
     "output_type": "stream",
     "text": [
      "------------ test losses ------------\n",
      "rmse: 2.807685\n",
      "------------ test metrics ------------\n",
      "precision: 0.057276\n",
      "recall: 0.057276\n",
      "Epoch 49, Time: 30.692195 (s)\n",
      "------------ train losses ------------\n",
      "rmse: 2.496391\n",
      "------------ train metrics ------------\n",
      "precision: 0.061323\n",
      "recall: 0.061323\n"
     ]
    },
    {
     "name": "stderr",
     "output_type": "stream",
     "text": [
      "\r",
      " 24%|██▍       | 49/200 [43:20<2:15:54, 54.01s/it]"
     ]
    },
    {
     "name": "stdout",
     "output_type": "stream",
     "text": [
      "------------ test losses ------------\n",
      "rmse: 2.758367\n",
      "------------ test metrics ------------\n",
      "precision: 0.057276\n",
      "recall: 0.057276\n",
      "Epoch 50, Time: 28.459250 (s)\n",
      "------------ train losses ------------\n",
      "rmse: 2.535503\n",
      "------------ train metrics ------------\n",
      "precision: 0.061323\n",
      "recall: 0.061323\n"
     ]
    },
    {
     "name": "stderr",
     "output_type": "stream",
     "text": [
      "\r",
      " 25%|██▌       | 50/200 [44:12<2:13:43, 53.49s/it]"
     ]
    },
    {
     "name": "stdout",
     "output_type": "stream",
     "text": [
      "------------ test losses ------------\n",
      "rmse: 2.774618\n",
      "------------ test metrics ------------\n",
      "precision: 0.057276\n",
      "recall: 0.057276\n",
      "Epoch 51, Time: 28.544036 (s)\n",
      "------------ train losses ------------\n",
      "rmse: 2.482345\n",
      "------------ train metrics ------------\n",
      "precision: 0.061323\n",
      "recall: 0.061323\n"
     ]
    },
    {
     "name": "stderr",
     "output_type": "stream",
     "text": [
      "\r",
      " 26%|██▌       | 51/200 [45:04<2:11:37, 53.00s/it]"
     ]
    },
    {
     "name": "stdout",
     "output_type": "stream",
     "text": [
      "------------ test losses ------------\n",
      "rmse: 2.731821\n",
      "------------ test metrics ------------\n",
      "precision: 0.057170\n",
      "recall: 0.057170\n",
      "Epoch 52, Time: 27.933723 (s)\n",
      "------------ train losses ------------\n",
      "rmse: 2.453427\n",
      "------------ train metrics ------------\n",
      "precision: 0.061312\n",
      "recall: 0.061312\n"
     ]
    },
    {
     "name": "stderr",
     "output_type": "stream",
     "text": [
      "\r",
      " 26%|██▌       | 52/200 [45:55<2:09:16, 52.41s/it]"
     ]
    },
    {
     "name": "stdout",
     "output_type": "stream",
     "text": [
      "------------ test losses ------------\n",
      "rmse: 2.724599\n",
      "------------ test metrics ------------\n",
      "precision: 0.057170\n",
      "recall: 0.057170\n",
      "Epoch 53, Time: 28.322742 (s)\n",
      "------------ train losses ------------\n",
      "rmse: 2.448653\n",
      "------------ train metrics ------------\n",
      "precision: 0.061312\n",
      "recall: 0.061312\n"
     ]
    },
    {
     "name": "stderr",
     "output_type": "stream",
     "text": [
      "\r",
      " 26%|██▋       | 53/200 [46:46<2:07:37, 52.09s/it]"
     ]
    },
    {
     "name": "stdout",
     "output_type": "stream",
     "text": [
      "------------ test losses ------------\n",
      "rmse: 2.698994\n",
      "------------ test metrics ------------\n",
      "precision: 0.057170\n",
      "recall: 0.057170\n",
      "Epoch 54, Time: 28.154059 (s)\n",
      "------------ train losses ------------\n",
      "rmse: 2.428526\n",
      "------------ train metrics ------------\n",
      "precision: 0.061301\n",
      "recall: 0.061301\n"
     ]
    },
    {
     "name": "stderr",
     "output_type": "stream",
     "text": [
      "\r",
      " 27%|██▋       | 54/200 [47:37<2:06:10, 51.85s/it]"
     ]
    },
    {
     "name": "stdout",
     "output_type": "stream",
     "text": [
      "------------ test losses ------------\n",
      "rmse: 2.714661\n",
      "------------ test metrics ------------\n",
      "precision: 0.057170\n",
      "recall: 0.057170\n",
      "Epoch 55, Time: 28.415392 (s)\n",
      "------------ train losses ------------\n",
      "rmse: 2.377229\n",
      "------------ train metrics ------------\n",
      "precision: 0.061279\n",
      "recall: 0.061279\n"
     ]
    },
    {
     "name": "stderr",
     "output_type": "stream",
     "text": [
      "\r",
      " 28%|██▊       | 55/200 [48:29<2:04:59, 51.72s/it]"
     ]
    },
    {
     "name": "stdout",
     "output_type": "stream",
     "text": [
      "------------ test losses ------------\n",
      "rmse: 2.661724\n",
      "------------ test metrics ------------\n",
      "precision: 0.057170\n",
      "recall: 0.057170\n",
      "Epoch 56, Time: 27.947361 (s)\n",
      "------------ train losses ------------\n",
      "rmse: 2.398342\n",
      "------------ train metrics ------------\n",
      "precision: 0.061245\n",
      "recall: 0.061245\n"
     ]
    },
    {
     "name": "stderr",
     "output_type": "stream",
     "text": [
      "\r",
      " 28%|██▊       | 56/200 [49:20<2:03:53, 51.62s/it]"
     ]
    },
    {
     "name": "stdout",
     "output_type": "stream",
     "text": [
      "------------ test losses ------------\n",
      "rmse: 2.659979\n",
      "------------ test metrics ------------\n",
      "precision: 0.057170\n",
      "recall: 0.057170\n",
      "Epoch 57, Time: 28.400263 (s)\n",
      "------------ train losses ------------\n",
      "rmse: 2.393876\n",
      "------------ train metrics ------------\n",
      "precision: 0.061223\n",
      "recall: 0.061223\n"
     ]
    },
    {
     "name": "stderr",
     "output_type": "stream",
     "text": [
      "\r",
      " 28%|██▊       | 57/200 [50:12<2:02:54, 51.57s/it]"
     ]
    },
    {
     "name": "stdout",
     "output_type": "stream",
     "text": [
      "------------ test losses ------------\n",
      "rmse: 2.659401\n",
      "------------ test metrics ------------\n",
      "precision: 0.057170\n",
      "recall: 0.057170\n",
      "Epoch 58, Time: 28.052635 (s)\n",
      "------------ train losses ------------\n",
      "rmse: 2.391179\n",
      "------------ train metrics ------------\n",
      "precision: 0.061212\n",
      "recall: 0.061212\n"
     ]
    },
    {
     "name": "stderr",
     "output_type": "stream",
     "text": [
      "\r",
      " 29%|██▉       | 58/200 [51:03<2:01:42, 51.42s/it]"
     ]
    },
    {
     "name": "stdout",
     "output_type": "stream",
     "text": [
      "------------ test losses ------------\n",
      "rmse: 2.673110\n",
      "------------ test metrics ------------\n",
      "precision: 0.057170\n",
      "recall: 0.057170\n",
      "Epoch 59, Time: 28.939720 (s)\n",
      "------------ train losses ------------\n",
      "rmse: 2.351973\n",
      "------------ train metrics ------------\n",
      "precision: 0.061212\n",
      "recall: 0.061212\n"
     ]
    },
    {
     "name": "stderr",
     "output_type": "stream",
     "text": [
      "\r",
      " 30%|██▉       | 59/200 [51:55<2:01:22, 51.65s/it]"
     ]
    },
    {
     "name": "stdout",
     "output_type": "stream",
     "text": [
      "------------ test losses ------------\n",
      "rmse: 2.611196\n",
      "------------ test metrics ------------\n",
      "precision: 0.057170\n",
      "recall: 0.057170\n",
      "Epoch 60, Time: 28.533570 (s)\n",
      "------------ train losses ------------\n",
      "rmse: 2.344359\n",
      "------------ train metrics ------------\n",
      "precision: 0.061190\n",
      "recall: 0.061190\n"
     ]
    },
    {
     "name": "stderr",
     "output_type": "stream",
     "text": [
      "\r",
      " 30%|███       | 60/200 [52:47<2:00:30, 51.65s/it]"
     ]
    },
    {
     "name": "stdout",
     "output_type": "stream",
     "text": [
      "------------ test losses ------------\n",
      "rmse: 2.657398\n",
      "------------ test metrics ------------\n",
      "precision: 0.057170\n",
      "recall: 0.057170\n",
      "Epoch 61, Time: 28.515738 (s)\n",
      "------------ train losses ------------\n",
      "rmse: 2.369442\n",
      "------------ train metrics ------------\n",
      "precision: 0.061157\n",
      "recall: 0.061157\n"
     ]
    },
    {
     "name": "stderr",
     "output_type": "stream",
     "text": [
      "\r",
      " 30%|███       | 61/200 [53:38<1:59:38, 51.65s/it]"
     ]
    },
    {
     "name": "stdout",
     "output_type": "stream",
     "text": [
      "------------ test losses ------------\n",
      "rmse: 2.657493\n",
      "------------ test metrics ------------\n",
      "precision: 0.057064\n",
      "recall: 0.057064\n",
      "Epoch 62, Time: 28.365752 (s)\n",
      "------------ train losses ------------\n",
      "rmse: 2.335211\n",
      "------------ train metrics ------------\n",
      "precision: 0.061124\n",
      "recall: 0.061124\n"
     ]
    },
    {
     "name": "stderr",
     "output_type": "stream",
     "text": [
      "\r",
      " 31%|███       | 62/200 [54:30<1:58:43, 51.62s/it]"
     ]
    },
    {
     "name": "stdout",
     "output_type": "stream",
     "text": [
      "------------ test losses ------------\n",
      "rmse: 2.629100\n",
      "------------ test metrics ------------\n",
      "precision: 0.057276\n",
      "recall: 0.057276\n",
      "Epoch 63, Time: 28.807214 (s)\n",
      "------------ train losses ------------\n",
      "rmse: 2.296774\n",
      "------------ train metrics ------------\n",
      "precision: 0.061157\n",
      "recall: 0.061157\n"
     ]
    },
    {
     "name": "stderr",
     "output_type": "stream",
     "text": [
      "\r",
      " 32%|███▏      | 63/200 [55:22<1:58:02, 51.70s/it]"
     ]
    },
    {
     "name": "stdout",
     "output_type": "stream",
     "text": [
      "------------ test losses ------------\n",
      "rmse: 2.619435\n",
      "------------ test metrics ------------\n",
      "precision: 0.057170\n",
      "recall: 0.057170\n",
      "Epoch 64, Time: 28.897282 (s)\n",
      "------------ train losses ------------\n",
      "rmse: 2.274517\n",
      "------------ train metrics ------------\n",
      "precision: 0.061135\n",
      "recall: 0.061135\n"
     ]
    },
    {
     "name": "stderr",
     "output_type": "stream",
     "text": [
      "\r",
      " 32%|███▏      | 64/200 [56:14<1:57:33, 51.87s/it]"
     ]
    },
    {
     "name": "stdout",
     "output_type": "stream",
     "text": [
      "------------ test losses ------------\n",
      "rmse: 2.614870\n",
      "------------ test metrics ------------\n",
      "precision: 0.057276\n",
      "recall: 0.057276\n",
      "Epoch 65, Time: 28.861219 (s)\n",
      "------------ train losses ------------\n",
      "rmse: 2.265771\n",
      "------------ train metrics ------------\n",
      "precision: 0.061102\n",
      "recall: 0.061102\n"
     ]
    },
    {
     "name": "stderr",
     "output_type": "stream",
     "text": [
      "\r",
      " 32%|███▎      | 65/200 [57:06<1:56:42, 51.87s/it]"
     ]
    },
    {
     "name": "stdout",
     "output_type": "stream",
     "text": [
      "------------ test losses ------------\n",
      "rmse: 2.567469\n",
      "------------ test metrics ------------\n",
      "precision: 0.057064\n",
      "recall: 0.057064\n",
      "Epoch 66, Time: 28.509403 (s)\n",
      "------------ train losses ------------\n",
      "rmse: 2.194774\n",
      "------------ train metrics ------------\n",
      "precision: 0.061113\n",
      "recall: 0.061113\n"
     ]
    },
    {
     "name": "stderr",
     "output_type": "stream",
     "text": [
      "\r",
      " 33%|███▎      | 66/200 [57:57<1:55:38, 51.78s/it]"
     ]
    },
    {
     "name": "stdout",
     "output_type": "stream",
     "text": [
      "------------ test losses ------------\n",
      "rmse: 2.526729\n",
      "------------ test metrics ------------\n",
      "precision: 0.057276\n",
      "recall: 0.057276\n",
      "Epoch 67, Time: 28.395545 (s)\n",
      "------------ train losses ------------\n",
      "rmse: 2.184232\n",
      "------------ train metrics ------------\n",
      "precision: 0.061102\n",
      "recall: 0.061102\n"
     ]
    },
    {
     "name": "stderr",
     "output_type": "stream",
     "text": [
      "\r",
      " 34%|███▎      | 67/200 [58:49<1:54:36, 51.70s/it]"
     ]
    },
    {
     "name": "stdout",
     "output_type": "stream",
     "text": [
      "------------ test losses ------------\n",
      "rmse: 2.518492\n",
      "------------ test metrics ------------\n",
      "precision: 0.057170\n",
      "recall: 0.057170\n",
      "Epoch 68, Time: 28.524751 (s)\n",
      "------------ train losses ------------\n",
      "rmse: 2.160063\n",
      "------------ train metrics ------------\n",
      "precision: 0.061058\n",
      "recall: 0.061058\n"
     ]
    },
    {
     "name": "stderr",
     "output_type": "stream",
     "text": [
      "\r",
      " 34%|███▍      | 68/200 [59:41<1:53:42, 51.69s/it]"
     ]
    },
    {
     "name": "stdout",
     "output_type": "stream",
     "text": [
      "------------ test losses ------------\n",
      "rmse: 2.501475\n",
      "------------ test metrics ------------\n",
      "precision: 0.057276\n",
      "recall: 0.057276\n",
      "Epoch 69, Time: 28.536224 (s)\n",
      "------------ train losses ------------\n",
      "rmse: 2.145070\n",
      "------------ train metrics ------------\n",
      "precision: 0.061047\n",
      "recall: 0.061047\n"
     ]
    },
    {
     "name": "stderr",
     "output_type": "stream",
     "text": [
      "\r",
      " 34%|███▍      | 69/200 [1:00:32<1:52:49, 51.68s/it]"
     ]
    },
    {
     "name": "stdout",
     "output_type": "stream",
     "text": [
      "------------ test losses ------------\n",
      "rmse: 2.467198\n",
      "------------ test metrics ------------\n",
      "precision: 0.057064\n",
      "recall: 0.057064\n",
      "Epoch 70, Time: 28.818050 (s)\n",
      "------------ train losses ------------\n",
      "rmse: 2.177855\n",
      "------------ train metrics ------------\n",
      "precision: 0.061058\n",
      "recall: 0.061058\n"
     ]
    },
    {
     "name": "stderr",
     "output_type": "stream",
     "text": [
      "\r",
      " 35%|███▌      | 70/200 [1:01:24<1:52:07, 51.75s/it]"
     ]
    },
    {
     "name": "stdout",
     "output_type": "stream",
     "text": [
      "------------ test losses ------------\n",
      "rmse: 2.519825\n",
      "------------ test metrics ------------\n",
      "precision: 0.057064\n",
      "recall: 0.057064\n",
      "Epoch 71, Time: 28.356278 (s)\n",
      "------------ train losses ------------\n",
      "rmse: 2.181091\n",
      "------------ train metrics ------------\n",
      "precision: 0.061091\n",
      "recall: 0.061091\n"
     ]
    },
    {
     "name": "stderr",
     "output_type": "stream",
     "text": [
      "\r",
      " 36%|███▌      | 71/200 [1:02:15<1:51:01, 51.64s/it]"
     ]
    },
    {
     "name": "stdout",
     "output_type": "stream",
     "text": [
      "------------ test losses ------------\n",
      "rmse: 2.532475\n",
      "------------ test metrics ------------\n",
      "precision: 0.057170\n",
      "recall: 0.057170\n",
      "Epoch 72, Time: 28.904248 (s)\n",
      "------------ train losses ------------\n",
      "rmse: 2.111530\n",
      "------------ train metrics ------------\n",
      "precision: 0.061036\n",
      "recall: 0.061036\n"
     ]
    },
    {
     "name": "stderr",
     "output_type": "stream",
     "text": [
      "\r",
      " 36%|███▌      | 72/200 [1:03:07<1:50:23, 51.75s/it]"
     ]
    },
    {
     "name": "stdout",
     "output_type": "stream",
     "text": [
      "------------ test losses ------------\n",
      "rmse: 2.431668\n",
      "------------ test metrics ------------\n",
      "precision: 0.057064\n",
      "recall: 0.057064\n",
      "Epoch 73, Time: 28.757079 (s)\n",
      "------------ train losses ------------\n",
      "rmse: 2.089125\n",
      "------------ train metrics ------------\n",
      "precision: 0.061025\n",
      "recall: 0.061025\n"
     ]
    },
    {
     "name": "stderr",
     "output_type": "stream",
     "text": [
      "\r",
      " 36%|███▋      | 73/200 [1:03:59<1:49:35, 51.77s/it]"
     ]
    },
    {
     "name": "stdout",
     "output_type": "stream",
     "text": [
      "------------ test losses ------------\n",
      "rmse: 2.438757\n",
      "------------ test metrics ------------\n",
      "precision: 0.057064\n",
      "recall: 0.057064\n",
      "Epoch 74, Time: 29.050917 (s)\n",
      "------------ train losses ------------\n",
      "rmse: 2.093999\n",
      "------------ train metrics ------------\n",
      "precision: 0.060936\n",
      "recall: 0.060936\n"
     ]
    },
    {
     "name": "stderr",
     "output_type": "stream",
     "text": [
      "\r",
      " 37%|███▋      | 74/200 [1:04:51<1:48:59, 51.90s/it]"
     ]
    },
    {
     "name": "stdout",
     "output_type": "stream",
     "text": [
      "------------ test losses ------------\n",
      "rmse: 2.397195\n",
      "------------ test metrics ------------\n",
      "precision: 0.056958\n",
      "recall: 0.056958\n",
      "Epoch 75, Time: 28.439135 (s)\n",
      "------------ train losses ------------\n",
      "rmse: 2.044125\n",
      "------------ train metrics ------------\n",
      "precision: 0.060969\n",
      "recall: 0.060969\n"
     ]
    },
    {
     "name": "stderr",
     "output_type": "stream",
     "text": [
      "\r",
      " 38%|███▊      | 75/200 [1:05:43<1:47:53, 51.79s/it]"
     ]
    },
    {
     "name": "stdout",
     "output_type": "stream",
     "text": [
      "------------ test losses ------------\n",
      "rmse: 2.367612\n",
      "------------ test metrics ------------\n",
      "precision: 0.057064\n",
      "recall: 0.057064\n",
      "Epoch 76, Time: 28.844200 (s)\n",
      "------------ train losses ------------\n",
      "rmse: 2.035718\n",
      "------------ train metrics ------------\n",
      "precision: 0.061003\n",
      "recall: 0.061003\n"
     ]
    },
    {
     "name": "stderr",
     "output_type": "stream",
     "text": [
      "\r",
      " 38%|███▊      | 76/200 [1:06:35<1:47:24, 51.97s/it]"
     ]
    },
    {
     "name": "stdout",
     "output_type": "stream",
     "text": [
      "------------ test losses ------------\n",
      "rmse: 2.385513\n",
      "------------ test metrics ------------\n",
      "precision: 0.057064\n",
      "recall: 0.057064\n",
      "Epoch 77, Time: 29.242234 (s)\n",
      "------------ train losses ------------\n",
      "rmse: 2.008907\n",
      "------------ train metrics ------------\n",
      "precision: 0.060892\n",
      "recall: 0.060892\n"
     ]
    },
    {
     "name": "stderr",
     "output_type": "stream",
     "text": [
      "\r",
      " 38%|███▊      | 77/200 [1:07:28<1:46:58, 52.18s/it]"
     ]
    },
    {
     "name": "stdout",
     "output_type": "stream",
     "text": [
      "------------ test losses ------------\n",
      "rmse: 2.359121\n",
      "------------ test metrics ------------\n",
      "precision: 0.056958\n",
      "recall: 0.056958\n",
      "Epoch 78, Time: 32.824273 (s)\n",
      "------------ train losses ------------\n",
      "rmse: 2.009753\n",
      "------------ train metrics ------------\n",
      "precision: 0.060859\n",
      "recall: 0.060859\n"
     ]
    },
    {
     "name": "stderr",
     "output_type": "stream",
     "text": [
      "\r",
      " 39%|███▉      | 78/200 [1:08:27<1:50:04, 54.13s/it]"
     ]
    },
    {
     "name": "stdout",
     "output_type": "stream",
     "text": [
      "------------ test losses ------------\n",
      "rmse: 2.350820\n",
      "------------ test metrics ------------\n",
      "precision: 0.057064\n",
      "recall: 0.057064\n",
      "Epoch 79, Time: 32.578817 (s)\n",
      "------------ train losses ------------\n",
      "rmse: 1.995827\n",
      "------------ train metrics ------------\n",
      "precision: 0.060859\n",
      "recall: 0.060859\n"
     ]
    },
    {
     "name": "stderr",
     "output_type": "stream",
     "text": [
      "\r",
      " 40%|███▉      | 79/200 [1:09:25<1:51:54, 55.49s/it]"
     ]
    },
    {
     "name": "stdout",
     "output_type": "stream",
     "text": [
      "------------ test losses ------------\n",
      "rmse: 2.343441\n",
      "------------ test metrics ------------\n",
      "precision: 0.057064\n",
      "recall: 0.057064\n",
      "Epoch 80, Time: 30.744882 (s)\n",
      "------------ train losses ------------\n",
      "rmse: 1.946060\n",
      "------------ train metrics ------------\n",
      "precision: 0.060881\n",
      "recall: 0.060881\n"
     ]
    },
    {
     "name": "stderr",
     "output_type": "stream",
     "text": [
      "\r",
      " 40%|████      | 80/200 [1:10:23<1:52:00, 56.00s/it]"
     ]
    },
    {
     "name": "stdout",
     "output_type": "stream",
     "text": [
      "------------ test losses ------------\n",
      "rmse: 2.305365\n",
      "------------ test metrics ------------\n",
      "precision: 0.056958\n",
      "recall: 0.056958\n",
      "Epoch 81, Time: 32.258024 (s)\n",
      "------------ train losses ------------\n",
      "rmse: 1.949213\n",
      "------------ train metrics ------------\n",
      "precision: 0.060859\n",
      "recall: 0.060859\n"
     ]
    },
    {
     "name": "stderr",
     "output_type": "stream",
     "text": [
      "\r",
      " 40%|████      | 81/200 [1:11:20<1:51:35, 56.27s/it]"
     ]
    },
    {
     "name": "stdout",
     "output_type": "stream",
     "text": [
      "------------ test losses ------------\n",
      "rmse: 2.311261\n",
      "------------ test metrics ------------\n",
      "precision: 0.056958\n",
      "recall: 0.056958\n",
      "Epoch 82, Time: 29.497951 (s)\n",
      "------------ train losses ------------\n",
      "rmse: 1.931809\n",
      "------------ train metrics ------------\n",
      "precision: 0.060826\n",
      "recall: 0.060826\n"
     ]
    },
    {
     "name": "stderr",
     "output_type": "stream",
     "text": [
      "\r",
      " 41%|████      | 82/200 [1:12:12<1:48:36, 55.22s/it]"
     ]
    },
    {
     "name": "stdout",
     "output_type": "stream",
     "text": [
      "------------ test losses ------------\n",
      "rmse: 2.281898\n",
      "------------ test metrics ------------\n",
      "precision: 0.056852\n",
      "recall: 0.056852\n",
      "Epoch 83, Time: 29.194666 (s)\n",
      "------------ train losses ------------\n",
      "rmse: 1.933205\n",
      "------------ train metrics ------------\n",
      "precision: 0.060804\n",
      "recall: 0.060804\n"
     ]
    },
    {
     "name": "stderr",
     "output_type": "stream",
     "text": [
      "\r",
      " 42%|████▏     | 83/200 [1:13:05<1:46:07, 54.42s/it]"
     ]
    },
    {
     "name": "stdout",
     "output_type": "stream",
     "text": [
      "------------ test losses ------------\n",
      "rmse: 2.293525\n",
      "------------ test metrics ------------\n",
      "precision: 0.056852\n",
      "recall: 0.056852\n",
      "Epoch 84, Time: 28.851993 (s)\n",
      "------------ train losses ------------\n",
      "rmse: 1.936204\n",
      "------------ train metrics ------------\n",
      "precision: 0.060804\n",
      "recall: 0.060804\n"
     ]
    },
    {
     "name": "stderr",
     "output_type": "stream",
     "text": [
      "\r",
      " 42%|████▏     | 84/200 [1:13:58<1:44:29, 54.05s/it]"
     ]
    },
    {
     "name": "stdout",
     "output_type": "stream",
     "text": [
      "------------ test losses ------------\n",
      "rmse: 2.261035\n",
      "------------ test metrics ------------\n",
      "precision: 0.056852\n",
      "recall: 0.056852\n",
      "Epoch 85, Time: 34.174471 (s)\n",
      "------------ train losses ------------\n",
      "rmse: 1.907886\n",
      "------------ train metrics ------------\n",
      "precision: 0.060881\n",
      "recall: 0.060881\n"
     ]
    },
    {
     "name": "stderr",
     "output_type": "stream",
     "text": [
      "\r",
      " 42%|████▎     | 85/200 [1:14:56<1:45:41, 55.14s/it]"
     ]
    },
    {
     "name": "stdout",
     "output_type": "stream",
     "text": [
      "------------ test losses ------------\n",
      "rmse: 2.278286\n",
      "------------ test metrics ------------\n",
      "precision: 0.056958\n",
      "recall: 0.056958\n",
      "Epoch 86, Time: 29.875480 (s)\n",
      "------------ train losses ------------\n",
      "rmse: 1.880614\n",
      "------------ train metrics ------------\n",
      "precision: 0.060804\n",
      "recall: 0.060804\n"
     ]
    },
    {
     "name": "stderr",
     "output_type": "stream",
     "text": [
      "\r",
      " 43%|████▎     | 86/200 [1:15:49<1:43:58, 54.72s/it]"
     ]
    },
    {
     "name": "stdout",
     "output_type": "stream",
     "text": [
      "------------ test losses ------------\n",
      "rmse: 2.244341\n",
      "------------ test metrics ------------\n",
      "precision: 0.056852\n",
      "recall: 0.056852\n",
      "Epoch 87, Time: 29.470102 (s)\n",
      "------------ train losses ------------\n",
      "rmse: 1.884783\n",
      "------------ train metrics ------------\n",
      "precision: 0.060793\n",
      "recall: 0.060793\n"
     ]
    },
    {
     "name": "stderr",
     "output_type": "stream",
     "text": [
      "\r",
      " 44%|████▎     | 87/200 [1:16:43<1:42:20, 54.34s/it]"
     ]
    },
    {
     "name": "stdout",
     "output_type": "stream",
     "text": [
      "------------ test losses ------------\n",
      "rmse: 2.228478\n",
      "------------ test metrics ------------\n",
      "precision: 0.056746\n",
      "recall: 0.056746\n",
      "Epoch 88, Time: 28.991143 (s)\n",
      "------------ train losses ------------\n",
      "rmse: 1.886335\n",
      "------------ train metrics ------------\n",
      "precision: 0.060914\n",
      "recall: 0.060914\n"
     ]
    },
    {
     "name": "stderr",
     "output_type": "stream",
     "text": [
      "\r",
      " 44%|████▍     | 88/200 [1:17:35<1:40:08, 53.65s/it]"
     ]
    },
    {
     "name": "stdout",
     "output_type": "stream",
     "text": [
      "------------ test losses ------------\n",
      "rmse: 2.212666\n",
      "------------ test metrics ------------\n",
      "precision: 0.056746\n",
      "recall: 0.056746\n",
      "Epoch 89, Time: 28.976121 (s)\n",
      "------------ train losses ------------\n",
      "rmse: 1.844355\n",
      "------------ train metrics ------------\n",
      "precision: 0.060749\n",
      "recall: 0.060749\n"
     ]
    },
    {
     "name": "stderr",
     "output_type": "stream",
     "text": [
      "\r",
      " 44%|████▍     | 89/200 [1:18:27<1:38:19, 53.15s/it]"
     ]
    },
    {
     "name": "stdout",
     "output_type": "stream",
     "text": [
      "------------ test losses ------------\n",
      "rmse: 2.206268\n",
      "------------ test metrics ------------\n",
      "precision: 0.056852\n",
      "recall: 0.056852\n",
      "Epoch 90, Time: 29.327816 (s)\n",
      "------------ train losses ------------\n",
      "rmse: 1.830675\n",
      "------------ train metrics ------------\n",
      "precision: 0.060837\n",
      "recall: 0.060837\n"
     ]
    },
    {
     "name": "stderr",
     "output_type": "stream",
     "text": [
      "\r",
      " 45%|████▌     | 90/200 [1:19:19<1:37:06, 52.97s/it]"
     ]
    },
    {
     "name": "stdout",
     "output_type": "stream",
     "text": [
      "------------ test losses ------------\n",
      "rmse: 2.183606\n",
      "------------ test metrics ------------\n",
      "precision: 0.056852\n",
      "recall: 0.056852\n",
      "Epoch 91, Time: 30.400219 (s)\n",
      "------------ train losses ------------\n",
      "rmse: 1.806505\n",
      "------------ train metrics ------------\n",
      "precision: 0.060859\n",
      "recall: 0.060859\n"
     ]
    },
    {
     "name": "stderr",
     "output_type": "stream",
     "text": [
      "\r",
      " 46%|████▌     | 91/200 [1:20:13<1:36:33, 53.15s/it]"
     ]
    },
    {
     "name": "stdout",
     "output_type": "stream",
     "text": [
      "------------ test losses ------------\n",
      "rmse: 2.189525\n",
      "------------ test metrics ------------\n",
      "precision: 0.056852\n",
      "recall: 0.056852\n",
      "Epoch 92, Time: 29.337966 (s)\n",
      "------------ train losses ------------\n",
      "rmse: 1.798041\n",
      "------------ train metrics ------------\n",
      "precision: 0.060881\n",
      "recall: 0.060881\n"
     ]
    },
    {
     "name": "stderr",
     "output_type": "stream",
     "text": [
      "\r",
      " 46%|████▌     | 92/200 [1:21:06<1:35:19, 52.96s/it]"
     ]
    },
    {
     "name": "stdout",
     "output_type": "stream",
     "text": [
      "------------ test losses ------------\n",
      "rmse: 2.185556\n",
      "------------ test metrics ------------\n",
      "precision: 0.056746\n",
      "recall: 0.056746\n",
      "Epoch 93, Time: 29.447812 (s)\n",
      "------------ train losses ------------\n",
      "rmse: 1.791053\n",
      "------------ train metrics ------------\n",
      "precision: 0.060804\n",
      "recall: 0.060804\n"
     ]
    },
    {
     "name": "stderr",
     "output_type": "stream",
     "text": [
      "\r",
      " 46%|████▋     | 93/200 [1:22:00<1:35:23, 53.49s/it]"
     ]
    },
    {
     "name": "stdout",
     "output_type": "stream",
     "text": [
      "------------ test losses ------------\n",
      "rmse: 2.165779\n",
      "------------ test metrics ------------\n",
      "precision: 0.056852\n",
      "recall: 0.056852\n",
      "Epoch 94, Time: 33.341258 (s)\n",
      "------------ train losses ------------\n",
      "rmse: 1.802446\n",
      "------------ train metrics ------------\n",
      "precision: 0.060859\n",
      "recall: 0.060859\n"
     ]
    },
    {
     "name": "stderr",
     "output_type": "stream",
     "text": [
      "\r",
      " 47%|████▋     | 94/200 [1:23:00<1:37:40, 55.29s/it]"
     ]
    },
    {
     "name": "stdout",
     "output_type": "stream",
     "text": [
      "------------ test losses ------------\n",
      "rmse: 2.178189\n",
      "------------ test metrics ------------\n",
      "precision: 0.056746\n",
      "recall: 0.056746\n",
      "Epoch 95, Time: 32.945597 (s)\n",
      "------------ train losses ------------\n",
      "rmse: 1.748352\n",
      "------------ train metrics ------------\n",
      "precision: 0.060815\n",
      "recall: 0.060815\n"
     ]
    },
    {
     "name": "stderr",
     "output_type": "stream",
     "text": [
      "\r",
      " 48%|████▊     | 95/200 [1:23:59<1:38:44, 56.42s/it]"
     ]
    },
    {
     "name": "stdout",
     "output_type": "stream",
     "text": [
      "------------ test losses ------------\n",
      "rmse: 2.126994\n",
      "------------ test metrics ------------\n",
      "precision: 0.056852\n",
      "recall: 0.056852\n",
      "Epoch 96, Time: 33.481512 (s)\n",
      "------------ train losses ------------\n",
      "rmse: 1.731464\n",
      "------------ train metrics ------------\n",
      "precision: 0.060760\n",
      "recall: 0.060760\n"
     ]
    },
    {
     "name": "stderr",
     "output_type": "stream",
     "text": [
      "\r",
      " 48%|████▊     | 96/200 [1:24:58<1:39:24, 57.35s/it]"
     ]
    },
    {
     "name": "stdout",
     "output_type": "stream",
     "text": [
      "------------ test losses ------------\n",
      "rmse: 2.124557\n",
      "------------ test metrics ------------\n",
      "precision: 0.056746\n",
      "recall: 0.056746\n",
      "Epoch 97, Time: 33.078556 (s)\n",
      "------------ train losses ------------\n",
      "rmse: 1.737912\n",
      "------------ train metrics ------------\n",
      "precision: 0.060881\n",
      "recall: 0.060881\n"
     ]
    },
    {
     "name": "stderr",
     "output_type": "stream",
     "text": [
      "\r",
      " 48%|████▊     | 97/200 [1:25:55<1:38:01, 57.11s/it]"
     ]
    },
    {
     "name": "stdout",
     "output_type": "stream",
     "text": [
      "------------ test losses ------------\n",
      "rmse: 2.118380\n",
      "------------ test metrics ------------\n",
      "precision: 0.056746\n",
      "recall: 0.056746\n",
      "Epoch 98, Time: 33.646400 (s)\n",
      "------------ train losses ------------\n",
      "rmse: 1.706958\n",
      "------------ train metrics ------------\n",
      "precision: 0.060815\n",
      "recall: 0.060815\n"
     ]
    },
    {
     "name": "stderr",
     "output_type": "stream",
     "text": [
      "\r",
      " 49%|████▉     | 98/200 [1:26:55<1:38:21, 57.86s/it]"
     ]
    },
    {
     "name": "stdout",
     "output_type": "stream",
     "text": [
      "------------ test losses ------------\n",
      "rmse: 2.103359\n",
      "------------ test metrics ------------\n",
      "precision: 0.056746\n",
      "recall: 0.056746\n",
      "Epoch 99, Time: 33.552629 (s)\n",
      "------------ train losses ------------\n",
      "rmse: 1.706089\n",
      "------------ train metrics ------------\n",
      "precision: 0.060771\n",
      "recall: 0.060771\n"
     ]
    },
    {
     "name": "stderr",
     "output_type": "stream",
     "text": [
      "\r",
      " 50%|████▉     | 99/200 [1:27:54<1:38:11, 58.33s/it]"
     ]
    },
    {
     "name": "stdout",
     "output_type": "stream",
     "text": [
      "------------ test losses ------------\n",
      "rmse: 2.096557\n",
      "------------ test metrics ------------\n",
      "precision: 0.056852\n",
      "recall: 0.056852\n",
      "Epoch 100, Time: 32.170264 (s)\n",
      "------------ train losses ------------\n",
      "rmse: 1.711338\n",
      "------------ train metrics ------------\n",
      "precision: 0.060815\n",
      "recall: 0.060815\n"
     ]
    },
    {
     "name": "stderr",
     "output_type": "stream",
     "text": [
      "\r",
      " 50%|█████     | 100/200 [1:28:53<1:37:34, 58.54s/it]"
     ]
    },
    {
     "name": "stdout",
     "output_type": "stream",
     "text": [
      "------------ test losses ------------\n",
      "rmse: 2.099799\n",
      "------------ test metrics ------------\n",
      "precision: 0.056746\n",
      "recall: 0.056746\n",
      "Epoch 101, Time: 33.672209 (s)\n",
      "------------ train losses ------------\n",
      "rmse: 1.705783\n",
      "------------ train metrics ------------\n",
      "precision: 0.060793\n",
      "recall: 0.060793\n"
     ]
    },
    {
     "name": "stderr",
     "output_type": "stream",
     "text": [
      "\r",
      " 50%|█████     | 101/200 [1:29:53<1:37:04, 58.83s/it]"
     ]
    },
    {
     "name": "stdout",
     "output_type": "stream",
     "text": [
      "------------ test losses ------------\n",
      "rmse: 2.104071\n",
      "------------ test metrics ------------\n",
      "precision: 0.056746\n",
      "recall: 0.056746\n",
      "Epoch 102, Time: 33.468113 (s)\n",
      "------------ train losses ------------\n",
      "rmse: 1.670120\n",
      "------------ train metrics ------------\n",
      "precision: 0.060815\n",
      "recall: 0.060815\n"
     ]
    },
    {
     "name": "stderr",
     "output_type": "stream",
     "text": [
      "\r",
      " 51%|█████     | 102/200 [1:30:52<1:36:19, 58.98s/it]"
     ]
    },
    {
     "name": "stdout",
     "output_type": "stream",
     "text": [
      "------------ test losses ------------\n",
      "rmse: 2.070846\n",
      "------------ test metrics ------------\n",
      "precision: 0.056746\n",
      "recall: 0.056746\n",
      "Epoch 103, Time: 33.340653 (s)\n",
      "------------ train losses ------------\n",
      "rmse: 1.661419\n",
      "------------ train metrics ------------\n",
      "precision: 0.060859\n",
      "recall: 0.060859\n"
     ]
    },
    {
     "name": "stderr",
     "output_type": "stream",
     "text": [
      "\r",
      " 52%|█████▏    | 103/200 [1:31:51<1:35:35, 59.13s/it]"
     ]
    },
    {
     "name": "stdout",
     "output_type": "stream",
     "text": [
      "------------ test losses ------------\n",
      "rmse: 2.049171\n",
      "------------ test metrics ------------\n",
      "precision: 0.056852\n",
      "recall: 0.056852\n",
      "Epoch 104, Time: 33.623957 (s)\n",
      "------------ train losses ------------\n",
      "rmse: 1.650882\n",
      "------------ train metrics ------------\n",
      "precision: 0.060782\n",
      "recall: 0.060782\n"
     ]
    },
    {
     "name": "stderr",
     "output_type": "stream",
     "text": [
      "\r",
      " 52%|█████▏    | 104/200 [1:32:51<1:34:52, 59.30s/it]"
     ]
    },
    {
     "name": "stdout",
     "output_type": "stream",
     "text": [
      "------------ test losses ------------\n",
      "rmse: 2.048421\n",
      "------------ test metrics ------------\n",
      "precision: 0.056852\n",
      "recall: 0.056852\n",
      "Epoch 105, Time: 33.857739 (s)\n",
      "------------ train losses ------------\n",
      "rmse: 1.658860\n",
      "------------ train metrics ------------\n",
      "precision: 0.060870\n",
      "recall: 0.060870\n"
     ]
    },
    {
     "name": "stderr",
     "output_type": "stream",
     "text": [
      "\r",
      " 52%|█████▎    | 105/200 [1:33:52<1:34:39, 59.78s/it]"
     ]
    },
    {
     "name": "stdout",
     "output_type": "stream",
     "text": [
      "------------ test losses ------------\n",
      "rmse: 2.043788\n",
      "------------ test metrics ------------\n",
      "precision: 0.056746\n",
      "recall: 0.056746\n",
      "Epoch 106, Time: 35.904847 (s)\n",
      "------------ train losses ------------\n",
      "rmse: 1.620125\n",
      "------------ train metrics ------------\n",
      "precision: 0.060804\n",
      "recall: 0.060804\n"
     ]
    },
    {
     "name": "stderr",
     "output_type": "stream",
     "text": [
      "\r",
      " 53%|█████▎    | 106/200 [1:34:53<1:34:06, 60.07s/it]"
     ]
    },
    {
     "name": "stdout",
     "output_type": "stream",
     "text": [
      "------------ test losses ------------\n",
      "rmse: 2.032486\n",
      "------------ test metrics ------------\n",
      "precision: 0.056958\n",
      "recall: 0.056958\n",
      "Epoch 107, Time: 31.876966 (s)\n",
      "------------ train losses ------------\n",
      "rmse: 1.610537\n",
      "------------ train metrics ------------\n",
      "precision: 0.060815\n",
      "recall: 0.060815\n"
     ]
    },
    {
     "name": "stderr",
     "output_type": "stream",
     "text": [
      "\r",
      " 54%|█████▎    | 107/200 [1:35:50<1:31:39, 59.13s/it]"
     ]
    },
    {
     "name": "stdout",
     "output_type": "stream",
     "text": [
      "------------ test losses ------------\n",
      "rmse: 2.005749\n",
      "------------ test metrics ------------\n",
      "precision: 0.056852\n",
      "recall: 0.056852\n",
      "Epoch 108, Time: 32.669910 (s)\n",
      "------------ train losses ------------\n",
      "rmse: 1.588863\n",
      "------------ train metrics ------------\n",
      "precision: 0.060837\n",
      "recall: 0.060837\n"
     ]
    },
    {
     "name": "stderr",
     "output_type": "stream",
     "text": [
      "\r",
      " 54%|█████▍    | 108/200 [1:36:49<1:30:49, 59.23s/it]"
     ]
    },
    {
     "name": "stdout",
     "output_type": "stream",
     "text": [
      "------------ test losses ------------\n",
      "rmse: 1.992752\n",
      "------------ test metrics ------------\n",
      "precision: 0.056958\n",
      "recall: 0.056958\n",
      "Epoch 109, Time: 34.385307 (s)\n",
      "------------ train losses ------------\n",
      "rmse: 1.600487\n",
      "------------ train metrics ------------\n",
      "precision: 0.060848\n",
      "recall: 0.060848\n"
     ]
    },
    {
     "name": "stderr",
     "output_type": "stream",
     "text": [
      "\r",
      " 55%|█████▍    | 109/200 [1:37:51<1:30:57, 59.97s/it]"
     ]
    },
    {
     "name": "stdout",
     "output_type": "stream",
     "text": [
      "------------ test losses ------------\n",
      "rmse: 1.999872\n",
      "------------ test metrics ------------\n",
      "precision: 0.056852\n",
      "recall: 0.056852\n",
      "Epoch 110, Time: 34.612864 (s)\n",
      "------------ train losses ------------\n",
      "rmse: 1.600696\n",
      "------------ train metrics ------------\n",
      "precision: 0.060826\n",
      "recall: 0.060826\n"
     ]
    },
    {
     "name": "stderr",
     "output_type": "stream",
     "text": [
      "\r",
      " 55%|█████▌    | 110/200 [1:38:55<1:32:05, 61.39s/it]"
     ]
    },
    {
     "name": "stdout",
     "output_type": "stream",
     "text": [
      "------------ test losses ------------\n",
      "rmse: 2.009981\n",
      "------------ test metrics ------------\n",
      "precision: 0.057064\n",
      "recall: 0.057064\n",
      "Epoch 111, Time: 32.363006 (s)\n",
      "------------ train losses ------------\n",
      "rmse: 1.582193\n",
      "------------ train metrics ------------\n",
      "precision: 0.060881\n",
      "recall: 0.060881\n"
     ]
    },
    {
     "name": "stderr",
     "output_type": "stream",
     "text": [
      "\r",
      " 56%|█████▌    | 111/200 [1:39:52<1:28:51, 59.90s/it]"
     ]
    },
    {
     "name": "stdout",
     "output_type": "stream",
     "text": [
      "------------ test losses ------------\n",
      "rmse: 1.988748\n",
      "------------ test metrics ------------\n",
      "precision: 0.056852\n",
      "recall: 0.056852\n",
      "Epoch 112, Time: 36.718926 (s)\n",
      "------------ train losses ------------\n",
      "rmse: 1.545666\n",
      "------------ train metrics ------------\n",
      "precision: 0.060826\n",
      "recall: 0.060826\n"
     ]
    },
    {
     "name": "stderr",
     "output_type": "stream",
     "text": [
      "\r",
      " 56%|█████▌    | 112/200 [1:40:54<1:29:00, 60.69s/it]"
     ]
    },
    {
     "name": "stdout",
     "output_type": "stream",
     "text": [
      "------------ test losses ------------\n",
      "rmse: 1.959089\n",
      "------------ test metrics ------------\n",
      "precision: 0.056958\n",
      "recall: 0.056958\n",
      "Epoch 113, Time: 33.351393 (s)\n",
      "------------ train losses ------------\n",
      "rmse: 1.531201\n",
      "------------ train metrics ------------\n",
      "precision: 0.060892\n",
      "recall: 0.060892\n"
     ]
    },
    {
     "name": "stderr",
     "output_type": "stream",
     "text": [
      "\r",
      " 56%|█████▋    | 113/200 [1:41:53<1:27:16, 60.19s/it]"
     ]
    },
    {
     "name": "stdout",
     "output_type": "stream",
     "text": [
      "------------ test losses ------------\n",
      "rmse: 1.954903\n",
      "------------ test metrics ------------\n",
      "precision: 0.057064\n",
      "recall: 0.057064\n",
      "Epoch 114, Time: 35.702593 (s)\n",
      "------------ train losses ------------\n",
      "rmse: 1.529105\n",
      "------------ train metrics ------------\n",
      "precision: 0.060903\n",
      "recall: 0.060903\n"
     ]
    },
    {
     "name": "stderr",
     "output_type": "stream",
     "text": [
      "\r",
      " 57%|█████▋    | 114/200 [1:42:57<1:27:50, 61.28s/it]"
     ]
    },
    {
     "name": "stdout",
     "output_type": "stream",
     "text": [
      "------------ test losses ------------\n",
      "rmse: 1.955276\n",
      "------------ test metrics ------------\n",
      "precision: 0.057064\n",
      "recall: 0.057064\n",
      "Epoch 115, Time: 33.799351 (s)\n",
      "------------ train losses ------------\n",
      "rmse: 1.522148\n",
      "------------ train metrics ------------\n",
      "precision: 0.060914\n",
      "recall: 0.060914\n"
     ]
    },
    {
     "name": "stderr",
     "output_type": "stream",
     "text": [
      "\r",
      " 57%|█████▊    | 115/200 [1:43:57<1:26:01, 60.73s/it]"
     ]
    },
    {
     "name": "stdout",
     "output_type": "stream",
     "text": [
      "------------ test losses ------------\n",
      "rmse: 1.941338\n",
      "------------ test metrics ------------\n",
      "precision: 0.057064\n",
      "recall: 0.057064\n",
      "Epoch 116, Time: 33.539140 (s)\n",
      "------------ train losses ------------\n",
      "rmse: 1.499317\n",
      "------------ train metrics ------------\n",
      "precision: 0.060870\n",
      "recall: 0.060870\n"
     ]
    },
    {
     "name": "stderr",
     "output_type": "stream",
     "text": [
      "\r",
      " 58%|█████▊    | 116/200 [1:44:54<1:23:28, 59.62s/it]"
     ]
    },
    {
     "name": "stdout",
     "output_type": "stream",
     "text": [
      "------------ test losses ------------\n",
      "rmse: 1.925040\n",
      "------------ test metrics ------------\n",
      "precision: 0.057276\n",
      "recall: 0.057276\n",
      "Epoch 117, Time: 30.312474 (s)\n",
      "------------ train losses ------------\n",
      "rmse: 1.502960\n",
      "------------ train metrics ------------\n",
      "precision: 0.060903\n",
      "recall: 0.060903\n"
     ]
    },
    {
     "name": "stderr",
     "output_type": "stream",
     "text": [
      "\r",
      " 58%|█████▊    | 117/200 [1:45:47<1:20:00, 57.84s/it]"
     ]
    },
    {
     "name": "stdout",
     "output_type": "stream",
     "text": [
      "------------ test losses ------------\n",
      "rmse: 1.914939\n",
      "------------ test metrics ------------\n",
      "precision: 0.057064\n",
      "recall: 0.057064\n",
      "Epoch 118, Time: 30.276185 (s)\n",
      "------------ train losses ------------\n",
      "rmse: 1.480784\n",
      "------------ train metrics ------------\n",
      "precision: 0.061036\n",
      "recall: 0.061036\n"
     ]
    },
    {
     "name": "stderr",
     "output_type": "stream",
     "text": [
      "\r",
      " 59%|█████▉    | 118/200 [1:46:41<1:17:15, 56.53s/it]"
     ]
    },
    {
     "name": "stdout",
     "output_type": "stream",
     "text": [
      "------------ test losses ------------\n",
      "rmse: 1.888121\n",
      "------------ test metrics ------------\n",
      "precision: 0.057170\n",
      "recall: 0.057170\n",
      "Epoch 119, Time: 30.010936 (s)\n",
      "------------ train losses ------------\n",
      "rmse: 1.468330\n",
      "------------ train metrics ------------\n",
      "precision: 0.060903\n",
      "recall: 0.060903\n"
     ]
    },
    {
     "name": "stderr",
     "output_type": "stream",
     "text": [
      "\r",
      " 60%|█████▉    | 119/200 [1:47:35<1:15:13, 55.72s/it]"
     ]
    },
    {
     "name": "stdout",
     "output_type": "stream",
     "text": [
      "------------ test losses ------------\n",
      "rmse: 1.889515\n",
      "------------ test metrics ------------\n",
      "precision: 0.057170\n",
      "recall: 0.057170\n",
      "Epoch 120, Time: 30.057488 (s)\n",
      "------------ train losses ------------\n",
      "rmse: 1.464611\n",
      "------------ train metrics ------------\n",
      "precision: 0.060936\n",
      "recall: 0.060936\n"
     ]
    },
    {
     "name": "stderr",
     "output_type": "stream",
     "text": [
      "\r",
      " 60%|██████    | 120/200 [1:48:28<1:13:19, 54.99s/it]"
     ]
    },
    {
     "name": "stdout",
     "output_type": "stream",
     "text": [
      "------------ test losses ------------\n",
      "rmse: 1.876981\n",
      "------------ test metrics ------------\n",
      "precision: 0.057170\n",
      "recall: 0.057170\n",
      "Epoch 121, Time: 30.258404 (s)\n",
      "------------ train losses ------------\n",
      "rmse: 1.488404\n",
      "------------ train metrics ------------\n",
      "precision: 0.060760\n",
      "recall: 0.060760\n"
     ]
    },
    {
     "name": "stderr",
     "output_type": "stream",
     "text": [
      "\r",
      " 60%|██████    | 121/200 [1:49:23<1:12:23, 54.98s/it]"
     ]
    },
    {
     "name": "stdout",
     "output_type": "stream",
     "text": [
      "------------ test losses ------------\n",
      "rmse: 1.897868\n",
      "------------ test metrics ------------\n",
      "precision: 0.057064\n",
      "recall: 0.057064\n",
      "Epoch 122, Time: 30.773167 (s)\n",
      "------------ train losses ------------\n",
      "rmse: 1.467862\n",
      "------------ train metrics ------------\n",
      "precision: 0.060815\n",
      "recall: 0.060815\n"
     ]
    },
    {
     "name": "stderr",
     "output_type": "stream",
     "text": [
      "\r",
      " 61%|██████    | 122/200 [1:50:18<1:11:30, 55.01s/it]"
     ]
    },
    {
     "name": "stdout",
     "output_type": "stream",
     "text": [
      "------------ test losses ------------\n",
      "rmse: 1.878347\n",
      "------------ test metrics ------------\n",
      "precision: 0.057064\n",
      "recall: 0.057064\n",
      "Epoch 123, Time: 29.640763 (s)\n",
      "------------ train losses ------------\n",
      "rmse: 1.432035\n",
      "------------ train metrics ------------\n",
      "precision: 0.060914\n",
      "recall: 0.060914\n"
     ]
    },
    {
     "name": "stderr",
     "output_type": "stream",
     "text": [
      "\r",
      " 62%|██████▏   | 123/200 [1:51:11<1:09:52, 54.45s/it]"
     ]
    },
    {
     "name": "stdout",
     "output_type": "stream",
     "text": [
      "------------ test losses ------------\n",
      "rmse: 1.851803\n",
      "------------ test metrics ------------\n",
      "precision: 0.057170\n",
      "recall: 0.057170\n",
      "Epoch 124, Time: 29.953332 (s)\n",
      "------------ train losses ------------\n",
      "rmse: 1.427363\n",
      "------------ train metrics ------------\n",
      "precision: 0.060881\n",
      "recall: 0.060881\n"
     ]
    },
    {
     "name": "stderr",
     "output_type": "stream",
     "text": [
      "\r",
      " 62%|██████▏   | 124/200 [1:52:04<1:08:30, 54.08s/it]"
     ]
    },
    {
     "name": "stdout",
     "output_type": "stream",
     "text": [
      "------------ test losses ------------\n",
      "rmse: 1.846580\n",
      "------------ test metrics ------------\n",
      "precision: 0.057064\n",
      "recall: 0.057064\n",
      "Epoch 125, Time: 31.712756 (s)\n",
      "------------ train losses ------------\n",
      "rmse: 1.407808\n",
      "------------ train metrics ------------\n",
      "precision: 0.060793\n",
      "recall: 0.060793\n"
     ]
    },
    {
     "name": "stderr",
     "output_type": "stream",
     "text": [
      "\r",
      " 62%|██████▎   | 125/200 [1:53:04<1:09:29, 55.60s/it]"
     ]
    },
    {
     "name": "stdout",
     "output_type": "stream",
     "text": [
      "------------ test losses ------------\n",
      "rmse: 1.836178\n",
      "------------ test metrics ------------\n",
      "precision: 0.057170\n",
      "recall: 0.057170\n",
      "Epoch 126, Time: 35.903774 (s)\n",
      "------------ train losses ------------\n",
      "rmse: 1.401729\n",
      "------------ train metrics ------------\n",
      "precision: 0.060914\n",
      "recall: 0.060914\n"
     ]
    },
    {
     "name": "stderr",
     "output_type": "stream",
     "text": [
      "\r",
      " 63%|██████▎   | 126/200 [1:54:06<1:11:08, 57.68s/it]"
     ]
    },
    {
     "name": "stdout",
     "output_type": "stream",
     "text": [
      "------------ test losses ------------\n",
      "rmse: 1.821052\n",
      "------------ test metrics ------------\n",
      "precision: 0.056958\n",
      "recall: 0.056958\n",
      "Epoch 127, Time: 36.042019 (s)\n",
      "------------ train losses ------------\n",
      "rmse: 1.393185\n",
      "------------ train metrics ------------\n",
      "precision: 0.060826\n",
      "recall: 0.060826\n"
     ]
    },
    {
     "name": "stderr",
     "output_type": "stream",
     "text": [
      "\r",
      " 64%|██████▎   | 127/200 [1:55:08<1:11:32, 58.80s/it]"
     ]
    },
    {
     "name": "stdout",
     "output_type": "stream",
     "text": [
      "------------ test losses ------------\n",
      "rmse: 1.823967\n",
      "------------ test metrics ------------\n",
      "precision: 0.057170\n",
      "recall: 0.057170\n",
      "Epoch 128, Time: 29.993056 (s)\n",
      "------------ train losses ------------\n",
      "rmse: 1.382088\n",
      "------------ train metrics ------------\n",
      "precision: 0.060947\n",
      "recall: 0.060947\n"
     ]
    },
    {
     "name": "stderr",
     "output_type": "stream",
     "text": [
      "\r",
      " 64%|██████▍   | 128/200 [1:56:01<1:08:30, 57.09s/it]"
     ]
    },
    {
     "name": "stdout",
     "output_type": "stream",
     "text": [
      "------------ test losses ------------\n",
      "rmse: 1.812712\n",
      "------------ test metrics ------------\n",
      "precision: 0.057170\n",
      "recall: 0.057170\n",
      "Epoch 129, Time: 30.006588 (s)\n",
      "------------ train losses ------------\n",
      "rmse: 1.399479\n",
      "------------ train metrics ------------\n",
      "precision: 0.060903\n",
      "recall: 0.060903\n"
     ]
    },
    {
     "name": "stderr",
     "output_type": "stream",
     "text": [
      "\r",
      " 64%|██████▍   | 129/200 [1:56:54<1:06:09, 55.91s/it]"
     ]
    },
    {
     "name": "stdout",
     "output_type": "stream",
     "text": [
      "------------ test losses ------------\n",
      "rmse: 1.820062\n",
      "------------ test metrics ------------\n",
      "precision: 0.057170\n",
      "recall: 0.057170\n",
      "Epoch 130, Time: 29.657541 (s)\n",
      "------------ train losses ------------\n",
      "rmse: 1.366612\n",
      "------------ train metrics ------------\n",
      "precision: 0.060936\n",
      "recall: 0.060936\n"
     ]
    },
    {
     "name": "stderr",
     "output_type": "stream",
     "text": [
      "\r",
      " 65%|██████▌   | 130/200 [1:57:47<1:04:07, 54.97s/it]"
     ]
    },
    {
     "name": "stdout",
     "output_type": "stream",
     "text": [
      "------------ test losses ------------\n",
      "rmse: 1.794089\n",
      "------------ test metrics ------------\n",
      "precision: 0.057170\n",
      "recall: 0.057170\n",
      "Epoch 131, Time: 32.246040 (s)\n",
      "------------ train losses ------------\n",
      "rmse: 1.380602\n",
      "------------ train metrics ------------\n",
      "precision: 0.060870\n",
      "recall: 0.060870\n"
     ]
    },
    {
     "name": "stderr",
     "output_type": "stream",
     "text": [
      "\r",
      " 66%|██████▌   | 131/200 [1:58:46<1:04:52, 56.42s/it]"
     ]
    },
    {
     "name": "stdout",
     "output_type": "stream",
     "text": [
      "------------ test losses ------------\n",
      "rmse: 1.804536\n",
      "------------ test metrics ------------\n",
      "precision: 0.057170\n",
      "recall: 0.057170\n",
      "Epoch 132, Time: 33.408160 (s)\n",
      "------------ train losses ------------\n",
      "rmse: 1.358842\n",
      "------------ train metrics ------------\n",
      "precision: 0.061003\n",
      "recall: 0.061003\n"
     ]
    },
    {
     "name": "stderr",
     "output_type": "stream",
     "text": [
      "\r",
      " 66%|██████▌   | 132/200 [1:59:45<1:04:35, 56.99s/it]"
     ]
    },
    {
     "name": "stdout",
     "output_type": "stream",
     "text": [
      "------------ test losses ------------\n",
      "rmse: 1.777275\n",
      "------------ test metrics ------------\n",
      "precision: 0.056958\n",
      "recall: 0.056958\n",
      "Epoch 133, Time: 34.782329 (s)\n",
      "------------ train losses ------------\n",
      "rmse: 1.345548\n",
      "------------ train metrics ------------\n",
      "precision: 0.060958\n",
      "recall: 0.060958\n"
     ]
    },
    {
     "name": "stderr",
     "output_type": "stream",
     "text": [
      "\r",
      " 66%|██████▋   | 133/200 [2:00:46<1:04:58, 58.19s/it]"
     ]
    },
    {
     "name": "stdout",
     "output_type": "stream",
     "text": [
      "------------ test losses ------------\n",
      "rmse: 1.774467\n",
      "------------ test metrics ------------\n",
      "precision: 0.057170\n",
      "recall: 0.057170\n",
      "Epoch 134, Time: 34.308849 (s)\n",
      "------------ train losses ------------\n",
      "rmse: 1.332245\n",
      "------------ train metrics ------------\n",
      "precision: 0.060958\n",
      "recall: 0.060958\n"
     ]
    },
    {
     "name": "stderr",
     "output_type": "stream",
     "text": [
      "\r",
      " 67%|██████▋   | 134/200 [2:01:47<1:05:03, 59.14s/it]"
     ]
    },
    {
     "name": "stdout",
     "output_type": "stream",
     "text": [
      "------------ test losses ------------\n",
      "rmse: 1.757685\n",
      "------------ test metrics ------------\n",
      "precision: 0.057170\n",
      "recall: 0.057170\n",
      "Epoch 135, Time: 34.494395 (s)\n",
      "------------ train losses ------------\n",
      "rmse: 1.336622\n",
      "------------ train metrics ------------\n",
      "precision: 0.060936\n",
      "recall: 0.060936\n"
     ]
    },
    {
     "name": "stderr",
     "output_type": "stream",
     "text": [
      "\r",
      " 68%|██████▊   | 135/200 [2:02:50<1:05:13, 60.20s/it]"
     ]
    },
    {
     "name": "stdout",
     "output_type": "stream",
     "text": [
      "------------ test losses ------------\n",
      "rmse: 1.764494\n",
      "------------ test metrics ------------\n",
      "precision: 0.057064\n",
      "recall: 0.057064\n",
      "Epoch 136, Time: 31.309649 (s)\n",
      "------------ train losses ------------\n",
      "rmse: 1.326950\n",
      "------------ train metrics ------------\n",
      "precision: 0.060881\n",
      "recall: 0.060881\n"
     ]
    },
    {
     "name": "stderr",
     "output_type": "stream",
     "text": [
      "\r",
      " 68%|██████▊   | 136/200 [2:03:44<1:02:23, 58.49s/it]"
     ]
    },
    {
     "name": "stdout",
     "output_type": "stream",
     "text": [
      "------------ test losses ------------\n",
      "rmse: 1.752118\n",
      "------------ test metrics ------------\n",
      "precision: 0.056958\n",
      "recall: 0.056958\n",
      "Epoch 137, Time: 30.041155 (s)\n",
      "------------ train losses ------------\n",
      "rmse: 1.323217\n",
      "------------ train metrics ------------\n",
      "precision: 0.060936\n",
      "recall: 0.060936\n"
     ]
    },
    {
     "name": "stderr",
     "output_type": "stream",
     "text": [
      "\r",
      " 68%|██████▊   | 137/200 [2:04:37<59:45, 56.91s/it]  "
     ]
    },
    {
     "name": "stdout",
     "output_type": "stream",
     "text": [
      "------------ test losses ------------\n",
      "rmse: 1.744713\n",
      "------------ test metrics ------------\n",
      "precision: 0.056958\n",
      "recall: 0.056958\n",
      "Epoch 138, Time: 32.494159 (s)\n",
      "------------ train losses ------------\n",
      "rmse: 1.304875\n",
      "------------ train metrics ------------\n",
      "precision: 0.060793\n",
      "recall: 0.060793\n"
     ]
    },
    {
     "name": "stderr",
     "output_type": "stream",
     "text": [
      "\r",
      " 69%|██████▉   | 138/200 [2:05:35<58:55, 57.03s/it]"
     ]
    },
    {
     "name": "stdout",
     "output_type": "stream",
     "text": [
      "------------ test losses ------------\n",
      "rmse: 1.736796\n",
      "------------ test metrics ------------\n",
      "precision: 0.057064\n",
      "recall: 0.057064\n",
      "Epoch 139, Time: 34.841130 (s)\n",
      "------------ train losses ------------\n",
      "rmse: 1.291330\n",
      "------------ train metrics ------------\n",
      "precision: 0.061047\n",
      "recall: 0.061047\n"
     ]
    },
    {
     "name": "stderr",
     "output_type": "stream",
     "text": [
      "\r",
      " 70%|██████▉   | 139/200 [2:06:38<59:56, 58.97s/it]"
     ]
    },
    {
     "name": "stdout",
     "output_type": "stream",
     "text": [
      "------------ test losses ------------\n",
      "rmse: 1.711552\n",
      "------------ test metrics ------------\n",
      "precision: 0.056852\n",
      "recall: 0.056852\n",
      "Epoch 140, Time: 36.662080 (s)\n",
      "------------ train losses ------------\n",
      "rmse: 1.282782\n",
      "------------ train metrics ------------\n",
      "precision: 0.060848\n",
      "recall: 0.060848\n"
     ]
    },
    {
     "name": "stderr",
     "output_type": "stream",
     "text": [
      "\r",
      " 70%|███████   | 140/200 [2:07:41<1:00:02, 60.03s/it]"
     ]
    },
    {
     "name": "stdout",
     "output_type": "stream",
     "text": [
      "------------ test losses ------------\n",
      "rmse: 1.717401\n",
      "------------ test metrics ------------\n",
      "precision: 0.057064\n",
      "recall: 0.057064\n",
      "Epoch 141, Time: 35.482937 (s)\n",
      "------------ train losses ------------\n",
      "rmse: 1.281267\n",
      "------------ train metrics ------------\n",
      "precision: 0.060947\n",
      "recall: 0.060947\n"
     ]
    },
    {
     "name": "stderr",
     "output_type": "stream",
     "text": [
      "\r",
      " 70%|███████   | 141/200 [2:08:45<1:00:21, 61.38s/it]"
     ]
    },
    {
     "name": "stdout",
     "output_type": "stream",
     "text": [
      "------------ test losses ------------\n",
      "rmse: 1.714742\n",
      "------------ test metrics ------------\n",
      "precision: 0.057064\n",
      "recall: 0.057064\n",
      "Epoch 142, Time: 33.088414 (s)\n",
      "------------ train losses ------------\n",
      "rmse: 1.271516\n",
      "------------ train metrics ------------\n",
      "precision: 0.060936\n",
      "recall: 0.060936\n"
     ]
    },
    {
     "name": "stderr",
     "output_type": "stream",
     "text": [
      "\r",
      " 71%|███████   | 142/200 [2:09:42<58:02, 60.04s/it]  "
     ]
    },
    {
     "name": "stdout",
     "output_type": "stream",
     "text": [
      "------------ test losses ------------\n",
      "rmse: 1.702621\n",
      "------------ test metrics ------------\n",
      "precision: 0.056852\n",
      "recall: 0.056852\n",
      "Epoch 143, Time: 30.644162 (s)\n",
      "------------ train losses ------------\n",
      "rmse: 1.260689\n",
      "------------ train metrics ------------\n",
      "precision: 0.060892\n",
      "recall: 0.060892\n"
     ]
    },
    {
     "name": "stderr",
     "output_type": "stream",
     "text": [
      "\r",
      " 72%|███████▏  | 143/200 [2:10:38<55:42, 58.64s/it]"
     ]
    },
    {
     "name": "stdout",
     "output_type": "stream",
     "text": [
      "------------ test losses ------------\n",
      "rmse: 1.707782\n",
      "------------ test metrics ------------\n",
      "precision: 0.057064\n",
      "recall: 0.057064\n",
      "Epoch 144, Time: 31.634985 (s)\n",
      "------------ train losses ------------\n",
      "rmse: 1.247134\n",
      "------------ train metrics ------------\n",
      "precision: 0.061003\n",
      "recall: 0.061003\n"
     ]
    },
    {
     "name": "stderr",
     "output_type": "stream",
     "text": [
      "\r",
      " 72%|███████▏  | 144/200 [2:11:33<53:56, 57.80s/it]"
     ]
    },
    {
     "name": "stdout",
     "output_type": "stream",
     "text": [
      "------------ test losses ------------\n",
      "rmse: 1.681720\n",
      "------------ test metrics ------------\n",
      "precision: 0.056958\n",
      "recall: 0.056958\n",
      "Epoch 145, Time: 34.475286 (s)\n",
      "------------ train losses ------------\n",
      "rmse: 1.241585\n",
      "------------ train metrics ------------\n",
      "precision: 0.060980\n",
      "recall: 0.060980\n"
     ]
    },
    {
     "name": "stderr",
     "output_type": "stream",
     "text": [
      "\r",
      " 72%|███████▎  | 145/200 [2:12:35<54:08, 59.06s/it]"
     ]
    },
    {
     "name": "stdout",
     "output_type": "stream",
     "text": [
      "------------ test losses ------------\n",
      "rmse: 1.680226\n",
      "------------ test metrics ------------\n",
      "precision: 0.057064\n",
      "recall: 0.057064\n",
      "Epoch 146, Time: 32.692609 (s)\n",
      "------------ train losses ------------\n",
      "rmse: 1.232857\n",
      "------------ train metrics ------------\n",
      "precision: 0.060991\n",
      "recall: 0.060991\n"
     ]
    },
    {
     "name": "stderr",
     "output_type": "stream",
     "text": [
      "\r",
      " 73%|███████▎  | 146/200 [2:13:31<52:16, 58.09s/it]"
     ]
    },
    {
     "name": "stdout",
     "output_type": "stream",
     "text": [
      "------------ test losses ------------\n",
      "rmse: 1.677870\n",
      "------------ test metrics ------------\n",
      "precision: 0.057064\n",
      "recall: 0.057064\n",
      "Epoch 147, Time: 30.632395 (s)\n",
      "------------ train losses ------------\n",
      "rmse: 1.227478\n",
      "------------ train metrics ------------\n",
      "precision: 0.061003\n",
      "recall: 0.061003\n"
     ]
    },
    {
     "name": "stderr",
     "output_type": "stream",
     "text": [
      "\r",
      " 74%|███████▎  | 147/200 [2:14:26<50:21, 57.00s/it]"
     ]
    },
    {
     "name": "stdout",
     "output_type": "stream",
     "text": [
      "------------ test losses ------------\n",
      "rmse: 1.668201\n",
      "------------ test metrics ------------\n",
      "precision: 0.057064\n",
      "recall: 0.057064\n",
      "Epoch 148, Time: 30.956848 (s)\n",
      "------------ train losses ------------\n",
      "rmse: 1.223613\n",
      "------------ train metrics ------------\n",
      "precision: 0.060991\n",
      "recall: 0.060991\n"
     ]
    },
    {
     "name": "stderr",
     "output_type": "stream",
     "text": [
      "\r",
      " 74%|███████▍  | 148/200 [2:15:21<48:50, 56.37s/it]"
     ]
    },
    {
     "name": "stdout",
     "output_type": "stream",
     "text": [
      "------------ test losses ------------\n",
      "rmse: 1.658429\n",
      "------------ test metrics ------------\n",
      "precision: 0.057064\n",
      "recall: 0.057064\n",
      "Epoch 149, Time: 31.935812 (s)\n",
      "------------ train losses ------------\n",
      "rmse: 1.213248\n",
      "------------ train metrics ------------\n",
      "precision: 0.061014\n",
      "recall: 0.061014\n"
     ]
    },
    {
     "name": "stderr",
     "output_type": "stream",
     "text": [
      "\r",
      " 74%|███████▍  | 149/200 [2:16:17<47:54, 56.37s/it]"
     ]
    },
    {
     "name": "stdout",
     "output_type": "stream",
     "text": [
      "------------ test losses ------------\n",
      "rmse: 1.656194\n",
      "------------ test metrics ------------\n",
      "precision: 0.057064\n",
      "recall: 0.057064\n",
      "Epoch 150, Time: 33.337514 (s)\n",
      "------------ train losses ------------\n",
      "rmse: 1.199878\n",
      "------------ train metrics ------------\n",
      "precision: 0.061003\n",
      "recall: 0.061003\n"
     ]
    },
    {
     "name": "stderr",
     "output_type": "stream",
     "text": [
      "\r",
      " 75%|███████▌  | 150/200 [2:17:14<47:05, 56.51s/it]"
     ]
    },
    {
     "name": "stdout",
     "output_type": "stream",
     "text": [
      "------------ test losses ------------\n",
      "rmse: 1.640974\n",
      "------------ test metrics ------------\n",
      "precision: 0.057170\n",
      "recall: 0.057170\n",
      "Epoch 151, Time: 31.377670 (s)\n",
      "------------ train losses ------------\n",
      "rmse: 1.204893\n",
      "------------ train metrics ------------\n",
      "precision: 0.061047\n",
      "recall: 0.061047\n"
     ]
    },
    {
     "name": "stderr",
     "output_type": "stream",
     "text": [
      "\r",
      " 76%|███████▌  | 151/200 [2:18:09<45:52, 56.18s/it]"
     ]
    },
    {
     "name": "stdout",
     "output_type": "stream",
     "text": [
      "------------ test losses ------------\n",
      "rmse: 1.637981\n",
      "------------ test metrics ------------\n",
      "precision: 0.056958\n",
      "recall: 0.056958\n",
      "Epoch 152, Time: 39.697323 (s)\n",
      "------------ train losses ------------\n",
      "rmse: 1.191865\n",
      "------------ train metrics ------------\n",
      "precision: 0.060969\n",
      "recall: 0.060969\n"
     ]
    },
    {
     "name": "stderr",
     "output_type": "stream",
     "text": [
      "\r",
      " 76%|███████▌  | 152/200 [2:19:17<47:39, 59.58s/it]"
     ]
    },
    {
     "name": "stdout",
     "output_type": "stream",
     "text": [
      "------------ test losses ------------\n",
      "rmse: 1.627893\n",
      "------------ test metrics ------------\n",
      "precision: 0.057064\n",
      "recall: 0.057064\n",
      "Epoch 153, Time: 31.802607 (s)\n",
      "------------ train losses ------------\n",
      "rmse: 1.180935\n",
      "------------ train metrics ------------\n",
      "precision: 0.060991\n",
      "recall: 0.060991\n"
     ]
    },
    {
     "name": "stderr",
     "output_type": "stream",
     "text": [
      "\r",
      " 76%|███████▋  | 153/200 [2:20:12<45:39, 58.30s/it]"
     ]
    },
    {
     "name": "stdout",
     "output_type": "stream",
     "text": [
      "------------ test losses ------------\n",
      "rmse: 1.625117\n",
      "------------ test metrics ------------\n",
      "precision: 0.057170\n",
      "recall: 0.057170\n",
      "Epoch 154, Time: 31.327795 (s)\n",
      "------------ train losses ------------\n",
      "rmse: 1.181779\n",
      "------------ train metrics ------------\n",
      "precision: 0.061091\n",
      "recall: 0.061091\n"
     ]
    },
    {
     "name": "stderr",
     "output_type": "stream",
     "text": [
      "\r",
      " 77%|███████▋  | 154/200 [2:21:07<43:52, 57.22s/it]"
     ]
    },
    {
     "name": "stdout",
     "output_type": "stream",
     "text": [
      "------------ test losses ------------\n",
      "rmse: 1.617053\n",
      "------------ test metrics ------------\n",
      "precision: 0.057064\n",
      "recall: 0.057064\n",
      "Epoch 155, Time: 34.372029 (s)\n",
      "------------ train losses ------------\n",
      "rmse: 1.166896\n",
      "------------ train metrics ------------\n",
      "precision: 0.060991\n",
      "recall: 0.060991\n"
     ]
    },
    {
     "name": "stderr",
     "output_type": "stream",
     "text": [
      "\r",
      " 78%|███████▊  | 155/200 [2:22:07<43:40, 58.24s/it]"
     ]
    },
    {
     "name": "stdout",
     "output_type": "stream",
     "text": [
      "------------ test losses ------------\n",
      "rmse: 1.608487\n",
      "------------ test metrics ------------\n",
      "precision: 0.057170\n",
      "recall: 0.057170\n",
      "Epoch 156, Time: 34.138866 (s)\n",
      "------------ train losses ------------\n",
      "rmse: 1.164636\n",
      "------------ train metrics ------------\n",
      "precision: 0.061025\n",
      "recall: 0.061025\n"
     ]
    },
    {
     "name": "stderr",
     "output_type": "stream",
     "text": [
      "\r",
      " 78%|███████▊  | 156/200 [2:23:07<43:02, 58.69s/it]"
     ]
    },
    {
     "name": "stdout",
     "output_type": "stream",
     "text": [
      "------------ test losses ------------\n",
      "rmse: 1.600672\n",
      "------------ test metrics ------------\n",
      "precision: 0.056958\n",
      "recall: 0.056958\n",
      "Epoch 157, Time: 35.684531 (s)\n",
      "------------ train losses ------------\n",
      "rmse: 1.157279\n",
      "------------ train metrics ------------\n",
      "precision: 0.061014\n",
      "recall: 0.061014\n"
     ]
    },
    {
     "name": "stderr",
     "output_type": "stream",
     "text": [
      "\r",
      " 78%|███████▊  | 157/200 [2:24:09<42:42, 59.59s/it]"
     ]
    },
    {
     "name": "stdout",
     "output_type": "stream",
     "text": [
      "------------ test losses ------------\n",
      "rmse: 1.593808\n",
      "------------ test metrics ------------\n",
      "precision: 0.057064\n",
      "recall: 0.057064\n",
      "Epoch 158, Time: 37.723591 (s)\n",
      "------------ train losses ------------\n",
      "rmse: 1.159425\n",
      "------------ train metrics ------------\n",
      "precision: 0.061091\n",
      "recall: 0.061091\n"
     ]
    },
    {
     "name": "stderr",
     "output_type": "stream",
     "text": [
      "\r",
      " 79%|███████▉  | 158/200 [2:25:10<42:03, 60.09s/it]"
     ]
    },
    {
     "name": "stdout",
     "output_type": "stream",
     "text": [
      "------------ test losses ------------\n",
      "rmse: 1.586405\n",
      "------------ test metrics ------------\n",
      "precision: 0.057064\n",
      "recall: 0.057064\n",
      "Epoch 159, Time: 34.410643 (s)\n",
      "------------ train losses ------------\n",
      "rmse: 1.143156\n",
      "------------ train metrics ------------\n",
      "precision: 0.061080\n",
      "recall: 0.061080\n"
     ]
    },
    {
     "name": "stderr",
     "output_type": "stream",
     "text": [
      "\r",
      " 80%|███████▉  | 159/200 [2:26:11<41:18, 60.44s/it]"
     ]
    },
    {
     "name": "stdout",
     "output_type": "stream",
     "text": [
      "------------ test losses ------------\n",
      "rmse: 1.581044\n",
      "------------ test metrics ------------\n",
      "precision: 0.057064\n",
      "recall: 0.057064\n",
      "Epoch 160, Time: 34.932268 (s)\n",
      "------------ train losses ------------\n",
      "rmse: 1.134580\n",
      "------------ train metrics ------------\n",
      "precision: 0.061014\n",
      "recall: 0.061014\n"
     ]
    },
    {
     "name": "stderr",
     "output_type": "stream",
     "text": [
      "\r",
      " 80%|████████  | 160/200 [2:27:12<40:24, 60.61s/it]"
     ]
    },
    {
     "name": "stdout",
     "output_type": "stream",
     "text": [
      "------------ test losses ------------\n",
      "rmse: 1.573597\n",
      "------------ test metrics ------------\n",
      "precision: 0.057170\n",
      "recall: 0.057170\n",
      "Epoch 161, Time: 34.666971 (s)\n",
      "------------ train losses ------------\n",
      "rmse: 1.136638\n",
      "------------ train metrics ------------\n",
      "precision: 0.061069\n",
      "recall: 0.061069\n"
     ]
    },
    {
     "name": "stderr",
     "output_type": "stream",
     "text": [
      "\r",
      " 80%|████████  | 161/200 [2:28:13<39:26, 60.68s/it]"
     ]
    },
    {
     "name": "stdout",
     "output_type": "stream",
     "text": [
      "------------ test losses ------------\n",
      "rmse: 1.570079\n",
      "------------ test metrics ------------\n",
      "precision: 0.056852\n",
      "recall: 0.056852\n",
      "Epoch 162, Time: 38.101107 (s)\n",
      "------------ train losses ------------\n",
      "rmse: 1.143603\n",
      "------------ train metrics ------------\n",
      "precision: 0.060980\n",
      "recall: 0.060980\n"
     ]
    },
    {
     "name": "stderr",
     "output_type": "stream",
     "text": [
      "\r",
      " 81%|████████  | 162/200 [2:29:20<39:35, 62.52s/it]"
     ]
    },
    {
     "name": "stdout",
     "output_type": "stream",
     "text": [
      "------------ test losses ------------\n",
      "rmse: 1.568613\n",
      "------------ test metrics ------------\n",
      "precision: 0.056746\n",
      "recall: 0.056746\n",
      "Epoch 163, Time: 35.190450 (s)\n",
      "------------ train losses ------------\n",
      "rmse: 1.138046\n",
      "------------ train metrics ------------\n",
      "precision: 0.060991\n",
      "recall: 0.060991\n"
     ]
    },
    {
     "name": "stderr",
     "output_type": "stream",
     "text": [
      "\r",
      " 82%|████████▏ | 163/200 [2:30:20<38:02, 61.68s/it]"
     ]
    },
    {
     "name": "stdout",
     "output_type": "stream",
     "text": [
      "------------ test losses ------------\n",
      "rmse: 1.558792\n",
      "------------ test metrics ------------\n",
      "precision: 0.056746\n",
      "recall: 0.056746\n",
      "Epoch 164, Time: 31.435867 (s)\n",
      "------------ train losses ------------\n",
      "rmse: 1.119121\n",
      "------------ train metrics ------------\n",
      "precision: 0.060914\n",
      "recall: 0.060914\n"
     ]
    },
    {
     "name": "stderr",
     "output_type": "stream",
     "text": [
      "\r",
      " 82%|████████▏ | 164/200 [2:31:15<35:49, 59.71s/it]"
     ]
    },
    {
     "name": "stdout",
     "output_type": "stream",
     "text": [
      "------------ test losses ------------\n",
      "rmse: 1.554227\n",
      "------------ test metrics ------------\n",
      "precision: 0.057064\n",
      "recall: 0.057064\n",
      "Epoch 165, Time: 31.794904 (s)\n",
      "------------ train losses ------------\n",
      "rmse: 1.128525\n",
      "------------ train metrics ------------\n",
      "precision: 0.060936\n",
      "recall: 0.060936\n"
     ]
    },
    {
     "name": "stderr",
     "output_type": "stream",
     "text": [
      "\r",
      " 82%|████████▎ | 165/200 [2:32:10<34:01, 58.32s/it]"
     ]
    },
    {
     "name": "stdout",
     "output_type": "stream",
     "text": [
      "------------ test losses ------------\n",
      "rmse: 1.552462\n",
      "------------ test metrics ------------\n",
      "precision: 0.056746\n",
      "recall: 0.056746\n",
      "Epoch 166, Time: 30.952588 (s)\n",
      "------------ train losses ------------\n",
      "rmse: 1.116880\n",
      "------------ train metrics ------------\n",
      "precision: 0.060936\n",
      "recall: 0.060936\n"
     ]
    },
    {
     "name": "stderr",
     "output_type": "stream",
     "text": [
      "\r",
      " 83%|████████▎ | 166/200 [2:33:04<32:21, 57.11s/it]"
     ]
    },
    {
     "name": "stdout",
     "output_type": "stream",
     "text": [
      "------------ test losses ------------\n",
      "rmse: 1.544138\n",
      "------------ test metrics ------------\n",
      "precision: 0.056746\n",
      "recall: 0.056746\n",
      "Epoch 167, Time: 31.238859 (s)\n",
      "------------ train losses ------------\n",
      "rmse: 1.106322\n",
      "------------ train metrics ------------\n",
      "precision: 0.060969\n",
      "recall: 0.060969\n"
     ]
    },
    {
     "name": "stderr",
     "output_type": "stream",
     "text": [
      "\r",
      " 84%|████████▎ | 167/200 [2:34:00<31:12, 56.73s/it]"
     ]
    },
    {
     "name": "stdout",
     "output_type": "stream",
     "text": [
      "------------ test losses ------------\n",
      "rmse: 1.539328\n",
      "------------ test metrics ------------\n",
      "precision: 0.056958\n",
      "recall: 0.056958\n",
      "Epoch 168, Time: 31.759364 (s)\n",
      "------------ train losses ------------\n",
      "rmse: 1.100998\n",
      "------------ train metrics ------------\n",
      "precision: 0.060991\n",
      "recall: 0.060991\n"
     ]
    },
    {
     "name": "stderr",
     "output_type": "stream",
     "text": [
      "\r",
      " 84%|████████▍ | 168/200 [2:34:55<29:59, 56.23s/it]"
     ]
    },
    {
     "name": "stdout",
     "output_type": "stream",
     "text": [
      "------------ test losses ------------\n",
      "rmse: 1.534739\n",
      "------------ test metrics ------------\n",
      "precision: 0.056852\n",
      "recall: 0.056852\n",
      "Epoch 169, Time: 33.978239 (s)\n",
      "------------ train losses ------------\n",
      "rmse: 1.094772\n",
      "------------ train metrics ------------\n",
      "precision: 0.061014\n",
      "recall: 0.061014\n"
     ]
    },
    {
     "name": "stderr",
     "output_type": "stream",
     "text": [
      "\r",
      " 84%|████████▍ | 169/200 [2:35:53<29:20, 56.80s/it]"
     ]
    },
    {
     "name": "stdout",
     "output_type": "stream",
     "text": [
      "------------ test losses ------------\n",
      "rmse: 1.526170\n",
      "------------ test metrics ------------\n",
      "precision: 0.056958\n",
      "recall: 0.056958\n",
      "Epoch 170, Time: 35.285936 (s)\n",
      "------------ train losses ------------\n",
      "rmse: 1.098457\n",
      "------------ train metrics ------------\n",
      "precision: 0.060980\n",
      "recall: 0.060980\n"
     ]
    },
    {
     "name": "stderr",
     "output_type": "stream",
     "text": [
      "\r",
      " 85%|████████▌ | 170/200 [2:36:55<29:10, 58.36s/it]"
     ]
    },
    {
     "name": "stdout",
     "output_type": "stream",
     "text": [
      "------------ test losses ------------\n",
      "rmse: 1.522629\n",
      "------------ test metrics ------------\n",
      "precision: 0.056746\n",
      "recall: 0.056746\n",
      "Epoch 171, Time: 35.218615 (s)\n",
      "------------ train losses ------------\n",
      "rmse: 1.073726\n",
      "------------ train metrics ------------\n",
      "precision: 0.061003\n",
      "recall: 0.061003\n"
     ]
    },
    {
     "name": "stderr",
     "output_type": "stream",
     "text": [
      "\r",
      " 86%|████████▌ | 171/200 [2:37:57<28:43, 59.44s/it]"
     ]
    },
    {
     "name": "stdout",
     "output_type": "stream",
     "text": [
      "------------ test losses ------------\n",
      "rmse: 1.508714\n",
      "------------ test metrics ------------\n",
      "precision: 0.057064\n",
      "recall: 0.057064\n",
      "Epoch 172, Time: 36.155880 (s)\n",
      "------------ train losses ------------\n",
      "rmse: 1.078384\n",
      "------------ train metrics ------------\n",
      "precision: 0.061025\n",
      "recall: 0.061025\n"
     ]
    },
    {
     "name": "stderr",
     "output_type": "stream",
     "text": [
      "\r",
      " 86%|████████▌ | 172/200 [2:39:03<28:37, 61.33s/it]"
     ]
    },
    {
     "name": "stdout",
     "output_type": "stream",
     "text": [
      "------------ test losses ------------\n",
      "rmse: 1.511651\n",
      "------------ test metrics ------------\n",
      "precision: 0.056958\n",
      "recall: 0.056958\n",
      "Epoch 173, Time: 34.538786 (s)\n",
      "------------ train losses ------------\n",
      "rmse: 1.078767\n",
      "------------ train metrics ------------\n",
      "precision: 0.061047\n",
      "recall: 0.061047\n"
     ]
    },
    {
     "name": "stderr",
     "output_type": "stream",
     "text": [
      "\r",
      " 86%|████████▋ | 173/200 [2:40:02<27:20, 60.76s/it]"
     ]
    },
    {
     "name": "stdout",
     "output_type": "stream",
     "text": [
      "------------ test losses ------------\n",
      "rmse: 1.515947\n",
      "------------ test metrics ------------\n",
      "precision: 0.056958\n",
      "recall: 0.056958\n",
      "Epoch 174, Time: 30.952580 (s)\n",
      "------------ train losses ------------\n",
      "rmse: 1.067710\n",
      "------------ train metrics ------------\n",
      "precision: 0.060991\n",
      "recall: 0.060991\n"
     ]
    },
    {
     "name": "stderr",
     "output_type": "stream",
     "text": [
      "\r",
      " 87%|████████▋ | 174/200 [2:40:57<25:31, 58.89s/it]"
     ]
    },
    {
     "name": "stdout",
     "output_type": "stream",
     "text": [
      "------------ test losses ------------\n",
      "rmse: 1.507207\n",
      "------------ test metrics ------------\n",
      "precision: 0.056852\n",
      "recall: 0.056852\n",
      "Epoch 175, Time: 31.013556 (s)\n",
      "------------ train losses ------------\n",
      "rmse: 1.066077\n",
      "------------ train metrics ------------\n",
      "precision: 0.060947\n",
      "recall: 0.060947\n"
     ]
    },
    {
     "name": "stderr",
     "output_type": "stream",
     "text": [
      "\r",
      " 88%|████████▊ | 175/200 [2:41:51<23:57, 57.49s/it]"
     ]
    },
    {
     "name": "stdout",
     "output_type": "stream",
     "text": [
      "------------ test losses ------------\n",
      "rmse: 1.496642\n",
      "------------ test metrics ------------\n",
      "precision: 0.057064\n",
      "recall: 0.057064\n",
      "Epoch 176, Time: 31.629985 (s)\n",
      "------------ train losses ------------\n",
      "rmse: 1.065930\n",
      "------------ train metrics ------------\n",
      "precision: 0.060881\n",
      "recall: 0.060881\n"
     ]
    },
    {
     "name": "stderr",
     "output_type": "stream",
     "text": [
      "\r",
      " 88%|████████▊ | 176/200 [2:42:46<22:41, 56.72s/it]"
     ]
    },
    {
     "name": "stdout",
     "output_type": "stream",
     "text": [
      "------------ test losses ------------\n",
      "rmse: 1.502916\n",
      "------------ test metrics ------------\n",
      "precision: 0.056958\n",
      "recall: 0.056958\n",
      "Epoch 177, Time: 31.231510 (s)\n",
      "------------ train losses ------------\n",
      "rmse: 1.056097\n",
      "------------ train metrics ------------\n",
      "precision: 0.060870\n",
      "recall: 0.060870\n"
     ]
    },
    {
     "name": "stderr",
     "output_type": "stream",
     "text": [
      "\r",
      " 88%|████████▊ | 177/200 [2:43:40<21:29, 56.06s/it]"
     ]
    },
    {
     "name": "stdout",
     "output_type": "stream",
     "text": [
      "------------ test losses ------------\n",
      "rmse: 1.496242\n",
      "------------ test metrics ------------\n",
      "precision: 0.056958\n",
      "recall: 0.056958\n",
      "Epoch 178, Time: 31.383691 (s)\n",
      "------------ train losses ------------\n",
      "rmse: 1.072338\n",
      "------------ train metrics ------------\n",
      "precision: 0.060980\n",
      "recall: 0.060980\n"
     ]
    },
    {
     "name": "stderr",
     "output_type": "stream",
     "text": [
      "\r",
      " 89%|████████▉ | 178/200 [2:44:35<20:23, 55.60s/it]"
     ]
    },
    {
     "name": "stdout",
     "output_type": "stream",
     "text": [
      "------------ test losses ------------\n",
      "rmse: 1.497494\n",
      "------------ test metrics ------------\n",
      "precision: 0.056746\n",
      "recall: 0.056746\n",
      "Epoch 179, Time: 31.659551 (s)\n",
      "------------ train losses ------------\n",
      "rmse: 1.057089\n",
      "------------ train metrics ------------\n",
      "precision: 0.060991\n",
      "recall: 0.060991\n"
     ]
    },
    {
     "name": "stderr",
     "output_type": "stream",
     "text": [
      "\r",
      " 90%|████████▉ | 179/200 [2:45:30<19:23, 55.42s/it]"
     ]
    },
    {
     "name": "stdout",
     "output_type": "stream",
     "text": [
      "------------ test losses ------------\n",
      "rmse: 1.485244\n",
      "------------ test metrics ------------\n",
      "precision: 0.056958\n",
      "recall: 0.056958\n",
      "Epoch 180, Time: 31.219690 (s)\n",
      "------------ train losses ------------\n",
      "rmse: 1.040446\n",
      "------------ train metrics ------------\n",
      "precision: 0.060870\n",
      "recall: 0.060870\n"
     ]
    },
    {
     "name": "stderr",
     "output_type": "stream",
     "text": [
      "\r",
      " 90%|█████████ | 180/200 [2:46:24<18:22, 55.11s/it]"
     ]
    },
    {
     "name": "stdout",
     "output_type": "stream",
     "text": [
      "------------ test losses ------------\n",
      "rmse: 1.481017\n",
      "------------ test metrics ------------\n",
      "precision: 0.057064\n",
      "recall: 0.057064\n",
      "Epoch 181, Time: 31.419554 (s)\n",
      "------------ train losses ------------\n",
      "rmse: 1.034554\n",
      "------------ train metrics ------------\n",
      "precision: 0.060804\n",
      "recall: 0.060804\n"
     ]
    },
    {
     "name": "stderr",
     "output_type": "stream",
     "text": [
      "\r",
      " 90%|█████████ | 181/200 [2:47:19<17:24, 54.98s/it]"
     ]
    },
    {
     "name": "stdout",
     "output_type": "stream",
     "text": [
      "------------ test losses ------------\n",
      "rmse: 1.471978\n",
      "------------ test metrics ------------\n",
      "precision: 0.057064\n",
      "recall: 0.057064\n",
      "Epoch 182, Time: 31.072993 (s)\n",
      "------------ train losses ------------\n",
      "rmse: 1.031577\n",
      "------------ train metrics ------------\n",
      "precision: 0.060881\n",
      "recall: 0.060881\n"
     ]
    },
    {
     "name": "stderr",
     "output_type": "stream",
     "text": [
      "\r",
      " 91%|█████████ | 182/200 [2:48:13<16:26, 54.78s/it]"
     ]
    },
    {
     "name": "stdout",
     "output_type": "stream",
     "text": [
      "------------ test losses ------------\n",
      "rmse: 1.463330\n",
      "------------ test metrics ------------\n",
      "precision: 0.057064\n",
      "recall: 0.057064\n",
      "Epoch 183, Time: 31.567396 (s)\n",
      "------------ train losses ------------\n",
      "rmse: 1.029879\n",
      "------------ train metrics ------------\n",
      "precision: 0.060969\n",
      "recall: 0.060969\n"
     ]
    },
    {
     "name": "stderr",
     "output_type": "stream",
     "text": [
      "\r",
      " 92%|█████████▏| 183/200 [2:49:10<15:38, 55.18s/it]"
     ]
    },
    {
     "name": "stdout",
     "output_type": "stream",
     "text": [
      "------------ test losses ------------\n",
      "rmse: 1.461191\n",
      "------------ test metrics ------------\n",
      "precision: 0.057064\n",
      "recall: 0.057064\n",
      "Epoch 184, Time: 31.587482 (s)\n",
      "------------ train losses ------------\n",
      "rmse: 1.016072\n",
      "------------ train metrics ------------\n",
      "precision: 0.060859\n",
      "recall: 0.060859\n"
     ]
    },
    {
     "name": "stderr",
     "output_type": "stream",
     "text": [
      "\r",
      " 92%|█████████▏| 184/200 [2:50:05<14:42, 55.15s/it]"
     ]
    },
    {
     "name": "stdout",
     "output_type": "stream",
     "text": [
      "------------ test losses ------------\n",
      "rmse: 1.449527\n",
      "------------ test metrics ------------\n",
      "precision: 0.057064\n",
      "recall: 0.057064\n",
      "Epoch 185, Time: 31.550545 (s)\n",
      "------------ train losses ------------\n",
      "rmse: 1.017847\n",
      "------------ train metrics ------------\n",
      "precision: 0.060749\n",
      "recall: 0.060749\n"
     ]
    },
    {
     "name": "stderr",
     "output_type": "stream",
     "text": [
      "\r",
      " 92%|█████████▎| 185/200 [2:50:59<13:46, 55.07s/it]"
     ]
    },
    {
     "name": "stdout",
     "output_type": "stream",
     "text": [
      "------------ test losses ------------\n",
      "rmse: 1.452189\n",
      "------------ test metrics ------------\n",
      "precision: 0.057064\n",
      "recall: 0.057064\n",
      "Epoch 186, Time: 31.718961 (s)\n",
      "------------ train losses ------------\n",
      "rmse: 1.019860\n",
      "------------ train metrics ------------\n",
      "precision: 0.060727\n",
      "recall: 0.060727\n"
     ]
    },
    {
     "name": "stderr",
     "output_type": "stream",
     "text": [
      "\r",
      " 93%|█████████▎| 186/200 [2:51:54<12:50, 55.01s/it]"
     ]
    },
    {
     "name": "stdout",
     "output_type": "stream",
     "text": [
      "------------ test losses ------------\n",
      "rmse: 1.450529\n",
      "------------ test metrics ------------\n",
      "precision: 0.057064\n",
      "recall: 0.057064\n",
      "Epoch 187, Time: 32.210010 (s)\n",
      "------------ train losses ------------\n",
      "rmse: 1.010108\n",
      "------------ train metrics ------------\n",
      "precision: 0.060870\n",
      "recall: 0.060870\n"
     ]
    },
    {
     "name": "stderr",
     "output_type": "stream",
     "text": [
      "\r",
      " 94%|█████████▎| 187/200 [2:52:50<11:56, 55.14s/it]"
     ]
    },
    {
     "name": "stdout",
     "output_type": "stream",
     "text": [
      "------------ test losses ------------\n",
      "rmse: 1.439752\n",
      "------------ test metrics ------------\n",
      "precision: 0.056958\n",
      "recall: 0.056958\n",
      "Epoch 188, Time: 30.948185 (s)\n",
      "------------ train losses ------------\n",
      "rmse: 1.012207\n",
      "------------ train metrics ------------\n",
      "precision: 0.060760\n",
      "recall: 0.060760\n"
     ]
    },
    {
     "name": "stderr",
     "output_type": "stream",
     "text": [
      "\r",
      " 94%|█████████▍| 188/200 [2:53:44<10:58, 54.84s/it]"
     ]
    },
    {
     "name": "stdout",
     "output_type": "stream",
     "text": [
      "------------ test losses ------------\n",
      "rmse: 1.438089\n",
      "------------ test metrics ------------\n",
      "precision: 0.056958\n",
      "recall: 0.056958\n",
      "Epoch 189, Time: 31.154859 (s)\n",
      "------------ train losses ------------\n",
      "rmse: 0.998651\n",
      "------------ train metrics ------------\n",
      "precision: 0.060826\n",
      "recall: 0.060826\n"
     ]
    },
    {
     "name": "stderr",
     "output_type": "stream",
     "text": [
      "\r",
      " 94%|█████████▍| 189/200 [2:54:38<10:01, 54.67s/it]"
     ]
    },
    {
     "name": "stdout",
     "output_type": "stream",
     "text": [
      "------------ test losses ------------\n",
      "rmse: 1.429979\n",
      "------------ test metrics ------------\n",
      "precision: 0.057064\n",
      "recall: 0.057064\n",
      "Epoch 190, Time: 31.017184 (s)\n",
      "------------ train losses ------------\n",
      "rmse: 0.992857\n",
      "------------ train metrics ------------\n",
      "precision: 0.060859\n",
      "recall: 0.060859\n"
     ]
    },
    {
     "name": "stderr",
     "output_type": "stream",
     "text": [
      "\r",
      " 95%|█████████▌| 190/200 [2:55:32<09:04, 54.49s/it]"
     ]
    },
    {
     "name": "stdout",
     "output_type": "stream",
     "text": [
      "------------ test losses ------------\n",
      "rmse: 1.422528\n",
      "------------ test metrics ------------\n",
      "precision: 0.057064\n",
      "recall: 0.057064\n",
      "Epoch 191, Time: 31.123772 (s)\n",
      "------------ train losses ------------\n",
      "rmse: 0.996791\n",
      "------------ train metrics ------------\n",
      "precision: 0.060682\n",
      "recall: 0.060682\n"
     ]
    },
    {
     "name": "stderr",
     "output_type": "stream",
     "text": [
      "\r",
      " 96%|█████████▌| 191/200 [2:56:26<08:09, 54.40s/it]"
     ]
    },
    {
     "name": "stdout",
     "output_type": "stream",
     "text": [
      "------------ test losses ------------\n",
      "rmse: 1.436969\n",
      "------------ test metrics ------------\n",
      "precision: 0.057064\n",
      "recall: 0.057064\n",
      "Epoch 192, Time: 30.962740 (s)\n",
      "------------ train losses ------------\n",
      "rmse: 0.986592\n",
      "------------ train metrics ------------\n",
      "precision: 0.060859\n",
      "recall: 0.060859\n"
     ]
    },
    {
     "name": "stderr",
     "output_type": "stream",
     "text": [
      "\r",
      " 96%|█████████▌| 192/200 [2:57:21<07:14, 54.30s/it]"
     ]
    },
    {
     "name": "stdout",
     "output_type": "stream",
     "text": [
      "------------ test losses ------------\n",
      "rmse: 1.414940\n",
      "------------ test metrics ------------\n",
      "precision: 0.057064\n",
      "recall: 0.057064\n",
      "Epoch 193, Time: 31.284135 (s)\n",
      "------------ train losses ------------\n",
      "rmse: 0.984749\n",
      "------------ train metrics ------------\n",
      "precision: 0.060760\n",
      "recall: 0.060760\n"
     ]
    },
    {
     "name": "stderr",
     "output_type": "stream",
     "text": [
      "\r",
      " 96%|█████████▋| 193/200 [2:58:15<06:20, 54.34s/it]"
     ]
    },
    {
     "name": "stdout",
     "output_type": "stream",
     "text": [
      "------------ test losses ------------\n",
      "rmse: 1.415447\n",
      "------------ test metrics ------------\n",
      "precision: 0.056958\n",
      "recall: 0.056958\n",
      "Epoch 194, Time: 31.253113 (s)\n",
      "------------ train losses ------------\n",
      "rmse: 0.990663\n",
      "------------ train metrics ------------\n",
      "precision: 0.060815\n",
      "recall: 0.060815\n"
     ]
    },
    {
     "name": "stderr",
     "output_type": "stream",
     "text": [
      "\r",
      " 97%|█████████▋| 194/200 [2:59:09<05:26, 54.38s/it]"
     ]
    },
    {
     "name": "stdout",
     "output_type": "stream",
     "text": [
      "------------ test losses ------------\n",
      "rmse: 1.413428\n",
      "------------ test metrics ------------\n",
      "precision: 0.057064\n",
      "recall: 0.057064\n",
      "Epoch 195, Time: 31.347086 (s)\n",
      "------------ train losses ------------\n",
      "rmse: 0.978659\n",
      "------------ train metrics ------------\n",
      "precision: 0.060627\n",
      "recall: 0.060627\n"
     ]
    },
    {
     "name": "stderr",
     "output_type": "stream",
     "text": [
      "\r",
      " 98%|█████████▊| 195/200 [3:00:04<04:31, 54.39s/it]"
     ]
    },
    {
     "name": "stdout",
     "output_type": "stream",
     "text": [
      "------------ test losses ------------\n",
      "rmse: 1.407171\n",
      "------------ test metrics ------------\n",
      "precision: 0.056852\n",
      "recall: 0.056852\n",
      "Epoch 196, Time: 31.257185 (s)\n",
      "------------ train losses ------------\n",
      "rmse: 0.969914\n",
      "------------ train metrics ------------\n",
      "precision: 0.060660\n",
      "recall: 0.060660\n"
     ]
    },
    {
     "name": "stderr",
     "output_type": "stream",
     "text": [
      "\r",
      " 98%|█████████▊| 196/200 [3:00:58<03:37, 54.39s/it]"
     ]
    },
    {
     "name": "stdout",
     "output_type": "stream",
     "text": [
      "------------ test losses ------------\n",
      "rmse: 1.402912\n",
      "------------ test metrics ------------\n",
      "precision: 0.056958\n",
      "recall: 0.056958\n",
      "Epoch 197, Time: 31.309000 (s)\n",
      "------------ train losses ------------\n",
      "rmse: 0.965167\n",
      "------------ train metrics ------------\n",
      "precision: 0.060594\n",
      "recall: 0.060594\n"
     ]
    },
    {
     "name": "stderr",
     "output_type": "stream",
     "text": [
      "\r",
      " 98%|█████████▊| 197/200 [3:01:53<02:43, 54.38s/it]"
     ]
    },
    {
     "name": "stdout",
     "output_type": "stream",
     "text": [
      "------------ test losses ------------\n",
      "rmse: 1.399087\n",
      "------------ test metrics ------------\n",
      "precision: 0.056958\n",
      "recall: 0.056958\n",
      "Epoch 198, Time: 31.519812 (s)\n",
      "------------ train losses ------------\n",
      "rmse: 0.954429\n",
      "------------ train metrics ------------\n",
      "precision: 0.060738\n",
      "recall: 0.060738\n"
     ]
    },
    {
     "name": "stderr",
     "output_type": "stream",
     "text": [
      "\r",
      " 99%|█████████▉| 198/200 [3:02:47<01:48, 54.45s/it]"
     ]
    },
    {
     "name": "stdout",
     "output_type": "stream",
     "text": [
      "------------ test losses ------------\n",
      "rmse: 1.390959\n",
      "------------ test metrics ------------\n",
      "precision: 0.057064\n",
      "recall: 0.057064\n",
      "Epoch 199, Time: 31.355857 (s)\n",
      "------------ train losses ------------\n",
      "rmse: 0.955233\n",
      "------------ train metrics ------------\n",
      "precision: 0.060616\n",
      "recall: 0.060616\n"
     ]
    },
    {
     "name": "stderr",
     "output_type": "stream",
     "text": [
      "\r",
      "100%|█████████▉| 199/200 [3:03:42<00:54, 54.46s/it]"
     ]
    },
    {
     "name": "stdout",
     "output_type": "stream",
     "text": [
      "------------ test losses ------------\n",
      "rmse: 1.385117\n",
      "------------ test metrics ------------\n",
      "precision: 0.056958\n",
      "recall: 0.056958\n",
      "Epoch 200, Time: 31.497955 (s)\n",
      "------------ train losses ------------\n",
      "rmse: 0.952640\n",
      "------------ train metrics ------------\n",
      "precision: 0.060749\n",
      "recall: 0.060749\n"
     ]
    },
    {
     "name": "stderr",
     "output_type": "stream",
     "text": [
      "100%|██████████| 200/200 [3:04:36<00:00, 55.38s/it]"
     ]
    },
    {
     "name": "stdout",
     "output_type": "stream",
     "text": [
      "------------ test losses ------------\n",
      "rmse: 1.380531\n",
      "------------ test metrics ------------\n",
      "precision: 0.057064\n",
      "recall: 0.057064\n"
     ]
    },
    {
     "name": "stderr",
     "output_type": "stream",
     "text": [
      "\n"
     ]
    }
   ],
   "source": [
    "spfc.train(\n",
    "    ds,\n",
    "    batch_size=1024,\n",
    "    epochs=200,\n",
    "    loss_function=\"rmse\",\n",
    "    eval_metrics=['precision', 'recall']\n",
    ")"
   ]
  },
  {
   "cell_type": "code",
   "execution_count": 9,
   "metadata": {},
   "outputs": [
    {
     "data": {
      "image/png": "[encoded data removed]",
      "text/plain": [
       "<Figure size 432x288 with 1 Axes>"
      ]
     },
     "metadata": {
      "needs_background": "light"
     },
     "output_type": "display_data"
    }
   ],
   "source": [
    "plot_losses(spfc)"
   ]
  }
 ],
 "metadata": {
  "kernelspec": {
   "display_name": "Python 3",
   "language": "python",
   "name": "python3"
  },
  "language_info": {
   "codemirror_mode": {
    "name": "ipython",
    "version": 3
   },
   "file_extension": ".py",
   "mimetype": "text/x-python",
   "name": "python",
   "nbconvert_exporter": "python",
   "pygments_lexer": "ipython3",
   "version": "3.7.3"
  }
 },
 "nbformat": 4,
 "nbformat_minor": 2
}
