{
 "cells": [
  {
   "cell_type": "markdown",
   "metadata": {},
   "source": [
    "# Replicate NeuralFM results on Frappe dataset\n",
    "\n",
    "Here we replicate the results presented at [*At the work Neural Factorization Machines for Sparse Predictive Analytics*](https://www.comp.nus.edu.sg/~xiangnan/papers/sigir17-nfm.pdf) for the Frappe dataset using Deep4Rec. This is done mainly for validating Deep4Rec implementation."
   ]
  },
  {
   "cell_type": "code",
   "execution_count": 1,
   "metadata": {},
   "outputs": [],
   "source": [
    "# Dependencies\n",
    "from deep4rec import models\n",
    "from deep4rec import datasets\n",
    "\n",
    "from matplotlib import pyplot as plt\n",
    "import tensorflow as tf"
   ]
  },
  {
   "cell_type": "code",
   "execution_count": 2,
   "metadata": {},
   "outputs": [],
   "source": [
    "# Hyper-parameters\n",
    "learning_rates = [0.005, 0.01]\n",
    "dropout_ratio = [0.7, 0.9]\n",
    "embedding_size = 128\n",
    "batch_size = 128\n",
    "epochs = 40"
   ]
  },
  {
   "cell_type": "code",
   "execution_count": 3,
   "metadata": {},
   "outputs": [],
   "source": [
    "# Dataset\n",
    "ds = datasets.build_dataset(\"frappe\")"
   ]
  },
  {
   "cell_type": "code",
   "execution_count": 4,
   "metadata": {},
   "outputs": [],
   "source": [
    "def plot(model, loss_name, title):\n",
    "    plt.title(title)\n",
    "    plt.plot([loss[loss_name] for loss in model._losses[\"train\"]])\n",
    "    plt.plot([loss[loss_name] for loss in model._losses[\"test\"]])\n",
    "    plt.show()"
   ]
  },
  {
   "cell_type": "code",
   "execution_count": 5,
   "metadata": {},
   "outputs": [],
   "source": [
    "def best_test_loss(model, loss_name):\n",
    "    best_epoch = 0\n",
    "    for epoch, losses in enumerate(model._losses[\"test\"]):\n",
    "        if losses[loss_name] < model._losses[\"test\"][best_epoch][loss_name]:\n",
    "            best_epoch = epoch\n",
    "            \n",
    "    return best_epoch, model._losses[\"test\"][best_epoch][loss_name]"
   ]
  },
  {
   "cell_type": "markdown",
   "metadata": {},
   "source": [
    "### NeuralFM"
   ]
  },
  {
   "cell_type": "code",
   "execution_count": 6,
   "metadata": {},
   "outputs": [
    {
     "name": "stdout",
     "output_type": "stream",
     "text": [
      "dr=0.70, lr=0.005, \n"
     ]
    },
    {
     "name": "stderr",
     "output_type": "stream",
     "text": [
      "\r",
      "  0%|          | 0/40 [00:00<?, ?it/s]"
     ]
    },
    {
     "name": "stdout",
     "output_type": "stream",
     "text": [
      "WARNING:tensorflow:From /home/marianne/anaconda3/envs/deep4rec/lib/python3.6/site-packages/tensorflow/python/data/ops/iterator_ops.py:532: colocate_with (from tensorflow.python.framework.ops) is deprecated and will be removed in a future version.\n",
      "Instructions for updating:\n",
      "Colocations handled automatically by placer.\n"
     ]
    },
    {
     "name": "stderr",
     "output_type": "stream",
     "text": [
      "WARNING: Logging before flag parsing goes to stderr.\n",
      "W0618 13:26:46.711405 140568127248192 deprecation.py:323] From /home/marianne/anaconda3/envs/deep4rec/lib/python3.6/site-packages/tensorflow/python/data/ops/iterator_ops.py:532: colocate_with (from tensorflow.python.framework.ops) is deprecated and will be removed in a future version.\n",
      "Instructions for updating:\n",
      "Colocations handled automatically by placer.\n"
     ]
    },
    {
     "name": "stdout",
     "output_type": "stream",
     "text": [
      "Epoch 1, Time: 19.662402 (s)\n",
      "------------ train losses ------------\n",
      "rmse: 0.581037\n",
      "l2: 68205.172787\n",
      "------------ validation losses ------------\n",
      "rmse: 0.590538\n",
      "l2: 20129.673822\n"
     ]
    },
    {
     "name": "stderr",
     "output_type": "stream",
     "text": [
      "\r",
      "  2%|▎         | 1/40 [00:25<16:37, 25.57s/it]"
     ]
    },
    {
     "name": "stdout",
     "output_type": "stream",
     "text": [
      "------------ test losses ------------\n",
      "rmse: 0.592052\n",
      "l2: 10116.154877\n",
      "Epoch 2, Time: 18.666371 (s)\n",
      "------------ train losses ------------\n",
      "rmse: 0.540100\n",
      "l2: 58932.902722\n",
      "------------ validation losses ------------\n",
      "rmse: 0.557208\n",
      "l2: 17921.590088\n"
     ]
    },
    {
     "name": "stderr",
     "output_type": "stream",
     "text": [
      "\r",
      "  5%|▌         | 2/40 [00:50<15:59, 25.24s/it]"
     ]
    },
    {
     "name": "stdout",
     "output_type": "stream",
     "text": [
      "------------ test losses ------------\n",
      "rmse: 0.558568\n",
      "l2: 9004.260420\n",
      "Epoch 3, Time: 19.143713 (s)\n",
      "------------ train losses ------------\n",
      "rmse: 0.490818\n",
      "l2: 48668.676962\n",
      "------------ validation losses ------------\n",
      "rmse: 0.519393\n",
      "l2: 15571.583840\n"
     ]
    },
    {
     "name": "stderr",
     "output_type": "stream",
     "text": [
      "\r",
      "  8%|▊         | 3/40 [01:15<15:32, 25.20s/it]"
     ]
    },
    {
     "name": "stdout",
     "output_type": "stream",
     "text": [
      "------------ test losses ------------\n",
      "rmse: 0.520929\n",
      "l2: 7831.647344\n",
      "Epoch 4, Time: 19.759561 (s)\n",
      "------------ train losses ------------\n",
      "rmse: 0.440944\n",
      "l2: 39280.497181\n",
      "------------ validation losses ------------\n",
      "rmse: 0.484794\n",
      "l2: 13566.108747\n"
     ]
    },
    {
     "name": "stderr",
     "output_type": "stream",
     "text": [
      "\r",
      " 10%|█         | 4/40 [01:40<15:11, 25.31s/it]"
     ]
    },
    {
     "name": "stdout",
     "output_type": "stream",
     "text": [
      "------------ test losses ------------\n",
      "rmse: 0.485927\n",
      "l2: 6814.556021\n",
      "Epoch 5, Time: 20.827193 (s)\n",
      "------------ train losses ------------\n",
      "rmse: 0.405564\n",
      "l2: 33229.792111\n",
      "------------ validation losses ------------\n",
      "rmse: 0.462629\n",
      "l2: 12353.973515\n"
     ]
    },
    {
     "name": "stderr",
     "output_type": "stream",
     "text": [
      "\r",
      " 12%|█▎        | 5/40 [02:07<15:01, 25.75s/it]"
     ]
    },
    {
     "name": "stdout",
     "output_type": "stream",
     "text": [
      "------------ test losses ------------\n",
      "rmse: 0.463130\n",
      "l2: 6190.166919\n",
      "Epoch 6, Time: 20.613974 (s)\n",
      "------------ train losses ------------\n",
      "rmse: 0.362415\n",
      "l2: 26535.157187\n",
      "------------ validation losses ------------\n",
      "rmse: 0.436768\n",
      "l2: 11011.394702\n"
     ]
    },
    {
     "name": "stderr",
     "output_type": "stream",
     "text": [
      "\r",
      " 15%|█▌        | 6/40 [02:33<14:42, 25.97s/it]"
     ]
    },
    {
     "name": "stdout",
     "output_type": "stream",
     "text": [
      "------------ test losses ------------\n",
      "rmse: 0.437825\n",
      "l2: 5532.184246\n",
      "Epoch 7, Time: 19.930712 (s)\n",
      "------------ train losses ------------\n",
      "rmse: 0.333652\n",
      "l2: 22490.374880\n",
      "------------ validation losses ------------\n",
      "rmse: 0.422214\n",
      "l2: 10289.771343\n"
     ]
    },
    {
     "name": "stderr",
     "output_type": "stream",
     "text": [
      "\r",
      " 18%|█▊        | 7/40 [02:59<14:14, 25.90s/it]"
     ]
    },
    {
     "name": "stdout",
     "output_type": "stream",
     "text": [
      "------------ test losses ------------\n",
      "rmse: 0.422263\n",
      "l2: 5145.918203\n",
      "Epoch 8, Time: 20.339645 (s)\n",
      "------------ train losses ------------\n",
      "rmse: 0.311699\n",
      "l2: 19628.235664\n",
      "------------ validation losses ------------\n",
      "rmse: 0.410961\n",
      "l2: 9748.607333\n"
     ]
    },
    {
     "name": "stderr",
     "output_type": "stream",
     "text": [
      "\r",
      " 20%|██        | 8/40 [03:25<13:50, 25.97s/it]"
     ]
    },
    {
     "name": "stdout",
     "output_type": "stream",
     "text": [
      "------------ test losses ------------\n",
      "rmse: 0.411699\n",
      "l2: 4891.649900\n",
      "Epoch 9, Time: 19.902365 (s)\n",
      "------------ train losses ------------\n",
      "rmse: 0.287695\n",
      "l2: 16721.401886\n",
      "------------ validation losses ------------\n",
      "rmse: 0.398394\n",
      "l2: 9161.522432\n"
     ]
    },
    {
     "name": "stderr",
     "output_type": "stream",
     "text": [
      "\r",
      " 22%|██▎       | 9/40 [03:51<13:23, 25.93s/it]"
     ]
    },
    {
     "name": "stdout",
     "output_type": "stream",
     "text": [
      "------------ test losses ------------\n",
      "rmse: 0.399025\n",
      "l2: 4595.114213\n",
      "Epoch 10, Time: 20.244188 (s)\n",
      "------------ train losses ------------\n",
      "rmse: 0.267199\n",
      "l2: 14423.765234\n",
      "------------ validation losses ------------\n",
      "rmse: 0.388886\n",
      "l2: 8729.431430\n"
     ]
    },
    {
     "name": "stderr",
     "output_type": "stream",
     "text": [
      "\r",
      " 25%|██▌       | 10/40 [04:17<13:00, 26.02s/it]"
     ]
    },
    {
     "name": "stdout",
     "output_type": "stream",
     "text": [
      "------------ test losses ------------\n",
      "rmse: 0.389785\n",
      "l2: 4384.757083\n",
      "Epoch 11, Time: 21.234566 (s)\n",
      "------------ train losses ------------\n",
      "rmse: 0.250480\n",
      "l2: 12675.250608\n",
      "------------ validation losses ------------\n",
      "rmse: 0.381504\n",
      "l2: 8401.176942\n"
     ]
    },
    {
     "name": "stderr",
     "output_type": "stream",
     "text": [
      "\r",
      " 28%|██▊       | 11/40 [04:45<12:44, 26.38s/it]"
     ]
    },
    {
     "name": "stdout",
     "output_type": "stream",
     "text": [
      "------------ test losses ------------\n",
      "rmse: 0.382647\n",
      "l2: 4225.637166\n",
      "Epoch 12, Time: 21.139611 (s)\n",
      "------------ train losses ------------\n",
      "rmse: 0.242829\n",
      "l2: 11912.684106\n",
      "------------ validation losses ------------\n",
      "rmse: 0.376384\n",
      "l2: 8177.197997\n"
     ]
    },
    {
     "name": "stderr",
     "output_type": "stream",
     "text": [
      "\r",
      " 30%|███       | 12/40 [05:12<12:25, 26.61s/it]"
     ]
    },
    {
     "name": "stdout",
     "output_type": "stream",
     "text": [
      "------------ test losses ------------\n",
      "rmse: 0.377878\n",
      "l2: 4120.970303\n",
      "Epoch 13, Time: 21.304870 (s)\n",
      "------------ train losses ------------\n",
      "rmse: 0.224343\n",
      "l2: 10167.975631\n",
      "------------ validation losses ------------\n",
      "rmse: 0.368663\n",
      "l2: 7845.153913\n"
     ]
    },
    {
     "name": "stderr",
     "output_type": "stream",
     "text": [
      "\r",
      " 32%|███▎      | 13/40 [05:39<12:03, 26.80s/it]"
     ]
    },
    {
     "name": "stdout",
     "output_type": "stream",
     "text": [
      "------------ test losses ------------\n",
      "rmse: 0.370000\n",
      "l2: 3950.943247\n",
      "Epoch 14, Time: 20.838557 (s)\n",
      "------------ train losses ------------\n",
      "rmse: 0.217085\n",
      "l2: 9520.728954\n",
      "------------ validation losses ------------\n",
      "rmse: 0.365064\n",
      "l2: 7692.712355\n"
     ]
    },
    {
     "name": "stderr",
     "output_type": "stream",
     "text": [
      "\r",
      " 35%|███▌      | 14/40 [06:06<11:36, 26.78s/it]"
     ]
    },
    {
     "name": "stdout",
     "output_type": "stream",
     "text": [
      "------------ test losses ------------\n",
      "rmse: 0.366012\n",
      "l2: 3866.225901\n",
      "Epoch 15, Time: 21.304209 (s)\n",
      "------------ train losses ------------\n",
      "rmse: 0.209792\n",
      "l2: 8891.754597\n",
      "------------ validation losses ------------\n",
      "rmse: 0.361217\n",
      "l2: 7531.416512\n"
     ]
    },
    {
     "name": "stderr",
     "output_type": "stream",
     "text": [
      "\r",
      " 38%|███▊      | 15/40 [06:33<11:14, 26.96s/it]"
     ]
    },
    {
     "name": "stdout",
     "output_type": "stream",
     "text": [
      "------------ test losses ------------\n",
      "rmse: 0.362177\n",
      "l2: 3785.636527\n",
      "Epoch 16, Time: 21.562533 (s)\n",
      "------------ train losses ------------\n",
      "rmse: 0.202146\n",
      "l2: 8255.433169\n",
      "------------ validation losses ------------\n",
      "rmse: 0.358043\n",
      "l2: 7399.642876\n"
     ]
    },
    {
     "name": "stderr",
     "output_type": "stream",
     "text": [
      "\r",
      " 40%|████      | 16/40 [07:00<10:49, 27.06s/it]"
     ]
    },
    {
     "name": "stdout",
     "output_type": "stream",
     "text": [
      "------------ test losses ------------\n",
      "rmse: 0.358719\n",
      "l2: 3713.675369\n",
      "Epoch 17, Time: 21.663021 (s)\n",
      "------------ train losses ------------\n",
      "rmse: 0.195682\n",
      "l2: 7735.920896\n",
      "------------ validation losses ------------\n",
      "rmse: 0.355172\n",
      "l2: 7281.449105\n"
     ]
    },
    {
     "name": "stderr",
     "output_type": "stream",
     "text": [
      "\r",
      " 42%|████▎     | 17/40 [07:28<10:26, 27.22s/it]"
     ]
    },
    {
     "name": "stdout",
     "output_type": "stream",
     "text": [
      "------------ test losses ------------\n",
      "rmse: 0.355870\n",
      "l2: 3654.940361\n",
      "Epoch 18, Time: 21.764100 (s)\n",
      "------------ train losses ------------\n",
      "rmse: 0.188469\n",
      "l2: 7176.075154\n",
      "------------ validation losses ------------\n",
      "rmse: 0.351550\n",
      "l2: 7133.702297\n"
     ]
    },
    {
     "name": "stderr",
     "output_type": "stream",
     "text": [
      "\r",
      " 45%|████▌     | 18/40 [07:56<10:02, 27.37s/it]"
     ]
    },
    {
     "name": "stdout",
     "output_type": "stream",
     "text": [
      "------------ test losses ------------\n",
      "rmse: 0.352925\n",
      "l2: 3594.686677\n",
      "Epoch 19, Time: 22.186675 (s)\n",
      "------------ train losses ------------\n",
      "rmse: 0.184106\n",
      "l2: 6847.709964\n",
      "------------ validation losses ------------\n",
      "rmse: 0.350314\n",
      "l2: 7083.653827\n"
     ]
    },
    {
     "name": "stderr",
     "output_type": "stream",
     "text": [
      "\r",
      " 48%|████▊     | 19/40 [08:24<09:38, 27.54s/it]"
     ]
    },
    {
     "name": "stdout",
     "output_type": "stream",
     "text": [
      "------------ test losses ------------\n",
      "rmse: 0.351433\n",
      "l2: 3564.355373\n",
      "Epoch 20, Time: 21.737313 (s)\n",
      "------------ train losses ------------\n",
      "rmse: 0.176192\n",
      "l2: 6271.678504\n",
      "------------ validation losses ------------\n",
      "rmse: 0.347336\n",
      "l2: 6963.701241\n"
     ]
    },
    {
     "name": "stderr",
     "output_type": "stream",
     "text": [
      "\r",
      " 50%|█████     | 20/40 [08:51<09:11, 27.57s/it]"
     ]
    },
    {
     "name": "stdout",
     "output_type": "stream",
     "text": [
      "------------ test losses ------------\n",
      "rmse: 0.348201\n",
      "l2: 3499.098796\n",
      "Epoch 21, Time: 22.977380 (s)\n",
      "------------ train losses ------------\n",
      "rmse: 0.172157\n",
      "l2: 5987.694400\n",
      "------------ validation losses ------------\n",
      "rmse: 0.344581\n",
      "l2: 6853.669840\n"
     ]
    },
    {
     "name": "stderr",
     "output_type": "stream",
     "text": [
      "\r",
      " 52%|█████▎    | 21/40 [09:20<08:51, 27.97s/it]"
     ]
    },
    {
     "name": "stdout",
     "output_type": "stream",
     "text": [
      "------------ test losses ------------\n",
      "rmse: 0.345629\n",
      "l2: 3447.596133\n",
      "Epoch 22, Time: 22.107044 (s)\n",
      "------------ train losses ------------\n",
      "rmse: 0.169463\n",
      "l2: 5801.765912\n",
      "------------ validation losses ------------\n",
      "rmse: 0.343377\n",
      "l2: 6805.856943\n"
     ]
    },
    {
     "name": "stderr",
     "output_type": "stream",
     "text": [
      "\r",
      " 55%|█████▌    | 22/40 [09:48<08:23, 27.96s/it]"
     ]
    },
    {
     "name": "stdout",
     "output_type": "stream",
     "text": [
      "------------ test losses ------------\n",
      "rmse: 0.344276\n",
      "l2: 3420.659958\n",
      "Epoch 23, Time: 21.972560 (s)\n",
      "------------ train losses ------------\n",
      "rmse: 0.162715\n",
      "l2: 5348.894964\n",
      "------------ validation losses ------------\n",
      "rmse: 0.341932\n",
      "l2: 6748.721627\n"
     ]
    },
    {
     "name": "stderr",
     "output_type": "stream",
     "text": [
      "\r",
      " 57%|█████▊    | 23/40 [10:16<07:54, 27.90s/it]"
     ]
    },
    {
     "name": "stdout",
     "output_type": "stream",
     "text": [
      "------------ test losses ------------\n",
      "rmse: 0.343061\n",
      "l2: 3396.566248\n",
      "Epoch 24, Time: 23.152467 (s)\n",
      "------------ train losses ------------\n",
      "rmse: 0.166683\n",
      "l2: 5612.990307\n",
      "------------ validation losses ------------\n",
      "rmse: 0.342324\n",
      "l2: 6764.186735\n"
     ]
    },
    {
     "name": "stderr",
     "output_type": "stream",
     "text": [
      "\r",
      " 60%|██████    | 24/40 [10:45<07:31, 28.22s/it]"
     ]
    },
    {
     "name": "stdout",
     "output_type": "stream",
     "text": [
      "------------ test losses ------------\n",
      "rmse: 0.343489\n",
      "l2: 3405.048457\n",
      "Epoch 25, Time: 22.429575 (s)\n",
      "------------ train losses ------------\n",
      "rmse: 0.157699\n",
      "l2: 5024.200771\n",
      "------------ validation losses ------------\n",
      "rmse: 0.340126\n",
      "l2: 6677.601785\n"
     ]
    },
    {
     "name": "stderr",
     "output_type": "stream",
     "text": [
      "\r",
      " 62%|██████▎   | 25/40 [11:13<07:03, 28.24s/it]"
     ]
    },
    {
     "name": "stdout",
     "output_type": "stream",
     "text": [
      "------------ test losses ------------\n",
      "rmse: 0.341037\n",
      "l2: 3356.589760\n",
      "Epoch 26, Time: 22.604982 (s)\n",
      "------------ train losses ------------\n",
      "rmse: 0.157873\n",
      "l2: 5035.285054\n",
      "------------ validation losses ------------\n",
      "rmse: 0.339114\n",
      "l2: 6637.948864\n"
     ]
    },
    {
     "name": "stderr",
     "output_type": "stream",
     "text": [
      "\r",
      " 65%|██████▌   | 26/40 [11:42<06:36, 28.30s/it]"
     ]
    },
    {
     "name": "stdout",
     "output_type": "stream",
     "text": [
      "------------ test losses ------------\n",
      "rmse: 0.340198\n",
      "l2: 3340.100950\n",
      "Epoch 27, Time: 22.663427 (s)\n",
      "------------ train losses ------------\n",
      "rmse: 0.155942\n",
      "l2: 4912.885367\n",
      "------------ validation losses ------------\n",
      "rmse: 0.338300\n",
      "l2: 6606.113847\n"
     ]
    },
    {
     "name": "stderr",
     "output_type": "stream",
     "text": [
      "\r",
      " 68%|██████▊   | 27/40 [12:10<06:09, 28.39s/it]"
     ]
    },
    {
     "name": "stdout",
     "output_type": "stream",
     "text": [
      "------------ test losses ------------\n",
      "rmse: 0.338880\n",
      "l2: 3314.271131\n",
      "Epoch 28, Time: 22.738101 (s)\n",
      "------------ train losses ------------\n",
      "rmse: 0.153522\n",
      "l2: 4761.566239\n",
      "------------ validation losses ------------\n",
      "rmse: 0.337405\n",
      "l2: 6571.200497\n"
     ]
    },
    {
     "name": "stderr",
     "output_type": "stream",
     "text": [
      "\r",
      " 70%|███████   | 28/40 [12:39<05:41, 28.43s/it]"
     ]
    },
    {
     "name": "stdout",
     "output_type": "stream",
     "text": [
      "------------ test losses ------------\n",
      "rmse: 0.338311\n",
      "l2: 3303.146743\n",
      "Epoch 29, Time: 23.196646 (s)\n",
      "------------ train losses ------------\n",
      "rmse: 0.156746\n",
      "l2: 4963.657919\n",
      "------------ validation losses ------------\n",
      "rmse: 0.337709\n",
      "l2: 6583.043255\n"
     ]
    },
    {
     "name": "stderr",
     "output_type": "stream",
     "text": [
      "\r",
      " 72%|███████▎  | 29/40 [13:08<05:14, 28.61s/it]"
     ]
    },
    {
     "name": "stdout",
     "output_type": "stream",
     "text": [
      "------------ test losses ------------\n",
      "rmse: 0.338343\n",
      "l2: 3303.782224\n",
      "Epoch 30, Time: 23.035795 (s)\n",
      "------------ train losses ------------\n",
      "rmse: 0.152044\n",
      "l2: 4670.321128\n",
      "------------ validation losses ------------\n",
      "rmse: 0.336385\n",
      "l2: 6531.536829\n"
     ]
    },
    {
     "name": "stderr",
     "output_type": "stream",
     "text": [
      "\r",
      " 75%|███████▌  | 30/40 [13:37<04:47, 28.71s/it]"
     ]
    },
    {
     "name": "stdout",
     "output_type": "stream",
     "text": [
      "------------ test losses ------------\n",
      "rmse: 0.337202\n",
      "l2: 3281.528336\n",
      "Epoch 31, Time: 23.154870 (s)\n",
      "------------ train losses ------------\n",
      "rmse: 0.147162\n",
      "l2: 4375.215601\n",
      "------------ validation losses ------------\n",
      "rmse: 0.334075\n",
      "l2: 6442.116277\n"
     ]
    },
    {
     "name": "stderr",
     "output_type": "stream",
     "text": [
      "\r",
      " 78%|███████▊  | 31/40 [14:06<04:19, 28.80s/it]"
     ]
    },
    {
     "name": "stdout",
     "output_type": "stream",
     "text": [
      "------------ test losses ------------\n",
      "rmse: 0.335130\n",
      "l2: 3241.327590\n",
      "Epoch 32, Time: 23.542761 (s)\n",
      "------------ train losses ------------\n",
      "rmse: 0.147732\n",
      "l2: 4409.163084\n",
      "------------ validation losses ------------\n",
      "rmse: 0.334308\n",
      "l2: 6451.112389\n"
     ]
    },
    {
     "name": "stderr",
     "output_type": "stream",
     "text": [
      "\r",
      " 80%|████████  | 32/40 [14:35<03:50, 28.87s/it]"
     ]
    },
    {
     "name": "stdout",
     "output_type": "stream",
     "text": [
      "------------ test losses ------------\n",
      "rmse: 0.335177\n",
      "l2: 3242.230346\n",
      "Epoch 33, Time: 23.407077 (s)\n",
      "------------ train losses ------------\n",
      "rmse: 0.143728\n",
      "l2: 4173.402435\n",
      "------------ validation losses ------------\n",
      "rmse: 0.333322\n",
      "l2: 6413.132928\n"
     ]
    },
    {
     "name": "stderr",
     "output_type": "stream",
     "text": [
      "\r",
      " 82%|████████▎ | 33/40 [15:04<03:23, 29.02s/it]"
     ]
    },
    {
     "name": "stdout",
     "output_type": "stream",
     "text": [
      "------------ test losses ------------\n",
      "rmse: 0.333898\n",
      "l2: 3217.545657\n",
      "Epoch 34, Time: 23.540497 (s)\n",
      "------------ train losses ------------\n",
      "rmse: 0.139422\n",
      "l2: 3927.095485\n",
      "------------ validation losses ------------\n",
      "rmse: 0.331843\n",
      "l2: 6356.348264\n"
     ]
    },
    {
     "name": "stderr",
     "output_type": "stream",
     "text": [
      "\r",
      " 85%|████████▌ | 34/40 [15:33<02:54, 29.11s/it]"
     ]
    },
    {
     "name": "stdout",
     "output_type": "stream",
     "text": [
      "------------ test losses ------------\n",
      "rmse: 0.333124\n",
      "l2: 3202.644955\n",
      "Epoch 35, Time: 23.762782 (s)\n",
      "------------ train losses ------------\n",
      "rmse: 0.139567\n",
      "l2: 3935.291812\n",
      "------------ validation losses ------------\n",
      "rmse: 0.332085\n",
      "l2: 6365.612320\n"
     ]
    },
    {
     "name": "stderr",
     "output_type": "stream",
     "text": [
      "\r",
      " 88%|████████▊ | 35/40 [16:03<02:26, 29.25s/it]"
     ]
    },
    {
     "name": "stdout",
     "output_type": "stream",
     "text": [
      "------------ test losses ------------\n",
      "rmse: 0.332751\n",
      "l2: 3195.463287\n",
      "Epoch 36, Time: 23.889513 (s)\n",
      "------------ train losses ------------\n",
      "rmse: 0.137177\n",
      "l2: 3801.672250\n",
      "------------ validation losses ------------\n",
      "rmse: 0.331254\n",
      "l2: 6333.777570\n"
     ]
    },
    {
     "name": "stderr",
     "output_type": "stream",
     "text": [
      "\r",
      " 90%|█████████ | 36/40 [16:33<01:57, 29.38s/it]"
     ]
    },
    {
     "name": "stdout",
     "output_type": "stream",
     "text": [
      "------------ test losses ------------\n",
      "rmse: 0.332328\n",
      "l2: 3187.349255\n",
      "Epoch 37, Time: 24.217460 (s)\n",
      "------------ train losses ------------\n",
      "rmse: 0.141202\n",
      "l2: 4027.997952\n",
      "------------ validation losses ------------\n",
      "rmse: 0.331694\n",
      "l2: 6350.637443\n"
     ]
    },
    {
     "name": "stderr",
     "output_type": "stream",
     "text": [
      "\r",
      " 92%|█████████▎| 37/40 [17:03<01:28, 29.58s/it]"
     ]
    },
    {
     "name": "stdout",
     "output_type": "stream",
     "text": [
      "------------ test losses ------------\n",
      "rmse: 0.332721\n",
      "l2: 3194.902346\n",
      "Epoch 38, Time: 25.258799 (s)\n",
      "------------ train losses ------------\n",
      "rmse: 0.136797\n",
      "l2: 3780.635241\n",
      "------------ validation losses ------------\n",
      "rmse: 0.330457\n",
      "l2: 6303.353406\n"
     ]
    },
    {
     "name": "stderr",
     "output_type": "stream",
     "text": [
      "\r",
      " 95%|█████████▌| 38/40 [17:34<01:00, 30.07s/it]"
     ]
    },
    {
     "name": "stdout",
     "output_type": "stream",
     "text": [
      "------------ test losses ------------\n",
      "rmse: 0.331804\n",
      "l2: 3177.316144\n",
      "Epoch 39, Time: 26.001996 (s)\n",
      "------------ train losses ------------\n",
      "rmse: 0.134665\n",
      "l2: 3663.706397\n",
      "------------ validation losses ------------\n",
      "rmse: 0.329750\n",
      "l2: 6276.404695\n"
     ]
    },
    {
     "name": "stderr",
     "output_type": "stream",
     "text": [
      "\r",
      " 98%|█████████▊| 39/40 [18:06<00:30, 30.64s/it]"
     ]
    },
    {
     "name": "stdout",
     "output_type": "stream",
     "text": [
      "------------ test losses ------------\n",
      "rmse: 0.330443\n",
      "l2: 3151.302681\n",
      "Epoch 40, Time: 25.467006 (s)\n",
      "------------ train losses ------------\n",
      "rmse: 0.132620\n",
      "l2: 3553.274487\n",
      "------------ validation losses ------------\n",
      "rmse: 0.329573\n",
      "l2: 6269.675992\n"
     ]
    },
    {
     "name": "stderr",
     "output_type": "stream",
     "text": [
      "\r",
      "100%|██████████| 40/40 [18:37<00:00, 30.88s/it]"
     ]
    },
    {
     "name": "stdout",
     "output_type": "stream",
     "text": [
      "------------ test losses ------------\n",
      "rmse: 0.330059\n",
      "l2: 3143.973301\n"
     ]
    },
    {
     "name": "stderr",
     "output_type": "stream",
     "text": [
      "\n"
     ]
    },
    {
     "data": {
      "image/png": "[encoded data removed]",
      "text/plain": [
       "<Figure size 432x288 with 1 Axes>"
      ]
     },
     "metadata": {
      "needs_background": "light"
     },
     "output_type": "display_data"
    },
    {
     "name": "stdout",
     "output_type": "stream",
     "text": [
      "best loss (39, 0.33005875)\n",
      "dr=0.70, lr=0.010, \n"
     ]
    },
    {
     "name": "stderr",
     "output_type": "stream",
     "text": [
      "\r",
      "  0%|          | 0/40 [00:00<?, ?it/s]"
     ]
    },
    {
     "name": "stdout",
     "output_type": "stream",
     "text": [
      "Epoch 1, Time: 26.070202 (s)\n",
      "------------ train losses ------------\n",
      "rmse: 0.244253\n",
      "l2: 12052.797876\n",
      "------------ validation losses ------------\n",
      "rmse: 0.374301\n",
      "l2: 8086.922608\n"
     ]
    },
    {
     "name": "stderr",
     "output_type": "stream",
     "text": [
      "\r",
      "  2%|▎         | 1/40 [00:32<20:50, 32.05s/it]"
     ]
    },
    {
     "name": "stdout",
     "output_type": "stream",
     "text": [
      "------------ test losses ------------\n",
      "rmse: 0.376563\n",
      "l2: 4092.338043\n",
      "Epoch 2, Time: 26.582632 (s)\n",
      "------------ train losses ------------\n",
      "rmse: 0.193541\n",
      "l2: 7567.574293\n",
      "------------ validation losses ------------\n",
      "rmse: 0.351589\n",
      "l2: 7135.290650\n"
     ]
    },
    {
     "name": "stderr",
     "output_type": "stream",
     "text": [
      "\r",
      "  5%|▌         | 2/40 [01:04<20:24, 32.23s/it]"
     ]
    },
    {
     "name": "stdout",
     "output_type": "stream",
     "text": [
      "------------ test losses ------------\n",
      "rmse: 0.354649\n",
      "l2: 3629.892042\n",
      "Epoch 3, Time: 27.377464 (s)\n",
      "------------ train losses ------------\n",
      "rmse: 0.170860\n",
      "l2: 5897.816711\n",
      "------------ validation losses ------------\n",
      "rmse: 0.344331\n",
      "l2: 6843.757804\n"
     ]
    },
    {
     "name": "stderr",
     "output_type": "stream",
     "text": [
      "\r",
      "  8%|▊         | 3/40 [01:38<20:05, 32.57s/it]"
     ]
    },
    {
     "name": "stdout",
     "output_type": "stream",
     "text": [
      "------------ test losses ------------\n",
      "rmse: 0.345994\n",
      "l2: 3454.891000\n",
      "Epoch 4, Time: 25.915211 (s)\n",
      "------------ train losses ------------\n",
      "rmse: 0.163878\n",
      "l2: 5425.624957\n",
      "------------ validation losses ------------\n",
      "rmse: 0.340581\n",
      "l2: 6695.494331\n"
     ]
    },
    {
     "name": "stderr",
     "output_type": "stream",
     "text": [
      "\r",
      " 10%|█         | 4/40 [02:09<19:23, 32.33s/it]"
     ]
    },
    {
     "name": "stdout",
     "output_type": "stream",
     "text": [
      "------------ test losses ------------\n",
      "rmse: 0.342518\n",
      "l2: 3385.809211\n",
      "Epoch 5, Time: 26.010465 (s)\n",
      "------------ train losses ------------\n",
      "rmse: 0.159634\n",
      "l2: 5148.237332\n",
      "------------ validation losses ------------\n",
      "rmse: 0.337408\n",
      "l2: 6571.322773\n"
     ]
    },
    {
     "name": "stderr",
     "output_type": "stream",
     "text": [
      "\r",
      " 12%|█▎        | 5/40 [02:41<18:46, 32.19s/it]"
     ]
    },
    {
     "name": "stdout",
     "output_type": "stream",
     "text": [
      "------------ test losses ------------\n",
      "rmse: 0.338306\n",
      "l2: 3303.053293\n",
      "Epoch 6, Time: 25.233141 (s)\n",
      "------------ train losses ------------\n",
      "rmse: 0.157538\n",
      "l2: 5013.950062\n",
      "------------ validation losses ------------\n",
      "rmse: 0.335623\n",
      "l2: 6501.959058\n"
     ]
    },
    {
     "name": "stderr",
     "output_type": "stream",
     "text": [
      "\r",
      " 15%|█▌        | 6/40 [03:12<18:02, 31.85s/it]"
     ]
    },
    {
     "name": "stdout",
     "output_type": "stream",
     "text": [
      "------------ test losses ------------\n",
      "rmse: 0.337461\n",
      "l2: 3286.581354\n",
      "Epoch 7, Time: 26.342939 (s)\n",
      "------------ train losses ------------\n",
      "rmse: 0.142404\n",
      "l2: 4096.913353\n",
      "------------ validation losses ------------\n",
      "rmse: 0.330883\n",
      "l2: 6319.592745\n"
     ]
    },
    {
     "name": "stderr",
     "output_type": "stream",
     "text": [
      "\r",
      " 18%|█▊        | 7/40 [03:44<17:34, 31.96s/it]"
     ]
    },
    {
     "name": "stdout",
     "output_type": "stream",
     "text": [
      "------------ test losses ------------\n",
      "rmse: 0.332303\n",
      "l2: 3186.878767\n",
      "Epoch 8, Time: 25.192210 (s)\n",
      "------------ train losses ------------\n",
      "rmse: 0.144956\n",
      "l2: 4245.036554\n",
      "------------ validation losses ------------\n",
      "rmse: 0.331354\n",
      "l2: 6337.621132\n"
     ]
    },
    {
     "name": "stderr",
     "output_type": "stream",
     "text": [
      "\r",
      " 20%|██        | 8/40 [04:15<16:53, 31.67s/it]"
     ]
    },
    {
     "name": "stdout",
     "output_type": "stream",
     "text": [
      "------------ test losses ------------\n",
      "rmse: 0.332821\n",
      "l2: 3196.820517\n",
      "Epoch 9, Time: 27.917988 (s)\n",
      "------------ train losses ------------\n",
      "rmse: 0.136650\n",
      "l2: 3772.513414\n",
      "------------ validation losses ------------\n",
      "rmse: 0.328415\n",
      "l2: 6225.679784\n"
     ]
    },
    {
     "name": "stderr",
     "output_type": "stream",
     "text": [
      "\r",
      " 22%|██▎       | 9/40 [04:49<16:40, 32.27s/it]"
     ]
    },
    {
     "name": "stdout",
     "output_type": "stream",
     "text": [
      "------------ test losses ------------\n",
      "rmse: 0.330291\n",
      "l2: 3148.401117\n",
      "Epoch 10, Time: 28.843593 (s)\n",
      "------------ train losses ------------\n",
      "rmse: 0.138224\n",
      "l2: 3859.898863\n",
      "------------ validation losses ------------\n",
      "rmse: 0.328733\n",
      "l2: 6237.747337\n"
     ]
    },
    {
     "name": "stderr",
     "output_type": "stream",
     "text": [
      "\r",
      " 25%|██▌       | 10/40 [05:24<16:31, 33.04s/it]"
     ]
    },
    {
     "name": "stdout",
     "output_type": "stream",
     "text": [
      "------------ test losses ------------\n",
      "rmse: 0.330255\n",
      "l2: 3147.719130\n",
      "Epoch 11, Time: 28.085784 (s)\n",
      "------------ train losses ------------\n",
      "rmse: 0.138945\n",
      "l2: 3900.294420\n",
      "------------ validation losses ------------\n",
      "rmse: 0.329143\n",
      "l2: 6253.330240\n"
     ]
    },
    {
     "name": "stderr",
     "output_type": "stream",
     "text": [
      "\r",
      " 28%|██▊       | 11/40 [05:58<16:07, 33.36s/it]"
     ]
    },
    {
     "name": "stdout",
     "output_type": "stream",
     "text": [
      "------------ test losses ------------\n",
      "rmse: 0.330838\n",
      "l2: 3158.845045\n",
      "Epoch 12, Time: 27.907594 (s)\n",
      "------------ train losses ------------\n",
      "rmse: 0.131475\n",
      "l2: 3492.163482\n",
      "------------ validation losses ------------\n",
      "rmse: 0.327348\n",
      "l2: 6185.307250\n"
     ]
    },
    {
     "name": "stderr",
     "output_type": "stream",
     "text": [
      "\r",
      " 30%|███       | 12/40 [06:32<15:37, 33.47s/it]"
     ]
    },
    {
     "name": "stdout",
     "output_type": "stream",
     "text": [
      "------------ test losses ------------\n",
      "rmse: 0.329450\n",
      "l2: 3132.382497\n",
      "Epoch 13, Time: 29.541666 (s)\n",
      "------------ train losses ------------\n",
      "rmse: 0.131966\n",
      "l2: 3518.322445\n",
      "------------ validation losses ------------\n",
      "rmse: 0.326440\n",
      "l2: 6151.021833\n"
     ]
    },
    {
     "name": "stderr",
     "output_type": "stream",
     "text": [
      "\r",
      " 32%|███▎      | 13/40 [07:07<15:20, 34.09s/it]"
     ]
    },
    {
     "name": "stdout",
     "output_type": "stream",
     "text": [
      "------------ test losses ------------\n",
      "rmse: 0.329076\n",
      "l2: 3125.281032\n",
      "Epoch 14, Time: 28.294361 (s)\n",
      "------------ train losses ------------\n",
      "rmse: 0.125297\n",
      "l2: 3171.673741\n",
      "------------ validation losses ------------\n",
      "rmse: 0.324737\n",
      "l2: 6087.027060\n"
     ]
    },
    {
     "name": "stderr",
     "output_type": "stream",
     "text": [
      "\r",
      " 35%|███▌      | 14/40 [07:42<14:48, 34.18s/it]"
     ]
    },
    {
     "name": "stdout",
     "output_type": "stream",
     "text": [
      "------------ test losses ------------\n",
      "rmse: 0.327231\n",
      "l2: 3090.331310\n",
      "Epoch 15, Time: 29.629740 (s)\n",
      "------------ train losses ------------\n",
      "rmse: 0.127771\n",
      "l2: 3298.169479\n",
      "------------ validation losses ------------\n",
      "rmse: 0.326137\n",
      "l2: 6139.608239\n"
     ]
    },
    {
     "name": "stderr",
     "output_type": "stream",
     "text": [
      "\r",
      " 38%|███▊      | 15/40 [08:17<14:25, 34.64s/it]"
     ]
    },
    {
     "name": "stdout",
     "output_type": "stream",
     "text": [
      "------------ test losses ------------\n",
      "rmse: 0.327620\n",
      "l2: 3097.687218\n",
      "Epoch 16, Time: 28.976159 (s)\n",
      "------------ train losses ------------\n",
      "rmse: 0.126924\n",
      "l2: 3254.585154\n",
      "------------ validation losses ------------\n",
      "rmse: 0.326112\n",
      "l2: 6138.683538\n"
     ]
    },
    {
     "name": "stderr",
     "output_type": "stream",
     "text": [
      "\r",
      " 40%|████      | 16/40 [08:52<13:53, 34.72s/it]"
     ]
    },
    {
     "name": "stdout",
     "output_type": "stream",
     "text": [
      "------------ test losses ------------\n",
      "rmse: 0.327426\n",
      "l2: 3094.014196\n",
      "Epoch 17, Time: 28.561547 (s)\n",
      "------------ train losses ------------\n",
      "rmse: 0.128663\n",
      "l2: 3344.386242\n",
      "------------ validation losses ------------\n",
      "rmse: 0.325192\n",
      "l2: 6104.078107\n"
     ]
    },
    {
     "name": "stderr",
     "output_type": "stream",
     "text": [
      "\r",
      " 42%|████▎     | 17/40 [09:27<13:18, 34.70s/it]"
     ]
    },
    {
     "name": "stdout",
     "output_type": "stream",
     "text": [
      "------------ test losses ------------\n",
      "rmse: 0.326966\n",
      "l2: 3085.325946\n",
      "Epoch 18, Time: 28.702157 (s)\n",
      "------------ train losses ------------\n",
      "rmse: 0.122470\n",
      "l2: 3030.176413\n",
      "------------ validation losses ------------\n",
      "rmse: 0.323833\n",
      "l2: 6053.195081\n"
     ]
    },
    {
     "name": "stderr",
     "output_type": "stream",
     "text": [
      "\r",
      " 45%|████▌     | 18/40 [10:02<12:43, 34.71s/it]"
     ]
    },
    {
     "name": "stdout",
     "output_type": "stream",
     "text": [
      "------------ test losses ------------\n",
      "rmse: 0.325318\n",
      "l2: 3054.298435\n",
      "Epoch 19, Time: 28.577597 (s)\n",
      "------------ train losses ------------\n",
      "rmse: 0.121900\n",
      "l2: 3002.030492\n",
      "------------ validation losses ------------\n",
      "rmse: 0.323870\n",
      "l2: 6054.545988\n"
     ]
    },
    {
     "name": "stderr",
     "output_type": "stream",
     "text": [
      "\r",
      " 48%|████▊     | 19/40 [10:36<12:08, 34.67s/it]"
     ]
    },
    {
     "name": "stdout",
     "output_type": "stream",
     "text": [
      "------------ test losses ------------\n",
      "rmse: 0.325434\n",
      "l2: 3056.483168\n",
      "Epoch 20, Time: 29.127213 (s)\n",
      "------------ train losses ------------\n",
      "rmse: 0.121001\n",
      "l2: 2957.934905\n",
      "------------ validation losses ------------\n",
      "rmse: 0.323535\n",
      "l2: 6042.042341\n"
     ]
    },
    {
     "name": "stderr",
     "output_type": "stream",
     "text": [
      "\r",
      " 50%|█████     | 20/40 [11:11<11:35, 34.75s/it]"
     ]
    },
    {
     "name": "stdout",
     "output_type": "stream",
     "text": [
      "------------ test losses ------------\n",
      "rmse: 0.325284\n",
      "l2: 3053.676401\n",
      "Epoch 21, Time: 28.844838 (s)\n",
      "------------ train losses ------------\n",
      "rmse: 0.123360\n",
      "l2: 3074.384797\n",
      "------------ validation losses ------------\n",
      "rmse: 0.323762\n",
      "l2: 6050.538930\n"
     ]
    },
    {
     "name": "stderr",
     "output_type": "stream",
     "text": [
      "\r",
      " 52%|█████▎    | 21/40 [11:46<11:01, 34.79s/it]"
     ]
    },
    {
     "name": "stdout",
     "output_type": "stream",
     "text": [
      "------------ test losses ------------\n",
      "rmse: 0.325945\n",
      "l2: 3066.084053\n",
      "Epoch 22, Time: 29.138677 (s)\n",
      "------------ train losses ------------\n",
      "rmse: 0.127803\n",
      "l2: 3299.838336\n",
      "------------ validation losses ------------\n",
      "rmse: 0.324857\n",
      "l2: 6091.538450\n"
     ]
    },
    {
     "name": "stderr",
     "output_type": "stream",
     "text": [
      "\r",
      " 55%|█████▌    | 22/40 [12:21<10:28, 34.90s/it]"
     ]
    },
    {
     "name": "stdout",
     "output_type": "stream",
     "text": [
      "------------ test losses ------------\n",
      "rmse: 0.326985\n",
      "l2: 3085.690301\n",
      "Epoch 23, Time: 29.751292 (s)\n",
      "------------ train losses ------------\n",
      "rmse: 0.121110\n",
      "l2: 2963.256103\n",
      "------------ validation losses ------------\n",
      "rmse: 0.323089\n",
      "l2: 6025.404560\n"
     ]
    },
    {
     "name": "stderr",
     "output_type": "stream",
     "text": [
      "\r",
      " 57%|█████▊    | 23/40 [12:57<09:57, 35.16s/it]"
     ]
    },
    {
     "name": "stdout",
     "output_type": "stream",
     "text": [
      "------------ test losses ------------\n",
      "rmse: 0.324443\n",
      "l2: 3037.906797\n",
      "Epoch 24, Time: 29.177597 (s)\n",
      "------------ train losses ------------\n",
      "rmse: 0.119256\n",
      "l2: 2873.246410\n",
      "------------ validation losses ------------\n",
      "rmse: 0.323273\n",
      "l2: 6032.248646\n"
     ]
    },
    {
     "name": "stderr",
     "output_type": "stream",
     "text": [
      "\r",
      " 60%|██████    | 24/40 [13:32<09:22, 35.16s/it]"
     ]
    },
    {
     "name": "stdout",
     "output_type": "stream",
     "text": [
      "------------ test losses ------------\n",
      "rmse: 0.324777\n",
      "l2: 3044.155110\n",
      "Epoch 25, Time: 29.818942 (s)\n",
      "------------ train losses ------------\n",
      "rmse: 0.114876\n",
      "l2: 2666.045036\n",
      "------------ validation losses ------------\n",
      "rmse: 0.322662\n",
      "l2: 6009.476646\n"
     ]
    },
    {
     "name": "stderr",
     "output_type": "stream",
     "text": [
      "\r",
      " 62%|██████▎   | 25/40 [14:08<08:49, 35.31s/it]"
     ]
    },
    {
     "name": "stdout",
     "output_type": "stream",
     "text": [
      "------------ test losses ------------\n",
      "rmse: 0.323979\n",
      "l2: 3029.217309\n",
      "Epoch 26, Time: 29.508963 (s)\n",
      "------------ train losses ------------\n",
      "rmse: 0.118824\n",
      "l2: 2852.446601\n",
      "------------ validation losses ------------\n",
      "rmse: 0.322696\n",
      "l2: 6010.766044\n"
     ]
    },
    {
     "name": "stderr",
     "output_type": "stream",
     "text": [
      "\r",
      " 65%|██████▌   | 26/40 [14:43<08:15, 35.40s/it]"
     ]
    },
    {
     "name": "stdout",
     "output_type": "stream",
     "text": [
      "------------ test losses ------------\n",
      "rmse: 0.324502\n",
      "l2: 3039.007899\n",
      "Epoch 27, Time: 29.848861 (s)\n",
      "------------ train losses ------------\n",
      "rmse: 0.118661\n",
      "l2: 2844.624716\n",
      "------------ validation losses ------------\n",
      "rmse: 0.322607\n",
      "l2: 6007.448617\n"
     ]
    },
    {
     "name": "stderr",
     "output_type": "stream",
     "text": [
      "\r",
      " 68%|██████▊   | 27/40 [15:19<07:41, 35.48s/it]"
     ]
    },
    {
     "name": "stdout",
     "output_type": "stream",
     "text": [
      "------------ test losses ------------\n",
      "rmse: 0.324471\n",
      "l2: 3038.428575\n",
      "Epoch 28, Time: 31.088443 (s)\n",
      "------------ train losses ------------\n",
      "rmse: 0.117410\n",
      "l2: 2784.962923\n",
      "------------ validation losses ------------\n",
      "rmse: 0.322692\n",
      "l2: 6010.580581\n"
     ]
    },
    {
     "name": "stderr",
     "output_type": "stream",
     "text": [
      "\r",
      " 70%|███████   | 28/40 [15:56<07:11, 35.95s/it]"
     ]
    },
    {
     "name": "stdout",
     "output_type": "stream",
     "text": [
      "------------ test losses ------------\n",
      "rmse: 0.324422\n",
      "l2: 3037.498373\n",
      "Epoch 29, Time: 30.250747 (s)\n",
      "------------ train losses ------------\n",
      "rmse: 0.116745\n",
      "l2: 2753.519533\n",
      "------------ validation losses ------------\n",
      "rmse: 0.322555\n",
      "l2: 6005.486342\n"
     ]
    },
    {
     "name": "stderr",
     "output_type": "stream",
     "text": [
      "\r",
      " 72%|███████▎  | 29/40 [16:32<06:36, 36.01s/it]"
     ]
    },
    {
     "name": "stdout",
     "output_type": "stream",
     "text": [
      "------------ test losses ------------\n",
      "rmse: 0.324344\n",
      "l2: 3036.041666\n",
      "Epoch 30, Time: 30.470512 (s)\n",
      "------------ train losses ------------\n",
      "rmse: 0.118762\n",
      "l2: 2849.461945\n",
      "------------ validation losses ------------\n",
      "rmse: 0.322840\n",
      "l2: 6016.100796\n"
     ]
    },
    {
     "name": "stderr",
     "output_type": "stream",
     "text": [
      "\r",
      " 75%|███████▌  | 30/40 [17:09<06:01, 36.14s/it]"
     ]
    },
    {
     "name": "stdout",
     "output_type": "stream",
     "text": [
      "------------ test losses ------------\n",
      "rmse: 0.324345\n",
      "l2: 3036.069299\n",
      "Epoch 31, Time: 31.188180 (s)\n",
      "------------ train losses ------------\n",
      "rmse: 0.117947\n",
      "l2: 2810.508907\n",
      "------------ validation losses ------------\n",
      "rmse: 0.322708\n",
      "l2: 6011.201991\n"
     ]
    },
    {
     "name": "stderr",
     "output_type": "stream",
     "text": [
      "\r",
      " 78%|███████▊  | 31/40 [17:46<05:27, 36.44s/it]"
     ]
    },
    {
     "name": "stdout",
     "output_type": "stream",
     "text": [
      "------------ test losses ------------\n",
      "rmse: 0.324163\n",
      "l2: 3032.658953\n",
      "Epoch 32, Time: 31.052505 (s)\n",
      "------------ train losses ------------\n",
      "rmse: 0.116868\n",
      "l2: 2759.306846\n",
      "------------ validation losses ------------\n",
      "rmse: 0.322336\n",
      "l2: 5997.335479\n"
     ]
    },
    {
     "name": "stderr",
     "output_type": "stream",
     "text": [
      "\r",
      " 80%|████████  | 32/40 [18:23<04:52, 36.60s/it]"
     ]
    },
    {
     "name": "stdout",
     "output_type": "stream",
     "text": [
      "------------ test losses ------------\n",
      "rmse: 0.324119\n",
      "l2: 3031.832912\n",
      "Epoch 33, Time: 31.292710 (s)\n",
      "------------ train losses ------------\n",
      "rmse: 0.120143\n",
      "l2: 2916.117636\n",
      "------------ validation losses ------------\n",
      "rmse: 0.323631\n",
      "l2: 6045.635773\n"
     ]
    },
    {
     "name": "stderr",
     "output_type": "stream",
     "text": [
      "\r",
      " 82%|████████▎ | 33/40 [19:00<04:17, 36.74s/it]"
     ]
    },
    {
     "name": "stdout",
     "output_type": "stream",
     "text": [
      "------------ test losses ------------\n",
      "rmse: 0.325174\n",
      "l2: 3051.593365\n",
      "Epoch 34, Time: 30.783993 (s)\n",
      "------------ train losses ------------\n",
      "rmse: 0.114254\n",
      "l2: 2637.244867\n",
      "------------ validation losses ------------\n",
      "rmse: 0.321631\n",
      "l2: 5971.121139\n"
     ]
    },
    {
     "name": "stderr",
     "output_type": "stream",
     "text": [
      "\r",
      " 85%|████████▌ | 34/40 [19:37<03:40, 36.74s/it]"
     ]
    },
    {
     "name": "stdout",
     "output_type": "stream",
     "text": [
      "------------ test losses ------------\n",
      "rmse: 0.323364\n",
      "l2: 3017.731299\n",
      "Epoch 35, Time: 32.044657 (s)\n",
      "------------ train losses ------------\n",
      "rmse: 0.114570\n",
      "l2: 2651.880027\n",
      "------------ validation losses ------------\n",
      "rmse: 0.322210\n",
      "l2: 5992.667761\n"
     ]
    },
    {
     "name": "stderr",
     "output_type": "stream",
     "text": [
      "\r",
      " 88%|████████▊ | 35/40 [20:15<03:05, 37.09s/it]"
     ]
    },
    {
     "name": "stdout",
     "output_type": "stream",
     "text": [
      "------------ test losses ------------\n",
      "rmse: 0.323933\n",
      "l2: 3028.349337\n",
      "Epoch 36, Time: 31.832180 (s)\n",
      "------------ train losses ------------\n",
      "rmse: 0.114140\n",
      "l2: 2632.010281\n",
      "------------ validation losses ------------\n",
      "rmse: 0.321560\n",
      "l2: 5968.505440\n"
     ]
    },
    {
     "name": "stderr",
     "output_type": "stream",
     "text": [
      "\r",
      " 90%|█████████ | 36/40 [20:52<02:29, 37.29s/it]"
     ]
    },
    {
     "name": "stdout",
     "output_type": "stream",
     "text": [
      "------------ test losses ------------\n",
      "rmse: 0.323316\n",
      "l2: 3016.831987\n",
      "Epoch 37, Time: 32.112481 (s)\n",
      "------------ train losses ------------\n",
      "rmse: 0.118452\n",
      "l2: 2834.634188\n",
      "------------ validation losses ------------\n",
      "rmse: 0.322346\n",
      "l2: 5997.703058\n"
     ]
    },
    {
     "name": "stderr",
     "output_type": "stream",
     "text": [
      "\r",
      " 92%|█████████▎| 37/40 [21:30<01:52, 37.53s/it]"
     ]
    },
    {
     "name": "stdout",
     "output_type": "stream",
     "text": [
      "------------ test losses ------------\n",
      "rmse: 0.323893\n",
      "l2: 3027.598917\n",
      "Epoch 38, Time: 33.446175 (s)\n",
      "------------ train losses ------------\n",
      "rmse: 0.112625\n",
      "l2: 2562.611346\n",
      "------------ validation losses ------------\n",
      "rmse: 0.321356\n",
      "l2: 5960.924678\n"
     ]
    },
    {
     "name": "stderr",
     "output_type": "stream",
     "text": [
      "\r",
      " 95%|█████████▌| 38/40 [22:10<01:16, 38.07s/it]"
     ]
    },
    {
     "name": "stdout",
     "output_type": "stream",
     "text": [
      "------------ test losses ------------\n",
      "rmse: 0.323055\n",
      "l2: 3011.956641\n",
      "Epoch 39, Time: 30.462550 (s)\n",
      "------------ train losses ------------\n",
      "rmse: 0.112931\n",
      "l2: 2576.555937\n",
      "------------ validation losses ------------\n",
      "rmse: 0.321528\n",
      "l2: 5967.301290\n"
     ]
    },
    {
     "name": "stderr",
     "output_type": "stream",
     "text": [
      "\r",
      " 98%|█████████▊| 39/40 [22:46<00:37, 37.56s/it]"
     ]
    },
    {
     "name": "stdout",
     "output_type": "stream",
     "text": [
      "------------ test losses ------------\n",
      "rmse: 0.323229\n",
      "l2: 3015.214539\n",
      "Epoch 40, Time: 31.914258 (s)\n",
      "------------ train losses ------------\n",
      "rmse: 0.114710\n",
      "l2: 2658.338722\n",
      "------------ validation losses ------------\n",
      "rmse: 0.321700\n",
      "l2: 5973.697720\n"
     ]
    },
    {
     "name": "stderr",
     "output_type": "stream",
     "text": [
      "\r",
      "100%|██████████| 40/40 [23:24<00:00, 37.66s/it]"
     ]
    },
    {
     "name": "stdout",
     "output_type": "stream",
     "text": [
      "------------ test losses ------------\n",
      "rmse: 0.323418\n",
      "l2: 3018.728489\n"
     ]
    },
    {
     "name": "stderr",
     "output_type": "stream",
     "text": [
      "\n"
     ]
    },
    {
     "data": {
      "image/png": "[encoded data removed]",
      "text/plain": [
       "<Figure size 432x288 with 1 Axes>"
      ]
     },
     "metadata": {
      "needs_background": "light"
     },
     "output_type": "display_data"
    },
    {
     "name": "stdout",
     "output_type": "stream",
     "text": [
      "best loss (37, 0.32305482)\n",
      "dr=0.90, lr=0.005, \n"
     ]
    },
    {
     "name": "stderr",
     "output_type": "stream",
     "text": [
      "\r",
      "  0%|          | 0/40 [00:00<?, ?it/s]"
     ]
    },
    {
     "name": "stdout",
     "output_type": "stream",
     "text": [
      "Epoch 1, Time: 19.688262 (s)\n",
      "------------ train losses ------------\n",
      "rmse: 0.870990\n",
      "l2: 153262.280993\n",
      "------------ validation losses ------------\n",
      "rmse: 0.869880\n",
      "l2: 43677.771932\n"
     ]
    },
    {
     "name": "stderr",
     "output_type": "stream",
     "text": [
      "\r",
      "  2%|▎         | 1/40 [00:25<16:41, 25.68s/it]"
     ]
    },
    {
     "name": "stdout",
     "output_type": "stream",
     "text": [
      "------------ test losses ------------\n",
      "rmse: 0.870495\n",
      "l2: 21868.980713\n",
      "Epoch 2, Time: 20.061719 (s)\n",
      "------------ train losses ------------\n",
      "rmse: 0.840184\n",
      "l2: 142612.857220\n",
      "------------ validation losses ------------\n",
      "rmse: 0.839828\n",
      "l2: 40711.945253\n"
     ]
    },
    {
     "name": "stderr",
     "output_type": "stream",
     "text": [
      "\r",
      "  5%|▌         | 2/40 [00:51<16:18, 25.74s/it]"
     ]
    },
    {
     "name": "stdout",
     "output_type": "stream",
     "text": [
      "------------ test losses ------------\n",
      "rmse: 0.840611\n",
      "l2: 20393.254725\n",
      "Epoch 3, Time: 19.768577 (s)\n",
      "------------ train losses ------------\n",
      "rmse: 0.805485\n",
      "l2: 131076.383460\n",
      "------------ validation losses ------------\n",
      "rmse: 0.806451\n",
      "l2: 37540.241290\n"
     ]
    },
    {
     "name": "stderr",
     "output_type": "stream",
     "text": [
      "\r",
      "  8%|▊         | 3/40 [01:17<15:53, 25.77s/it]"
     ]
    },
    {
     "name": "stdout",
     "output_type": "stream",
     "text": [
      "------------ test losses ------------\n",
      "rmse: 0.807632\n",
      "l2: 18824.486539\n",
      "Epoch 4, Time: 19.896952 (s)\n",
      "------------ train losses ------------\n",
      "rmse: 0.656702\n",
      "l2: 87125.514530\n",
      "------------ validation losses ------------\n",
      "rmse: 0.662021\n",
      "l2: 25297.936621\n"
     ]
    },
    {
     "name": "stderr",
     "output_type": "stream",
     "text": [
      "\r",
      " 10%|█         | 4/40 [01:43<15:27, 25.77s/it]"
     ]
    },
    {
     "name": "stdout",
     "output_type": "stream",
     "text": [
      "------------ test losses ------------\n",
      "rmse: 0.664226\n",
      "l2: 12732.936958\n",
      "Epoch 5, Time: 20.057618 (s)\n",
      "------------ train losses ------------\n",
      "rmse: 0.616218\n",
      "l2: 76714.597761\n",
      "------------ validation losses ------------\n",
      "rmse: 0.624474\n",
      "l2: 22509.713244\n"
     ]
    },
    {
     "name": "stderr",
     "output_type": "stream",
     "text": [
      "\r",
      " 12%|█▎        | 5/40 [02:09<15:03, 25.83s/it]"
     ]
    },
    {
     "name": "stdout",
     "output_type": "stream",
     "text": [
      "------------ test losses ------------\n",
      "rmse: 0.626611\n",
      "l2: 11331.629482\n",
      "Epoch 6, Time: 20.064816 (s)\n",
      "------------ train losses ------------\n",
      "rmse: 0.596194\n",
      "l2: 71809.849764\n",
      "------------ validation losses ------------\n",
      "rmse: 0.606066\n",
      "l2: 21202.224247\n"
     ]
    },
    {
     "name": "stderr",
     "output_type": "stream",
     "text": [
      "\r",
      " 15%|█▌        | 6/40 [02:35<14:40, 25.90s/it]"
     ]
    },
    {
     "name": "stdout",
     "output_type": "stream",
     "text": [
      "------------ test losses ------------\n",
      "rmse: 0.608335\n",
      "l2: 10680.272727\n",
      "Epoch 7, Time: 19.684422 (s)\n",
      "------------ train losses ------------\n",
      "rmse: 0.581277\n",
      "l2: 68261.585545\n",
      "------------ validation losses ------------\n",
      "rmse: 0.593550\n",
      "l2: 20335.520415\n"
     ]
    },
    {
     "name": "stderr",
     "output_type": "stream",
     "text": [
      "\r",
      " 18%|█▊        | 7/40 [03:00<14:10, 25.78s/it]"
     ]
    },
    {
     "name": "stdout",
     "output_type": "stream",
     "text": [
      "------------ test losses ------------\n",
      "rmse: 0.595104\n",
      "l2: 10220.722050\n",
      "Epoch 8, Time: 20.237750 (s)\n",
      "------------ train losses ------------\n",
      "rmse: 0.568822\n",
      "l2: 65367.602903\n",
      "------------ validation losses ------------\n",
      "rmse: 0.583523\n",
      "l2: 19654.310294\n"
     ]
    },
    {
     "name": "stderr",
     "output_type": "stream",
     "text": [
      "\r",
      " 20%|██        | 8/40 [03:27<13:50, 25.94s/it]"
     ]
    },
    {
     "name": "stdout",
     "output_type": "stream",
     "text": [
      "------------ test losses ------------\n",
      "rmse: 0.585221\n",
      "l2: 9884.064270\n",
      "Epoch 9, Time: 20.836556 (s)\n",
      "------------ train losses ------------\n",
      "rmse: 0.544328\n",
      "l2: 59859.153044\n",
      "------------ validation losses ------------\n",
      "rmse: 0.564334\n",
      "l2: 18382.904003\n"
     ]
    },
    {
     "name": "stderr",
     "output_type": "stream",
     "text": [
      "\r",
      " 22%|██▎       | 9/40 [03:53<13:31, 26.19s/it]"
     ]
    },
    {
     "name": "stdout",
     "output_type": "stream",
     "text": [
      "------------ test losses ------------\n",
      "rmse: 0.565316\n",
      "l2: 9223.140733\n",
      "Epoch 10, Time: 21.206016 (s)\n",
      "------------ train losses ------------\n",
      "rmse: 0.517949\n",
      "l2: 54198.094137\n",
      "------------ validation losses ------------\n",
      "rmse: 0.544745\n",
      "l2: 17128.853604\n"
     ]
    },
    {
     "name": "stderr",
     "output_type": "stream",
     "text": [
      "\r",
      " 25%|██▌       | 10/40 [04:20<13:11, 26.38s/it]"
     ]
    },
    {
     "name": "stdout",
     "output_type": "stream",
     "text": [
      "------------ test losses ------------\n",
      "rmse: 0.545559\n",
      "l2: 8589.745981\n",
      "Epoch 11, Time: 20.547549 (s)\n",
      "------------ train losses ------------\n",
      "rmse: 0.495012\n",
      "l2: 49504.168345\n",
      "------------ validation losses ------------\n",
      "rmse: 0.528476\n",
      "l2: 16121.006489\n"
     ]
    },
    {
     "name": "stderr",
     "output_type": "stream",
     "text": [
      "\r",
      " 28%|██▊       | 11/40 [04:46<12:44, 26.36s/it]"
     ]
    },
    {
     "name": "stdout",
     "output_type": "stream",
     "text": [
      "------------ test losses ------------\n",
      "rmse: 0.528928\n",
      "l2: 8074.012991\n",
      "Epoch 12, Time: 21.235759 (s)\n",
      "------------ train losses ------------\n",
      "rmse: 0.470205\n",
      "l2: 44666.606326\n",
      "------------ validation losses ------------\n",
      "rmse: 0.510226\n",
      "l2: 15026.791770\n"
     ]
    },
    {
     "name": "stderr",
     "output_type": "stream",
     "text": [
      "\r",
      " 30%|███       | 12/40 [05:14<12:26, 26.65s/it]"
     ]
    },
    {
     "name": "stdout",
     "output_type": "stream",
     "text": [
      "------------ test losses ------------\n",
      "rmse: 0.510628\n",
      "l2: 7524.996010\n",
      "Epoch 13, Time: 20.484608 (s)\n",
      "------------ train losses ------------\n",
      "rmse: 0.447464\n",
      "l2: 40450.724759\n",
      "------------ validation losses ------------\n",
      "rmse: 0.493907\n",
      "l2: 14080.956647\n"
     ]
    },
    {
     "name": "stderr",
     "output_type": "stream",
     "text": [
      "\r",
      " 32%|███▎      | 13/40 [05:40<11:57, 26.57s/it]"
     ]
    },
    {
     "name": "stdout",
     "output_type": "stream",
     "text": [
      "------------ test losses ------------\n",
      "rmse: 0.494994\n",
      "l2: 7071.239763\n",
      "Epoch 14, Time: 21.532229 (s)\n",
      "------------ train losses ------------\n",
      "rmse: 0.428008\n",
      "l2: 37009.410846\n",
      "------------ validation losses ------------\n",
      "rmse: 0.481197\n",
      "l2: 13365.580478\n"
     ]
    },
    {
     "name": "stderr",
     "output_type": "stream",
     "text": [
      "\r",
      " 35%|███▌      | 14/40 [06:08<11:38, 26.85s/it]"
     ]
    },
    {
     "name": "stdout",
     "output_type": "stream",
     "text": [
      "------------ test losses ------------\n",
      "rmse: 0.481896\n",
      "l2: 6701.989812\n",
      "Epoch 15, Time: 21.741814 (s)\n",
      "------------ train losses ------------\n",
      "rmse: 0.411357\n",
      "l2: 34185.852439\n",
      "------------ validation losses ------------\n",
      "rmse: 0.470945\n",
      "l2: 12802.127598\n"
     ]
    },
    {
     "name": "stderr",
     "output_type": "stream",
     "text": [
      "\r",
      " 38%|███▊      | 15/40 [06:35<11:17, 27.10s/it]"
     ]
    },
    {
     "name": "stdout",
     "output_type": "stream",
     "text": [
      "------------ test losses ------------\n",
      "rmse: 0.472093\n",
      "l2: 6432.081635\n",
      "Epoch 16, Time: 22.110145 (s)\n",
      "------------ train losses ------------\n",
      "rmse: 0.398432\n",
      "l2: 32071.377575\n",
      "------------ validation losses ------------\n",
      "rmse: 0.463019\n",
      "l2: 12374.827651\n"
     ]
    },
    {
     "name": "stderr",
     "output_type": "stream",
     "text": [
      "\r",
      " 40%|████      | 16/40 [07:03<10:57, 27.41s/it]"
     ]
    },
    {
     "name": "stdout",
     "output_type": "stream",
     "text": [
      "------------ test losses ------------\n",
      "rmse: 0.463748\n",
      "l2: 6206.701046\n",
      "Epoch 17, Time: 22.419307 (s)\n",
      "------------ train losses ------------\n",
      "rmse: 0.384253\n",
      "l2: 29829.283886\n",
      "------------ validation losses ------------\n",
      "rmse: 0.454842\n",
      "l2: 11941.615900\n"
     ]
    },
    {
     "name": "stderr",
     "output_type": "stream",
     "text": [
      "\r",
      " 42%|████▎     | 17/40 [07:32<10:37, 27.72s/it]"
     ]
    },
    {
     "name": "stdout",
     "output_type": "stream",
     "text": [
      "------------ test losses ------------\n",
      "rmse: 0.455865\n",
      "l2: 5997.483297\n",
      "Epoch 18, Time: 22.417404 (s)\n",
      "------------ train losses ------------\n",
      "rmse: 0.374362\n",
      "l2: 28313.410289\n",
      "------------ validation losses ------------\n",
      "rmse: 0.448311\n",
      "l2: 11601.126323\n"
     ]
    },
    {
     "name": "stderr",
     "output_type": "stream",
     "text": [
      "\r",
      " 45%|████▌     | 18/40 [08:00<10:14, 27.94s/it]"
     ]
    },
    {
     "name": "stdout",
     "output_type": "stream",
     "text": [
      "------------ test losses ------------\n",
      "rmse: 0.449303\n",
      "l2: 5826.072348\n",
      "Epoch 19, Time: 21.903943 (s)\n",
      "------------ train losses ------------\n",
      "rmse: 0.361441\n",
      "l2: 26392.791655\n",
      "------------ validation losses ------------\n",
      "rmse: 0.440711\n",
      "l2: 11211.120712\n"
     ]
    },
    {
     "name": "stderr",
     "output_type": "stream",
     "text": [
      "\r",
      " 48%|████▊     | 19/40 [08:28<09:45, 27.88s/it]"
     ]
    },
    {
     "name": "stdout",
     "output_type": "stream",
     "text": [
      "------------ test losses ------------\n",
      "rmse: 0.441851\n",
      "l2: 5634.395979\n",
      "Epoch 20, Time: 21.986928 (s)\n",
      "------------ train losses ------------\n",
      "rmse: 0.355357\n",
      "l2: 25511.719126\n",
      "------------ validation losses ------------\n",
      "rmse: 0.437678\n",
      "l2: 11057.329560\n"
     ]
    },
    {
     "name": "stderr",
     "output_type": "stream",
     "text": [
      "\r",
      " 50%|█████     | 20/40 [08:56<09:17, 27.88s/it]"
     ]
    },
    {
     "name": "stdout",
     "output_type": "stream",
     "text": [
      "------------ test losses ------------\n",
      "rmse: 0.439003\n",
      "l2: 5562.000267\n",
      "Epoch 21, Time: 21.658112 (s)\n",
      "------------ train losses ------------\n",
      "rmse: 0.345602\n",
      "l2: 24130.299636\n",
      "------------ validation losses ------------\n",
      "rmse: 0.432011\n",
      "l2: 10772.845984\n"
     ]
    },
    {
     "name": "stderr",
     "output_type": "stream",
     "text": [
      "\r",
      " 52%|█████▎    | 21/40 [09:23<08:47, 27.77s/it]"
     ]
    },
    {
     "name": "stdout",
     "output_type": "stream",
     "text": [
      "------------ test losses ------------\n",
      "rmse: 0.433014\n",
      "l2: 5411.283241\n",
      "Epoch 22, Time: 22.735917 (s)\n",
      "------------ train losses ------------\n",
      "rmse: 0.334812\n",
      "l2: 22647.028536\n",
      "------------ validation losses ------------\n",
      "rmse: 0.425901\n",
      "l2: 10470.290099\n"
     ]
    },
    {
     "name": "stderr",
     "output_type": "stream",
     "text": [
      "\r",
      " 55%|█████▌    | 22/40 [09:52<08:25, 28.06s/it]"
     ]
    },
    {
     "name": "stdout",
     "output_type": "stream",
     "text": [
      "------------ test losses ------------\n",
      "rmse: 0.427179\n",
      "l2: 5266.424356\n",
      "Epoch 23, Time: 22.142612 (s)\n",
      "------------ train losses ------------\n",
      "rmse: 0.335320\n",
      "l2: 22715.829235\n",
      "------------ validation losses ------------\n",
      "rmse: 0.426411\n",
      "l2: 10495.392167\n"
     ]
    },
    {
     "name": "stderr",
     "output_type": "stream",
     "text": [
      "\r",
      " 57%|█████▊    | 23/40 [10:20<07:56, 28.04s/it]"
     ]
    },
    {
     "name": "stdout",
     "output_type": "stream",
     "text": [
      "------------ test losses ------------\n",
      "rmse: 0.427801\n",
      "l2: 5281.784394\n",
      "Epoch 24, Time: 23.528542 (s)\n",
      "------------ train losses ------------\n",
      "rmse: 0.319271\n",
      "l2: 20593.470186\n",
      "------------ validation losses ------------\n",
      "rmse: 0.417639\n",
      "l2: 10068.023067\n"
     ]
    },
    {
     "name": "stderr",
     "output_type": "stream",
     "text": [
      "\r",
      " 60%|██████    | 24/40 [10:50<07:35, 28.49s/it]"
     ]
    },
    {
     "name": "stdout",
     "output_type": "stream",
     "text": [
      "------------ test losses ------------\n",
      "rmse: 0.418753\n",
      "l2: 5060.722691\n",
      "Epoch 25, Time: 23.322267 (s)\n",
      "------------ train losses ------------\n",
      "rmse: 0.316879\n",
      "l2: 20286.003573\n",
      "------------ validation losses ------------\n",
      "rmse: 0.416387\n",
      "l2: 10007.714375\n"
     ]
    },
    {
     "name": "stderr",
     "output_type": "stream",
     "text": [
      "\r",
      " 62%|██████▎   | 25/40 [11:19<07:10, 28.72s/it]"
     ]
    },
    {
     "name": "stdout",
     "output_type": "stream",
     "text": [
      "------------ test losses ------------\n",
      "rmse: 0.417263\n",
      "l2: 5024.768433\n",
      "Epoch 26, Time: 23.270469 (s)\n",
      "------------ train losses ------------\n",
      "rmse: 0.313404\n",
      "l2: 19843.446299\n",
      "------------ validation losses ------------\n",
      "rmse: 0.415012\n",
      "l2: 9941.758160\n"
     ]
    },
    {
     "name": "stderr",
     "output_type": "stream",
     "text": [
      "\r",
      " 65%|██████▌   | 26/40 [11:48<06:43, 28.84s/it]"
     ]
    },
    {
     "name": "stdout",
     "output_type": "stream",
     "text": [
      "------------ test losses ------------\n",
      "rmse: 0.415880\n",
      "l2: 4991.523182\n",
      "Epoch 27, Time: 22.646370 (s)\n",
      "------------ train losses ------------\n",
      "rmse: 0.304399\n",
      "l2: 18719.609727\n",
      "------------ validation losses ------------\n",
      "rmse: 0.409580\n",
      "l2: 9683.192316\n"
     ]
    },
    {
     "name": "stderr",
     "output_type": "stream",
     "text": [
      "\r",
      " 68%|██████▊   | 27/40 [12:17<06:13, 28.75s/it]"
     ]
    },
    {
     "name": "stdout",
     "output_type": "stream",
     "text": [
      "------------ test losses ------------\n",
      "rmse: 0.410688\n",
      "l2: 4867.656624\n",
      "Epoch 28, Time: 22.854383 (s)\n",
      "------------ train losses ------------\n",
      "rmse: 0.302118\n",
      "l2: 18440.036371\n",
      "------------ validation losses ------------\n",
      "rmse: 0.408239\n",
      "l2: 9619.910828\n"
     ]
    },
    {
     "name": "stderr",
     "output_type": "stream",
     "text": [
      "\r",
      " 70%|███████   | 28/40 [12:46<05:45, 28.78s/it]"
     ]
    },
    {
     "name": "stdout",
     "output_type": "stream",
     "text": [
      "------------ test losses ------------\n",
      "rmse: 0.409145\n",
      "l2: 4831.150921\n",
      "Epoch 29, Time: 23.492715 (s)\n",
      "------------ train losses ------------\n",
      "rmse: 0.293035\n",
      "l2: 17347.955598\n",
      "------------ validation losses ------------\n",
      "rmse: 0.403084\n",
      "l2: 9378.493868\n"
     ]
    },
    {
     "name": "stderr",
     "output_type": "stream",
     "text": [
      "\r",
      " 72%|███████▎  | 29/40 [13:15<05:17, 28.90s/it]"
     ]
    },
    {
     "name": "stdout",
     "output_type": "stream",
     "text": [
      "------------ test losses ------------\n",
      "rmse: 0.404159\n",
      "l2: 4714.124036\n",
      "Epoch 30, Time: 23.413646 (s)\n",
      "------------ train losses ------------\n",
      "rmse: 0.289235\n",
      "l2: 16900.975174\n",
      "------------ validation losses ------------\n",
      "rmse: 0.401387\n",
      "l2: 9299.678224\n"
     ]
    },
    {
     "name": "stderr",
     "output_type": "stream",
     "text": [
      "\r",
      " 75%|███████▌  | 30/40 [13:44<04:50, 29.03s/it]"
     ]
    },
    {
     "name": "stdout",
     "output_type": "stream",
     "text": [
      "------------ test losses ------------\n",
      "rmse: 0.401994\n",
      "l2: 4663.762523\n",
      "Epoch 31, Time: 23.332024 (s)\n",
      "------------ train losses ------------\n",
      "rmse: 0.282587\n",
      "l2: 16132.925901\n",
      "------------ validation losses ------------\n",
      "rmse: 0.397872\n",
      "l2: 9137.504459\n"
     ]
    },
    {
     "name": "stderr",
     "output_type": "stream",
     "text": [
      "\r",
      " 78%|███████▊  | 31/40 [14:13<04:22, 29.11s/it]"
     ]
    },
    {
     "name": "stdout",
     "output_type": "stream",
     "text": [
      "------------ test losses ------------\n",
      "rmse: 0.398447\n",
      "l2: 4581.802983\n",
      "Epoch 32, Time: 23.407152 (s)\n",
      "------------ train losses ------------\n",
      "rmse: 0.277813\n",
      "l2: 15592.508680\n",
      "------------ validation losses ------------\n",
      "rmse: 0.395151\n",
      "l2: 9012.941455\n"
     ]
    },
    {
     "name": "stderr",
     "output_type": "stream",
     "text": [
      "\r",
      " 80%|████████  | 32/40 [14:43<03:53, 29.17s/it]"
     ]
    },
    {
     "name": "stdout",
     "output_type": "stream",
     "text": [
      "------------ test losses ------------\n",
      "rmse: 0.395617\n",
      "l2: 4516.952607\n",
      "Epoch 33, Time: 23.730047 (s)\n",
      "------------ train losses ------------\n",
      "rmse: 0.279020\n",
      "l2: 15728.245578\n",
      "------------ validation losses ------------\n",
      "rmse: 0.395551\n",
      "l2: 9031.220678\n"
     ]
    },
    {
     "name": "stderr",
     "output_type": "stream",
     "text": [
      "\r",
      " 82%|████████▎ | 33/40 [15:12<03:25, 29.35s/it]"
     ]
    },
    {
     "name": "stdout",
     "output_type": "stream",
     "text": [
      "------------ test losses ------------\n",
      "rmse: 0.396676\n",
      "l2: 4541.180793\n",
      "Epoch 34, Time: 25.048930 (s)\n",
      "------------ train losses ------------\n",
      "rmse: 0.272296\n",
      "l2: 14979.366506\n",
      "------------ validation losses ------------\n",
      "rmse: 0.392430\n",
      "l2: 8889.254417\n"
     ]
    },
    {
     "name": "stderr",
     "output_type": "stream",
     "text": [
      "\r",
      " 85%|████████▌ | 34/40 [15:44<02:59, 29.87s/it]"
     ]
    },
    {
     "name": "stdout",
     "output_type": "stream",
     "text": [
      "------------ test losses ------------\n",
      "rmse: 0.393501\n",
      "l2: 4468.775737\n",
      "Epoch 35, Time: 24.938173 (s)\n",
      "------------ train losses ------------\n",
      "rmse: 0.266742\n",
      "l2: 14374.455360\n",
      "------------ validation losses ------------\n",
      "rmse: 0.389053\n",
      "l2: 8736.934274\n"
     ]
    },
    {
     "name": "stderr",
     "output_type": "stream",
     "text": [
      "\r",
      " 88%|████████▊ | 35/40 [16:14<02:30, 30.15s/it]"
     ]
    },
    {
     "name": "stdout",
     "output_type": "stream",
     "text": [
      "------------ test losses ------------\n",
      "rmse: 0.389938\n",
      "l2: 4388.214879\n",
      "Epoch 36, Time: 25.076030 (s)\n",
      "------------ train losses ------------\n",
      "rmse: 0.262983\n",
      "l2: 13972.249726\n",
      "------------ validation losses ------------\n",
      "rmse: 0.387191\n",
      "l2: 8653.517050\n"
     ]
    },
    {
     "name": "stderr",
     "output_type": "stream",
     "text": [
      "\r",
      " 90%|█████████ | 36/40 [16:45<02:01, 30.38s/it]"
     ]
    },
    {
     "name": "stdout",
     "output_type": "stream",
     "text": [
      "------------ test losses ------------\n",
      "rmse: 0.388448\n",
      "l2: 4354.735954\n",
      "Epoch 37, Time: 24.923151 (s)\n",
      "------------ train losses ------------\n",
      "rmse: 0.260602\n",
      "l2: 13720.381961\n",
      "------------ validation losses ------------\n",
      "rmse: 0.386066\n",
      "l2: 8603.288803\n"
     ]
    },
    {
     "name": "stderr",
     "output_type": "stream",
     "text": [
      "\r",
      " 92%|█████████▎| 37/40 [17:16<01:31, 30.58s/it]"
     ]
    },
    {
     "name": "stdout",
     "output_type": "stream",
     "text": [
      "------------ test losses ------------\n",
      "rmse: 0.387280\n",
      "l2: 4328.591858\n",
      "Epoch 38, Time: 24.868740 (s)\n",
      "------------ train losses ------------\n",
      "rmse: 0.260118\n",
      "l2: 13669.413423\n",
      "------------ validation losses ------------\n",
      "rmse: 0.385471\n",
      "l2: 8576.801580\n"
     ]
    },
    {
     "name": "stderr",
     "output_type": "stream",
     "text": [
      "\r",
      " 95%|█████████▌| 38/40 [17:47<01:01, 30.63s/it]"
     ]
    },
    {
     "name": "stdout",
     "output_type": "stream",
     "text": [
      "------------ test losses ------------\n",
      "rmse: 0.386632\n",
      "l2: 4314.126060\n",
      "Epoch 39, Time: 25.080271 (s)\n",
      "------------ train losses ------------\n",
      "rmse: 0.255414\n",
      "l2: 13179.518534\n",
      "------------ validation losses ------------\n",
      "rmse: 0.383185\n",
      "l2: 8475.373296\n"
     ]
    },
    {
     "name": "stderr",
     "output_type": "stream",
     "text": [
      "\r",
      " 98%|█████████▊| 39/40 [18:18<00:30, 30.75s/it]"
     ]
    },
    {
     "name": "stdout",
     "output_type": "stream",
     "text": [
      "------------ test losses ------------\n",
      "rmse: 0.384586\n",
      "l2: 4268.582706\n",
      "Epoch 40, Time: 25.054721 (s)\n",
      "------------ train losses ------------\n",
      "rmse: 0.252057\n",
      "l2: 12835.287324\n",
      "------------ validation losses ------------\n",
      "rmse: 0.382308\n",
      "l2: 8436.634229\n"
     ]
    },
    {
     "name": "stderr",
     "output_type": "stream",
     "text": [
      "\r",
      "100%|██████████| 40/40 [18:49<00:00, 30.79s/it]"
     ]
    },
    {
     "name": "stdout",
     "output_type": "stream",
     "text": [
      "------------ test losses ------------\n",
      "rmse: 0.383426\n",
      "l2: 4242.872646\n"
     ]
    },
    {
     "name": "stderr",
     "output_type": "stream",
     "text": [
      "\n"
     ]
    },
    {
     "data": {
      "image/png": "[encoded data removed]",
      "text/plain": [
       "<Figure size 432x288 with 1 Axes>"
      ]
     },
     "metadata": {
      "needs_background": "light"
     },
     "output_type": "display_data"
    },
    {
     "name": "stdout",
     "output_type": "stream",
     "text": [
      "best loss (39, 0.38342622)\n",
      "dr=0.90, lr=0.010, \n"
     ]
    },
    {
     "name": "stderr",
     "output_type": "stream",
     "text": [
      "\r",
      "  0%|          | 0/40 [00:00<?, ?it/s]"
     ]
    },
    {
     "name": "stdout",
     "output_type": "stream",
     "text": [
      "Epoch 1, Time: 25.855765 (s)\n",
      "------------ train losses ------------\n",
      "rmse: 0.371371\n",
      "l2: 27862.863767\n",
      "------------ validation losses ------------\n",
      "rmse: 0.444747\n",
      "l2: 11417.423698\n"
     ]
    },
    {
     "name": "stderr",
     "output_type": "stream",
     "text": [
      "\r",
      "  2%|▎         | 1/40 [00:31<20:41, 31.83s/it]"
     ]
    },
    {
     "name": "stdout",
     "output_type": "stream",
     "text": [
      "------------ test losses ------------\n",
      "rmse: 0.444450\n",
      "l2: 5700.873202\n",
      "Epoch 2, Time: 26.243827 (s)\n",
      "------------ train losses ------------\n",
      "rmse: 0.312712\n",
      "l2: 19755.975963\n",
      "------------ validation losses ------------\n",
      "rmse: 0.410516\n",
      "l2: 9727.514520\n"
     ]
    },
    {
     "name": "stderr",
     "output_type": "stream",
     "text": [
      "\r",
      "  5%|▌         | 2/40 [01:03<20:12, 31.91s/it]"
     ]
    },
    {
     "name": "stdout",
     "output_type": "stream",
     "text": [
      "------------ test losses ------------\n",
      "rmse: 0.411073\n",
      "l2: 4876.797902\n",
      "Epoch 3, Time: 25.736501 (s)\n",
      "------------ train losses ------------\n",
      "rmse: 0.284629\n",
      "l2: 16366.901726\n",
      "------------ validation losses ------------\n",
      "rmse: 0.394513\n",
      "l2: 8983.892404\n"
     ]
    },
    {
     "name": "stderr",
     "output_type": "stream",
     "text": [
      "\r",
      "  8%|▊         | 3/40 [01:35<19:36, 31.81s/it]"
     ]
    },
    {
     "name": "stdout",
     "output_type": "stream",
     "text": [
      "------------ test losses ------------\n",
      "rmse: 0.395667\n",
      "l2: 4518.107467\n",
      "Epoch 4, Time: 26.065243 (s)\n",
      "------------ train losses ------------\n",
      "rmse: 0.272334\n",
      "l2: 14983.534794\n",
      "------------ validation losses ------------\n",
      "rmse: 0.388287\n",
      "l2: 8702.538506\n"
     ]
    },
    {
     "name": "stderr",
     "output_type": "stream",
     "text": [
      "\r",
      " 10%|█         | 4/40 [02:07<19:06, 31.84s/it]"
     ]
    },
    {
     "name": "stdout",
     "output_type": "stream",
     "text": [
      "------------ test losses ------------\n",
      "rmse: 0.390538\n",
      "l2: 4401.714286\n",
      "Epoch 5, Time: 25.816190 (s)\n",
      "------------ train losses ------------\n",
      "rmse: 0.265736\n",
      "l2: 14266.312103\n",
      "------------ validation losses ------------\n",
      "rmse: 0.384412\n",
      "l2: 8529.736652\n"
     ]
    },
    {
     "name": "stderr",
     "output_type": "stream",
     "text": [
      "\r",
      " 12%|█▎        | 5/40 [02:39<18:32, 31.80s/it]"
     ]
    },
    {
     "name": "stdout",
     "output_type": "stream",
     "text": [
      "------------ test losses ------------\n",
      "rmse: 0.385770\n",
      "l2: 4294.898988\n",
      "Epoch 6, Time: 26.812030 (s)\n",
      "------------ train losses ------------\n",
      "rmse: 0.257752\n",
      "l2: 13421.917161\n",
      "------------ validation losses ------------\n",
      "rmse: 0.380313\n",
      "l2: 8348.794656\n"
     ]
    },
    {
     "name": "stderr",
     "output_type": "stream",
     "text": [
      "\r",
      " 15%|█▌        | 6/40 [03:11<18:10, 32.08s/it]"
     ]
    },
    {
     "name": "stdout",
     "output_type": "stream",
     "text": [
      "------------ test losses ------------\n",
      "rmse: 0.381191\n",
      "l2: 4193.541584\n",
      "Epoch 7, Time: 27.009490 (s)\n",
      "------------ train losses ------------\n",
      "rmse: 0.250724\n",
      "l2: 12699.906405\n",
      "------------ validation losses ------------\n",
      "rmse: 0.376269\n",
      "l2: 8172.182748\n"
     ]
    },
    {
     "name": "stderr",
     "output_type": "stream",
     "text": [
      "\r",
      " 18%|█▊        | 7/40 [03:44<17:47, 32.33s/it]"
     ]
    },
    {
     "name": "stdout",
     "output_type": "stream",
     "text": [
      "------------ test losses ------------\n",
      "rmse: 0.378558\n",
      "l2: 4135.807350\n",
      "Epoch 8, Time: 26.571065 (s)\n",
      "------------ train losses ------------\n",
      "rmse: 0.246233\n",
      "l2: 12249.071302\n",
      "------------ validation losses ------------\n",
      "rmse: 0.374598\n",
      "l2: 8099.776395\n"
     ]
    },
    {
     "name": "stderr",
     "output_type": "stream",
     "text": [
      "\r",
      " 20%|██        | 8/40 [04:17<17:16, 32.38s/it]"
     ]
    },
    {
     "name": "stdout",
     "output_type": "stream",
     "text": [
      "------------ test losses ------------\n",
      "rmse: 0.377020\n",
      "l2: 4102.269757\n",
      "Epoch 9, Time: 26.273041 (s)\n",
      "------------ train losses ------------\n",
      "rmse: 0.236315\n",
      "l2: 11282.114319\n",
      "------------ validation losses ------------\n",
      "rmse: 0.369395\n",
      "l2: 7876.334794\n"
     ]
    },
    {
     "name": "stderr",
     "output_type": "stream",
     "text": [
      "\r",
      " 22%|██▎       | 9/40 [04:49<16:42, 32.33s/it]"
     ]
    },
    {
     "name": "stdout",
     "output_type": "stream",
     "text": [
      "------------ test losses ------------\n",
      "rmse: 0.371762\n",
      "l2: 3988.643463\n",
      "Epoch 10, Time: 26.244136 (s)\n",
      "------------ train losses ------------\n",
      "rmse: 0.230284\n",
      "l2: 10713.622529\n",
      "------------ validation losses ------------\n",
      "rmse: 0.366539\n",
      "l2: 7755.000108\n"
     ]
    },
    {
     "name": "stderr",
     "output_type": "stream",
     "text": [
      "\r",
      " 25%|██▌       | 10/40 [05:21<16:08, 32.27s/it]"
     ]
    },
    {
     "name": "stdout",
     "output_type": "stream",
     "text": [
      "------------ test losses ------------\n",
      "rmse: 0.368566\n",
      "l2: 3920.368883\n",
      "Epoch 11, Time: 26.384112 (s)\n",
      "------------ train losses ------------\n",
      "rmse: 0.221356\n",
      "l2: 9899.018679\n",
      "------------ validation losses ------------\n",
      "rmse: 0.362497\n",
      "l2: 7584.915128\n"
     ]
    },
    {
     "name": "stderr",
     "output_type": "stream",
     "text": [
      "\r",
      " 28%|██▊       | 11/40 [05:53<15:36, 32.29s/it]"
     ]
    },
    {
     "name": "stdout",
     "output_type": "stream",
     "text": [
      "------------ test losses ------------\n",
      "rmse: 0.364274\n",
      "l2: 3829.588265\n",
      "Epoch 12, Time: 26.436865 (s)\n",
      "------------ train losses ------------\n",
      "rmse: 0.223964\n",
      "l2: 10133.689488\n",
      "------------ validation losses ------------\n",
      "rmse: 0.363461\n",
      "l2: 7625.311215\n"
     ]
    },
    {
     "name": "stderr",
     "output_type": "stream",
     "text": [
      "\r",
      " 30%|███       | 12/40 [06:26<15:03, 32.28s/it]"
     ]
    },
    {
     "name": "stdout",
     "output_type": "stream",
     "text": [
      "------------ test losses ------------\n",
      "rmse: 0.365766\n",
      "l2: 3861.023899\n",
      "Epoch 13, Time: 26.725425 (s)\n",
      "------------ train losses ------------\n",
      "rmse: 0.215870\n",
      "l2: 9414.473124\n",
      "------------ validation losses ------------\n",
      "rmse: 0.360330\n",
      "l2: 7494.492201\n"
     ]
    },
    {
     "name": "stderr",
     "output_type": "stream",
     "text": [
      "\r",
      " 32%|███▎      | 13/40 [06:58<14:34, 32.38s/it]"
     ]
    },
    {
     "name": "stdout",
     "output_type": "stream",
     "text": [
      "------------ test losses ------------\n",
      "rmse: 0.361860\n",
      "l2: 3779.014570\n",
      "Epoch 14, Time: 26.984477 (s)\n",
      "------------ train losses ------------\n",
      "rmse: 0.222099\n",
      "l2: 9965.578673\n",
      "------------ validation losses ------------\n",
      "rmse: 0.362424\n",
      "l2: 7581.834197\n"
     ]
    },
    {
     "name": "stderr",
     "output_type": "stream",
     "text": [
      "\r",
      " 35%|███▌      | 14/40 [07:31<14:05, 32.53s/it]"
     ]
    },
    {
     "name": "stdout",
     "output_type": "stream",
     "text": [
      "------------ test losses ------------\n",
      "rmse: 0.364956\n",
      "l2: 3843.939832\n",
      "Epoch 15, Time: 28.343582 (s)\n",
      "------------ train losses ------------\n",
      "rmse: 0.216779\n",
      "l2: 9493.857198\n",
      "------------ validation losses ------------\n",
      "rmse: 0.360072\n",
      "l2: 7483.755007\n"
     ]
    },
    {
     "name": "stderr",
     "output_type": "stream",
     "text": [
      "\r",
      " 38%|███▊      | 15/40 [08:05<13:41, 32.84s/it]"
     ]
    },
    {
     "name": "stdout",
     "output_type": "stream",
     "text": [
      "------------ test losses ------------\n",
      "rmse: 0.362430\n",
      "l2: 3790.911013\n",
      "Epoch 16, Time: 27.340628 (s)\n",
      "------------ train losses ------------\n",
      "rmse: 0.211241\n",
      "l2: 9014.979491\n",
      "------------ validation losses ------------\n",
      "rmse: 0.358406\n",
      "l2: 7414.659157\n"
     ]
    },
    {
     "name": "stderr",
     "output_type": "stream",
     "text": [
      "\r",
      " 40%|████      | 16/40 [08:38<13:11, 32.96s/it]"
     ]
    },
    {
     "name": "stdout",
     "output_type": "stream",
     "text": [
      "------------ test losses ------------\n",
      "rmse: 0.360625\n",
      "l2: 3753.249298\n",
      "Epoch 17, Time: 27.333783 (s)\n",
      "------------ train losses ------------\n",
      "rmse: 0.214243\n",
      "l2: 9273.068610\n",
      "------------ validation losses ------------\n",
      "rmse: 0.359273\n",
      "l2: 7450.593117\n"
     ]
    },
    {
     "name": "stderr",
     "output_type": "stream",
     "text": [
      "\r",
      " 42%|████▎     | 17/40 [09:11<12:39, 33.02s/it]"
     ]
    },
    {
     "name": "stdout",
     "output_type": "stream",
     "text": [
      "------------ test losses ------------\n",
      "rmse: 0.361451\n",
      "l2: 3770.460290\n",
      "Epoch 18, Time: 27.892755 (s)\n",
      "------------ train losses ------------\n",
      "rmse: 0.217608\n",
      "l2: 9566.594264\n",
      "------------ validation losses ------------\n",
      "rmse: 0.360505\n",
      "l2: 7501.772788\n"
     ]
    },
    {
     "name": "stderr",
     "output_type": "stream",
     "text": [
      "\r",
      " 45%|████▌     | 18/40 [09:45<12:11, 33.25s/it]"
     ]
    },
    {
     "name": "stdout",
     "output_type": "stream",
     "text": [
      "------------ test losses ------------\n",
      "rmse: 0.362747\n",
      "l2: 3797.552579\n",
      "Epoch 19, Time: 27.915110 (s)\n",
      "------------ train losses ------------\n",
      "rmse: 0.210002\n",
      "l2: 8909.543715\n",
      "------------ validation losses ------------\n",
      "rmse: 0.357576\n",
      "l2: 7380.376520\n"
     ]
    },
    {
     "name": "stderr",
     "output_type": "stream",
     "text": [
      "\r",
      " 48%|████▊     | 19/40 [10:19<11:41, 33.42s/it]"
     ]
    },
    {
     "name": "stdout",
     "output_type": "stream",
     "text": [
      "------------ test losses ------------\n",
      "rmse: 0.359605\n",
      "l2: 3732.045951\n",
      "Epoch 20, Time: 28.147617 (s)\n",
      "------------ train losses ------------\n",
      "rmse: 0.209102\n",
      "l2: 8833.364462\n",
      "------------ validation losses ------------\n",
      "rmse: 0.356733\n",
      "l2: 7345.630674\n"
     ]
    },
    {
     "name": "stderr",
     "output_type": "stream",
     "text": [
      "\r",
      " 50%|█████     | 20/40 [10:52<11:09, 33.49s/it]"
     ]
    },
    {
     "name": "stdout",
     "output_type": "stream",
     "text": [
      "------------ test losses ------------\n",
      "rmse: 0.358748\n",
      "l2: 3714.280703\n",
      "Epoch 21, Time: 28.001723 (s)\n",
      "------------ train losses ------------\n",
      "rmse: 0.205755\n",
      "l2: 8552.809646\n",
      "------------ validation losses ------------\n",
      "rmse: 0.355863\n",
      "l2: 7309.839446\n"
     ]
    },
    {
     "name": "stderr",
     "output_type": "stream",
     "text": [
      "\r",
      " 52%|█████▎    | 21/40 [11:26<10:38, 33.59s/it]"
     ]
    },
    {
     "name": "stdout",
     "output_type": "stream",
     "text": [
      "------------ test losses ------------\n",
      "rmse: 0.357867\n",
      "l2: 3696.056535\n",
      "Epoch 22, Time: 28.518092 (s)\n",
      "------------ train losses ------------\n",
      "rmse: 0.208213\n",
      "l2: 8758.430929\n",
      "------------ validation losses ------------\n",
      "rmse: 0.356443\n",
      "l2: 7333.664981\n"
     ]
    },
    {
     "name": "stderr",
     "output_type": "stream",
     "text": [
      "\r",
      " 55%|█████▌    | 22/40 [12:00<10:06, 33.69s/it]"
     ]
    },
    {
     "name": "stdout",
     "output_type": "stream",
     "text": [
      "------------ test losses ------------\n",
      "rmse: 0.358335\n",
      "l2: 3705.748739\n",
      "Epoch 23, Time: 28.691510 (s)\n",
      "------------ train losses ------------\n",
      "rmse: 0.206797\n",
      "l2: 8639.694781\n",
      "------------ validation losses ------------\n",
      "rmse: 0.356346\n",
      "l2: 7329.693721\n"
     ]
    },
    {
     "name": "stderr",
     "output_type": "stream",
     "text": [
      "\r",
      " 57%|█████▊    | 23/40 [12:34<09:35, 33.85s/it]"
     ]
    },
    {
     "name": "stdout",
     "output_type": "stream",
     "text": [
      "------------ test losses ------------\n",
      "rmse: 0.358606\n",
      "l2: 3711.355381\n",
      "Epoch 24, Time: 34.787008 (s)\n",
      "------------ train losses ------------\n",
      "rmse: 0.205610\n",
      "l2: 8540.803816\n",
      "------------ validation losses ------------\n",
      "rmse: 0.356184\n",
      "l2: 7323.004040\n"
     ]
    },
    {
     "name": "stderr",
     "output_type": "stream",
     "text": [
      "\r",
      " 60%|██████    | 24/40 [13:15<09:35, 35.99s/it]"
     ]
    },
    {
     "name": "stdout",
     "output_type": "stream",
     "text": [
      "------------ test losses ------------\n",
      "rmse: 0.358515\n",
      "l2: 3709.460148\n",
      "Epoch 25, Time: 37.237990 (s)\n",
      "------------ train losses ------------\n",
      "rmse: 0.203782\n",
      "l2: 8389.601432\n",
      "------------ validation losses ------------\n",
      "rmse: 0.355688\n",
      "l2: 7302.618680\n"
     ]
    },
    {
     "name": "stderr",
     "output_type": "stream",
     "text": [
      "\r",
      " 62%|██████▎   | 25/40 [14:00<09:38, 38.56s/it]"
     ]
    },
    {
     "name": "stdout",
     "output_type": "stream",
     "text": [
      "------------ test losses ------------\n",
      "rmse: 0.358018\n",
      "l2: 3699.179212\n",
      "Epoch 26, Time: 37.569018 (s)\n",
      "------------ train losses ------------\n",
      "rmse: 0.197803\n",
      "l2: 7904.481835\n",
      "------------ validation losses ------------\n",
      "rmse: 0.352994\n",
      "l2: 7192.426247\n"
     ]
    },
    {
     "name": "stderr",
     "output_type": "stream",
     "text": [
      "\r",
      " 65%|██████▌   | 26/40 [14:44<09:23, 40.23s/it]"
     ]
    },
    {
     "name": "stdout",
     "output_type": "stream",
     "text": [
      "------------ test losses ------------\n",
      "rmse: 0.355401\n",
      "l2: 3645.299093\n",
      "Epoch 27, Time: 37.189356 (s)\n",
      "------------ train losses ------------\n",
      "rmse: 0.194087\n",
      "l2: 7610.339908\n",
      "------------ validation losses ------------\n",
      "rmse: 0.351528\n",
      "l2: 7132.800658\n"
     ]
    },
    {
     "name": "stderr",
     "output_type": "stream",
     "text": [
      "\r",
      " 68%|██████▊   | 27/40 [15:28<08:56, 41.26s/it]"
     ]
    },
    {
     "name": "stdout",
     "output_type": "stream",
     "text": [
      "------------ test losses ------------\n",
      "rmse: 0.353887\n",
      "l2: 3614.302863\n",
      "Epoch 28, Time: 37.186638 (s)\n",
      "------------ train losses ------------\n",
      "rmse: 0.197327\n",
      "l2: 7866.480081\n",
      "------------ validation losses ------------\n",
      "rmse: 0.353035\n",
      "l2: 7194.108747\n"
     ]
    },
    {
     "name": "stderr",
     "output_type": "stream",
     "text": [
      "\r",
      " 70%|███████   | 28/40 [16:11<08:23, 41.98s/it]"
     ]
    },
    {
     "name": "stdout",
     "output_type": "stream",
     "text": [
      "------------ test losses ------------\n",
      "rmse: 0.355269\n",
      "l2: 3642.604154\n",
      "Epoch 29, Time: 36.810838 (s)\n",
      "------------ train losses ------------\n",
      "rmse: 0.194405\n",
      "l2: 7635.279994\n",
      "------------ validation losses ------------\n",
      "rmse: 0.351797\n",
      "l2: 7143.738741\n"
     ]
    },
    {
     "name": "stderr",
     "output_type": "stream",
     "text": [
      "\r",
      " 72%|███████▎  | 29/40 [16:54<07:44, 42.24s/it]"
     ]
    },
    {
     "name": "stdout",
     "output_type": "stream",
     "text": [
      "------------ test losses ------------\n",
      "rmse: 0.354519\n",
      "l2: 3627.237497\n",
      "Epoch 30, Time: 35.580332 (s)\n",
      "------------ train losses ------------\n",
      "rmse: 0.193370\n",
      "l2: 7554.200653\n",
      "------------ validation losses ------------\n",
      "rmse: 0.351541\n",
      "l2: 7133.355693\n"
     ]
    },
    {
     "name": "stderr",
     "output_type": "stream",
     "text": [
      "\r",
      " 75%|███████▌  | 30/40 [17:36<07:00, 42.05s/it]"
     ]
    },
    {
     "name": "stdout",
     "output_type": "stream",
     "text": [
      "------------ test losses ------------\n",
      "rmse: 0.354039\n",
      "l2: 3617.422753\n",
      "Epoch 31, Time: 35.599572 (s)\n",
      "------------ train losses ------------\n",
      "rmse: 0.193981\n",
      "l2: 7602.004043\n",
      "------------ validation losses ------------\n",
      "rmse: 0.351810\n",
      "l2: 7144.258001\n"
     ]
    },
    {
     "name": "stderr",
     "output_type": "stream",
     "text": [
      "\r",
      " 78%|███████▊  | 31/40 [18:18<06:17, 41.98s/it]"
     ]
    },
    {
     "name": "stdout",
     "output_type": "stream",
     "text": [
      "------------ test losses ------------\n",
      "rmse: 0.354128\n",
      "l2: 3619.227509\n",
      "Epoch 32, Time: 36.284948 (s)\n",
      "------------ train losses ------------\n",
      "rmse: 0.191514\n",
      "l2: 7409.878690\n",
      "------------ validation losses ------------\n",
      "rmse: 0.350797\n",
      "l2: 7103.192709\n"
     ]
    },
    {
     "name": "stderr",
     "output_type": "stream",
     "text": [
      "\r",
      " 80%|████████  | 32/40 [19:00<05:36, 42.08s/it]"
     ]
    },
    {
     "name": "stdout",
     "output_type": "stream",
     "text": [
      "------------ test losses ------------\n",
      "rmse: 0.353296\n",
      "l2: 3602.243926\n",
      "Epoch 33, Time: 35.856749 (s)\n",
      "------------ train losses ------------\n",
      "rmse: 0.190453\n",
      "l2: 7327.975988\n",
      "------------ validation losses ------------\n",
      "rmse: 0.349840\n",
      "l2: 7064.490876\n"
     ]
    },
    {
     "name": "stderr",
     "output_type": "stream",
     "text": [
      "\r",
      " 82%|████████▎ | 33/40 [19:42<04:53, 41.99s/it]"
     ]
    },
    {
     "name": "stdout",
     "output_type": "stream",
     "text": [
      "------------ test losses ------------\n",
      "rmse: 0.352201\n",
      "l2: 3579.949213\n",
      "Epoch 34, Time: 35.937977 (s)\n",
      "------------ train losses ------------\n",
      "rmse: 0.190475\n",
      "l2: 7329.702926\n",
      "------------ validation losses ------------\n",
      "rmse: 0.350139\n",
      "l2: 7076.576842\n"
     ]
    },
    {
     "name": "stderr",
     "output_type": "stream",
     "text": [
      "\r",
      " 85%|████████▌ | 34/40 [20:24<04:11, 41.97s/it]"
     ]
    },
    {
     "name": "stdout",
     "output_type": "stream",
     "text": [
      "------------ test losses ------------\n",
      "rmse: 0.352140\n",
      "l2: 3578.704763\n",
      "Epoch 35, Time: 36.417274 (s)\n",
      "------------ train losses ------------\n",
      "rmse: 0.188119\n",
      "l2: 7149.464318\n",
      "------------ validation losses ------------\n",
      "rmse: 0.349336\n",
      "l2: 7044.126410\n"
     ]
    },
    {
     "name": "stderr",
     "output_type": "stream",
     "text": [
      "\r",
      " 88%|████████▊ | 35/40 [21:06<03:30, 42.14s/it]"
     ]
    },
    {
     "name": "stdout",
     "output_type": "stream",
     "text": [
      "------------ test losses ------------\n",
      "rmse: 0.351492\n",
      "l2: 3565.553206\n",
      "Epoch 36, Time: 36.524581 (s)\n",
      "------------ train losses ------------\n",
      "rmse: 0.190899\n",
      "l2: 7362.362499\n",
      "------------ validation losses ------------\n",
      "rmse: 0.350168\n",
      "l2: 7077.747689\n"
     ]
    },
    {
     "name": "stderr",
     "output_type": "stream",
     "text": [
      "\r",
      " 90%|█████████ | 36/40 [21:48<02:48, 42.04s/it]"
     ]
    },
    {
     "name": "stdout",
     "output_type": "stream",
     "text": [
      "------------ test losses ------------\n",
      "rmse: 0.352673\n",
      "l2: 3589.549399\n",
      "Epoch 37, Time: 35.390138 (s)\n",
      "------------ train losses ------------\n",
      "rmse: 0.189101\n",
      "l2: 7224.298841\n",
      "------------ validation losses ------------\n",
      "rmse: 0.349264\n",
      "l2: 7041.239489\n"
     ]
    },
    {
     "name": "stderr",
     "output_type": "stream",
     "text": [
      "\r",
      " 92%|█████████▎| 37/40 [22:29<02:05, 41.77s/it]"
     ]
    },
    {
     "name": "stdout",
     "output_type": "stream",
     "text": [
      "------------ test losses ------------\n",
      "rmse: 0.352206\n",
      "l2: 3580.057905\n",
      "Epoch 38, Time: 30.750733 (s)\n",
      "------------ train losses ------------\n",
      "rmse: 0.189147\n",
      "l2: 7227.805864\n",
      "------------ validation losses ------------\n",
      "rmse: 0.349864\n",
      "l2: 7065.460710\n"
     ]
    },
    {
     "name": "stderr",
     "output_type": "stream",
     "text": [
      "\r",
      " 95%|█████████▌| 38/40 [23:06<01:20, 40.21s/it]"
     ]
    },
    {
     "name": "stdout",
     "output_type": "stream",
     "text": [
      "------------ test losses ------------\n",
      "rmse: 0.352803\n",
      "l2: 3592.202756\n",
      "Epoch 39, Time: 31.942960 (s)\n",
      "------------ train losses ------------\n",
      "rmse: 0.188775\n",
      "l2: 7199.449433\n",
      "------------ validation losses ------------\n",
      "rmse: 0.349618\n",
      "l2: 7055.518670\n"
     ]
    },
    {
     "name": "stderr",
     "output_type": "stream",
     "text": [
      "\r",
      " 98%|█████████▊| 39/40 [23:44<00:39, 39.53s/it]"
     ]
    },
    {
     "name": "stdout",
     "output_type": "stream",
     "text": [
      "------------ test losses ------------\n",
      "rmse: 0.352257\n",
      "l2: 3581.098095\n",
      "Epoch 40, Time: 30.637881 (s)\n",
      "------------ train losses ------------\n",
      "rmse: 0.186817\n",
      "l2: 7050.897259\n",
      "------------ validation losses ------------\n",
      "rmse: 0.349315\n",
      "l2: 7043.286496\n"
     ]
    },
    {
     "name": "stderr",
     "output_type": "stream",
     "text": [
      "\r",
      "100%|██████████| 40/40 [24:20<00:00, 38.50s/it]"
     ]
    },
    {
     "name": "stdout",
     "output_type": "stream",
     "text": [
      "------------ test losses ------------\n",
      "rmse: 0.351897\n",
      "l2: 3573.767784\n"
     ]
    },
    {
     "name": "stderr",
     "output_type": "stream",
     "text": [
      "\n"
     ]
    },
    {
     "data": {
      "image/png": "[encoded data removed]",
      "text/plain": [
       "<Figure size 432x288 with 1 Axes>"
      ]
     },
     "metadata": {
      "needs_background": "light"
     },
     "output_type": "display_data"
    },
    {
     "name": "stdout",
     "output_type": "stream",
     "text": [
      "best loss (34, 0.35149187)\n"
     ]
    }
   ],
   "source": [
    "for dr in dropout_ratio:\n",
    "    model = models.NeuralFM(ds, num_units=embedding_size, layers=[embedding_size], dropout_prob=[dr] + [0.5])\n",
    "    for lr in learning_rates:\n",
    "        print(\"dr=%.2f, lr=%.3f, \" % (dr, lr))\n",
    "        model.train(\n",
    "            ds,\n",
    "            batch_size=batch_size,\n",
    "            epochs=epochs,\n",
    "            loss_function=\"l2\",\n",
    "            eval_loss_functions=[\"rmse\"],\n",
    "            optimizer=tf.train.AdagradOptimizer(learning_rate=lr),\n",
    "        )\n",
    "\n",
    "        plot(model, \"rmse\", \"dr=%.2f, lr=%.3f, \" % (dr, lr))\n",
    "        print('best loss', best_test_loss(model, \"rmse\"))  "
   ]
  }
 ],
 "metadata": {
  "kernelspec": {
   "display_name": "Python 3",
   "language": "python",
   "name": "python3"
  },
  "language_info": {
   "codemirror_mode": {
    "name": "ipython",
    "version": 3
   },
   "file_extension": ".py",
   "mimetype": "text/x-python",
   "name": "python",
   "nbconvert_exporter": "python",
   "pygments_lexer": "ipython3",
   "version": "3.6.8"
  }
 },
 "nbformat": 4,
 "nbformat_minor": 2
}
