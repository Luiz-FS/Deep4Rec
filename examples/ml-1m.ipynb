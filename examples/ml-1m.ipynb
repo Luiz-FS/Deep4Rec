{
 "cells": [
  {
   "cell_type": "code",
   "execution_count": 1,
   "metadata": {},
   "outputs": [],
   "source": [
    "from deep4rec import datasets\n",
    "from deep4rec import models\n",
    "\n",
    "import os\n",
    "\n",
    "os.environ[\"TF_CPP_MIN_LOG_LEVEL\"] = \"3\"\n",
    "import tensorflow as tf\n",
    "\n",
    "# Dataset\n",
    "ds = datasets.build_dataset(\"ml-1m\")"
   ]
  },
  {
   "cell_type": "markdown",
   "metadata": {},
   "source": [
    "### NeuralFM"
   ]
  },
  {
   "cell_type": "markdown",
   "metadata": {},
   "source": [
    "### NeuralFM"
   ]
  },
  {
   "cell_type": "code",
   "execution_count": null,
   "metadata": {},
   "outputs": [
    {
     "name": "stderr",
     "output_type": "stream",
     "text": [
      "\r",
      "  0%|          | 0/15 [00:00<?, ?it/s]"
     ]
    },
    {
     "name": "stdout",
     "output_type": "stream",
     "text": [
      "WARNING:tensorflow:From /home/marianne/anaconda3/envs/deep4rec/lib/python3.6/site-packages/tensorflow/python/data/ops/iterator_ops.py:532: colocate_with (from tensorflow.python.framework.ops) is deprecated and will be removed in a future version.\n",
      "Instructions for updating:\n",
      "Colocations handled automatically by placer.\n"
     ]
    },
    {
     "name": "stderr",
     "output_type": "stream",
     "text": [
      "WARNING: Logging before flag parsing goes to stderr.\n",
      "W0521 17:09:26.493641 139839672600384 deprecation.py:323] From /home/marianne/anaconda3/envs/deep4rec/lib/python3.6/site-packages/tensorflow/python/data/ops/iterator_ops.py:532: colocate_with (from tensorflow.python.framework.ops) is deprecated and will be removed in a future version.\n",
      "Instructions for updating:\n",
      "Colocations handled automatically by placer.\n"
     ]
    },
    {
     "name": "stdout",
     "output_type": "stream",
     "text": [
      "WARNING:tensorflow:From /home/marianne/anaconda3/envs/deep4rec/lib/python3.6/site-packages/tensorflow/python/ops/losses/losses_impl.py:667: to_float (from tensorflow.python.ops.math_ops) is deprecated and will be removed in a future version.\n",
      "Instructions for updating:\n",
      "Use tf.cast instead.\n"
     ]
    },
    {
     "name": "stderr",
     "output_type": "stream",
     "text": [
      "W0521 17:09:26.521802 139839672600384 deprecation.py:323] From /home/marianne/anaconda3/envs/deep4rec/lib/python3.6/site-packages/tensorflow/python/ops/losses/losses_impl.py:667: to_float (from tensorflow.python.ops.math_ops) is deprecated and will be removed in a future version.\n",
      "Instructions for updating:\n",
      "Use tf.cast instead.\n"
     ]
    },
    {
     "name": "stdout",
     "output_type": "stream",
     "text": [
      "Epoch 1, Time: 175.299601 (s)\n",
      "------------ Train Losses ------------\n",
      "rmse: 0.988734\n",
      "------------ Train Metrics ------------\n"
     ]
    },
    {
     "name": "stderr",
     "output_type": "stream",
     "text": [
      "\r",
      "  7%|▋         | 1/15 [03:02<42:34, 182.44s/it]"
     ]
    },
    {
     "name": "stdout",
     "output_type": "stream",
     "text": [
      "------------ Test Losses ------------\n",
      "rmse: 0.989123\n",
      "------------ Test Metrics ------------\n",
      "Epoch 2, Time: 173.326583 (s)\n",
      "------------ Train Losses ------------\n",
      "rmse: 0.962036\n",
      "------------ Train Metrics ------------\n"
     ]
    },
    {
     "name": "stderr",
     "output_type": "stream",
     "text": [
      "\r",
      " 13%|█▎        | 2/15 [06:03<39:24, 181.92s/it]"
     ]
    },
    {
     "name": "stdout",
     "output_type": "stream",
     "text": [
      "------------ Test Losses ------------\n",
      "rmse: 0.965192\n",
      "------------ Test Metrics ------------\n",
      "Epoch 3, Time: 176.729820 (s)\n",
      "------------ Train Losses ------------\n",
      "rmse: 0.920574\n",
      "------------ Train Metrics ------------\n"
     ]
    },
    {
     "name": "stderr",
     "output_type": "stream",
     "text": [
      "\r",
      " 20%|██        | 3/15 [09:07<36:30, 182.51s/it]"
     ]
    },
    {
     "name": "stdout",
     "output_type": "stream",
     "text": [
      "------------ Test Losses ------------\n",
      "rmse: 0.935621\n",
      "------------ Test Metrics ------------\n",
      "Epoch 4, Time: 170.457076 (s)\n",
      "------------ Train Losses ------------\n",
      "rmse: 0.886568\n",
      "------------ Train Metrics ------------\n"
     ]
    },
    {
     "name": "stderr",
     "output_type": "stream",
     "text": [
      "\r",
      " 27%|██▋       | 4/15 [12:04<33:10, 180.94s/it]"
     ]
    },
    {
     "name": "stdout",
     "output_type": "stream",
     "text": [
      "------------ Test Losses ------------\n",
      "rmse: 0.918520\n",
      "------------ Test Metrics ------------\n"
     ]
    }
   ],
   "source": [
    "# Model\n",
    "model = models.NeuralFM(ds)\n",
    "\n",
    "model.train(\n",
    "    ds,\n",
    "    batch_size=40,\n",
    "    epochs=15,\n",
    "    loss_function=\"rmse\",\n",
    "    eval_loss_functions=[\"rmse\"],\n",
    "    optimizer=tf.train.AdagradOptimizer(learning_rate=0.04),\n",
    ")"
   ]
  },
  {
   "cell_type": "code",
   "execution_count": null,
   "metadata": {},
   "outputs": [],
   "source": [
    "# Model\n",
    "model = models.WideDeep(ds)\n",
    "\n",
    "model.train(\n",
    "    ds,\n",
    "    batch_size=40,\n",
    "    epochs=15,\n",
    "    loss_function=\"rmse\",\n",
    "    eval_loss_functions=[\"rmse\"],\n",
    "    optimizer=tf.train.AdagradOptimizer(learning_rate=0.04),\n",
    ")"
   ]
  },
  {
   "cell_type": "code",
   "execution_count": null,
   "metadata": {},
   "outputs": [],
   "source": []
  }
 ],
 "metadata": {
  "kernelspec": {
   "display_name": "Python (deep4rec)",
   "language": "python",
   "name": "deep4rec"
  },
  "language_info": {
   "codemirror_mode": {
    "name": "ipython",
    "version": 3
   },
   "file_extension": ".py",
   "mimetype": "text/x-python",
   "name": "python",
   "nbconvert_exporter": "python",
   "pygments_lexer": "ipython3",
   "version": "3.6.7"
  }
 },
 "nbformat": 4,
 "nbformat_minor": 2
}
