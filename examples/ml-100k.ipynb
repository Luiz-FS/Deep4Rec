{
 "cells": [
  {
   "cell_type": "markdown",
   "metadata": {},
   "source": [
    "# Experiments for regression with ml-100k"
   ]
  },
  {
   "cell_type": "code",
   "execution_count": 1,
   "metadata": {},
   "outputs": [],
   "source": [
    "import os\n",
    "os.environ[\"TF_CPP_MIN_LOG_LEVEL\"] = \"3\"\n",
    "\n",
    "from matplotlib import pyplot as plt\n",
    "import tensorflow as tf\n",
    "\n",
    "from deep4rec import datasets\n",
    "from deep4rec import models"
   ]
  },
  {
   "cell_type": "code",
   "execution_count": 2,
   "metadata": {},
   "outputs": [],
   "source": [
    "# Dataset\n",
    "ds = datasets.build_dataset(\"ml-100k\")"
   ]
  },
  {
   "cell_type": "markdown",
   "metadata": {},
   "source": [
    "### NeuralFM"
   ]
  },
  {
   "cell_type": "code",
   "execution_count": null,
   "metadata": {},
   "outputs": [
    {
     "name": "stderr",
     "output_type": "stream",
     "text": [
      "\r",
      "  0%|          | 0/15 [00:00<?, ?it/s]"
     ]
    },
    {
     "name": "stdout",
     "output_type": "stream",
     "text": [
      "WARNING:tensorflow:From /home/marianne/anaconda3/envs/deep4rec/lib/python3.6/site-packages/tensorflow/python/data/ops/iterator_ops.py:532: colocate_with (from tensorflow.python.framework.ops) is deprecated and will be removed in a future version.\n",
      "Instructions for updating:\n",
      "Colocations handled automatically by placer.\n"
     ]
    },
    {
     "name": "stderr",
     "output_type": "stream",
     "text": [
      "WARNING: Logging before flag parsing goes to stderr.\n",
      "W0607 16:49:39.471273 140321418487616 deprecation.py:323] From /home/marianne/anaconda3/envs/deep4rec/lib/python3.6/site-packages/tensorflow/python/data/ops/iterator_ops.py:532: colocate_with (from tensorflow.python.framework.ops) is deprecated and will be removed in a future version.\n",
      "Instructions for updating:\n",
      "Colocations handled automatically by placer.\n"
     ]
    },
    {
     "name": "stdout",
     "output_type": "stream",
     "text": [
      "WARNING:tensorflow:From /home/marianne/anaconda3/envs/deep4rec/lib/python3.6/site-packages/tensorflow/python/ops/losses/losses_impl.py:667: to_float (from tensorflow.python.ops.math_ops) is deprecated and will be removed in a future version.\n",
      "Instructions for updating:\n",
      "Use tf.cast instead.\n"
     ]
    },
    {
     "name": "stderr",
     "output_type": "stream",
     "text": [
      "W0607 16:49:39.511019 140321418487616 deprecation.py:323] From /home/marianne/anaconda3/envs/deep4rec/lib/python3.6/site-packages/tensorflow/python/ops/losses/losses_impl.py:667: to_float (from tensorflow.python.ops.math_ops) is deprecated and will be removed in a future version.\n",
      "Instructions for updating:\n",
      "Use tf.cast instead.\n"
     ]
    },
    {
     "name": "stdout",
     "output_type": "stream",
     "text": [
      "Epoch 1, Time: 18.431373 (s)\n",
      "------------ Train Losses ------------\n",
      "rmse: 1.025461\n"
     ]
    },
    {
     "name": "stderr",
     "output_type": "stream",
     "text": [
      "\r",
      "  7%|▋         | 1/15 [00:22<05:20, 22.90s/it]"
     ]
    },
    {
     "name": "stdout",
     "output_type": "stream",
     "text": [
      "------------ Test Losses ------------\n",
      "rmse: 1.054669\n",
      "Epoch 2, Time: 18.519020 (s)\n",
      "------------ Train Losses ------------\n",
      "rmse: 0.972174\n"
     ]
    },
    {
     "name": "stderr",
     "output_type": "stream",
     "text": [
      "\r",
      " 13%|█▎        | 2/15 [00:45<04:57, 22.90s/it]"
     ]
    },
    {
     "name": "stdout",
     "output_type": "stream",
     "text": [
      "------------ Test Losses ------------\n",
      "rmse: 1.017653\n",
      "Epoch 3, Time: 18.247774 (s)\n",
      "------------ Train Losses ------------\n",
      "rmse: 0.918012\n"
     ]
    },
    {
     "name": "stderr",
     "output_type": "stream",
     "text": [
      "\r",
      " 20%|██        | 3/15 [01:08<04:33, 22.78s/it]"
     ]
    },
    {
     "name": "stdout",
     "output_type": "stream",
     "text": [
      "------------ Test Losses ------------\n",
      "rmse: 0.983867\n",
      "Epoch 4, Time: 18.077725 (s)\n",
      "------------ Train Losses ------------\n",
      "rmse: 0.894713\n"
     ]
    },
    {
     "name": "stderr",
     "output_type": "stream",
     "text": [
      "\r",
      " 27%|██▋       | 4/15 [01:30<04:09, 22.68s/it]"
     ]
    },
    {
     "name": "stdout",
     "output_type": "stream",
     "text": [
      "------------ Test Losses ------------\n",
      "rmse: 0.969929\n",
      "Epoch 5, Time: 18.860317 (s)\n",
      "------------ Train Losses ------------\n",
      "rmse: 0.866678\n"
     ]
    },
    {
     "name": "stderr",
     "output_type": "stream",
     "text": [
      "\r",
      " 33%|███▎      | 5/15 [01:53<03:48, 22.82s/it]"
     ]
    },
    {
     "name": "stdout",
     "output_type": "stream",
     "text": [
      "------------ Test Losses ------------\n",
      "rmse: 0.958953\n",
      "Epoch 6, Time: 19.296335 (s)\n",
      "------------ Train Losses ------------\n",
      "rmse: 0.845064\n"
     ]
    },
    {
     "name": "stderr",
     "output_type": "stream",
     "text": [
      "\r",
      " 40%|████      | 6/15 [02:17<03:28, 23.12s/it]"
     ]
    },
    {
     "name": "stdout",
     "output_type": "stream",
     "text": [
      "------------ Test Losses ------------\n",
      "rmse: 0.952416\n",
      "Epoch 7, Time: 19.150449 (s)\n",
      "------------ Train Losses ------------\n",
      "rmse: 0.823754\n"
     ]
    },
    {
     "name": "stderr",
     "output_type": "stream",
     "text": [
      "\r",
      " 47%|████▋     | 7/15 [02:41<03:06, 23.25s/it]"
     ]
    },
    {
     "name": "stdout",
     "output_type": "stream",
     "text": [
      "------------ Test Losses ------------\n",
      "rmse: 0.949236\n",
      "Epoch 8, Time: 19.536864 (s)\n",
      "------------ Train Losses ------------\n",
      "rmse: 0.808832\n"
     ]
    },
    {
     "name": "stderr",
     "output_type": "stream",
     "text": [
      "\r",
      " 53%|█████▎    | 8/15 [03:05<02:44, 23.44s/it]"
     ]
    },
    {
     "name": "stdout",
     "output_type": "stream",
     "text": [
      "------------ Test Losses ------------\n",
      "rmse: 0.947343\n",
      "Epoch 9, Time: 19.701221 (s)\n",
      "------------ Train Losses ------------\n",
      "rmse: 0.788850\n"
     ]
    },
    {
     "name": "stderr",
     "output_type": "stream",
     "text": [
      "\r",
      " 60%|██████    | 9/15 [03:29<02:22, 23.68s/it]"
     ]
    },
    {
     "name": "stdout",
     "output_type": "stream",
     "text": [
      "------------ Test Losses ------------\n",
      "rmse: 0.947382\n",
      "Epoch 10, Time: 19.745722 (s)\n",
      "------------ Train Losses ------------\n",
      "rmse: 0.777083\n"
     ]
    },
    {
     "name": "stderr",
     "output_type": "stream",
     "text": [
      "\r",
      " 67%|██████▋   | 10/15 [03:53<01:58, 23.80s/it]"
     ]
    },
    {
     "name": "stdout",
     "output_type": "stream",
     "text": [
      "------------ Test Losses ------------\n",
      "rmse: 0.945837\n",
      "Epoch 11, Time: 19.476313 (s)\n",
      "------------ Train Losses ------------\n",
      "rmse: 0.764931\n"
     ]
    },
    {
     "name": "stderr",
     "output_type": "stream",
     "text": [
      "\r",
      " 73%|███████▎  | 11/15 [04:17<01:35, 23.77s/it]"
     ]
    },
    {
     "name": "stdout",
     "output_type": "stream",
     "text": [
      "------------ Test Losses ------------\n",
      "rmse: 0.945556\n",
      "Epoch 12, Time: 19.234562 (s)\n",
      "------------ Train Losses ------------\n",
      "rmse: 0.758524\n"
     ]
    },
    {
     "name": "stderr",
     "output_type": "stream",
     "text": [
      "\r",
      " 80%|████████  | 12/15 [04:40<01:11, 23.72s/it]"
     ]
    },
    {
     "name": "stdout",
     "output_type": "stream",
     "text": [
      "------------ Test Losses ------------\n",
      "rmse: 0.944547\n"
     ]
    }
   ],
   "source": [
    "# Model\n",
    "model = models.NeuralFM(ds, num_units=16, layers=[32, 16], dropout_prob=[0.5, 0.5, 0.5])\n",
    "\n",
    "model.train(\n",
    "    ds,\n",
    "    batch_size=40,\n",
    "    epochs=15,\n",
    "    loss_function=\"rmse\",\n",
    "    eval_loss_functions=[\"rmse\"],\n",
    "    optimizer=tf.train.AdagradOptimizer(learning_rate=0.04),\n",
    ")"
   ]
  },
  {
   "cell_type": "code",
   "execution_count": null,
   "metadata": {},
   "outputs": [],
   "source": [
    "model.test_losses"
   ]
  },
  {
   "cell_type": "code",
   "execution_count": null,
   "metadata": {},
   "outputs": [],
   "source": [
    "# Model\n",
    "model = models.WideDeep(ds)\n",
    "\n",
    "model.train(\n",
    "    ds,\n",
    "    batch_size=40,\n",
    "    epochs=15,\n",
    "    loss_function=\"rmse\",\n",
    "    eval_loss_functions=[\"rmse\"],\n",
    "    optimizer=tf.train.AdagradOptimizer(learning_rate=0.04),\n",
    ")"
   ]
  },
  {
   "cell_type": "code",
   "execution_count": null,
   "metadata": {},
   "outputs": [],
   "source": []
  }
 ],
 "metadata": {
  "kernelspec": {
   "display_name": "Python (deep4rec)",
   "language": "python",
   "name": "deep4rec"
  },
  "language_info": {
   "codemirror_mode": {
    "name": "ipython",
    "version": 3
   },
   "file_extension": ".py",
   "mimetype": "text/x-python",
   "name": "python",
   "nbconvert_exporter": "python",
   "pygments_lexer": "ipython3",
   "version": "3.6.7"
  }
 },
 "nbformat": 4,
 "nbformat_minor": 2
}
