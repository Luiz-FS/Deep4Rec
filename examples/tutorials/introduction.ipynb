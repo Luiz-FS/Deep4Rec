{
 "cells": [
  {
   "cell_type": "markdown",
   "metadata": {},
   "source": [
    "### Introduction to Deep4Rec\n",
    "\n",
    "Brief practical introduction to Deep4Rec. We'll show how to load a dataset and train a model.\n",
    "\n",
    "Check more examples in the [examples folder]()!\n",
    "\n",
    "- Author: Marianne Linhares Monteiro ([github: mari-linhares](https://github.com/mari-linhares/), [twitter: hereismari](https://twitter.com/hereismari))\n",
    "\n",
    "\n",
    "First let's import the required dependencies."
   ]
  },
  {
   "cell_type": "code",
   "execution_count": 1,
   "metadata": {},
   "outputs": [
    {
     "name": "stderr",
     "output_type": "stream",
     "text": [
      "/media/store/Documentos/deep4rec/env/lib/python3.6/site-packages/tensorflow/python/framework/dtypes.py:526: FutureWarning: Passing (type, 1) or '1type' as a synonym of type is deprecated; in a future version of numpy, it will be understood as (type, (1,)) / '(1,)type'.\n",
      "  _np_qint8 = np.dtype([(\"qint8\", np.int8, 1)])\n",
      "/media/store/Documentos/deep4rec/env/lib/python3.6/site-packages/tensorflow/python/framework/dtypes.py:527: FutureWarning: Passing (type, 1) or '1type' as a synonym of type is deprecated; in a future version of numpy, it will be understood as (type, (1,)) / '(1,)type'.\n",
      "  _np_quint8 = np.dtype([(\"quint8\", np.uint8, 1)])\n",
      "/media/store/Documentos/deep4rec/env/lib/python3.6/site-packages/tensorflow/python/framework/dtypes.py:528: FutureWarning: Passing (type, 1) or '1type' as a synonym of type is deprecated; in a future version of numpy, it will be understood as (type, (1,)) / '(1,)type'.\n",
      "  _np_qint16 = np.dtype([(\"qint16\", np.int16, 1)])\n",
      "/media/store/Documentos/deep4rec/env/lib/python3.6/site-packages/tensorflow/python/framework/dtypes.py:529: FutureWarning: Passing (type, 1) or '1type' as a synonym of type is deprecated; in a future version of numpy, it will be understood as (type, (1,)) / '(1,)type'.\n",
      "  _np_quint16 = np.dtype([(\"quint16\", np.uint16, 1)])\n",
      "/media/store/Documentos/deep4rec/env/lib/python3.6/site-packages/tensorflow/python/framework/dtypes.py:530: FutureWarning: Passing (type, 1) or '1type' as a synonym of type is deprecated; in a future version of numpy, it will be understood as (type, (1,)) / '(1,)type'.\n",
      "  _np_qint32 = np.dtype([(\"qint32\", np.int32, 1)])\n",
      "/media/store/Documentos/deep4rec/env/lib/python3.6/site-packages/tensorflow/python/framework/dtypes.py:535: FutureWarning: Passing (type, 1) or '1type' as a synonym of type is deprecated; in a future version of numpy, it will be understood as (type, (1,)) / '(1,)type'.\n",
      "  np_resource = np.dtype([(\"resource\", np.ubyte, 1)])\n"
     ]
    }
   ],
   "source": [
    "import sys\n",
    "\n",
    "sys.path.append('../../')\n",
    "\n",
    "import os\n",
    "# Ignore some tensorflow logs\n",
    "os.environ[\"TF_CPP_MIN_LOG_LEVEL\"] = \"3\"\n",
    "\n",
    "from matplotlib import pyplot as plt\n",
    "import tensorflow as tf"
   ]
  },
  {
   "cell_type": "markdown",
   "metadata": {},
   "source": [
    "Now let's import Deep4Rec.\n",
    "\n",
    "There are two main modules in deep4rec that you usually are going to use:\n",
    "    \n",
    " * `datasets`: Common datasets used for Recommendation Systems evaluation already preprocessed and ready to be used.\n",
    " * `models`: Recommenders based on deep learning.\n",
    " \n",
    "Let's import them."
   ]
  },
  {
   "cell_type": "code",
   "execution_count": 2,
   "metadata": {},
   "outputs": [],
   "source": [
    "from deep4rec import datasets\n",
    "from deep4rec import models"
   ]
  },
  {
   "cell_type": "markdown",
   "metadata": {},
   "source": [
    "We can choose any dataset listed in the datasets options."
   ]
  },
  {
   "cell_type": "code",
   "execution_count": 3,
   "metadata": {},
   "outputs": [
    {
     "data": {
      "text/plain": [
       "['frappe', 'ml-100k']"
      ]
     },
     "execution_count": 3,
     "metadata": {},
     "output_type": "execute_result"
    }
   ],
   "source": [
    "datasets.options()"
   ]
  },
  {
   "cell_type": "code",
   "execution_count": 4,
   "metadata": {},
   "outputs": [],
   "source": [
    "# Build chosen dataset\n",
    "ds = datasets.build_dataset(\"ml-100k\")"
   ]
  },
  {
   "cell_type": "markdown",
   "metadata": {},
   "source": [
    "We can choose any model listed in the models options."
   ]
  },
  {
   "cell_type": "code",
   "execution_count": 5,
   "metadata": {},
   "outputs": [
    {
     "data": {
      "text/plain": [
       "['FM', 'NeuralFM', 'NeuralMF', 'WideDeep']"
      ]
     },
     "execution_count": 5,
     "metadata": {},
     "output_type": "execute_result"
    }
   ],
   "source": [
    "models.options()"
   ]
  },
  {
   "cell_type": "markdown",
   "metadata": {},
   "source": [
    "Let's start with the FM model."
   ]
  },
  {
   "cell_type": "code",
   "execution_count": 6,
   "metadata": {},
   "outputs": [],
   "source": [
    "fm = models.FM(ds, num_units=16)"
   ]
  },
  {
   "cell_type": "markdown",
   "metadata": {},
   "source": [
    "In order to train a model just call `train`."
   ]
  },
  {
   "cell_type": "code",
   "execution_count": 7,
   "metadata": {
    "scrolled": true
   },
   "outputs": [
    {
     "name": "stderr",
     "output_type": "stream",
     "text": [
      "\r",
      "  0%|          | 0/10 [00:00<?, ?it/s]"
     ]
    },
    {
     "name": "stdout",
     "output_type": "stream",
     "text": [
      "WARNING:tensorflow:From /media/store/Documentos/deep4rec/env/lib/python3.6/site-packages/tensorflow/python/data/ops/iterator_ops.py:532: colocate_with (from tensorflow.python.framework.ops) is deprecated and will be removed in a future version.\n",
      "Instructions for updating:\n",
      "Colocations handled automatically by placer.\n",
      "WARNING:tensorflow:From /media/store/Documentos/deep4rec/env/lib/python3.6/site-packages/tensorflow/python/ops/losses/losses_impl.py:667: to_float (from tensorflow.python.ops.math_ops) is deprecated and will be removed in a future version.\n",
      "Instructions for updating:\n",
      "Use tf.cast instead.\n",
      "Epoch 1, Time: 8.635748 (s)\n"
     ]
    },
    {
     "name": "stderr",
     "output_type": "stream",
     "text": [
      "\r",
      " 10%|█         | 1/10 [00:10<01:32, 10.33s/it]"
     ]
    },
    {
     "name": "stdout",
     "output_type": "stream",
     "text": [
      "------------ train losses ------------\n",
      "rmse: 0.981110\n",
      "------------ test losses ------------\n",
      "rmse: 1.018286\n",
      "Epoch 2, Time: 8.899650 (s)\n"
     ]
    },
    {
     "name": "stderr",
     "output_type": "stream",
     "text": [
      "\r",
      " 20%|██        | 2/10 [00:20<01:23, 10.41s/it]"
     ]
    },
    {
     "name": "stdout",
     "output_type": "stream",
     "text": [
      "------------ train losses ------------\n",
      "rmse: 0.949392\n",
      "------------ test losses ------------\n",
      "rmse: 0.990106\n",
      "Epoch 3, Time: 9.685752 (s)\n"
     ]
    },
    {
     "name": "stderr",
     "output_type": "stream",
     "text": [
      "\r",
      " 30%|███       | 3/10 [00:32<01:14, 10.69s/it]"
     ]
    },
    {
     "name": "stdout",
     "output_type": "stream",
     "text": [
      "------------ train losses ------------\n",
      "rmse: 0.938095\n",
      "------------ test losses ------------\n",
      "rmse: 0.978891\n",
      "Epoch 4, Time: 9.439485 (s)\n"
     ]
    },
    {
     "name": "stderr",
     "output_type": "stream",
     "text": [
      "\r",
      " 40%|████      | 4/10 [00:43<01:04, 10.80s/it]"
     ]
    },
    {
     "name": "stdout",
     "output_type": "stream",
     "text": [
      "------------ train losses ------------\n",
      "rmse: 0.929387\n",
      "------------ test losses ------------\n",
      "rmse: 0.970615\n",
      "Epoch 5, Time: 9.792871 (s)\n"
     ]
    },
    {
     "name": "stderr",
     "output_type": "stream",
     "text": [
      "\r",
      " 50%|█████     | 5/10 [00:54<00:54, 10.97s/it]"
     ]
    },
    {
     "name": "stdout",
     "output_type": "stream",
     "text": [
      "------------ train losses ------------\n",
      "rmse: 0.934910\n",
      "------------ test losses ------------\n",
      "rmse: 0.976841\n",
      "Epoch 6, Time: 10.000162 (s)\n"
     ]
    },
    {
     "name": "stderr",
     "output_type": "stream",
     "text": [
      "\r",
      " 60%|██████    | 6/10 [01:06<00:44, 11.17s/it]"
     ]
    },
    {
     "name": "stdout",
     "output_type": "stream",
     "text": [
      "------------ train losses ------------\n",
      "rmse: 0.931546\n",
      "------------ test losses ------------\n",
      "rmse: 0.973746\n",
      "Epoch 7, Time: 10.108546 (s)\n"
     ]
    },
    {
     "name": "stderr",
     "output_type": "stream",
     "text": [
      "\r",
      " 70%|███████   | 7/10 [01:18<00:33, 11.33s/it]"
     ]
    },
    {
     "name": "stdout",
     "output_type": "stream",
     "text": [
      "------------ train losses ------------\n",
      "rmse: 0.921249\n",
      "------------ test losses ------------\n",
      "rmse: 0.963578\n",
      "Epoch 8, Time: 10.345304 (s)\n"
     ]
    },
    {
     "name": "stderr",
     "output_type": "stream",
     "text": [
      "\r",
      " 80%|████████  | 8/10 [01:29<00:23, 11.52s/it]"
     ]
    },
    {
     "name": "stdout",
     "output_type": "stream",
     "text": [
      "------------ train losses ------------\n",
      "rmse: 0.920731\n",
      "------------ test losses ------------\n",
      "rmse: 0.963029\n",
      "Epoch 9, Time: 10.668472 (s)\n"
     ]
    },
    {
     "name": "stderr",
     "output_type": "stream",
     "text": [
      "\r",
      " 90%|█████████ | 9/10 [01:42<00:11, 11.77s/it]"
     ]
    },
    {
     "name": "stdout",
     "output_type": "stream",
     "text": [
      "------------ train losses ------------\n",
      "rmse: 0.919433\n",
      "------------ test losses ------------\n",
      "rmse: 0.962927\n",
      "Epoch 10, Time: 11.035254 (s)\n"
     ]
    },
    {
     "name": "stderr",
     "output_type": "stream",
     "text": [
      "100%|██████████| 10/10 [01:55<00:00, 11.50s/it]"
     ]
    },
    {
     "name": "stdout",
     "output_type": "stream",
     "text": [
      "------------ train losses ------------\n",
      "rmse: 0.916302\n",
      "------------ test losses ------------\n",
      "rmse: 0.959859\n"
     ]
    },
    {
     "name": "stderr",
     "output_type": "stream",
     "text": [
      "\n"
     ]
    }
   ],
   "source": [
    "BATCH_SIZE = 128\n",
    "EPOCHS = 10\n",
    "LR = 0.04\n",
    "\n",
    "fm.train(\n",
    "    ds,\n",
    "    batch_size=BATCH_SIZE,\n",
    "    epochs=EPOCHS,\n",
    "    loss_function=\"rmse\",\n",
    "    optimizer=tf.train.AdagradOptimizer(learning_rate=LR),\n",
    ")"
   ]
  },
  {
   "cell_type": "markdown",
   "metadata": {},
   "source": [
    "Let's now try NeuralFM and NeuralMF models and compare them. We just need to add a few lines of code and we're ready to go!"
   ]
  },
  {
   "cell_type": "code",
   "execution_count": 8,
   "metadata": {},
   "outputs": [
    {
     "name": "stderr",
     "output_type": "stream",
     "text": [
      "\r",
      "  0%|          | 0/10 [00:00<?, ?it/s]"
     ]
    },
    {
     "name": "stdout",
     "output_type": "stream",
     "text": [
      "Epoch 1, Time: 23.049842 (s)\n",
      "------------ train losses ------------\n",
      "rmse: 0.987296\n"
     ]
    },
    {
     "name": "stderr",
     "output_type": "stream",
     "text": [
      "\r",
      " 10%|█         | 1/10 [00:27<04:03, 27.10s/it]"
     ]
    },
    {
     "name": "stdout",
     "output_type": "stream",
     "text": [
      "------------ test losses ------------\n",
      "rmse: 1.019955\n",
      "Epoch 2, Time: 22.838770 (s)\n",
      "------------ train losses ------------\n",
      "rmse: 0.970849\n"
     ]
    },
    {
     "name": "stderr",
     "output_type": "stream",
     "text": [
      "\r",
      " 20%|██        | 2/10 [00:53<03:35, 27.00s/it]"
     ]
    },
    {
     "name": "stdout",
     "output_type": "stream",
     "text": [
      "------------ test losses ------------\n",
      "rmse: 1.012186\n",
      "Epoch 3, Time: 23.063582 (s)\n",
      "------------ train losses ------------\n",
      "rmse: 0.971707\n"
     ]
    },
    {
     "name": "stderr",
     "output_type": "stream",
     "text": [
      "\r",
      " 30%|███       | 3/10 [01:20<03:08, 26.97s/it]"
     ]
    },
    {
     "name": "stdout",
     "output_type": "stream",
     "text": [
      "------------ test losses ------------\n",
      "rmse: 1.003069\n",
      "Epoch 4, Time: 23.286617 (s)\n",
      "------------ train losses ------------\n",
      "rmse: 0.976189\n"
     ]
    },
    {
     "name": "stderr",
     "output_type": "stream",
     "text": [
      "\r",
      " 40%|████      | 4/10 [01:47<02:42, 27.04s/it]"
     ]
    },
    {
     "name": "stdout",
     "output_type": "stream",
     "text": [
      "------------ test losses ------------\n",
      "rmse: 1.005913\n",
      "Epoch 5, Time: 23.931357 (s)\n",
      "------------ train losses ------------\n",
      "rmse: 0.924355\n"
     ]
    },
    {
     "name": "stderr",
     "output_type": "stream",
     "text": [
      "\r",
      " 50%|█████     | 5/10 [02:15<02:16, 27.25s/it]"
     ]
    },
    {
     "name": "stdout",
     "output_type": "stream",
     "text": [
      "------------ test losses ------------\n",
      "rmse: 0.972839\n",
      "Epoch 6, Time: 24.628929 (s)\n",
      "------------ train losses ------------\n",
      "rmse: 0.888484\n"
     ]
    },
    {
     "name": "stderr",
     "output_type": "stream",
     "text": [
      "\r",
      " 60%|██████    | 6/10 [02:44<01:50, 27.68s/it]"
     ]
    },
    {
     "name": "stdout",
     "output_type": "stream",
     "text": [
      "------------ test losses ------------\n",
      "rmse: 0.955433\n",
      "Epoch 7, Time: 24.641237 (s)\n",
      "------------ train losses ------------\n",
      "rmse: 0.913265\n"
     ]
    },
    {
     "name": "stderr",
     "output_type": "stream",
     "text": [
      "\r",
      " 70%|███████   | 7/10 [03:12<01:23, 27.93s/it]"
     ]
    },
    {
     "name": "stdout",
     "output_type": "stream",
     "text": [
      "------------ test losses ------------\n",
      "rmse: 0.979396\n",
      "Epoch 8, Time: 24.258035 (s)\n",
      "------------ train losses ------------\n",
      "rmse: 0.897899\n"
     ]
    },
    {
     "name": "stderr",
     "output_type": "stream",
     "text": [
      "\r",
      " 80%|████████  | 8/10 [03:41<00:56, 28.00s/it]"
     ]
    },
    {
     "name": "stdout",
     "output_type": "stream",
     "text": [
      "------------ test losses ------------\n",
      "rmse: 0.962202\n",
      "Epoch 9, Time: 24.266128 (s)\n",
      "------------ train losses ------------\n",
      "rmse: 0.910570\n"
     ]
    },
    {
     "name": "stderr",
     "output_type": "stream",
     "text": [
      "\r",
      " 90%|█████████ | 9/10 [04:09<00:28, 28.09s/it]"
     ]
    },
    {
     "name": "stdout",
     "output_type": "stream",
     "text": [
      "------------ test losses ------------\n",
      "rmse: 0.978287\n",
      "Epoch 10, Time: 23.380241 (s)\n",
      "------------ train losses ------------\n",
      "rmse: 0.877332\n"
     ]
    },
    {
     "name": "stderr",
     "output_type": "stream",
     "text": [
      "100%|██████████| 10/10 [04:36<00:00, 27.62s/it]"
     ]
    },
    {
     "name": "stdout",
     "output_type": "stream",
     "text": [
      "------------ test losses ------------\n",
      "rmse: 0.961795\n"
     ]
    },
    {
     "name": "stderr",
     "output_type": "stream",
     "text": [
      "\n"
     ]
    }
   ],
   "source": [
    "neuralfm = models.NeuralFM(ds,\n",
    "                     num_units=16,\n",
    "                     layers=[16, 8],\n",
    "                     dropout_prob=[0.1, 0.1, 0.1]  # dropout for layer 1, layer 2 and features weights.\n",
    "                    )\n",
    "\n",
    "neuralfm.train(\n",
    "    ds,\n",
    "    batch_size=BATCH_SIZE,\n",
    "    epochs=EPOCHS,\n",
    "    loss_function=\"rmse\",\n",
    "    optimizer=tf.train.AdagradOptimizer(learning_rate=LR),\n",
    ")"
   ]
  },
  {
   "cell_type": "markdown",
   "metadata": {},
   "source": [
    "All Deep Learning methods have the same interface and parameters so to use NeuralFM instead of NeuralFM we just need to use a different class name."
   ]
  },
  {
   "cell_type": "code",
   "execution_count": 9,
   "metadata": {},
   "outputs": [
    {
     "name": "stderr",
     "output_type": "stream",
     "text": [
      "\r",
      "  0%|          | 0/10 [00:00<?, ?it/s]"
     ]
    },
    {
     "name": "stdout",
     "output_type": "stream",
     "text": [
      "WARNING:tensorflow:From /media/store/Documentos/deep4rec/env/lib/python3.6/site-packages/tensorflow/python/ops/math_grad.py:163: setdiff1d (from tensorflow.python.ops.array_ops) is deprecated and will be removed after 2018-11-30.\n",
      "Instructions for updating:\n",
      "This op will be removed after the deprecation date. Please switch to tf.sets.difference().\n",
      "Epoch 1, Time: 23.802161 (s)\n",
      "------------ train losses ------------\n",
      "rmse: 0.947829\n"
     ]
    },
    {
     "name": "stderr",
     "output_type": "stream",
     "text": [
      "\r",
      " 10%|█         | 1/10 [00:27<04:09, 27.72s/it]"
     ]
    },
    {
     "name": "stdout",
     "output_type": "stream",
     "text": [
      "------------ test losses ------------\n",
      "rmse: 0.989739\n",
      "Epoch 2, Time: 24.563038 (s)\n",
      "------------ train losses ------------\n",
      "rmse: 0.918277\n"
     ]
    },
    {
     "name": "stderr",
     "output_type": "stream",
     "text": [
      "\r",
      " 20%|██        | 2/10 [00:56<03:44, 28.01s/it]"
     ]
    },
    {
     "name": "stdout",
     "output_type": "stream",
     "text": [
      "------------ test losses ------------\n",
      "rmse: 0.963654\n",
      "Epoch 3, Time: 25.083565 (s)\n",
      "------------ train losses ------------\n",
      "rmse: 0.909813\n"
     ]
    },
    {
     "name": "stderr",
     "output_type": "stream",
     "text": [
      "\r",
      " 30%|███       | 3/10 [01:25<03:18, 28.40s/it]"
     ]
    },
    {
     "name": "stdout",
     "output_type": "stream",
     "text": [
      "------------ test losses ------------\n",
      "rmse: 0.955974\n",
      "Epoch 4, Time: 24.735085 (s)\n",
      "------------ train losses ------------\n",
      "rmse: 0.899323\n"
     ]
    },
    {
     "name": "stderr",
     "output_type": "stream",
     "text": [
      "\r",
      " 40%|████      | 4/10 [01:54<02:51, 28.51s/it]"
     ]
    },
    {
     "name": "stdout",
     "output_type": "stream",
     "text": [
      "------------ test losses ------------\n",
      "rmse: 0.949370\n",
      "Epoch 5, Time: 25.210816 (s)\n",
      "------------ train losses ------------\n",
      "rmse: 0.897840\n"
     ]
    },
    {
     "name": "stderr",
     "output_type": "stream",
     "text": [
      "\r",
      " 50%|█████     | 5/10 [02:23<02:23, 28.72s/it]"
     ]
    },
    {
     "name": "stdout",
     "output_type": "stream",
     "text": [
      "------------ test losses ------------\n",
      "rmse: 0.951977\n",
      "Epoch 6, Time: 25.477436 (s)\n",
      "------------ train losses ------------\n",
      "rmse: 0.889614\n"
     ]
    },
    {
     "name": "stderr",
     "output_type": "stream",
     "text": [
      "\r",
      " 60%|██████    | 6/10 [02:53<01:55, 28.95s/it]"
     ]
    },
    {
     "name": "stdout",
     "output_type": "stream",
     "text": [
      "------------ test losses ------------\n",
      "rmse: 0.948282\n",
      "Epoch 7, Time: 24.997599 (s)\n",
      "------------ train losses ------------\n",
      "rmse: 0.884961\n"
     ]
    },
    {
     "name": "stderr",
     "output_type": "stream",
     "text": [
      "\r",
      " 70%|███████   | 7/10 [03:22<01:26, 28.96s/it]"
     ]
    },
    {
     "name": "stdout",
     "output_type": "stream",
     "text": [
      "------------ test losses ------------\n",
      "rmse: 0.944726\n",
      "Epoch 8, Time: 25.358770 (s)\n",
      "------------ train losses ------------\n",
      "rmse: 0.878186\n"
     ]
    },
    {
     "name": "stderr",
     "output_type": "stream",
     "text": [
      "\r",
      " 80%|████████  | 8/10 [03:51<00:58, 29.08s/it]"
     ]
    },
    {
     "name": "stdout",
     "output_type": "stream",
     "text": [
      "------------ test losses ------------\n",
      "rmse: 0.943841\n",
      "Epoch 9, Time: 24.661542 (s)\n",
      "------------ train losses ------------\n",
      "rmse: 0.878249\n"
     ]
    },
    {
     "name": "stderr",
     "output_type": "stream",
     "text": [
      "\r",
      " 90%|█████████ | 9/10 [04:19<00:28, 28.82s/it]"
     ]
    },
    {
     "name": "stdout",
     "output_type": "stream",
     "text": [
      "------------ test losses ------------\n",
      "rmse: 0.947405\n",
      "Epoch 10, Time: 23.247291 (s)\n",
      "------------ train losses ------------\n",
      "rmse: 0.877502\n"
     ]
    },
    {
     "name": "stderr",
     "output_type": "stream",
     "text": [
      "100%|██████████| 10/10 [04:46<00:00, 28.70s/it]"
     ]
    },
    {
     "name": "stdout",
     "output_type": "stream",
     "text": [
      "------------ test losses ------------\n",
      "rmse: 0.951151\n"
     ]
    },
    {
     "name": "stderr",
     "output_type": "stream",
     "text": [
      "\n"
     ]
    }
   ],
   "source": [
    "neuralmf = models.NeuralMF(ds,\n",
    "                     num_units=16,\n",
    "                     layers=[16, 8],\n",
    "                     dropout_prob=[0.1, 0.1, 0.1]  # dropout for layer 1, layer 2 and features weights.\n",
    "                    )\n",
    "\n",
    "neuralmf.train(\n",
    "    ds,\n",
    "    batch_size=BATCH_SIZE,\n",
    "    epochs=EPOCHS,\n",
    "    loss_function=\"rmse\",\n",
    "    optimizer=tf.train.AdagradOptimizer(learning_rate=LR),\n",
    ")"
   ]
  },
  {
   "cell_type": "markdown",
   "metadata": {},
   "source": [
    "Let's compare the metods. After training a model we can check their losses in each epoch using `model.test_losses` and `model.train_losses` (if we had a validation set we could also use `model.valid_losses`)."
   ]
  },
  {
   "cell_type": "code",
   "execution_count": 10,
   "metadata": {},
   "outputs": [],
   "source": [
    "# utility function to plot model losses\n",
    "def plot_losses(model):\n",
    "    plt.title(type(model).__name__)\n",
    "    plt.plot([loss[\"rmse\"] for loss in model._losses['test']], label='test')\n",
    "    plt.plot([loss[\"rmse\"] for loss in model._losses['train']], label='train')\n",
    "    plt.legend()\n",
    "    plt.show()"
   ]
  },
  {
   "cell_type": "code",
   "execution_count": 11,
   "metadata": {},
   "outputs": [
    {
     "data": {
      "image/png": "[encoded data removed]",
      "text/plain": [
       "<Figure size 432x288 with 1 Axes>"
      ]
     },
     "metadata": {
      "needs_background": "light"
     },
     "output_type": "display_data"
    },
    {
     "data": {
      "image/png": "[encoded data removed]",
      "text/plain": [
       "<Figure size 432x288 with 1 Axes>"
      ]
     },
     "metadata": {
      "needs_background": "light"
     },
     "output_type": "display_data"
    },
    {
     "data": {
      "image/png": "[encoded data removed]",
      "text/plain": [
       "<Figure size 432x288 with 1 Axes>"
      ]
     },
     "metadata": {
      "needs_background": "light"
     },
     "output_type": "display_data"
    }
   ],
   "source": [
    "plot_losses(fm); plot_losses(neuralfm); plot_losses(neuralmf)"
   ]
  },
  {
   "cell_type": "markdown",
   "metadata": {},
   "source": [
    "### What's next?\n",
    "\n",
    "- Contribute to the code base! Feel free to create a PR with your contributions, if you don't know from where start check the open issues.\n",
    "- Check the examples folder"
   ]
  },
  {
   "cell_type": "code",
   "execution_count": null,
   "metadata": {},
   "outputs": [],
   "source": []
  }
 ],
 "metadata": {
  "kernelspec": {
   "display_name": "Python 3",
   "language": "python",
   "name": "python3"
  },
  "language_info": {
   "codemirror_mode": {
    "name": "ipython",
    "version": 3
   },
   "file_extension": ".py",
   "mimetype": "text/x-python",
   "name": "python",
   "nbconvert_exporter": "python",
   "pygments_lexer": "ipython3",
   "version": "3.6.8"
  }
 },
 "nbformat": 4,
 "nbformat_minor": 2
}
