{
 "cells": [
  {
   "cell_type": "markdown",
   "metadata": {},
   "source": [
    "### Introduction to Deep4Rec\n",
    "\n",
    "Brief practical introduction to Deep4Rec. We'll show how to load a dataset and train a model.\n",
    "\n",
    "Check more examples in the [examples folder]()!\n",
    "\n",
    "- Author: Marianne Linhares Monteiro ([github: mari-linhares](https://github.com/mari-linhares/), [twitter: hereismari](https://twitter.com/hereismari))\n",
    "\n",
    "\n",
    "First let's import the required dependencies."
   ]
  },
  {
   "cell_type": "code",
   "execution_count": 1,
   "metadata": {},
   "outputs": [],
   "source": [
    "import sys\n",
    "\n",
    "sys.path.append('../../')\n",
    "\n",
    "import os\n",
    "# Ignore some tensorflow logs\n",
    "os.environ[\"TF_CPP_MIN_LOG_LEVEL\"] = \"3\"\n",
    "\n",
    "from matplotlib import pyplot as plt\n",
    "import tensorflow as tf"
   ]
  },
  {
   "cell_type": "markdown",
   "metadata": {},
   "source": [
    "Now let's import Deep4Rec.\n",
    "\n",
    "There are two main modules in deep4rec that you usually are going to use:\n",
    "    \n",
    " * `datasets`: Common datasets used for Recommendation Systems evaluation already preprocessed and ready to be used.\n",
    " * `models`: Recommenders based on deep learning.\n",
    " \n",
    "Let's import them."
   ]
  },
  {
   "cell_type": "code",
   "execution_count": 2,
   "metadata": {},
   "outputs": [],
   "source": [
    "from deep4rec import datasets\n",
    "from deep4rec import models"
   ]
  },
  {
   "cell_type": "markdown",
   "metadata": {},
   "source": [
    "We can choose any dataset listed in the datasets options."
   ]
  },
  {
   "cell_type": "code",
   "execution_count": 3,
   "metadata": {},
   "outputs": [
    {
     "data": {
      "text/plain": [
       "['frappe', 'ml-100k']"
      ]
     },
     "execution_count": 3,
     "metadata": {},
     "output_type": "execute_result"
    }
   ],
   "source": [
    "datasets.options()"
   ]
  },
  {
   "cell_type": "code",
   "execution_count": 4,
   "metadata": {},
   "outputs": [],
   "source": [
    "# Build chosen dataset\n",
    "ds = datasets.build_dataset(\"ml-100k\")"
   ]
  },
  {
   "cell_type": "markdown",
   "metadata": {},
   "source": [
    "We can choose any model listed in the models options."
   ]
  },
  {
   "cell_type": "code",
   "execution_count": 5,
   "metadata": {},
   "outputs": [
    {
     "data": {
      "text/plain": [
       "['FM', 'NeuralFM', 'NeuralMF', 'WideDeep']"
      ]
     },
     "execution_count": 5,
     "metadata": {},
     "output_type": "execute_result"
    }
   ],
   "source": [
    "models.options()"
   ]
  },
  {
   "cell_type": "markdown",
   "metadata": {},
   "source": [
    "Let's start with the FM model."
   ]
  },
  {
   "cell_type": "code",
   "execution_count": 6,
   "metadata": {},
   "outputs": [],
   "source": [
    "fm = models.FM(ds, num_units=16)"
   ]
  },
  {
   "cell_type": "markdown",
   "metadata": {},
   "source": [
    "In order to train a model just call `train`."
   ]
  },
  {
   "cell_type": "code",
   "execution_count": 7,
   "metadata": {},
   "outputs": [
    {
     "name": "stderr",
     "output_type": "stream",
     "text": [
      "\r",
      "  0%|          | 0/10 [00:00<?, ?it/s]"
     ]
    },
    {
     "name": "stdout",
     "output_type": "stream",
     "text": [
      "WARNING:tensorflow:From /home/marianne/anaconda3/envs/tfrec2/lib/python3.6/site-packages/tensorflow/python/data/ops/iterator_ops.py:532: colocate_with (from tensorflow.python.framework.ops) is deprecated and will be removed in a future version.\n",
      "Instructions for updating:\n",
      "Colocations handled automatically by placer.\n"
     ]
    },
    {
     "name": "stderr",
     "output_type": "stream",
     "text": [
      "WARNING: Logging before flag parsing goes to stderr.\n",
      "W0713 00:36:15.670563 139979229038400 deprecation.py:323] From /home/marianne/anaconda3/envs/tfrec2/lib/python3.6/site-packages/tensorflow/python/data/ops/iterator_ops.py:532: colocate_with (from tensorflow.python.framework.ops) is deprecated and will be removed in a future version.\n",
      "Instructions for updating:\n",
      "Colocations handled automatically by placer.\n"
     ]
    },
    {
     "name": "stdout",
     "output_type": "stream",
     "text": [
      "WARNING:tensorflow:From /home/marianne/anaconda3/envs/tfrec2/lib/python3.6/site-packages/tensorflow/python/ops/losses/losses_impl.py:667: to_float (from tensorflow.python.ops.math_ops) is deprecated and will be removed in a future version.\n",
      "Instructions for updating:\n",
      "Use tf.cast instead.\n"
     ]
    },
    {
     "name": "stderr",
     "output_type": "stream",
     "text": [
      "W0713 00:36:15.683735 139979229038400 deprecation.py:323] From /home/marianne/anaconda3/envs/tfrec2/lib/python3.6/site-packages/tensorflow/python/ops/losses/losses_impl.py:667: to_float (from tensorflow.python.ops.math_ops) is deprecated and will be removed in a future version.\n",
      "Instructions for updating:\n",
      "Use tf.cast instead.\n"
     ]
    },
    {
     "name": "stdout",
     "output_type": "stream",
     "text": [
      "Epoch 1, Time: 2.241126 (s)\n"
     ]
    },
    {
     "name": "stderr",
     "output_type": "stream",
     "text": [
      "\r",
      " 10%|█         | 1/10 [00:02<00:24,  2.68s/it]"
     ]
    },
    {
     "name": "stdout",
     "output_type": "stream",
     "text": [
      "------------ train losses ------------\n",
      "rmse: 1.661485\n",
      "------------ test losses ------------\n",
      "rmse: 1.753535\n",
      "Epoch 2, Time: 2.311220 (s)\n"
     ]
    },
    {
     "name": "stderr",
     "output_type": "stream",
     "text": [
      "\r",
      " 20%|██        | 2/10 [00:05<00:21,  2.70s/it]"
     ]
    },
    {
     "name": "stdout",
     "output_type": "stream",
     "text": [
      "------------ train losses ------------\n",
      "rmse: 1.157575\n",
      "------------ test losses ------------\n",
      "rmse: 1.230991\n",
      "Epoch 3, Time: 2.311941 (s)\n"
     ]
    },
    {
     "name": "stderr",
     "output_type": "stream",
     "text": [
      "\r",
      " 30%|███       | 3/10 [00:08<00:19,  2.72s/it]"
     ]
    },
    {
     "name": "stdout",
     "output_type": "stream",
     "text": [
      "------------ train losses ------------\n",
      "rmse: 1.051600\n",
      "------------ test losses ------------\n",
      "rmse: 1.102781\n",
      "Epoch 4, Time: 2.343267 (s)\n"
     ]
    },
    {
     "name": "stderr",
     "output_type": "stream",
     "text": [
      "\r",
      " 40%|████      | 4/10 [00:10<00:16,  2.74s/it]"
     ]
    },
    {
     "name": "stdout",
     "output_type": "stream",
     "text": [
      "------------ train losses ------------\n",
      "rmse: 1.022742\n",
      "------------ test losses ------------\n",
      "rmse: 1.067871\n",
      "Epoch 5, Time: 2.431573 (s)\n"
     ]
    },
    {
     "name": "stderr",
     "output_type": "stream",
     "text": [
      "\r",
      " 50%|█████     | 5/10 [00:13<00:13,  2.78s/it]"
     ]
    },
    {
     "name": "stdout",
     "output_type": "stream",
     "text": [
      "------------ train losses ------------\n",
      "rmse: 1.006429\n",
      "------------ test losses ------------\n",
      "rmse: 1.051664\n",
      "Epoch 6, Time: 2.493213 (s)\n"
     ]
    },
    {
     "name": "stderr",
     "output_type": "stream",
     "text": [
      "\r",
      " 60%|██████    | 6/10 [00:16<00:11,  2.83s/it]"
     ]
    },
    {
     "name": "stdout",
     "output_type": "stream",
     "text": [
      "------------ train losses ------------\n",
      "rmse: 0.994421\n",
      "------------ test losses ------------\n",
      "rmse: 1.040811\n",
      "Epoch 7, Time: 2.571654 (s)\n"
     ]
    },
    {
     "name": "stderr",
     "output_type": "stream",
     "text": [
      "\r",
      " 70%|███████   | 7/10 [00:19<00:08,  2.88s/it]"
     ]
    },
    {
     "name": "stdout",
     "output_type": "stream",
     "text": [
      "------------ train losses ------------\n",
      "rmse: 0.985066\n",
      "------------ test losses ------------\n",
      "rmse: 1.032648\n",
      "Epoch 8, Time: 2.622662 (s)\n"
     ]
    },
    {
     "name": "stderr",
     "output_type": "stream",
     "text": [
      "\r",
      " 80%|████████  | 8/10 [00:22<00:05,  2.94s/it]"
     ]
    },
    {
     "name": "stdout",
     "output_type": "stream",
     "text": [
      "------------ train losses ------------\n",
      "rmse: 0.977580\n",
      "------------ test losses ------------\n",
      "rmse: 1.025955\n",
      "Epoch 9, Time: 2.683743 (s)\n"
     ]
    },
    {
     "name": "stderr",
     "output_type": "stream",
     "text": [
      "\r",
      " 90%|█████████ | 9/10 [00:25<00:02,  3.00s/it]"
     ]
    },
    {
     "name": "stdout",
     "output_type": "stream",
     "text": [
      "------------ train losses ------------\n",
      "rmse: 0.971465\n",
      "------------ test losses ------------\n",
      "rmse: 1.020237\n",
      "Epoch 10, Time: 2.761095 (s)\n"
     ]
    },
    {
     "name": "stderr",
     "output_type": "stream",
     "text": [
      "\r",
      "100%|██████████| 10/10 [00:29<00:00,  3.06s/it]"
     ]
    },
    {
     "name": "stdout",
     "output_type": "stream",
     "text": [
      "------------ train losses ------------\n",
      "rmse: 0.966377\n",
      "------------ test losses ------------\n",
      "rmse: 1.015443\n"
     ]
    },
    {
     "name": "stderr",
     "output_type": "stream",
     "text": [
      "\n"
     ]
    }
   ],
   "source": [
    "BATCH_SIZE = 128\n",
    "EPOCHS = 10\n",
    "LR = 0.04\n",
    "\n",
    "fm.train(\n",
    "    ds,\n",
    "    batch_size=BATCH_SIZE,\n",
    "    epochs=EPOCHS,\n",
    "    loss_function=\"rmse\",\n",
    "    optimizer=tf.train.AdagradOptimizer(learning_rate=LR),\n",
    ")"
   ]
  },
  {
   "cell_type": "markdown",
   "metadata": {},
   "source": [
    "Let's now try NeuralFM and NeuralMF models and compare them. We just need to add a few lines of code and we're ready to go!"
   ]
  },
  {
   "cell_type": "code",
   "execution_count": 8,
   "metadata": {},
   "outputs": [
    {
     "name": "stderr",
     "output_type": "stream",
     "text": [
      "\r",
      "  0%|          | 0/10 [00:00<?, ?it/s]"
     ]
    },
    {
     "name": "stdout",
     "output_type": "stream",
     "text": [
      "Epoch 1, Time: 6.480566 (s)\n"
     ]
    },
    {
     "name": "stderr",
     "output_type": "stream",
     "text": [
      "\r",
      " 10%|█         | 1/10 [00:07<01:08,  7.64s/it]"
     ]
    },
    {
     "name": "stdout",
     "output_type": "stream",
     "text": [
      "------------ train losses ------------\n",
      "rmse: 1.024890\n",
      "------------ test losses ------------\n",
      "rmse: 1.074355\n",
      "Epoch 2, Time: 6.510606 (s)\n"
     ]
    },
    {
     "name": "stderr",
     "output_type": "stream",
     "text": [
      "\r",
      " 20%|██        | 2/10 [00:15<01:01,  7.66s/it]"
     ]
    },
    {
     "name": "stdout",
     "output_type": "stream",
     "text": [
      "------------ train losses ------------\n",
      "rmse: 0.949548\n",
      "------------ test losses ------------\n",
      "rmse: 1.017224\n",
      "Epoch 3, Time: 6.922195 (s)\n"
     ]
    },
    {
     "name": "stderr",
     "output_type": "stream",
     "text": [
      "\r",
      " 30%|███       | 3/10 [00:23<00:54,  7.82s/it]"
     ]
    },
    {
     "name": "stdout",
     "output_type": "stream",
     "text": [
      "------------ train losses ------------\n",
      "rmse: 0.920511\n",
      "------------ test losses ------------\n",
      "rmse: 0.999701\n",
      "Epoch 4, Time: 7.618742 (s)\n"
     ]
    },
    {
     "name": "stderr",
     "output_type": "stream",
     "text": [
      "\r",
      " 40%|████      | 4/10 [00:32<00:49,  8.18s/it]"
     ]
    },
    {
     "name": "stdout",
     "output_type": "stream",
     "text": [
      "------------ train losses ------------\n",
      "rmse: 0.893687\n",
      "------------ test losses ------------\n",
      "rmse: 0.997797\n",
      "Epoch 5, Time: 7.582307 (s)\n"
     ]
    },
    {
     "name": "stderr",
     "output_type": "stream",
     "text": [
      "\r",
      " 50%|█████     | 5/10 [00:41<00:42,  8.41s/it]"
     ]
    },
    {
     "name": "stdout",
     "output_type": "stream",
     "text": [
      "------------ train losses ------------\n",
      "rmse: 0.866398\n",
      "------------ test losses ------------\n",
      "rmse: 0.993838\n",
      "Epoch 6, Time: 7.877719 (s)\n"
     ]
    },
    {
     "name": "stderr",
     "output_type": "stream",
     "text": [
      "\r",
      " 60%|██████    | 6/10 [00:50<00:34,  8.64s/it]"
     ]
    },
    {
     "name": "stdout",
     "output_type": "stream",
     "text": [
      "------------ train losses ------------\n",
      "rmse: 0.841301\n",
      "------------ test losses ------------\n",
      "rmse: 0.995234\n",
      "Epoch 7, Time: 7.844462 (s)\n"
     ]
    },
    {
     "name": "stderr",
     "output_type": "stream",
     "text": [
      "\r",
      " 70%|███████   | 7/10 [00:59<00:26,  8.75s/it]"
     ]
    },
    {
     "name": "stdout",
     "output_type": "stream",
     "text": [
      "------------ train losses ------------\n",
      "rmse: 0.818236\n",
      "------------ test losses ------------\n",
      "rmse: 0.996371\n",
      "Epoch 8, Time: 7.354521 (s)\n"
     ]
    },
    {
     "name": "stderr",
     "output_type": "stream",
     "text": [
      "\r",
      " 80%|████████  | 8/10 [01:08<00:17,  8.74s/it]"
     ]
    },
    {
     "name": "stdout",
     "output_type": "stream",
     "text": [
      "------------ train losses ------------\n",
      "rmse: 0.800418\n",
      "------------ test losses ------------\n",
      "rmse: 0.997138\n",
      "Epoch 9, Time: 7.706514 (s)\n"
     ]
    },
    {
     "name": "stderr",
     "output_type": "stream",
     "text": [
      "\r",
      " 90%|█████████ | 9/10 [01:17<00:08,  8.79s/it]"
     ]
    },
    {
     "name": "stdout",
     "output_type": "stream",
     "text": [
      "------------ train losses ------------\n",
      "rmse: 0.786009\n",
      "------------ test losses ------------\n",
      "rmse: 1.004901\n",
      "Epoch 10, Time: 7.615034 (s)\n"
     ]
    },
    {
     "name": "stderr",
     "output_type": "stream",
     "text": [
      "\r",
      "100%|██████████| 10/10 [01:26<00:00,  8.83s/it]"
     ]
    },
    {
     "name": "stdout",
     "output_type": "stream",
     "text": [
      "------------ train losses ------------\n",
      "rmse: 0.773966\n",
      "------------ test losses ------------\n",
      "rmse: 0.999964\n"
     ]
    },
    {
     "name": "stderr",
     "output_type": "stream",
     "text": [
      "\n"
     ]
    }
   ],
   "source": [
    "neuralfm = models.NeuralFM(ds,\n",
    "                     num_units=16,\n",
    "                     layers=[16, 8],\n",
    "                     dropout_prob=[0.1, 0.1, 0.1]  # dropout for layer 1, layer 2 and features weights.\n",
    "                    )\n",
    "\n",
    "neuralfm.train(\n",
    "    ds,\n",
    "    batch_size=BATCH_SIZE,\n",
    "    epochs=EPOCHS,\n",
    "    loss_function=\"rmse\",\n",
    "    optimizer=tf.train.AdagradOptimizer(learning_rate=LR),\n",
    ")"
   ]
  },
  {
   "cell_type": "markdown",
   "metadata": {},
   "source": [
    "All Deep Learning methods have the same interface and parameters so to use NeuralFM instead of NeuralFM we just need to use a different class name."
   ]
  },
  {
   "cell_type": "code",
   "execution_count": 9,
   "metadata": {},
   "outputs": [
    {
     "name": "stderr",
     "output_type": "stream",
     "text": [
      "\r",
      "  0%|          | 0/10 [00:00<?, ?it/s]"
     ]
    },
    {
     "name": "stdout",
     "output_type": "stream",
     "text": [
      "WARNING:tensorflow:From /home/marianne/anaconda3/envs/tfrec2/lib/python3.6/site-packages/tensorflow/python/ops/math_grad.py:163: setdiff1d (from tensorflow.python.ops.array_ops) is deprecated and will be removed after 2018-11-30.\n",
      "Instructions for updating:\n",
      "This op will be removed after the deprecation date. Please switch to tf.sets.difference().\n"
     ]
    },
    {
     "name": "stderr",
     "output_type": "stream",
     "text": [
      "W0713 00:38:11.145842 139979229038400 deprecation.py:323] From /home/marianne/anaconda3/envs/tfrec2/lib/python3.6/site-packages/tensorflow/python/ops/math_grad.py:163: setdiff1d (from tensorflow.python.ops.array_ops) is deprecated and will be removed after 2018-11-30.\n",
      "Instructions for updating:\n",
      "This op will be removed after the deprecation date. Please switch to tf.sets.difference().\n"
     ]
    },
    {
     "name": "stdout",
     "output_type": "stream",
     "text": [
      "Epoch 1, Time: 6.006647 (s)\n"
     ]
    },
    {
     "name": "stderr",
     "output_type": "stream",
     "text": [
      "\r",
      " 10%|█         | 1/10 [00:07<01:05,  7.29s/it]"
     ]
    },
    {
     "name": "stdout",
     "output_type": "stream",
     "text": [
      "------------ train losses ------------\n",
      "rmse: 0.938839\n",
      "------------ test losses ------------\n",
      "rmse: 0.981646\n",
      "Epoch 2, Time: 5.974779 (s)\n"
     ]
    },
    {
     "name": "stderr",
     "output_type": "stream",
     "text": [
      "\r",
      " 20%|██        | 2/10 [00:14<00:57,  7.21s/it]"
     ]
    },
    {
     "name": "stdout",
     "output_type": "stream",
     "text": [
      "------------ train losses ------------\n",
      "rmse: 0.915705\n",
      "------------ test losses ------------\n",
      "rmse: 0.963150\n",
      "Epoch 3, Time: 5.785814 (s)\n"
     ]
    },
    {
     "name": "stderr",
     "output_type": "stream",
     "text": [
      "\r",
      " 30%|███       | 3/10 [00:21<00:49,  7.12s/it]"
     ]
    },
    {
     "name": "stdout",
     "output_type": "stream",
     "text": [
      "------------ train losses ------------\n",
      "rmse: 0.907646\n",
      "------------ test losses ------------\n",
      "rmse: 0.957724\n",
      "Epoch 4, Time: 6.600795 (s)\n"
     ]
    },
    {
     "name": "stderr",
     "output_type": "stream",
     "text": [
      "\r",
      " 40%|████      | 4/10 [00:29<00:44,  7.34s/it]"
     ]
    },
    {
     "name": "stdout",
     "output_type": "stream",
     "text": [
      "------------ train losses ------------\n",
      "rmse: 0.899784\n",
      "------------ test losses ------------\n",
      "rmse: 0.954491\n",
      "Epoch 5, Time: 6.169102 (s)\n"
     ]
    },
    {
     "name": "stderr",
     "output_type": "stream",
     "text": [
      "\r",
      " 50%|█████     | 5/10 [00:36<00:36,  7.34s/it]"
     ]
    },
    {
     "name": "stdout",
     "output_type": "stream",
     "text": [
      "------------ train losses ------------\n",
      "rmse: 0.895068\n",
      "------------ test losses ------------\n",
      "rmse: 0.950915\n",
      "Epoch 6, Time: 5.921817 (s)\n"
     ]
    },
    {
     "name": "stderr",
     "output_type": "stream",
     "text": [
      "\r",
      " 60%|██████    | 6/10 [00:43<00:28,  7.23s/it]"
     ]
    },
    {
     "name": "stdout",
     "output_type": "stream",
     "text": [
      "------------ train losses ------------\n",
      "rmse: 0.890903\n",
      "------------ test losses ------------\n",
      "rmse: 0.950296\n",
      "Epoch 7, Time: 5.957404 (s)\n"
     ]
    },
    {
     "name": "stderr",
     "output_type": "stream",
     "text": [
      "\r",
      " 70%|███████   | 7/10 [00:50<00:21,  7.17s/it]"
     ]
    },
    {
     "name": "stdout",
     "output_type": "stream",
     "text": [
      "------------ train losses ------------\n",
      "rmse: 0.886637\n",
      "------------ test losses ------------\n",
      "rmse: 0.948096\n",
      "Epoch 8, Time: 6.156290 (s)\n"
     ]
    },
    {
     "name": "stderr",
     "output_type": "stream",
     "text": [
      "\r",
      " 80%|████████  | 8/10 [00:57<00:14,  7.19s/it]"
     ]
    },
    {
     "name": "stdout",
     "output_type": "stream",
     "text": [
      "------------ train losses ------------\n",
      "rmse: 0.882957\n",
      "------------ test losses ------------\n",
      "rmse: 0.947587\n",
      "Epoch 9, Time: 6.102559 (s)\n"
     ]
    },
    {
     "name": "stderr",
     "output_type": "stream",
     "text": [
      "\r",
      " 90%|█████████ | 9/10 [01:04<00:07,  7.18s/it]"
     ]
    },
    {
     "name": "stdout",
     "output_type": "stream",
     "text": [
      "------------ train losses ------------\n",
      "rmse: 0.880251\n",
      "------------ test losses ------------\n",
      "rmse: 0.947511\n",
      "Epoch 10, Time: 6.352031 (s)\n"
     ]
    },
    {
     "name": "stderr",
     "output_type": "stream",
     "text": [
      "\r",
      "100%|██████████| 10/10 [01:12<00:00,  7.25s/it]"
     ]
    },
    {
     "name": "stdout",
     "output_type": "stream",
     "text": [
      "------------ train losses ------------\n",
      "rmse: 0.874450\n",
      "------------ test losses ------------\n",
      "rmse: 0.947710\n"
     ]
    },
    {
     "name": "stderr",
     "output_type": "stream",
     "text": [
      "\n"
     ]
    }
   ],
   "source": [
    "neuralmf = models.NeuralMF(ds,\n",
    "                     num_units=16,\n",
    "                     layers=[16, 8],\n",
    "                     dropout_prob=[0.1, 0.1, 0.1]  # dropout for layer 1, layer 2 and features weights.\n",
    "                    )\n",
    "\n",
    "neuralmf.train(\n",
    "    ds,\n",
    "    batch_size=BATCH_SIZE,\n",
    "    epochs=EPOCHS,\n",
    "    loss_function=\"rmse\",\n",
    "    optimizer=tf.train.AdagradOptimizer(learning_rate=LR),\n",
    ")"
   ]
  },
  {
   "cell_type": "markdown",
   "metadata": {},
   "source": [
    "Let's compare the metods. After training a model we can check their losses in each epoch using `model.test_losses` and `model.train_losses` (if we had a validation set we could also use `model.valid_losses`)."
   ]
  },
  {
   "cell_type": "code",
   "execution_count": 22,
   "metadata": {},
   "outputs": [],
   "source": [
    "# utility function to plot model losses\n",
    "def plot_losses(model):\n",
    "    plt.title(type(model).__name__)\n",
    "    plt.plot([loss[\"rmse\"] for loss in model._losses['test']], label='test')\n",
    "    plt.plot([loss[\"rmse\"] for loss in model._losses['train']], label='train')\n",
    "    plt.legend()\n",
    "    plt.show()"
   ]
  },
  {
   "cell_type": "code",
   "execution_count": 23,
   "metadata": {},
   "outputs": [
    {
     "data": {
      "image/png": "[encoded data removed]",
      "text/plain": [
       "<Figure size 432x288 with 1 Axes>"
      ]
     },
     "metadata": {
      "needs_background": "light"
     },
     "output_type": "display_data"
    },
    {
     "data": {
      "image/png": "[encoded data removed]",
      "text/plain": [
       "<Figure size 432x288 with 1 Axes>"
      ]
     },
     "metadata": {
      "needs_background": "light"
     },
     "output_type": "display_data"
    },
    {
     "data": {
      "image/png": "[encoded data removed]",
      "text/plain": [
       "<Figure size 432x288 with 1 Axes>"
      ]
     },
     "metadata": {
      "needs_background": "light"
     },
     "output_type": "display_data"
    }
   ],
   "source": [
    "plot_losses(fm); plot_losses(neuralfm); plot_losses(neuralmf)"
   ]
  },
  {
   "cell_type": "markdown",
   "metadata": {},
   "source": [
    "### What's next?\n",
    "\n",
    "- Contribute to the code base! Feel free to create a PR with your contributions, if you don't know from where start check the open issues.\n",
    "- Check the examples folder"
   ]
  },
  {
   "cell_type": "code",
   "execution_count": null,
   "metadata": {},
   "outputs": [],
   "source": []
  }
 ],
 "metadata": {
  "kernelspec": {
   "display_name": "Python 3",
   "language": "python",
   "name": "python3"
  },
  "language_info": {
   "codemirror_mode": {
    "name": "ipython",
    "version": 3
   },
   "file_extension": ".py",
   "mimetype": "text/x-python",
   "name": "python",
   "nbconvert_exporter": "python",
   "pygments_lexer": "ipython3",
   "version": "3.6.8"
  }
 },
 "nbformat": 4,
 "nbformat_minor": 2
}
